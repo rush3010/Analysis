{
 "cells": [
  {
   "cell_type": "code",
   "execution_count": 2,
   "id": "24f6f8ef",
   "metadata": {},
   "outputs": [],
   "source": [
    "import pandas as pd\n",
    "import numpy as np\n",
    "import matplotlib.pyplot as plt\n",
    "import seaborn as sns\n",
    "import plotly.express as px\n",
    "import dabl\n",
    "from sklearn.preprocessing  import StandardScaler"
   ]
  },
  {
   "cell_type": "code",
   "execution_count": 3,
   "id": "80f46c03",
   "metadata": {},
   "outputs": [
    {
     "data": {
      "text/html": [
       "<div>\n",
       "<style scoped>\n",
       "    .dataframe tbody tr th:only-of-type {\n",
       "        vertical-align: middle;\n",
       "    }\n",
       "\n",
       "    .dataframe tbody tr th {\n",
       "        vertical-align: top;\n",
       "    }\n",
       "\n",
       "    .dataframe thead th {\n",
       "        text-align: right;\n",
       "    }\n",
       "</style>\n",
       "<table border=\"1\" class=\"dataframe\">\n",
       "  <thead>\n",
       "    <tr style=\"text-align: right;\">\n",
       "      <th></th>\n",
       "      <th>index</th>\n",
       "      <th>SeriousDlqin2yrs</th>\n",
       "      <th>RevolvingUtilizationOfUnsecuredLines</th>\n",
       "      <th>age</th>\n",
       "      <th>NumberOfTime30-59DaysPastDueNotWorse</th>\n",
       "      <th>DebtRatio</th>\n",
       "      <th>MonthlyIncome</th>\n",
       "      <th>NumberOfOpenCreditLinesAndLoans</th>\n",
       "      <th>NumberOfTimes90DaysLate</th>\n",
       "      <th>NumberRealEstateLoansOrLines</th>\n",
       "      <th>NumberOfTime60-89DaysPastDueNotWorse</th>\n",
       "      <th>NumberOfDependents</th>\n",
       "    </tr>\n",
       "  </thead>\n",
       "  <tbody>\n",
       "    <tr>\n",
       "      <th>0</th>\n",
       "      <td>1</td>\n",
       "      <td>1</td>\n",
       "      <td>0.766127</td>\n",
       "      <td>45</td>\n",
       "      <td>2</td>\n",
       "      <td>0.802982</td>\n",
       "      <td>9120.0</td>\n",
       "      <td>13</td>\n",
       "      <td>0</td>\n",
       "      <td>6</td>\n",
       "      <td>0</td>\n",
       "      <td>2.0</td>\n",
       "    </tr>\n",
       "    <tr>\n",
       "      <th>1</th>\n",
       "      <td>2</td>\n",
       "      <td>0</td>\n",
       "      <td>0.957151</td>\n",
       "      <td>40</td>\n",
       "      <td>0</td>\n",
       "      <td>0.121876</td>\n",
       "      <td>2600.0</td>\n",
       "      <td>4</td>\n",
       "      <td>0</td>\n",
       "      <td>0</td>\n",
       "      <td>0</td>\n",
       "      <td>1.0</td>\n",
       "    </tr>\n",
       "    <tr>\n",
       "      <th>2</th>\n",
       "      <td>3</td>\n",
       "      <td>0</td>\n",
       "      <td>0.658180</td>\n",
       "      <td>38</td>\n",
       "      <td>1</td>\n",
       "      <td>0.085113</td>\n",
       "      <td>3042.0</td>\n",
       "      <td>2</td>\n",
       "      <td>1</td>\n",
       "      <td>0</td>\n",
       "      <td>0</td>\n",
       "      <td>0.0</td>\n",
       "    </tr>\n",
       "    <tr>\n",
       "      <th>3</th>\n",
       "      <td>4</td>\n",
       "      <td>0</td>\n",
       "      <td>0.233810</td>\n",
       "      <td>30</td>\n",
       "      <td>0</td>\n",
       "      <td>0.036050</td>\n",
       "      <td>3300.0</td>\n",
       "      <td>5</td>\n",
       "      <td>0</td>\n",
       "      <td>0</td>\n",
       "      <td>0</td>\n",
       "      <td>0.0</td>\n",
       "    </tr>\n",
       "    <tr>\n",
       "      <th>4</th>\n",
       "      <td>5</td>\n",
       "      <td>0</td>\n",
       "      <td>0.907239</td>\n",
       "      <td>49</td>\n",
       "      <td>1</td>\n",
       "      <td>0.024926</td>\n",
       "      <td>63588.0</td>\n",
       "      <td>7</td>\n",
       "      <td>0</td>\n",
       "      <td>1</td>\n",
       "      <td>0</td>\n",
       "      <td>0.0</td>\n",
       "    </tr>\n",
       "    <tr>\n",
       "      <th>...</th>\n",
       "      <td>...</td>\n",
       "      <td>...</td>\n",
       "      <td>...</td>\n",
       "      <td>...</td>\n",
       "      <td>...</td>\n",
       "      <td>...</td>\n",
       "      <td>...</td>\n",
       "      <td>...</td>\n",
       "      <td>...</td>\n",
       "      <td>...</td>\n",
       "      <td>...</td>\n",
       "      <td>...</td>\n",
       "    </tr>\n",
       "    <tr>\n",
       "      <th>149995</th>\n",
       "      <td>149996</td>\n",
       "      <td>0</td>\n",
       "      <td>0.040674</td>\n",
       "      <td>74</td>\n",
       "      <td>0</td>\n",
       "      <td>0.225131</td>\n",
       "      <td>2100.0</td>\n",
       "      <td>4</td>\n",
       "      <td>0</td>\n",
       "      <td>1</td>\n",
       "      <td>0</td>\n",
       "      <td>0.0</td>\n",
       "    </tr>\n",
       "    <tr>\n",
       "      <th>149996</th>\n",
       "      <td>149997</td>\n",
       "      <td>0</td>\n",
       "      <td>0.299745</td>\n",
       "      <td>44</td>\n",
       "      <td>0</td>\n",
       "      <td>0.716562</td>\n",
       "      <td>5584.0</td>\n",
       "      <td>4</td>\n",
       "      <td>0</td>\n",
       "      <td>1</td>\n",
       "      <td>0</td>\n",
       "      <td>2.0</td>\n",
       "    </tr>\n",
       "    <tr>\n",
       "      <th>149997</th>\n",
       "      <td>149998</td>\n",
       "      <td>0</td>\n",
       "      <td>0.246044</td>\n",
       "      <td>58</td>\n",
       "      <td>0</td>\n",
       "      <td>3870.000000</td>\n",
       "      <td>NaN</td>\n",
       "      <td>18</td>\n",
       "      <td>0</td>\n",
       "      <td>1</td>\n",
       "      <td>0</td>\n",
       "      <td>0.0</td>\n",
       "    </tr>\n",
       "    <tr>\n",
       "      <th>149998</th>\n",
       "      <td>149999</td>\n",
       "      <td>0</td>\n",
       "      <td>0.000000</td>\n",
       "      <td>30</td>\n",
       "      <td>0</td>\n",
       "      <td>0.000000</td>\n",
       "      <td>5716.0</td>\n",
       "      <td>4</td>\n",
       "      <td>0</td>\n",
       "      <td>0</td>\n",
       "      <td>0</td>\n",
       "      <td>0.0</td>\n",
       "    </tr>\n",
       "    <tr>\n",
       "      <th>149999</th>\n",
       "      <td>150000</td>\n",
       "      <td>0</td>\n",
       "      <td>0.850283</td>\n",
       "      <td>64</td>\n",
       "      <td>0</td>\n",
       "      <td>0.249908</td>\n",
       "      <td>8158.0</td>\n",
       "      <td>8</td>\n",
       "      <td>0</td>\n",
       "      <td>2</td>\n",
       "      <td>0</td>\n",
       "      <td>0.0</td>\n",
       "    </tr>\n",
       "  </tbody>\n",
       "</table>\n",
       "<p>150000 rows × 12 columns</p>\n",
       "</div>"
      ],
      "text/plain": [
       "         index  SeriousDlqin2yrs  RevolvingUtilizationOfUnsecuredLines  age  \\\n",
       "0            1                 1                              0.766127   45   \n",
       "1            2                 0                              0.957151   40   \n",
       "2            3                 0                              0.658180   38   \n",
       "3            4                 0                              0.233810   30   \n",
       "4            5                 0                              0.907239   49   \n",
       "...        ...               ...                                   ...  ...   \n",
       "149995  149996                 0                              0.040674   74   \n",
       "149996  149997                 0                              0.299745   44   \n",
       "149997  149998                 0                              0.246044   58   \n",
       "149998  149999                 0                              0.000000   30   \n",
       "149999  150000                 0                              0.850283   64   \n",
       "\n",
       "        NumberOfTime30-59DaysPastDueNotWorse    DebtRatio  MonthlyIncome  \\\n",
       "0                                          2     0.802982         9120.0   \n",
       "1                                          0     0.121876         2600.0   \n",
       "2                                          1     0.085113         3042.0   \n",
       "3                                          0     0.036050         3300.0   \n",
       "4                                          1     0.024926        63588.0   \n",
       "...                                      ...          ...            ...   \n",
       "149995                                     0     0.225131         2100.0   \n",
       "149996                                     0     0.716562         5584.0   \n",
       "149997                                     0  3870.000000            NaN   \n",
       "149998                                     0     0.000000         5716.0   \n",
       "149999                                     0     0.249908         8158.0   \n",
       "\n",
       "        NumberOfOpenCreditLinesAndLoans  NumberOfTimes90DaysLate  \\\n",
       "0                                    13                        0   \n",
       "1                                     4                        0   \n",
       "2                                     2                        1   \n",
       "3                                     5                        0   \n",
       "4                                     7                        0   \n",
       "...                                 ...                      ...   \n",
       "149995                                4                        0   \n",
       "149996                                4                        0   \n",
       "149997                               18                        0   \n",
       "149998                                4                        0   \n",
       "149999                                8                        0   \n",
       "\n",
       "        NumberRealEstateLoansOrLines  NumberOfTime60-89DaysPastDueNotWorse  \\\n",
       "0                                  6                                     0   \n",
       "1                                  0                                     0   \n",
       "2                                  0                                     0   \n",
       "3                                  0                                     0   \n",
       "4                                  1                                     0   \n",
       "...                              ...                                   ...   \n",
       "149995                             1                                     0   \n",
       "149996                             1                                     0   \n",
       "149997                             1                                     0   \n",
       "149998                             0                                     0   \n",
       "149999                             2                                     0   \n",
       "\n",
       "        NumberOfDependents  \n",
       "0                      2.0  \n",
       "1                      1.0  \n",
       "2                      0.0  \n",
       "3                      0.0  \n",
       "4                      0.0  \n",
       "...                    ...  \n",
       "149995                 0.0  \n",
       "149996                 2.0  \n",
       "149997                 0.0  \n",
       "149998                 0.0  \n",
       "149999                 0.0  \n",
       "\n",
       "[150000 rows x 12 columns]"
      ]
     },
     "execution_count": 3,
     "metadata": {},
     "output_type": "execute_result"
    }
   ],
   "source": [
    "df=pd.read_csv(\"training.csv\")\n",
    "df"
   ]
  },
  {
   "cell_type": "code",
   "execution_count": 3,
   "id": "5f210083",
   "metadata": {},
   "outputs": [],
   "source": [
    "df.drop(['index'],axis=1,inplace=True)"
   ]
  },
  {
   "cell_type": "code",
   "execution_count": 4,
   "id": "ba2cdf95",
   "metadata": {},
   "outputs": [
    {
     "data": {
      "text/plain": [
       "index                                       0\n",
       "SeriousDlqin2yrs                            0\n",
       "RevolvingUtilizationOfUnsecuredLines        0\n",
       "age                                         0\n",
       "NumberOfTime30-59DaysPastDueNotWorse        0\n",
       "DebtRatio                                   0\n",
       "MonthlyIncome                           29731\n",
       "NumberOfOpenCreditLinesAndLoans             0\n",
       "NumberOfTimes90DaysLate                     0\n",
       "NumberRealEstateLoansOrLines                0\n",
       "NumberOfTime60-89DaysPastDueNotWorse        0\n",
       "NumberOfDependents                       3924\n",
       "dtype: int64"
      ]
     },
     "execution_count": 4,
     "metadata": {},
     "output_type": "execute_result"
    }
   ],
   "source": [
    "df.isnull().sum()"
   ]
  },
  {
   "cell_type": "code",
   "execution_count": 5,
   "id": "f24f11f9",
   "metadata": {},
   "outputs": [],
   "source": [
    "df['NumberOfDependents'].fillna(0,inplace=True)"
   ]
  },
  {
   "cell_type": "code",
   "execution_count": 6,
   "id": "1ca6d4bd",
   "metadata": {},
   "outputs": [
    {
     "data": {
      "text/plain": [
       "index                                       0\n",
       "SeriousDlqin2yrs                            0\n",
       "RevolvingUtilizationOfUnsecuredLines        0\n",
       "age                                         0\n",
       "NumberOfTime30-59DaysPastDueNotWorse        0\n",
       "DebtRatio                                   0\n",
       "MonthlyIncome                           29731\n",
       "NumberOfOpenCreditLinesAndLoans             0\n",
       "NumberOfTimes90DaysLate                     0\n",
       "NumberRealEstateLoansOrLines                0\n",
       "NumberOfTime60-89DaysPastDueNotWorse        0\n",
       "NumberOfDependents                          0\n",
       "dtype: int64"
      ]
     },
     "execution_count": 6,
     "metadata": {},
     "output_type": "execute_result"
    }
   ],
   "source": [
    "df.isnull().sum()"
   ]
  },
  {
   "cell_type": "code",
   "execution_count": 7,
   "id": "8a0cc12d",
   "metadata": {},
   "outputs": [
    {
     "data": {
      "text/html": [
       "<div>\n",
       "<style scoped>\n",
       "    .dataframe tbody tr th:only-of-type {\n",
       "        vertical-align: middle;\n",
       "    }\n",
       "\n",
       "    .dataframe tbody tr th {\n",
       "        vertical-align: top;\n",
       "    }\n",
       "\n",
       "    .dataframe thead th {\n",
       "        text-align: right;\n",
       "    }\n",
       "</style>\n",
       "<table border=\"1\" class=\"dataframe\">\n",
       "  <thead>\n",
       "    <tr style=\"text-align: right;\">\n",
       "      <th></th>\n",
       "      <th>index</th>\n",
       "      <th>SeriousDlqin2yrs</th>\n",
       "      <th>RevolvingUtilizationOfUnsecuredLines</th>\n",
       "      <th>age</th>\n",
       "      <th>NumberOfTime30-59DaysPastDueNotWorse</th>\n",
       "      <th>DebtRatio</th>\n",
       "      <th>MonthlyIncome</th>\n",
       "      <th>NumberOfOpenCreditLinesAndLoans</th>\n",
       "      <th>NumberOfTimes90DaysLate</th>\n",
       "      <th>NumberRealEstateLoansOrLines</th>\n",
       "      <th>NumberOfTime60-89DaysPastDueNotWorse</th>\n",
       "      <th>NumberOfDependents</th>\n",
       "    </tr>\n",
       "  </thead>\n",
       "  <tbody>\n",
       "    <tr>\n",
       "      <th>0</th>\n",
       "      <td>1</td>\n",
       "      <td>1</td>\n",
       "      <td>0.766127</td>\n",
       "      <td>45</td>\n",
       "      <td>2</td>\n",
       "      <td>0.802982</td>\n",
       "      <td>9120.000000</td>\n",
       "      <td>13</td>\n",
       "      <td>0</td>\n",
       "      <td>6</td>\n",
       "      <td>0</td>\n",
       "      <td>2.0</td>\n",
       "    </tr>\n",
       "    <tr>\n",
       "      <th>1</th>\n",
       "      <td>2</td>\n",
       "      <td>0</td>\n",
       "      <td>0.957151</td>\n",
       "      <td>40</td>\n",
       "      <td>0</td>\n",
       "      <td>0.121876</td>\n",
       "      <td>2600.000000</td>\n",
       "      <td>4</td>\n",
       "      <td>0</td>\n",
       "      <td>0</td>\n",
       "      <td>0</td>\n",
       "      <td>1.0</td>\n",
       "    </tr>\n",
       "    <tr>\n",
       "      <th>2</th>\n",
       "      <td>3</td>\n",
       "      <td>0</td>\n",
       "      <td>0.658180</td>\n",
       "      <td>38</td>\n",
       "      <td>1</td>\n",
       "      <td>0.085113</td>\n",
       "      <td>3042.000000</td>\n",
       "      <td>2</td>\n",
       "      <td>1</td>\n",
       "      <td>0</td>\n",
       "      <td>0</td>\n",
       "      <td>0.0</td>\n",
       "    </tr>\n",
       "    <tr>\n",
       "      <th>3</th>\n",
       "      <td>4</td>\n",
       "      <td>0</td>\n",
       "      <td>0.233810</td>\n",
       "      <td>30</td>\n",
       "      <td>0</td>\n",
       "      <td>0.036050</td>\n",
       "      <td>3300.000000</td>\n",
       "      <td>5</td>\n",
       "      <td>0</td>\n",
       "      <td>0</td>\n",
       "      <td>0</td>\n",
       "      <td>0.0</td>\n",
       "    </tr>\n",
       "    <tr>\n",
       "      <th>4</th>\n",
       "      <td>5</td>\n",
       "      <td>0</td>\n",
       "      <td>0.907239</td>\n",
       "      <td>49</td>\n",
       "      <td>1</td>\n",
       "      <td>0.024926</td>\n",
       "      <td>63588.000000</td>\n",
       "      <td>7</td>\n",
       "      <td>0</td>\n",
       "      <td>1</td>\n",
       "      <td>0</td>\n",
       "      <td>0.0</td>\n",
       "    </tr>\n",
       "    <tr>\n",
       "      <th>...</th>\n",
       "      <td>...</td>\n",
       "      <td>...</td>\n",
       "      <td>...</td>\n",
       "      <td>...</td>\n",
       "      <td>...</td>\n",
       "      <td>...</td>\n",
       "      <td>...</td>\n",
       "      <td>...</td>\n",
       "      <td>...</td>\n",
       "      <td>...</td>\n",
       "      <td>...</td>\n",
       "      <td>...</td>\n",
       "    </tr>\n",
       "    <tr>\n",
       "      <th>149995</th>\n",
       "      <td>149996</td>\n",
       "      <td>0</td>\n",
       "      <td>0.040674</td>\n",
       "      <td>74</td>\n",
       "      <td>0</td>\n",
       "      <td>0.225131</td>\n",
       "      <td>2100.000000</td>\n",
       "      <td>4</td>\n",
       "      <td>0</td>\n",
       "      <td>1</td>\n",
       "      <td>0</td>\n",
       "      <td>0.0</td>\n",
       "    </tr>\n",
       "    <tr>\n",
       "      <th>149996</th>\n",
       "      <td>149997</td>\n",
       "      <td>0</td>\n",
       "      <td>0.299745</td>\n",
       "      <td>44</td>\n",
       "      <td>0</td>\n",
       "      <td>0.716562</td>\n",
       "      <td>5584.000000</td>\n",
       "      <td>4</td>\n",
       "      <td>0</td>\n",
       "      <td>1</td>\n",
       "      <td>0</td>\n",
       "      <td>2.0</td>\n",
       "    </tr>\n",
       "    <tr>\n",
       "      <th>149997</th>\n",
       "      <td>149998</td>\n",
       "      <td>0</td>\n",
       "      <td>0.246044</td>\n",
       "      <td>58</td>\n",
       "      <td>0</td>\n",
       "      <td>3870.000000</td>\n",
       "      <td>6670.221237</td>\n",
       "      <td>18</td>\n",
       "      <td>0</td>\n",
       "      <td>1</td>\n",
       "      <td>0</td>\n",
       "      <td>0.0</td>\n",
       "    </tr>\n",
       "    <tr>\n",
       "      <th>149998</th>\n",
       "      <td>149999</td>\n",
       "      <td>0</td>\n",
       "      <td>0.000000</td>\n",
       "      <td>30</td>\n",
       "      <td>0</td>\n",
       "      <td>0.000000</td>\n",
       "      <td>5716.000000</td>\n",
       "      <td>4</td>\n",
       "      <td>0</td>\n",
       "      <td>0</td>\n",
       "      <td>0</td>\n",
       "      <td>0.0</td>\n",
       "    </tr>\n",
       "    <tr>\n",
       "      <th>149999</th>\n",
       "      <td>150000</td>\n",
       "      <td>0</td>\n",
       "      <td>0.850283</td>\n",
       "      <td>64</td>\n",
       "      <td>0</td>\n",
       "      <td>0.249908</td>\n",
       "      <td>8158.000000</td>\n",
       "      <td>8</td>\n",
       "      <td>0</td>\n",
       "      <td>2</td>\n",
       "      <td>0</td>\n",
       "      <td>0.0</td>\n",
       "    </tr>\n",
       "  </tbody>\n",
       "</table>\n",
       "<p>150000 rows × 12 columns</p>\n",
       "</div>"
      ],
      "text/plain": [
       "         index  SeriousDlqin2yrs  RevolvingUtilizationOfUnsecuredLines  age  \\\n",
       "0            1                 1                              0.766127   45   \n",
       "1            2                 0                              0.957151   40   \n",
       "2            3                 0                              0.658180   38   \n",
       "3            4                 0                              0.233810   30   \n",
       "4            5                 0                              0.907239   49   \n",
       "...        ...               ...                                   ...  ...   \n",
       "149995  149996                 0                              0.040674   74   \n",
       "149996  149997                 0                              0.299745   44   \n",
       "149997  149998                 0                              0.246044   58   \n",
       "149998  149999                 0                              0.000000   30   \n",
       "149999  150000                 0                              0.850283   64   \n",
       "\n",
       "        NumberOfTime30-59DaysPastDueNotWorse    DebtRatio  MonthlyIncome  \\\n",
       "0                                          2     0.802982    9120.000000   \n",
       "1                                          0     0.121876    2600.000000   \n",
       "2                                          1     0.085113    3042.000000   \n",
       "3                                          0     0.036050    3300.000000   \n",
       "4                                          1     0.024926   63588.000000   \n",
       "...                                      ...          ...            ...   \n",
       "149995                                     0     0.225131    2100.000000   \n",
       "149996                                     0     0.716562    5584.000000   \n",
       "149997                                     0  3870.000000    6670.221237   \n",
       "149998                                     0     0.000000    5716.000000   \n",
       "149999                                     0     0.249908    8158.000000   \n",
       "\n",
       "        NumberOfOpenCreditLinesAndLoans  NumberOfTimes90DaysLate  \\\n",
       "0                                    13                        0   \n",
       "1                                     4                        0   \n",
       "2                                     2                        1   \n",
       "3                                     5                        0   \n",
       "4                                     7                        0   \n",
       "...                                 ...                      ...   \n",
       "149995                                4                        0   \n",
       "149996                                4                        0   \n",
       "149997                               18                        0   \n",
       "149998                                4                        0   \n",
       "149999                                8                        0   \n",
       "\n",
       "        NumberRealEstateLoansOrLines  NumberOfTime60-89DaysPastDueNotWorse  \\\n",
       "0                                  6                                     0   \n",
       "1                                  0                                     0   \n",
       "2                                  0                                     0   \n",
       "3                                  0                                     0   \n",
       "4                                  1                                     0   \n",
       "...                              ...                                   ...   \n",
       "149995                             1                                     0   \n",
       "149996                             1                                     0   \n",
       "149997                             1                                     0   \n",
       "149998                             0                                     0   \n",
       "149999                             2                                     0   \n",
       "\n",
       "        NumberOfDependents  \n",
       "0                      2.0  \n",
       "1                      1.0  \n",
       "2                      0.0  \n",
       "3                      0.0  \n",
       "4                      0.0  \n",
       "...                    ...  \n",
       "149995                 0.0  \n",
       "149996                 2.0  \n",
       "149997                 0.0  \n",
       "149998                 0.0  \n",
       "149999                 0.0  \n",
       "\n",
       "[150000 rows x 12 columns]"
      ]
     },
     "execution_count": 7,
     "metadata": {},
     "output_type": "execute_result"
    }
   ],
   "source": [
    "df.fillna((df['MonthlyIncome'].mean()),inplace=True)\n",
    "df"
   ]
  },
  {
   "cell_type": "code",
   "execution_count": 8,
   "id": "defb0715",
   "metadata": {},
   "outputs": [
    {
     "data": {
      "text/plain": [
       "index                                   0\n",
       "SeriousDlqin2yrs                        0\n",
       "RevolvingUtilizationOfUnsecuredLines    0\n",
       "age                                     0\n",
       "NumberOfTime30-59DaysPastDueNotWorse    0\n",
       "DebtRatio                               0\n",
       "MonthlyIncome                           0\n",
       "NumberOfOpenCreditLinesAndLoans         0\n",
       "NumberOfTimes90DaysLate                 0\n",
       "NumberRealEstateLoansOrLines            0\n",
       "NumberOfTime60-89DaysPastDueNotWorse    0\n",
       "NumberOfDependents                      0\n",
       "dtype: int64"
      ]
     },
     "execution_count": 8,
     "metadata": {},
     "output_type": "execute_result"
    }
   ],
   "source": [
    "df.isnull().sum()"
   ]
  },
  {
   "cell_type": "code",
   "execution_count": 9,
   "id": "b52762c3",
   "metadata": {},
   "outputs": [
    {
     "data": {
      "text/html": [
       "<div>\n",
       "<style scoped>\n",
       "    .dataframe tbody tr th:only-of-type {\n",
       "        vertical-align: middle;\n",
       "    }\n",
       "\n",
       "    .dataframe tbody tr th {\n",
       "        vertical-align: top;\n",
       "    }\n",
       "\n",
       "    .dataframe thead th {\n",
       "        text-align: right;\n",
       "    }\n",
       "</style>\n",
       "<table border=\"1\" class=\"dataframe\">\n",
       "  <thead>\n",
       "    <tr style=\"text-align: right;\">\n",
       "      <th></th>\n",
       "      <th>index</th>\n",
       "      <th>SeriousDlqin2yrs</th>\n",
       "      <th>RevolvingUtilizationOfUnsecuredLines</th>\n",
       "      <th>age</th>\n",
       "      <th>NumberOfTime30-59DaysPastDueNotWorse</th>\n",
       "      <th>DebtRatio</th>\n",
       "      <th>MonthlyIncome</th>\n",
       "      <th>NumberOfOpenCreditLinesAndLoans</th>\n",
       "      <th>NumberOfTimes90DaysLate</th>\n",
       "      <th>NumberRealEstateLoansOrLines</th>\n",
       "      <th>NumberOfTime60-89DaysPastDueNotWorse</th>\n",
       "      <th>NumberOfDependents</th>\n",
       "    </tr>\n",
       "  </thead>\n",
       "  <tbody>\n",
       "    <tr>\n",
       "      <th>0</th>\n",
       "      <td>1</td>\n",
       "      <td>1</td>\n",
       "      <td>0.766127</td>\n",
       "      <td>45</td>\n",
       "      <td>2</td>\n",
       "      <td>0.802982</td>\n",
       "      <td>9120.000000</td>\n",
       "      <td>13</td>\n",
       "      <td>0</td>\n",
       "      <td>6</td>\n",
       "      <td>0</td>\n",
       "      <td>2.0</td>\n",
       "    </tr>\n",
       "    <tr>\n",
       "      <th>1</th>\n",
       "      <td>2</td>\n",
       "      <td>0</td>\n",
       "      <td>0.957151</td>\n",
       "      <td>40</td>\n",
       "      <td>0</td>\n",
       "      <td>0.121876</td>\n",
       "      <td>2600.000000</td>\n",
       "      <td>4</td>\n",
       "      <td>0</td>\n",
       "      <td>0</td>\n",
       "      <td>0</td>\n",
       "      <td>1.0</td>\n",
       "    </tr>\n",
       "    <tr>\n",
       "      <th>2</th>\n",
       "      <td>3</td>\n",
       "      <td>0</td>\n",
       "      <td>0.658180</td>\n",
       "      <td>38</td>\n",
       "      <td>1</td>\n",
       "      <td>0.085113</td>\n",
       "      <td>3042.000000</td>\n",
       "      <td>2</td>\n",
       "      <td>1</td>\n",
       "      <td>0</td>\n",
       "      <td>0</td>\n",
       "      <td>0.0</td>\n",
       "    </tr>\n",
       "    <tr>\n",
       "      <th>3</th>\n",
       "      <td>4</td>\n",
       "      <td>0</td>\n",
       "      <td>0.233810</td>\n",
       "      <td>30</td>\n",
       "      <td>0</td>\n",
       "      <td>0.036050</td>\n",
       "      <td>3300.000000</td>\n",
       "      <td>5</td>\n",
       "      <td>0</td>\n",
       "      <td>0</td>\n",
       "      <td>0</td>\n",
       "      <td>0.0</td>\n",
       "    </tr>\n",
       "    <tr>\n",
       "      <th>4</th>\n",
       "      <td>5</td>\n",
       "      <td>0</td>\n",
       "      <td>0.907239</td>\n",
       "      <td>49</td>\n",
       "      <td>1</td>\n",
       "      <td>0.024926</td>\n",
       "      <td>63588.000000</td>\n",
       "      <td>7</td>\n",
       "      <td>0</td>\n",
       "      <td>1</td>\n",
       "      <td>0</td>\n",
       "      <td>0.0</td>\n",
       "    </tr>\n",
       "    <tr>\n",
       "      <th>...</th>\n",
       "      <td>...</td>\n",
       "      <td>...</td>\n",
       "      <td>...</td>\n",
       "      <td>...</td>\n",
       "      <td>...</td>\n",
       "      <td>...</td>\n",
       "      <td>...</td>\n",
       "      <td>...</td>\n",
       "      <td>...</td>\n",
       "      <td>...</td>\n",
       "      <td>...</td>\n",
       "      <td>...</td>\n",
       "    </tr>\n",
       "    <tr>\n",
       "      <th>149995</th>\n",
       "      <td>149996</td>\n",
       "      <td>0</td>\n",
       "      <td>0.040674</td>\n",
       "      <td>74</td>\n",
       "      <td>0</td>\n",
       "      <td>0.225131</td>\n",
       "      <td>2100.000000</td>\n",
       "      <td>4</td>\n",
       "      <td>0</td>\n",
       "      <td>1</td>\n",
       "      <td>0</td>\n",
       "      <td>0.0</td>\n",
       "    </tr>\n",
       "    <tr>\n",
       "      <th>149996</th>\n",
       "      <td>149997</td>\n",
       "      <td>0</td>\n",
       "      <td>0.299745</td>\n",
       "      <td>44</td>\n",
       "      <td>0</td>\n",
       "      <td>0.716562</td>\n",
       "      <td>5584.000000</td>\n",
       "      <td>4</td>\n",
       "      <td>0</td>\n",
       "      <td>1</td>\n",
       "      <td>0</td>\n",
       "      <td>2.0</td>\n",
       "    </tr>\n",
       "    <tr>\n",
       "      <th>149997</th>\n",
       "      <td>149998</td>\n",
       "      <td>0</td>\n",
       "      <td>0.246044</td>\n",
       "      <td>58</td>\n",
       "      <td>0</td>\n",
       "      <td>3870.000000</td>\n",
       "      <td>6670.221237</td>\n",
       "      <td>18</td>\n",
       "      <td>0</td>\n",
       "      <td>1</td>\n",
       "      <td>0</td>\n",
       "      <td>0.0</td>\n",
       "    </tr>\n",
       "    <tr>\n",
       "      <th>149998</th>\n",
       "      <td>149999</td>\n",
       "      <td>0</td>\n",
       "      <td>0.000000</td>\n",
       "      <td>30</td>\n",
       "      <td>0</td>\n",
       "      <td>0.000000</td>\n",
       "      <td>5716.000000</td>\n",
       "      <td>4</td>\n",
       "      <td>0</td>\n",
       "      <td>0</td>\n",
       "      <td>0</td>\n",
       "      <td>0.0</td>\n",
       "    </tr>\n",
       "    <tr>\n",
       "      <th>149999</th>\n",
       "      <td>150000</td>\n",
       "      <td>0</td>\n",
       "      <td>0.850283</td>\n",
       "      <td>64</td>\n",
       "      <td>0</td>\n",
       "      <td>0.249908</td>\n",
       "      <td>8158.000000</td>\n",
       "      <td>8</td>\n",
       "      <td>0</td>\n",
       "      <td>2</td>\n",
       "      <td>0</td>\n",
       "      <td>0.0</td>\n",
       "    </tr>\n",
       "  </tbody>\n",
       "</table>\n",
       "<p>149760 rows × 12 columns</p>\n",
       "</div>"
      ],
      "text/plain": [
       "         index  SeriousDlqin2yrs  RevolvingUtilizationOfUnsecuredLines  age  \\\n",
       "0            1                 1                              0.766127   45   \n",
       "1            2                 0                              0.957151   40   \n",
       "2            3                 0                              0.658180   38   \n",
       "3            4                 0                              0.233810   30   \n",
       "4            5                 0                              0.907239   49   \n",
       "...        ...               ...                                   ...  ...   \n",
       "149995  149996                 0                              0.040674   74   \n",
       "149996  149997                 0                              0.299745   44   \n",
       "149997  149998                 0                              0.246044   58   \n",
       "149998  149999                 0                              0.000000   30   \n",
       "149999  150000                 0                              0.850283   64   \n",
       "\n",
       "        NumberOfTime30-59DaysPastDueNotWorse    DebtRatio  MonthlyIncome  \\\n",
       "0                                          2     0.802982    9120.000000   \n",
       "1                                          0     0.121876    2600.000000   \n",
       "2                                          1     0.085113    3042.000000   \n",
       "3                                          0     0.036050    3300.000000   \n",
       "4                                          1     0.024926   63588.000000   \n",
       "...                                      ...          ...            ...   \n",
       "149995                                     0     0.225131    2100.000000   \n",
       "149996                                     0     0.716562    5584.000000   \n",
       "149997                                     0  3870.000000    6670.221237   \n",
       "149998                                     0     0.000000    5716.000000   \n",
       "149999                                     0     0.249908    8158.000000   \n",
       "\n",
       "        NumberOfOpenCreditLinesAndLoans  NumberOfTimes90DaysLate  \\\n",
       "0                                    13                        0   \n",
       "1                                     4                        0   \n",
       "2                                     2                        1   \n",
       "3                                     5                        0   \n",
       "4                                     7                        0   \n",
       "...                                 ...                      ...   \n",
       "149995                                4                        0   \n",
       "149996                                4                        0   \n",
       "149997                               18                        0   \n",
       "149998                                4                        0   \n",
       "149999                                8                        0   \n",
       "\n",
       "        NumberRealEstateLoansOrLines  NumberOfTime60-89DaysPastDueNotWorse  \\\n",
       "0                                  6                                     0   \n",
       "1                                  0                                     0   \n",
       "2                                  0                                     0   \n",
       "3                                  0                                     0   \n",
       "4                                  1                                     0   \n",
       "...                              ...                                   ...   \n",
       "149995                             1                                     0   \n",
       "149996                             1                                     0   \n",
       "149997                             1                                     0   \n",
       "149998                             0                                     0   \n",
       "149999                             2                                     0   \n",
       "\n",
       "        NumberOfDependents  \n",
       "0                      2.0  \n",
       "1                      1.0  \n",
       "2                      0.0  \n",
       "3                      0.0  \n",
       "4                      0.0  \n",
       "...                    ...  \n",
       "149995                 0.0  \n",
       "149996                 2.0  \n",
       "149997                 0.0  \n",
       "149998                 0.0  \n",
       "149999                 0.0  \n",
       "\n",
       "[149760 rows x 12 columns]"
      ]
     },
     "execution_count": 9,
     "metadata": {},
     "output_type": "execute_result"
    }
   ],
   "source": [
    "df=df[df['DebtRatio']<9000.0]\n",
    "df"
   ]
  },
  {
   "cell_type": "code",
   "execution_count": 10,
   "id": "6d593f4f",
   "metadata": {},
   "outputs": [
    {
     "data": {
      "text/html": [
       "<div>\n",
       "<style scoped>\n",
       "    .dataframe tbody tr th:only-of-type {\n",
       "        vertical-align: middle;\n",
       "    }\n",
       "\n",
       "    .dataframe tbody tr th {\n",
       "        vertical-align: top;\n",
       "    }\n",
       "\n",
       "    .dataframe thead th {\n",
       "        text-align: right;\n",
       "    }\n",
       "</style>\n",
       "<table border=\"1\" class=\"dataframe\">\n",
       "  <thead>\n",
       "    <tr style=\"text-align: right;\">\n",
       "      <th></th>\n",
       "      <th>index</th>\n",
       "      <th>SeriousDlqin2yrs</th>\n",
       "      <th>RevolvingUtilizationOfUnsecuredLines</th>\n",
       "      <th>age</th>\n",
       "      <th>NumberOfTime30-59DaysPastDueNotWorse</th>\n",
       "      <th>DebtRatio</th>\n",
       "      <th>MonthlyIncome</th>\n",
       "      <th>NumberOfOpenCreditLinesAndLoans</th>\n",
       "      <th>NumberOfTimes90DaysLate</th>\n",
       "      <th>NumberRealEstateLoansOrLines</th>\n",
       "      <th>NumberOfTime60-89DaysPastDueNotWorse</th>\n",
       "      <th>NumberOfDependents</th>\n",
       "    </tr>\n",
       "  </thead>\n",
       "  <tbody>\n",
       "    <tr>\n",
       "      <th>0</th>\n",
       "      <td>1</td>\n",
       "      <td>1</td>\n",
       "      <td>0.766127</td>\n",
       "      <td>45</td>\n",
       "      <td>2</td>\n",
       "      <td>0.802982</td>\n",
       "      <td>9120.000000</td>\n",
       "      <td>13</td>\n",
       "      <td>0</td>\n",
       "      <td>6</td>\n",
       "      <td>0</td>\n",
       "      <td>2.0</td>\n",
       "    </tr>\n",
       "    <tr>\n",
       "      <th>1</th>\n",
       "      <td>2</td>\n",
       "      <td>0</td>\n",
       "      <td>0.957151</td>\n",
       "      <td>40</td>\n",
       "      <td>0</td>\n",
       "      <td>0.121876</td>\n",
       "      <td>2600.000000</td>\n",
       "      <td>4</td>\n",
       "      <td>0</td>\n",
       "      <td>0</td>\n",
       "      <td>0</td>\n",
       "      <td>1.0</td>\n",
       "    </tr>\n",
       "    <tr>\n",
       "      <th>2</th>\n",
       "      <td>3</td>\n",
       "      <td>0</td>\n",
       "      <td>0.658180</td>\n",
       "      <td>38</td>\n",
       "      <td>1</td>\n",
       "      <td>0.085113</td>\n",
       "      <td>3042.000000</td>\n",
       "      <td>2</td>\n",
       "      <td>1</td>\n",
       "      <td>0</td>\n",
       "      <td>0</td>\n",
       "      <td>0.0</td>\n",
       "    </tr>\n",
       "    <tr>\n",
       "      <th>3</th>\n",
       "      <td>4</td>\n",
       "      <td>0</td>\n",
       "      <td>0.233810</td>\n",
       "      <td>30</td>\n",
       "      <td>0</td>\n",
       "      <td>0.036050</td>\n",
       "      <td>3300.000000</td>\n",
       "      <td>5</td>\n",
       "      <td>0</td>\n",
       "      <td>0</td>\n",
       "      <td>0</td>\n",
       "      <td>0.0</td>\n",
       "    </tr>\n",
       "    <tr>\n",
       "      <th>4</th>\n",
       "      <td>5</td>\n",
       "      <td>0</td>\n",
       "      <td>0.907239</td>\n",
       "      <td>49</td>\n",
       "      <td>1</td>\n",
       "      <td>0.024926</td>\n",
       "      <td>63588.000000</td>\n",
       "      <td>7</td>\n",
       "      <td>0</td>\n",
       "      <td>1</td>\n",
       "      <td>0</td>\n",
       "      <td>0.0</td>\n",
       "    </tr>\n",
       "    <tr>\n",
       "      <th>...</th>\n",
       "      <td>...</td>\n",
       "      <td>...</td>\n",
       "      <td>...</td>\n",
       "      <td>...</td>\n",
       "      <td>...</td>\n",
       "      <td>...</td>\n",
       "      <td>...</td>\n",
       "      <td>...</td>\n",
       "      <td>...</td>\n",
       "      <td>...</td>\n",
       "      <td>...</td>\n",
       "      <td>...</td>\n",
       "    </tr>\n",
       "    <tr>\n",
       "      <th>149995</th>\n",
       "      <td>149996</td>\n",
       "      <td>0</td>\n",
       "      <td>0.040674</td>\n",
       "      <td>74</td>\n",
       "      <td>0</td>\n",
       "      <td>0.225131</td>\n",
       "      <td>2100.000000</td>\n",
       "      <td>4</td>\n",
       "      <td>0</td>\n",
       "      <td>1</td>\n",
       "      <td>0</td>\n",
       "      <td>0.0</td>\n",
       "    </tr>\n",
       "    <tr>\n",
       "      <th>149996</th>\n",
       "      <td>149997</td>\n",
       "      <td>0</td>\n",
       "      <td>0.299745</td>\n",
       "      <td>44</td>\n",
       "      <td>0</td>\n",
       "      <td>0.716562</td>\n",
       "      <td>5584.000000</td>\n",
       "      <td>4</td>\n",
       "      <td>0</td>\n",
       "      <td>1</td>\n",
       "      <td>0</td>\n",
       "      <td>2.0</td>\n",
       "    </tr>\n",
       "    <tr>\n",
       "      <th>149997</th>\n",
       "      <td>149998</td>\n",
       "      <td>0</td>\n",
       "      <td>0.246044</td>\n",
       "      <td>58</td>\n",
       "      <td>0</td>\n",
       "      <td>3870.000000</td>\n",
       "      <td>6670.221237</td>\n",
       "      <td>18</td>\n",
       "      <td>0</td>\n",
       "      <td>1</td>\n",
       "      <td>0</td>\n",
       "      <td>0.0</td>\n",
       "    </tr>\n",
       "    <tr>\n",
       "      <th>149998</th>\n",
       "      <td>149999</td>\n",
       "      <td>0</td>\n",
       "      <td>0.000000</td>\n",
       "      <td>30</td>\n",
       "      <td>0</td>\n",
       "      <td>0.000000</td>\n",
       "      <td>5716.000000</td>\n",
       "      <td>4</td>\n",
       "      <td>0</td>\n",
       "      <td>0</td>\n",
       "      <td>0</td>\n",
       "      <td>0.0</td>\n",
       "    </tr>\n",
       "    <tr>\n",
       "      <th>149999</th>\n",
       "      <td>150000</td>\n",
       "      <td>0</td>\n",
       "      <td>0.850283</td>\n",
       "      <td>64</td>\n",
       "      <td>0</td>\n",
       "      <td>0.249908</td>\n",
       "      <td>8158.000000</td>\n",
       "      <td>8</td>\n",
       "      <td>0</td>\n",
       "      <td>2</td>\n",
       "      <td>0</td>\n",
       "      <td>0.0</td>\n",
       "    </tr>\n",
       "  </tbody>\n",
       "</table>\n",
       "<p>149759 rows × 12 columns</p>\n",
       "</div>"
      ],
      "text/plain": [
       "         index  SeriousDlqin2yrs  RevolvingUtilizationOfUnsecuredLines  age  \\\n",
       "0            1                 1                              0.766127   45   \n",
       "1            2                 0                              0.957151   40   \n",
       "2            3                 0                              0.658180   38   \n",
       "3            4                 0                              0.233810   30   \n",
       "4            5                 0                              0.907239   49   \n",
       "...        ...               ...                                   ...  ...   \n",
       "149995  149996                 0                              0.040674   74   \n",
       "149996  149997                 0                              0.299745   44   \n",
       "149997  149998                 0                              0.246044   58   \n",
       "149998  149999                 0                              0.000000   30   \n",
       "149999  150000                 0                              0.850283   64   \n",
       "\n",
       "        NumberOfTime30-59DaysPastDueNotWorse    DebtRatio  MonthlyIncome  \\\n",
       "0                                          2     0.802982    9120.000000   \n",
       "1                                          0     0.121876    2600.000000   \n",
       "2                                          1     0.085113    3042.000000   \n",
       "3                                          0     0.036050    3300.000000   \n",
       "4                                          1     0.024926   63588.000000   \n",
       "...                                      ...          ...            ...   \n",
       "149995                                     0     0.225131    2100.000000   \n",
       "149996                                     0     0.716562    5584.000000   \n",
       "149997                                     0  3870.000000    6670.221237   \n",
       "149998                                     0     0.000000    5716.000000   \n",
       "149999                                     0     0.249908    8158.000000   \n",
       "\n",
       "        NumberOfOpenCreditLinesAndLoans  NumberOfTimes90DaysLate  \\\n",
       "0                                    13                        0   \n",
       "1                                     4                        0   \n",
       "2                                     2                        1   \n",
       "3                                     5                        0   \n",
       "4                                     7                        0   \n",
       "...                                 ...                      ...   \n",
       "149995                                4                        0   \n",
       "149996                                4                        0   \n",
       "149997                               18                        0   \n",
       "149998                                4                        0   \n",
       "149999                                8                        0   \n",
       "\n",
       "        NumberRealEstateLoansOrLines  NumberOfTime60-89DaysPastDueNotWorse  \\\n",
       "0                                  6                                     0   \n",
       "1                                  0                                     0   \n",
       "2                                  0                                     0   \n",
       "3                                  0                                     0   \n",
       "4                                  1                                     0   \n",
       "...                              ...                                   ...   \n",
       "149995                             1                                     0   \n",
       "149996                             1                                     0   \n",
       "149997                             1                                     0   \n",
       "149998                             0                                     0   \n",
       "149999                             2                                     0   \n",
       "\n",
       "        NumberOfDependents  \n",
       "0                      2.0  \n",
       "1                      1.0  \n",
       "2                      0.0  \n",
       "3                      0.0  \n",
       "4                      0.0  \n",
       "...                    ...  \n",
       "149995                 0.0  \n",
       "149996                 2.0  \n",
       "149997                 0.0  \n",
       "149998                 0.0  \n",
       "149999                 0.0  \n",
       "\n",
       "[149759 rows x 12 columns]"
      ]
     },
     "execution_count": 10,
     "metadata": {},
     "output_type": "execute_result"
    }
   ],
   "source": [
    "df=df[df['age']>=20]\n",
    "df"
   ]
  },
  {
   "cell_type": "code",
   "execution_count": 11,
   "id": "9c376b7b",
   "metadata": {},
   "outputs": [
    {
     "data": {
      "text/html": [
       "<div>\n",
       "<style scoped>\n",
       "    .dataframe tbody tr th:only-of-type {\n",
       "        vertical-align: middle;\n",
       "    }\n",
       "\n",
       "    .dataframe tbody tr th {\n",
       "        vertical-align: top;\n",
       "    }\n",
       "\n",
       "    .dataframe thead th {\n",
       "        text-align: right;\n",
       "    }\n",
       "</style>\n",
       "<table border=\"1\" class=\"dataframe\">\n",
       "  <thead>\n",
       "    <tr style=\"text-align: right;\">\n",
       "      <th></th>\n",
       "      <th>index</th>\n",
       "      <th>SeriousDlqin2yrs</th>\n",
       "      <th>RevolvingUtilizationOfUnsecuredLines</th>\n",
       "      <th>age</th>\n",
       "      <th>NumberOfTime30-59DaysPastDueNotWorse</th>\n",
       "      <th>DebtRatio</th>\n",
       "      <th>MonthlyIncome</th>\n",
       "      <th>NumberOfOpenCreditLinesAndLoans</th>\n",
       "      <th>NumberOfTimes90DaysLate</th>\n",
       "      <th>NumberRealEstateLoansOrLines</th>\n",
       "      <th>NumberOfTime60-89DaysPastDueNotWorse</th>\n",
       "      <th>NumberOfDependents</th>\n",
       "    </tr>\n",
       "  </thead>\n",
       "  <tbody>\n",
       "    <tr>\n",
       "      <th>0</th>\n",
       "      <td>1</td>\n",
       "      <td>1</td>\n",
       "      <td>0.766127</td>\n",
       "      <td>45</td>\n",
       "      <td>2</td>\n",
       "      <td>0.802982</td>\n",
       "      <td>9120.000000</td>\n",
       "      <td>13</td>\n",
       "      <td>0</td>\n",
       "      <td>6</td>\n",
       "      <td>0</td>\n",
       "      <td>2.0</td>\n",
       "    </tr>\n",
       "    <tr>\n",
       "      <th>1</th>\n",
       "      <td>2</td>\n",
       "      <td>0</td>\n",
       "      <td>0.957151</td>\n",
       "      <td>40</td>\n",
       "      <td>0</td>\n",
       "      <td>0.121876</td>\n",
       "      <td>2600.000000</td>\n",
       "      <td>4</td>\n",
       "      <td>0</td>\n",
       "      <td>0</td>\n",
       "      <td>0</td>\n",
       "      <td>1.0</td>\n",
       "    </tr>\n",
       "    <tr>\n",
       "      <th>2</th>\n",
       "      <td>3</td>\n",
       "      <td>0</td>\n",
       "      <td>0.658180</td>\n",
       "      <td>38</td>\n",
       "      <td>1</td>\n",
       "      <td>0.085113</td>\n",
       "      <td>3042.000000</td>\n",
       "      <td>2</td>\n",
       "      <td>1</td>\n",
       "      <td>0</td>\n",
       "      <td>0</td>\n",
       "      <td>0.0</td>\n",
       "    </tr>\n",
       "    <tr>\n",
       "      <th>3</th>\n",
       "      <td>4</td>\n",
       "      <td>0</td>\n",
       "      <td>0.233810</td>\n",
       "      <td>30</td>\n",
       "      <td>0</td>\n",
       "      <td>0.036050</td>\n",
       "      <td>3300.000000</td>\n",
       "      <td>5</td>\n",
       "      <td>0</td>\n",
       "      <td>0</td>\n",
       "      <td>0</td>\n",
       "      <td>0.0</td>\n",
       "    </tr>\n",
       "    <tr>\n",
       "      <th>4</th>\n",
       "      <td>5</td>\n",
       "      <td>0</td>\n",
       "      <td>0.907239</td>\n",
       "      <td>49</td>\n",
       "      <td>1</td>\n",
       "      <td>0.024926</td>\n",
       "      <td>63588.000000</td>\n",
       "      <td>7</td>\n",
       "      <td>0</td>\n",
       "      <td>1</td>\n",
       "      <td>0</td>\n",
       "      <td>0.0</td>\n",
       "    </tr>\n",
       "    <tr>\n",
       "      <th>...</th>\n",
       "      <td>...</td>\n",
       "      <td>...</td>\n",
       "      <td>...</td>\n",
       "      <td>...</td>\n",
       "      <td>...</td>\n",
       "      <td>...</td>\n",
       "      <td>...</td>\n",
       "      <td>...</td>\n",
       "      <td>...</td>\n",
       "      <td>...</td>\n",
       "      <td>...</td>\n",
       "      <td>...</td>\n",
       "    </tr>\n",
       "    <tr>\n",
       "      <th>149995</th>\n",
       "      <td>149996</td>\n",
       "      <td>0</td>\n",
       "      <td>0.040674</td>\n",
       "      <td>74</td>\n",
       "      <td>0</td>\n",
       "      <td>0.225131</td>\n",
       "      <td>2100.000000</td>\n",
       "      <td>4</td>\n",
       "      <td>0</td>\n",
       "      <td>1</td>\n",
       "      <td>0</td>\n",
       "      <td>0.0</td>\n",
       "    </tr>\n",
       "    <tr>\n",
       "      <th>149996</th>\n",
       "      <td>149997</td>\n",
       "      <td>0</td>\n",
       "      <td>0.299745</td>\n",
       "      <td>44</td>\n",
       "      <td>0</td>\n",
       "      <td>0.716562</td>\n",
       "      <td>5584.000000</td>\n",
       "      <td>4</td>\n",
       "      <td>0</td>\n",
       "      <td>1</td>\n",
       "      <td>0</td>\n",
       "      <td>2.0</td>\n",
       "    </tr>\n",
       "    <tr>\n",
       "      <th>149997</th>\n",
       "      <td>149998</td>\n",
       "      <td>0</td>\n",
       "      <td>0.246044</td>\n",
       "      <td>58</td>\n",
       "      <td>0</td>\n",
       "      <td>3870.000000</td>\n",
       "      <td>6670.221237</td>\n",
       "      <td>18</td>\n",
       "      <td>0</td>\n",
       "      <td>1</td>\n",
       "      <td>0</td>\n",
       "      <td>0.0</td>\n",
       "    </tr>\n",
       "    <tr>\n",
       "      <th>149998</th>\n",
       "      <td>149999</td>\n",
       "      <td>0</td>\n",
       "      <td>0.000000</td>\n",
       "      <td>30</td>\n",
       "      <td>0</td>\n",
       "      <td>0.000000</td>\n",
       "      <td>5716.000000</td>\n",
       "      <td>4</td>\n",
       "      <td>0</td>\n",
       "      <td>0</td>\n",
       "      <td>0</td>\n",
       "      <td>0.0</td>\n",
       "    </tr>\n",
       "    <tr>\n",
       "      <th>149999</th>\n",
       "      <td>150000</td>\n",
       "      <td>0</td>\n",
       "      <td>0.850283</td>\n",
       "      <td>64</td>\n",
       "      <td>0</td>\n",
       "      <td>0.249908</td>\n",
       "      <td>8158.000000</td>\n",
       "      <td>8</td>\n",
       "      <td>0</td>\n",
       "      <td>2</td>\n",
       "      <td>0</td>\n",
       "      <td>0.0</td>\n",
       "    </tr>\n",
       "  </tbody>\n",
       "</table>\n",
       "<p>149747 rows × 12 columns</p>\n",
       "</div>"
      ],
      "text/plain": [
       "         index  SeriousDlqin2yrs  RevolvingUtilizationOfUnsecuredLines  age  \\\n",
       "0            1                 1                              0.766127   45   \n",
       "1            2                 0                              0.957151   40   \n",
       "2            3                 0                              0.658180   38   \n",
       "3            4                 0                              0.233810   30   \n",
       "4            5                 0                              0.907239   49   \n",
       "...        ...               ...                                   ...  ...   \n",
       "149995  149996                 0                              0.040674   74   \n",
       "149996  149997                 0                              0.299745   44   \n",
       "149997  149998                 0                              0.246044   58   \n",
       "149998  149999                 0                              0.000000   30   \n",
       "149999  150000                 0                              0.850283   64   \n",
       "\n",
       "        NumberOfTime30-59DaysPastDueNotWorse    DebtRatio  MonthlyIncome  \\\n",
       "0                                          2     0.802982    9120.000000   \n",
       "1                                          0     0.121876    2600.000000   \n",
       "2                                          1     0.085113    3042.000000   \n",
       "3                                          0     0.036050    3300.000000   \n",
       "4                                          1     0.024926   63588.000000   \n",
       "...                                      ...          ...            ...   \n",
       "149995                                     0     0.225131    2100.000000   \n",
       "149996                                     0     0.716562    5584.000000   \n",
       "149997                                     0  3870.000000    6670.221237   \n",
       "149998                                     0     0.000000    5716.000000   \n",
       "149999                                     0     0.249908    8158.000000   \n",
       "\n",
       "        NumberOfOpenCreditLinesAndLoans  NumberOfTimes90DaysLate  \\\n",
       "0                                    13                        0   \n",
       "1                                     4                        0   \n",
       "2                                     2                        1   \n",
       "3                                     5                        0   \n",
       "4                                     7                        0   \n",
       "...                                 ...                      ...   \n",
       "149995                                4                        0   \n",
       "149996                                4                        0   \n",
       "149997                               18                        0   \n",
       "149998                                4                        0   \n",
       "149999                                8                        0   \n",
       "\n",
       "        NumberRealEstateLoansOrLines  NumberOfTime60-89DaysPastDueNotWorse  \\\n",
       "0                                  6                                     0   \n",
       "1                                  0                                     0   \n",
       "2                                  0                                     0   \n",
       "3                                  0                                     0   \n",
       "4                                  1                                     0   \n",
       "...                              ...                                   ...   \n",
       "149995                             1                                     0   \n",
       "149996                             1                                     0   \n",
       "149997                             1                                     0   \n",
       "149998                             0                                     0   \n",
       "149999                             2                                     0   \n",
       "\n",
       "        NumberOfDependents  \n",
       "0                      2.0  \n",
       "1                      1.0  \n",
       "2                      0.0  \n",
       "3                      0.0  \n",
       "4                      0.0  \n",
       "...                    ...  \n",
       "149995                 0.0  \n",
       "149996                 2.0  \n",
       "149997                 0.0  \n",
       "149998                 0.0  \n",
       "149999                 0.0  \n",
       "\n",
       "[149747 rows x 12 columns]"
      ]
     },
     "execution_count": 11,
     "metadata": {},
     "output_type": "execute_result"
    }
   ],
   "source": [
    "df=df[df['NumberOfDependents']<9]\n",
    "df"
   ]
  },
  {
   "cell_type": "code",
   "execution_count": 12,
   "id": "58742270",
   "metadata": {},
   "outputs": [
    {
     "data": {
      "text/html": [
       "<div>\n",
       "<style scoped>\n",
       "    .dataframe tbody tr th:only-of-type {\n",
       "        vertical-align: middle;\n",
       "    }\n",
       "\n",
       "    .dataframe tbody tr th {\n",
       "        vertical-align: top;\n",
       "    }\n",
       "\n",
       "    .dataframe thead th {\n",
       "        text-align: right;\n",
       "    }\n",
       "</style>\n",
       "<table border=\"1\" class=\"dataframe\">\n",
       "  <thead>\n",
       "    <tr style=\"text-align: right;\">\n",
       "      <th></th>\n",
       "      <th>index</th>\n",
       "      <th>SeriousDlqin2yrs</th>\n",
       "      <th>RevolvingUtilizationOfUnsecuredLines</th>\n",
       "      <th>age</th>\n",
       "      <th>NumberOfTime30-59DaysPastDueNotWorse</th>\n",
       "      <th>DebtRatio</th>\n",
       "      <th>MonthlyIncome</th>\n",
       "      <th>NumberOfOpenCreditLinesAndLoans</th>\n",
       "      <th>NumberOfTimes90DaysLate</th>\n",
       "      <th>NumberRealEstateLoansOrLines</th>\n",
       "      <th>NumberOfTime60-89DaysPastDueNotWorse</th>\n",
       "      <th>NumberOfDependents</th>\n",
       "    </tr>\n",
       "  </thead>\n",
       "  <tbody>\n",
       "    <tr>\n",
       "      <th>0</th>\n",
       "      <td>1</td>\n",
       "      <td>1</td>\n",
       "      <td>0.766127</td>\n",
       "      <td>45</td>\n",
       "      <td>2</td>\n",
       "      <td>0.802982</td>\n",
       "      <td>9120.000000</td>\n",
       "      <td>13</td>\n",
       "      <td>0</td>\n",
       "      <td>6</td>\n",
       "      <td>0</td>\n",
       "      <td>2.0</td>\n",
       "    </tr>\n",
       "    <tr>\n",
       "      <th>1</th>\n",
       "      <td>2</td>\n",
       "      <td>0</td>\n",
       "      <td>0.957151</td>\n",
       "      <td>40</td>\n",
       "      <td>0</td>\n",
       "      <td>0.121876</td>\n",
       "      <td>2600.000000</td>\n",
       "      <td>4</td>\n",
       "      <td>0</td>\n",
       "      <td>0</td>\n",
       "      <td>0</td>\n",
       "      <td>1.0</td>\n",
       "    </tr>\n",
       "    <tr>\n",
       "      <th>2</th>\n",
       "      <td>3</td>\n",
       "      <td>0</td>\n",
       "      <td>0.658180</td>\n",
       "      <td>38</td>\n",
       "      <td>1</td>\n",
       "      <td>0.085113</td>\n",
       "      <td>3042.000000</td>\n",
       "      <td>2</td>\n",
       "      <td>1</td>\n",
       "      <td>0</td>\n",
       "      <td>0</td>\n",
       "      <td>0.0</td>\n",
       "    </tr>\n",
       "    <tr>\n",
       "      <th>3</th>\n",
       "      <td>4</td>\n",
       "      <td>0</td>\n",
       "      <td>0.233810</td>\n",
       "      <td>30</td>\n",
       "      <td>0</td>\n",
       "      <td>0.036050</td>\n",
       "      <td>3300.000000</td>\n",
       "      <td>5</td>\n",
       "      <td>0</td>\n",
       "      <td>0</td>\n",
       "      <td>0</td>\n",
       "      <td>0.0</td>\n",
       "    </tr>\n",
       "    <tr>\n",
       "      <th>4</th>\n",
       "      <td>5</td>\n",
       "      <td>0</td>\n",
       "      <td>0.907239</td>\n",
       "      <td>49</td>\n",
       "      <td>1</td>\n",
       "      <td>0.024926</td>\n",
       "      <td>63588.000000</td>\n",
       "      <td>7</td>\n",
       "      <td>0</td>\n",
       "      <td>1</td>\n",
       "      <td>0</td>\n",
       "      <td>0.0</td>\n",
       "    </tr>\n",
       "    <tr>\n",
       "      <th>...</th>\n",
       "      <td>...</td>\n",
       "      <td>...</td>\n",
       "      <td>...</td>\n",
       "      <td>...</td>\n",
       "      <td>...</td>\n",
       "      <td>...</td>\n",
       "      <td>...</td>\n",
       "      <td>...</td>\n",
       "      <td>...</td>\n",
       "      <td>...</td>\n",
       "      <td>...</td>\n",
       "      <td>...</td>\n",
       "    </tr>\n",
       "    <tr>\n",
       "      <th>149995</th>\n",
       "      <td>149996</td>\n",
       "      <td>0</td>\n",
       "      <td>0.040674</td>\n",
       "      <td>74</td>\n",
       "      <td>0</td>\n",
       "      <td>0.225131</td>\n",
       "      <td>2100.000000</td>\n",
       "      <td>4</td>\n",
       "      <td>0</td>\n",
       "      <td>1</td>\n",
       "      <td>0</td>\n",
       "      <td>0.0</td>\n",
       "    </tr>\n",
       "    <tr>\n",
       "      <th>149996</th>\n",
       "      <td>149997</td>\n",
       "      <td>0</td>\n",
       "      <td>0.299745</td>\n",
       "      <td>44</td>\n",
       "      <td>0</td>\n",
       "      <td>0.716562</td>\n",
       "      <td>5584.000000</td>\n",
       "      <td>4</td>\n",
       "      <td>0</td>\n",
       "      <td>1</td>\n",
       "      <td>0</td>\n",
       "      <td>2.0</td>\n",
       "    </tr>\n",
       "    <tr>\n",
       "      <th>149997</th>\n",
       "      <td>149998</td>\n",
       "      <td>0</td>\n",
       "      <td>0.246044</td>\n",
       "      <td>58</td>\n",
       "      <td>0</td>\n",
       "      <td>3870.000000</td>\n",
       "      <td>6670.221237</td>\n",
       "      <td>18</td>\n",
       "      <td>0</td>\n",
       "      <td>1</td>\n",
       "      <td>0</td>\n",
       "      <td>0.0</td>\n",
       "    </tr>\n",
       "    <tr>\n",
       "      <th>149998</th>\n",
       "      <td>149999</td>\n",
       "      <td>0</td>\n",
       "      <td>0.000000</td>\n",
       "      <td>30</td>\n",
       "      <td>0</td>\n",
       "      <td>0.000000</td>\n",
       "      <td>5716.000000</td>\n",
       "      <td>4</td>\n",
       "      <td>0</td>\n",
       "      <td>0</td>\n",
       "      <td>0</td>\n",
       "      <td>0.0</td>\n",
       "    </tr>\n",
       "    <tr>\n",
       "      <th>149999</th>\n",
       "      <td>150000</td>\n",
       "      <td>0</td>\n",
       "      <td>0.850283</td>\n",
       "      <td>64</td>\n",
       "      <td>0</td>\n",
       "      <td>0.249908</td>\n",
       "      <td>8158.000000</td>\n",
       "      <td>8</td>\n",
       "      <td>0</td>\n",
       "      <td>2</td>\n",
       "      <td>0</td>\n",
       "      <td>0.0</td>\n",
       "    </tr>\n",
       "  </tbody>\n",
       "</table>\n",
       "<p>149747 rows × 12 columns</p>\n",
       "</div>"
      ],
      "text/plain": [
       "         index  SeriousDlqin2yrs  RevolvingUtilizationOfUnsecuredLines  age  \\\n",
       "0            1                 1                              0.766127   45   \n",
       "1            2                 0                              0.957151   40   \n",
       "2            3                 0                              0.658180   38   \n",
       "3            4                 0                              0.233810   30   \n",
       "4            5                 0                              0.907239   49   \n",
       "...        ...               ...                                   ...  ...   \n",
       "149995  149996                 0                              0.040674   74   \n",
       "149996  149997                 0                              0.299745   44   \n",
       "149997  149998                 0                              0.246044   58   \n",
       "149998  149999                 0                              0.000000   30   \n",
       "149999  150000                 0                              0.850283   64   \n",
       "\n",
       "        NumberOfTime30-59DaysPastDueNotWorse    DebtRatio  MonthlyIncome  \\\n",
       "0                                          2     0.802982    9120.000000   \n",
       "1                                          0     0.121876    2600.000000   \n",
       "2                                          1     0.085113    3042.000000   \n",
       "3                                          0     0.036050    3300.000000   \n",
       "4                                          1     0.024926   63588.000000   \n",
       "...                                      ...          ...            ...   \n",
       "149995                                     0     0.225131    2100.000000   \n",
       "149996                                     0     0.716562    5584.000000   \n",
       "149997                                     0  3870.000000    6670.221237   \n",
       "149998                                     0     0.000000    5716.000000   \n",
       "149999                                     0     0.249908    8158.000000   \n",
       "\n",
       "        NumberOfOpenCreditLinesAndLoans  NumberOfTimes90DaysLate  \\\n",
       "0                                    13                        0   \n",
       "1                                     4                        0   \n",
       "2                                     2                        1   \n",
       "3                                     5                        0   \n",
       "4                                     7                        0   \n",
       "...                                 ...                      ...   \n",
       "149995                                4                        0   \n",
       "149996                                4                        0   \n",
       "149997                               18                        0   \n",
       "149998                                4                        0   \n",
       "149999                                8                        0   \n",
       "\n",
       "        NumberRealEstateLoansOrLines  NumberOfTime60-89DaysPastDueNotWorse  \\\n",
       "0                                  6                                     0   \n",
       "1                                  0                                     0   \n",
       "2                                  0                                     0   \n",
       "3                                  0                                     0   \n",
       "4                                  1                                     0   \n",
       "...                              ...                                   ...   \n",
       "149995                             1                                     0   \n",
       "149996                             1                                     0   \n",
       "149997                             1                                     0   \n",
       "149998                             0                                     0   \n",
       "149999                             2                                     0   \n",
       "\n",
       "        NumberOfDependents  \n",
       "0                      2.0  \n",
       "1                      1.0  \n",
       "2                      0.0  \n",
       "3                      0.0  \n",
       "4                      0.0  \n",
       "...                    ...  \n",
       "149995                 0.0  \n",
       "149996                 2.0  \n",
       "149997                 0.0  \n",
       "149998                 0.0  \n",
       "149999                 0.0  \n",
       "\n",
       "[149747 rows x 12 columns]"
      ]
     },
     "execution_count": 12,
     "metadata": {},
     "output_type": "execute_result"
    }
   ],
   "source": [
    "df"
   ]
  },
  {
   "cell_type": "code",
   "execution_count": 13,
   "id": "43a016d7",
   "metadata": {},
   "outputs": [],
   "source": [
    "df1=df[['SeriousDlqin2yrs','RevolvingUtilizationOfUnsecuredLines','DebtRatio','MonthlyIncome','age','NumberOfDependents','NumberOfOpenCreditLinesAndLoans']]"
   ]
  },
  {
   "cell_type": "code",
   "execution_count": 14,
   "id": "6372a986",
   "metadata": {},
   "outputs": [],
   "source": [
    "a=df1.sample(2000)"
   ]
  },
  {
   "cell_type": "code",
   "execution_count": 15,
   "id": "4813b01d",
   "metadata": {},
   "outputs": [
    {
     "data": {
      "text/plain": [
       "StandardScaler()"
      ]
     },
     "execution_count": 15,
     "metadata": {},
     "output_type": "execute_result"
    }
   ],
   "source": [
    "scaler=StandardScaler()\n",
    "scaler.fit(a)"
   ]
  },
  {
   "cell_type": "code",
   "execution_count": 16,
   "id": "6b80e99c",
   "metadata": {},
   "outputs": [
    {
     "data": {
      "text/html": [
       "<div>\n",
       "<style scoped>\n",
       "    .dataframe tbody tr th:only-of-type {\n",
       "        vertical-align: middle;\n",
       "    }\n",
       "\n",
       "    .dataframe tbody tr th {\n",
       "        vertical-align: top;\n",
       "    }\n",
       "\n",
       "    .dataframe thead th {\n",
       "        text-align: right;\n",
       "    }\n",
       "</style>\n",
       "<table border=\"1\" class=\"dataframe\">\n",
       "  <thead>\n",
       "    <tr style=\"text-align: right;\">\n",
       "      <th></th>\n",
       "      <th>SeriousDlqin2yrs</th>\n",
       "      <th>RevolvingUtilizationOfUnsecuredLines</th>\n",
       "      <th>DebtRatio</th>\n",
       "      <th>MonthlyIncome</th>\n",
       "      <th>age</th>\n",
       "      <th>NumberOfDependents</th>\n",
       "      <th>NumberOfOpenCreditLinesAndLoans</th>\n",
       "    </tr>\n",
       "  </thead>\n",
       "  <tbody>\n",
       "    <tr>\n",
       "      <th>0</th>\n",
       "      <td>-0.273297</td>\n",
       "      <td>-0.041041</td>\n",
       "      <td>-0.336483</td>\n",
       "      <td>0.023075</td>\n",
       "      <td>2.293370</td>\n",
       "      <td>-0.671396</td>\n",
       "      <td>-1.269816</td>\n",
       "    </tr>\n",
       "    <tr>\n",
       "      <th>1</th>\n",
       "      <td>-0.273297</td>\n",
       "      <td>-0.041115</td>\n",
       "      <td>1.889821</td>\n",
       "      <td>0.023075</td>\n",
       "      <td>-0.322000</td>\n",
       "      <td>-0.671396</td>\n",
       "      <td>0.080436</td>\n",
       "    </tr>\n",
       "    <tr>\n",
       "      <th>2</th>\n",
       "      <td>3.659028</td>\n",
       "      <td>0.058242</td>\n",
       "      <td>-0.348259</td>\n",
       "      <td>-0.420413</td>\n",
       "      <td>0.159778</td>\n",
       "      <td>0.227996</td>\n",
       "      <td>1.623582</td>\n",
       "    </tr>\n",
       "    <tr>\n",
       "      <th>3</th>\n",
       "      <td>-0.273297</td>\n",
       "      <td>-0.035889</td>\n",
       "      <td>-0.347813</td>\n",
       "      <td>-0.958880</td>\n",
       "      <td>0.916859</td>\n",
       "      <td>-0.671396</td>\n",
       "      <td>1.623582</td>\n",
       "    </tr>\n",
       "    <tr>\n",
       "      <th>4</th>\n",
       "      <td>-0.273297</td>\n",
       "      <td>-0.038705</td>\n",
       "      <td>-0.347759</td>\n",
       "      <td>-0.155778</td>\n",
       "      <td>0.022127</td>\n",
       "      <td>-0.671396</td>\n",
       "      <td>1.237795</td>\n",
       "    </tr>\n",
       "    <tr>\n",
       "      <th>...</th>\n",
       "      <td>...</td>\n",
       "      <td>...</td>\n",
       "      <td>...</td>\n",
       "      <td>...</td>\n",
       "      <td>...</td>\n",
       "      <td>...</td>\n",
       "      <td>...</td>\n",
       "    </tr>\n",
       "    <tr>\n",
       "      <th>1995</th>\n",
       "      <td>3.659028</td>\n",
       "      <td>-0.032927</td>\n",
       "      <td>-0.348799</td>\n",
       "      <td>-0.304750</td>\n",
       "      <td>-1.285558</td>\n",
       "      <td>2.026780</td>\n",
       "      <td>-0.884029</td>\n",
       "    </tr>\n",
       "    <tr>\n",
       "      <th>1996</th>\n",
       "      <td>-0.273297</td>\n",
       "      <td>-0.032927</td>\n",
       "      <td>-0.349096</td>\n",
       "      <td>-0.732663</td>\n",
       "      <td>1.742766</td>\n",
       "      <td>-0.671396</td>\n",
       "      <td>-1.655602</td>\n",
       "    </tr>\n",
       "    <tr>\n",
       "      <th>1997</th>\n",
       "      <td>3.659028</td>\n",
       "      <td>-0.033475</td>\n",
       "      <td>-0.348818</td>\n",
       "      <td>-0.869987</td>\n",
       "      <td>-0.597302</td>\n",
       "      <td>1.127388</td>\n",
       "      <td>-0.498243</td>\n",
       "    </tr>\n",
       "    <tr>\n",
       "      <th>1998</th>\n",
       "      <td>-0.273297</td>\n",
       "      <td>-0.033012</td>\n",
       "      <td>-0.348774</td>\n",
       "      <td>-0.624765</td>\n",
       "      <td>-1.698511</td>\n",
       "      <td>-0.671396</td>\n",
       "      <td>-0.884029</td>\n",
       "    </tr>\n",
       "    <tr>\n",
       "      <th>1999</th>\n",
       "      <td>-0.273297</td>\n",
       "      <td>-0.036419</td>\n",
       "      <td>-0.348410</td>\n",
       "      <td>-0.304750</td>\n",
       "      <td>-0.941430</td>\n",
       "      <td>1.127388</td>\n",
       "      <td>0.852009</td>\n",
       "    </tr>\n",
       "  </tbody>\n",
       "</table>\n",
       "<p>2000 rows × 7 columns</p>\n",
       "</div>"
      ],
      "text/plain": [
       "      SeriousDlqin2yrs  RevolvingUtilizationOfUnsecuredLines  DebtRatio  \\\n",
       "0            -0.273297                             -0.041041  -0.336483   \n",
       "1            -0.273297                             -0.041115   1.889821   \n",
       "2             3.659028                              0.058242  -0.348259   \n",
       "3            -0.273297                             -0.035889  -0.347813   \n",
       "4            -0.273297                             -0.038705  -0.347759   \n",
       "...                ...                                   ...        ...   \n",
       "1995          3.659028                             -0.032927  -0.348799   \n",
       "1996         -0.273297                             -0.032927  -0.349096   \n",
       "1997          3.659028                             -0.033475  -0.348818   \n",
       "1998         -0.273297                             -0.033012  -0.348774   \n",
       "1999         -0.273297                             -0.036419  -0.348410   \n",
       "\n",
       "      MonthlyIncome       age  NumberOfDependents  \\\n",
       "0          0.023075  2.293370           -0.671396   \n",
       "1          0.023075 -0.322000           -0.671396   \n",
       "2         -0.420413  0.159778            0.227996   \n",
       "3         -0.958880  0.916859           -0.671396   \n",
       "4         -0.155778  0.022127           -0.671396   \n",
       "...             ...       ...                 ...   \n",
       "1995      -0.304750 -1.285558            2.026780   \n",
       "1996      -0.732663  1.742766           -0.671396   \n",
       "1997      -0.869987 -0.597302            1.127388   \n",
       "1998      -0.624765 -1.698511           -0.671396   \n",
       "1999      -0.304750 -0.941430            1.127388   \n",
       "\n",
       "      NumberOfOpenCreditLinesAndLoans  \n",
       "0                           -1.269816  \n",
       "1                            0.080436  \n",
       "2                            1.623582  \n",
       "3                            1.623582  \n",
       "4                            1.237795  \n",
       "...                               ...  \n",
       "1995                        -0.884029  \n",
       "1996                        -1.655602  \n",
       "1997                        -0.498243  \n",
       "1998                        -0.884029  \n",
       "1999                         0.852009  \n",
       "\n",
       "[2000 rows x 7 columns]"
      ]
     },
     "execution_count": 16,
     "metadata": {},
     "output_type": "execute_result"
    }
   ],
   "source": [
    "df_scaled=pd.DataFrame(scaler.transform(a),columns=['SeriousDlqin2yrs','RevolvingUtilizationOfUnsecuredLines','DebtRatio','MonthlyIncome','age','NumberOfDependents','NumberOfOpenCreditLinesAndLoans'])\n",
    "df_scaled"
   ]
  },
  {
   "cell_type": "code",
   "execution_count": 17,
   "id": "7371efc0",
   "metadata": {},
   "outputs": [
    {
     "name": "stdout",
     "output_type": "stream",
     "text": [
      "Target looks like classification\n"
     ]
    },
    {
     "name": "stderr",
     "output_type": "stream",
     "text": [
      "C:\\Users\\Admin\\anaconda3\\lib\\site-packages\\dabl\\plot\\utils.py:632: UserWarning: Dropped 6 outliers in column MonthlyIncome.\n",
      "  warn(\"Dropped {} outliers in column {}.\".format(\n",
      "C:\\Users\\Admin\\anaconda3\\lib\\site-packages\\dabl\\plot\\utils.py:632: UserWarning: Dropped 1 outliers in column NumberOfOpenCreditLinesAndLoans.\n",
      "  warn(\"Dropped {} outliers in column {}.\".format(\n",
      "C:\\Users\\Admin\\anaconda3\\lib\\site-packages\\dabl\\plot\\utils.py:632: UserWarning: Dropped 3 outliers in column DebtRatio.\n",
      "  warn(\"Dropped {} outliers in column {}.\".format(\n",
      "C:\\Users\\Admin\\anaconda3\\lib\\site-packages\\dabl\\plot\\utils.py:632: UserWarning: Dropped 4 outliers in column NumberOfDependents.\n",
      "  warn(\"Dropped {} outliers in column {}.\".format(\n",
      "C:\\Users\\Admin\\anaconda3\\lib\\site-packages\\dabl\\plot\\utils.py:632: UserWarning: Dropped 3 outliers in column RevolvingUtilizationOfUnsecuredLines.\n",
      "  warn(\"Dropped {} outliers in column {}.\".format(\n"
     ]
    },
    {
     "name": "stdout",
     "output_type": "stream",
     "text": [
      "Linear Discriminant Analysis training set score: 0.500\n"
     ]
    },
    {
     "data": {
      "text/plain": [
       "[[<Figure size 864x288 with 6 Axes>,\n",
       "  <Figure size 1152x288 with 4 Axes>,\n",
       "  <Figure size 1152x288 with 4 Axes>,\n",
       "  <Figure size 432x288 with 1 Axes>],\n",
       " None]"
      ]
     },
     "execution_count": 17,
     "metadata": {},
     "output_type": "execute_result"
    },
    {
     "data": {
      "image/png": "[encoded data removed]",
      "text/plain": [
       "<Figure size 432x288 with 1 Axes>"
      ]
     },
     "metadata": {
      "needs_background": "light"
     },
     "output_type": "display_data"
    },
    {
     "data": {
      "image/png": "[encoded data removed]",
      "text/plain": [
       "<Figure size 864x288 with 6 Axes>"
      ]
     },
     "metadata": {
      "needs_background": "light"
     },
     "output_type": "display_data"
    },
    {
     "data": {
      "image/png": "[encoded data removed]",
      "text/plain": [
       "<Figure size 1152x288 with 4 Axes>"
      ]
     },
     "metadata": {
      "needs_background": "light"
     },
     "output_type": "display_data"
    },
    {
     "data": {
      "image/png": "[encoded data removed]",
      "text/plain": [
       "<Figure size 1152x288 with 4 Axes>"
      ]
     },
     "metadata": {
      "needs_background": "light"
     },
     "output_type": "display_data"
    },
    {
     "data": {
      "image/png": "[encoded data removed]",
      "text/plain": [
       "<Figure size 432x288 with 1 Axes>"
      ]
     },
     "metadata": {
      "needs_background": "light"
     },
     "output_type": "display_data"
    }
   ],
   "source": [
    "dabl.plot(df_scaled,target_col='SeriousDlqin2yrs')"
   ]
  },
  {
   "cell_type": "code",
   "execution_count": null,
   "id": "edd4d799",
   "metadata": {},
   "outputs": [],
   "source": [
    "df.corr()"
   ]
  },
  {
   "cell_type": "code",
   "execution_count": 17,
   "id": "4dec9d8e",
   "metadata": {},
   "outputs": [
    {
     "data": {
      "text/plain": [
       "<AxesSubplot:>"
      ]
     },
     "execution_count": 17,
     "metadata": {},
     "output_type": "execute_result"
    },
    {
     "data": {
      "image/png": "[encoded data removed]",
      "text/plain": [
       "<Figure size 432x288 with 2 Axes>"
      ]
     },
     "metadata": {
      "needs_background": "light"
     },
     "output_type": "display_data"
    }
   ],
   "source": [
    "sns.heatmap(df.corr())"
   ]
  },
  {
   "cell_type": "code",
   "execution_count": 18,
   "id": "f2abbd6f",
   "metadata": {},
   "outputs": [
    {
     "data": {
      "text/plain": [
       "Index(['SeriousDlqin2yrs', 'RevolvingUtilizationOfUnsecuredLines', 'DebtRatio',\n",
       "       'MonthlyIncome', 'age', 'NumberOfDependents',\n",
       "       'NumberOfOpenCreditLinesAndLoans'],\n",
       "      dtype='object')"
      ]
     },
     "execution_count": 18,
     "metadata": {},
     "output_type": "execute_result"
    }
   ],
   "source": [
    "df_scaled.columns"
   ]
  },
  {
   "cell_type": "code",
   "execution_count": null,
   "id": "d6e242f3",
   "metadata": {},
   "outputs": [],
   "source": [
    "sns.boxplot(data=a,x='age')"
   ]
  },
  {
   "cell_type": "code",
   "execution_count": null,
   "id": "ae836ffc",
   "metadata": {},
   "outputs": [],
   "source": [
    "sns.boxplot(data=a,x='NumberOfDependents')"
   ]
  },
  {
   "cell_type": "code",
   "execution_count": 21,
   "id": "f709e12f",
   "metadata": {},
   "outputs": [
    {
     "data": {
      "text/plain": [
       "<AxesSubplot:xlabel='MonthlyIncome'>"
      ]
     },
     "execution_count": 21,
     "metadata": {},
     "output_type": "execute_result"
    },
    {
     "data": {
      "image/png": "[encoded data removed]",
      "text/plain": [
       "<Figure size 432x288 with 1 Axes>"
      ]
     },
     "metadata": {
      "needs_background": "light"
     },
     "output_type": "display_data"
    }
   ],
   "source": [
    "sns.boxplot(data=a,x='MonthlyIncome')"
   ]
  },
  {
   "cell_type": "code",
   "execution_count": 22,
   "id": "e1a8cd67",
   "metadata": {},
   "outputs": [
    {
     "data": {
      "text/plain": [
       "<AxesSubplot:xlabel='DebtRatio'>"
      ]
     },
     "execution_count": 22,
     "metadata": {},
     "output_type": "execute_result"
    },
    {
     "data": {
      "image/png": "[encoded data removed]",
      "text/plain": [
       "<Figure size 432x288 with 1 Axes>"
      ]
     },
     "metadata": {
      "needs_background": "light"
     },
     "output_type": "display_data"
    }
   ],
   "source": [
    "sns.boxplot(data=a,x='DebtRatio')"
   ]
  },
  {
   "cell_type": "code",
   "execution_count": 23,
   "id": "a6ec7afd",
   "metadata": {},
   "outputs": [
    {
     "data": {
      "text/plain": [
       "<AxesSubplot:xlabel='NumberOfOpenCreditLinesAndLoans'>"
      ]
     },
     "execution_count": 23,
     "metadata": {},
     "output_type": "execute_result"
    },
    {
     "data": {
      "image/png": "[encoded data removed]",
      "text/plain": [
       "<Figure size 432x288 with 1 Axes>"
      ]
     },
     "metadata": {
      "needs_background": "light"
     },
     "output_type": "display_data"
    }
   ],
   "source": [
    "sns.boxplot(data=a,x='NumberOfOpenCreditLinesAndLoans')"
   ]
  },
  {
   "cell_type": "code",
   "execution_count": 19,
   "id": "8d194860",
   "metadata": {},
   "outputs": [
    {
     "data": {
      "image/png": "[encoded data removed]",
      "text/plain": [
       "<Figure size 1440x1080 with 3 Axes>"
      ]
     },
     "metadata": {
      "needs_background": "light"
     },
     "output_type": "display_data"
    }
   ],
   "source": [
    "#delinquency with other columns\n",
    "plt.figure(figsize=(20,15))\n",
    "plt.subplot(2,3,1)\n",
    "plt.title(\"RevolvingUtilizationOfUnsecuredLines\")\n",
    "plt.bar(x=a['SeriousDlqin2yrs'],height=df_scaled['RevolvingUtilizationOfUnsecuredLines'])\n",
    "plt.xlabel(\"SeriousDlqin2yrs\")\n",
    "\n",
    "plt.subplot(2,3,2)\n",
    "plt.title(\"MonthlyIncome\")\n",
    "plt.bar(x=a['SeriousDlqin2yrs'],height=df_scaled['MonthlyIncome'])\n",
    "plt.xlabel(\"SeriousDlqin2yrs\")\n",
    "\n",
    "plt.subplot(2,3,3)\n",
    "plt.title(\"DebtRatio\")\n",
    "plt.bar(x=a['SeriousDlqin2yrs'],height=df_scaled['DebtRatio'])\n",
    "plt.xlabel(\"SeriousDlqin2yrs\")\n",
    "\n",
    "\n",
    "plt.show()"
   ]
  },
  {
   "cell_type": "code",
   "execution_count": 17,
   "id": "c19fe14f",
   "metadata": {},
   "outputs": [
    {
     "data": {
      "text/plain": [
       "<seaborn.axisgrid.FacetGrid at 0x26eb8dded60>"
      ]
     },
     "execution_count": 17,
     "metadata": {},
     "output_type": "execute_result"
    },
    {
     "data": {
      "image/png": "[encoded data removed]",
      "text/plain": [
       "<Figure size 360x360 with 1 Axes>"
      ]
     },
     "metadata": {
      "needs_background": "light"
     },
     "output_type": "display_data"
    }
   ],
   "source": [
    "sns.relplot(x=a['SeriousDlqin2yrs'], y=df_scaled['MonthlyIncome'])"
   ]
  },
  {
   "cell_type": "code",
   "execution_count": 21,
   "id": "f329ca37",
   "metadata": {},
   "outputs": [
    {
     "data": {
      "text/plain": [
       "<AxesSubplot:xlabel='SeriousDlqin2yrs', ylabel='age'>"
      ]
     },
     "execution_count": 21,
     "metadata": {},
     "output_type": "execute_result"
    },
    {
     "data": {
      "image/png": "[encoded data removed]",
      "text/plain": [
       "<Figure size 432x288 with 1 Axes>"
      ]
     },
     "metadata": {
      "needs_background": "light"
     },
     "output_type": "display_data"
    }
   ],
   "source": [
    "sns.scatterplot(y=df_scaled['age'], x=a['SeriousDlqin2yrs'])"
   ]
  },
  {
   "cell_type": "code",
   "execution_count": 20,
   "id": "4c89f01f",
   "metadata": {},
   "outputs": [
    {
     "data": {
      "text/plain": [
       "<AxesSubplot:xlabel='NumberOfDependents', ylabel='SeriousDlqin2yrs'>"
      ]
     },
     "execution_count": 20,
     "metadata": {},
     "output_type": "execute_result"
    },
    {
     "data": {
      "image/png": "[encoded data removed]",
      "text/plain": [
       "<Figure size 432x288 with 1 Axes>"
      ]
     },
     "metadata": {
      "needs_background": "light"
     },
     "output_type": "display_data"
    }
   ],
   "source": [
    "sns.lineplot(data=a,x='NumberOfDependents', y='SeriousDlqin2yrs')"
   ]
  },
  {
   "cell_type": "code",
   "execution_count": 28,
   "id": "738ad86e",
   "metadata": {},
   "outputs": [
    {
     "data": {
      "text/plain": [
       "<AxesSubplot:xlabel='MonthlyIncome', ylabel='age'>"
      ]
     },
     "execution_count": 28,
     "metadata": {},
     "output_type": "execute_result"
    },
    {
     "data": {
      "image/png": "[encoded data removed]",
      "text/plain": [
       "<Figure size 432x288 with 1 Axes>"
      ]
     },
     "metadata": {
      "needs_background": "light"
     },
     "output_type": "display_data"
    }
   ],
   "source": [
    "sns.scatterplot(y='age',x='MonthlyIncome',data=a,hue='SeriousDlqin2yrs')"
   ]
  },
  {
   "cell_type": "code",
   "execution_count": 29,
   "id": "93778246",
   "metadata": {},
   "outputs": [
    {
     "data": {
      "text/html": [
       "<div>\n",
       "<style scoped>\n",
       "    .dataframe tbody tr th:only-of-type {\n",
       "        vertical-align: middle;\n",
       "    }\n",
       "\n",
       "    .dataframe tbody tr th {\n",
       "        vertical-align: top;\n",
       "    }\n",
       "\n",
       "    .dataframe thead th {\n",
       "        text-align: right;\n",
       "    }\n",
       "</style>\n",
       "<table border=\"1\" class=\"dataframe\">\n",
       "  <thead>\n",
       "    <tr style=\"text-align: right;\">\n",
       "      <th></th>\n",
       "      <th>SeriousDlqin2yrs</th>\n",
       "      <th>RevolvingUtilizationOfUnsecuredLines</th>\n",
       "      <th>DebtRatio</th>\n",
       "      <th>MonthlyIncome</th>\n",
       "      <th>age</th>\n",
       "      <th>NumberOfDependents</th>\n",
       "      <th>NumberOfOpenCreditLinesAndLoans</th>\n",
       "    </tr>\n",
       "  </thead>\n",
       "  <tbody>\n",
       "    <tr>\n",
       "      <th>148326</th>\n",
       "      <td>0</td>\n",
       "      <td>0.000000</td>\n",
       "      <td>0.000000</td>\n",
       "      <td>2000.000000</td>\n",
       "      <td>21</td>\n",
       "      <td>0.0</td>\n",
       "      <td>1</td>\n",
       "    </tr>\n",
       "    <tr>\n",
       "      <th>114618</th>\n",
       "      <td>0</td>\n",
       "      <td>1.000000</td>\n",
       "      <td>0.382460</td>\n",
       "      <td>820.000000</td>\n",
       "      <td>21</td>\n",
       "      <td>0.0</td>\n",
       "      <td>1</td>\n",
       "    </tr>\n",
       "    <tr>\n",
       "      <th>84604</th>\n",
       "      <td>0</td>\n",
       "      <td>1.000000</td>\n",
       "      <td>0.000000</td>\n",
       "      <td>929.000000</td>\n",
       "      <td>21</td>\n",
       "      <td>0.0</td>\n",
       "      <td>1</td>\n",
       "    </tr>\n",
       "    <tr>\n",
       "      <th>135966</th>\n",
       "      <td>0</td>\n",
       "      <td>0.043956</td>\n",
       "      <td>0.001218</td>\n",
       "      <td>820.000000</td>\n",
       "      <td>22</td>\n",
       "      <td>0.0</td>\n",
       "      <td>2</td>\n",
       "    </tr>\n",
       "    <tr>\n",
       "      <th>31564</th>\n",
       "      <td>0</td>\n",
       "      <td>0.233530</td>\n",
       "      <td>0.016129</td>\n",
       "      <td>929.000000</td>\n",
       "      <td>22</td>\n",
       "      <td>0.0</td>\n",
       "      <td>3</td>\n",
       "    </tr>\n",
       "    <tr>\n",
       "      <th>...</th>\n",
       "      <td>...</td>\n",
       "      <td>...</td>\n",
       "      <td>...</td>\n",
       "      <td>...</td>\n",
       "      <td>...</td>\n",
       "      <td>...</td>\n",
       "      <td>...</td>\n",
       "    </tr>\n",
       "    <tr>\n",
       "      <th>92117</th>\n",
       "      <td>0</td>\n",
       "      <td>0.079528</td>\n",
       "      <td>290.000000</td>\n",
       "      <td>6670.221237</td>\n",
       "      <td>90</td>\n",
       "      <td>0.0</td>\n",
       "      <td>4</td>\n",
       "    </tr>\n",
       "    <tr>\n",
       "      <th>109754</th>\n",
       "      <td>0</td>\n",
       "      <td>0.001595</td>\n",
       "      <td>0.000286</td>\n",
       "      <td>10500.000000</td>\n",
       "      <td>90</td>\n",
       "      <td>0.0</td>\n",
       "      <td>11</td>\n",
       "    </tr>\n",
       "    <tr>\n",
       "      <th>7948</th>\n",
       "      <td>0</td>\n",
       "      <td>0.022668</td>\n",
       "      <td>0.004254</td>\n",
       "      <td>7991.000000</td>\n",
       "      <td>91</td>\n",
       "      <td>0.0</td>\n",
       "      <td>9</td>\n",
       "    </tr>\n",
       "    <tr>\n",
       "      <th>12463</th>\n",
       "      <td>0</td>\n",
       "      <td>0.098499</td>\n",
       "      <td>0.609689</td>\n",
       "      <td>2538.000000</td>\n",
       "      <td>91</td>\n",
       "      <td>0.0</td>\n",
       "      <td>11</td>\n",
       "    </tr>\n",
       "    <tr>\n",
       "      <th>37639</th>\n",
       "      <td>0</td>\n",
       "      <td>0.029398</td>\n",
       "      <td>0.003333</td>\n",
       "      <td>10500.000000</td>\n",
       "      <td>92</td>\n",
       "      <td>0.0</td>\n",
       "      <td>8</td>\n",
       "    </tr>\n",
       "  </tbody>\n",
       "</table>\n",
       "<p>2000 rows × 7 columns</p>\n",
       "</div>"
      ],
      "text/plain": [
       "        SeriousDlqin2yrs  RevolvingUtilizationOfUnsecuredLines   DebtRatio  \\\n",
       "148326                 0                              0.000000    0.000000   \n",
       "114618                 0                              1.000000    0.382460   \n",
       "84604                  0                              1.000000    0.000000   \n",
       "135966                 0                              0.043956    0.001218   \n",
       "31564                  0                              0.233530    0.016129   \n",
       "...                  ...                                   ...         ...   \n",
       "92117                  0                              0.079528  290.000000   \n",
       "109754                 0                              0.001595    0.000286   \n",
       "7948                   0                              0.022668    0.004254   \n",
       "12463                  0                              0.098499    0.609689   \n",
       "37639                  0                              0.029398    0.003333   \n",
       "\n",
       "        MonthlyIncome  age  NumberOfDependents  \\\n",
       "148326    2000.000000   21                 0.0   \n",
       "114618     820.000000   21                 0.0   \n",
       "84604      929.000000   21                 0.0   \n",
       "135966     820.000000   22                 0.0   \n",
       "31564      929.000000   22                 0.0   \n",
       "...               ...  ...                 ...   \n",
       "92117     6670.221237   90                 0.0   \n",
       "109754   10500.000000   90                 0.0   \n",
       "7948      7991.000000   91                 0.0   \n",
       "12463     2538.000000   91                 0.0   \n",
       "37639    10500.000000   92                 0.0   \n",
       "\n",
       "        NumberOfOpenCreditLinesAndLoans  \n",
       "148326                                1  \n",
       "114618                                1  \n",
       "84604                                 1  \n",
       "135966                                2  \n",
       "31564                                 3  \n",
       "...                                 ...  \n",
       "92117                                 4  \n",
       "109754                               11  \n",
       "7948                                  9  \n",
       "12463                                11  \n",
       "37639                                 8  \n",
       "\n",
       "[2000 rows x 7 columns]"
      ]
     },
     "execution_count": 29,
     "metadata": {},
     "output_type": "execute_result"
    }
   ],
   "source": [
    "x=a.sort_values(by='age')\n",
    "x"
   ]
  },
  {
   "cell_type": "code",
   "execution_count": 30,
   "id": "8770f575",
   "metadata": {},
   "outputs": [
    {
     "data": {
      "application/vnd.plotly.v1+json": {
       "config": {
        "plotlyServerURL": "https://plot.ly"
       },
       "data": [
        {
         "hovertemplate": "age=21<br>MonthlyIncome=%{x}<br>DebtRatio=%{y}<br>SeriousDlqin2yrs=%{marker.color}<extra></extra>",
         "legendgroup": "",
         "marker": {
          "color": [
           0,
           0,
           0
          ],
          "coloraxis": "coloraxis",
          "symbol": "circle"
         },
         "mode": "markers",
         "name": "",
         "orientation": "v",
         "showlegend": false,
         "type": "scatter",
         "x": [
          2000,
          820,
          929
         ],
         "xaxis": "x",
         "y": [
          0,
          0.382460414,
          0
         ],
         "yaxis": "y"
        }
       ],
       "frames": [
        {
         "data": [
          {
           "hovertemplate": "age=21<br>MonthlyIncome=%{x}<br>DebtRatio=%{y}<br>SeriousDlqin2yrs=%{marker.color}<extra></extra>",
           "legendgroup": "",
           "marker": {
            "color": [
             0,
             0,
             0
            ],
            "coloraxis": "coloraxis",
            "symbol": "circle"
           },
           "mode": "markers",
           "name": "",
           "orientation": "v",
           "showlegend": false,
           "type": "scatter",
           "x": [
            2000,
            820,
            929
           ],
           "xaxis": "x",
           "y": [
            0,
            0.382460414,
            0
           ],
           "yaxis": "y"
          }
         ],
         "name": "21"
        },
        {
         "data": [
          {
           "hovertemplate": "age=22<br>MonthlyIncome=%{x}<br>DebtRatio=%{y}<br>SeriousDlqin2yrs=%{marker.color}<extra></extra>",
           "legendgroup": "",
           "marker": {
            "color": [
             0,
             0,
             0,
             1,
             0,
             0
            ],
            "coloraxis": "coloraxis",
            "symbol": "circle"
           },
           "mode": "markers",
           "name": "",
           "orientation": "v",
           "showlegend": false,
           "type": "scatter",
           "x": [
            820,
            929,
            0,
            6670.221237392844,
            6670.221237392844,
            820
           ],
           "xaxis": "x",
           "y": [
            0.001218027,
            0.016129032,
            5,
            533,
            0,
            0
           ],
           "yaxis": "y"
          }
         ],
         "name": "22"
        },
        {
         "data": [
          {
           "hovertemplate": "age=23<br>MonthlyIncome=%{x}<br>DebtRatio=%{y}<br>SeriousDlqin2yrs=%{marker.color}<extra></extra>",
           "legendgroup": "",
           "marker": {
            "color": [
             1,
             0,
             0,
             1,
             0,
             0,
             0,
             1,
             0,
             0,
             0
            ],
            "coloraxis": "coloraxis",
            "symbol": "circle"
           },
           "mode": "markers",
           "name": "",
           "orientation": "v",
           "showlegend": false,
           "type": "scatter",
           "x": [
            2000,
            3419,
            929,
            1600,
            770,
            3600,
            1,
            1760,
            618,
            898,
            820
           ],
           "xaxis": "x",
           "y": [
            0.04147926,
            0.024561404,
            0.043010753,
            0.007495315,
            0,
            0,
            44.5,
            0,
            0.030694669,
            0,
            0
           ],
           "yaxis": "y"
          }
         ],
         "name": "23"
        },
        {
         "data": [
          {
           "hovertemplate": "age=24<br>MonthlyIncome=%{x}<br>DebtRatio=%{y}<br>SeriousDlqin2yrs=%{marker.color}<extra></extra>",
           "legendgroup": "",
           "marker": {
            "color": [
             0,
             0,
             1,
             0,
             1,
             0,
             0,
             0,
             0,
             0,
             0,
             0
            ],
            "coloraxis": "coloraxis",
            "symbol": "circle"
           },
           "mode": "markers",
           "name": "",
           "orientation": "v",
           "showlegend": false,
           "type": "scatter",
           "x": [
            820,
            800,
            1600,
            1700,
            1687,
            0,
            2032,
            3200,
            2191,
            1500,
            2037,
            2557
           ],
           "xaxis": "x",
           "y": [
            0.053593179,
            0.61298377,
            0,
            0.027630805,
            0.030805687,
            57,
            0.148057059,
            0.354576695,
            0,
            0.488341106,
            0.219332679,
            0.241594996
           ],
           "yaxis": "y"
          }
         ],
         "name": "24"
        },
        {
         "data": [
          {
           "hovertemplate": "age=25<br>MonthlyIncome=%{x}<br>DebtRatio=%{y}<br>SeriousDlqin2yrs=%{marker.color}<extra></extra>",
           "legendgroup": "",
           "marker": {
            "color": [
             0,
             0,
             0,
             0,
             0,
             0,
             1,
             0,
             0,
             0,
             0,
             0
            ],
            "coloraxis": "coloraxis",
            "symbol": "circle"
           },
           "mode": "markers",
           "name": "",
           "orientation": "v",
           "showlegend": false,
           "type": "scatter",
           "x": [
            1800,
            2800,
            4500,
            2100,
            2494,
            2500,
            1900,
            6670.221237392844,
            2500,
            6670.221237392844,
            2750,
            3000
           ],
           "xaxis": "x",
           "y": [
            0.211549139,
            0.102463406,
            0.15818707,
            0.259400286,
            0.008817635,
            0.12395042,
            0.369279327,
            654,
            0.237105158,
            9,
            0.007633588,
            0.097634122
           ],
           "yaxis": "y"
          }
         ],
         "name": "25"
        },
        {
         "data": [
          {
           "hovertemplate": "age=26<br>MonthlyIncome=%{x}<br>DebtRatio=%{y}<br>SeriousDlqin2yrs=%{marker.color}<extra></extra>",
           "legendgroup": "",
           "marker": {
            "color": [
             0,
             0,
             0,
             0,
             0,
             0,
             0,
             0
            ],
            "coloraxis": "coloraxis",
            "symbol": "circle"
           },
           "mode": "markers",
           "name": "",
           "orientation": "v",
           "showlegend": false,
           "type": "scatter",
           "x": [
            4300,
            3500,
            2400,
            9000,
            2528,
            6670.221237392844,
            6670.221237392844,
            1770
           ],
           "xaxis": "x",
           "y": [
            0.255754476,
            0.285347044,
            0.082882132,
            0.069103433,
            0.259391064,
            60,
            0,
            0.134387352
           ],
           "yaxis": "y"
          }
         ],
         "name": "26"
        },
        {
         "data": [
          {
           "hovertemplate": "age=27<br>MonthlyIncome=%{x}<br>DebtRatio=%{y}<br>SeriousDlqin2yrs=%{marker.color}<extra></extra>",
           "legendgroup": "",
           "marker": {
            "color": [
             0,
             0,
             1,
             0,
             0,
             0,
             1,
             0,
             0,
             0,
             0,
             0,
             0,
             0,
             0,
             0,
             0
            ],
            "coloraxis": "coloraxis",
            "symbol": "circle"
           },
           "mode": "markers",
           "name": "",
           "orientation": "v",
           "showlegend": false,
           "type": "scatter",
           "x": [
            3700,
            4250,
            4200,
            7444,
            7500,
            4331,
            2780,
            2000,
            2430,
            3956,
            5100,
            1250,
            4166,
            2079,
            10011,
            2992,
            3000
           ],
           "xaxis": "x",
           "y": [
            0.540394488,
            0.070806869,
            0.005236848,
            0.000268637,
            0.179309425,
            0.06232687,
            0.217188062,
            0.306346827,
            0.154668861,
            0.016173869,
            0,
            0.092725819,
            0.368850492,
            0.01875,
            0.087594886,
            0.031072503,
            0.212929024
           ],
           "yaxis": "y"
          }
         ],
         "name": "27"
        },
        {
         "data": [
          {
           "hovertemplate": "age=28<br>MonthlyIncome=%{x}<br>DebtRatio=%{y}<br>SeriousDlqin2yrs=%{marker.color}<extra></extra>",
           "legendgroup": "",
           "marker": {
            "color": [
             0,
             0,
             0,
             0,
             0,
             0,
             0,
             0,
             0,
             1,
             1,
             0,
             0,
             0,
             0,
             0,
             0,
             0,
             0,
             0,
             0,
             0
            ],
            "coloraxis": "coloraxis",
            "symbol": "circle"
           },
           "mode": "markers",
           "name": "",
           "orientation": "v",
           "showlegend": false,
           "type": "scatter",
           "x": [
            2026,
            6670.221237392844,
            5000,
            3500,
            4447,
            6666,
            9333,
            5667,
            2550,
            700,
            2000,
            2700,
            6670.221237392844,
            1500,
            3334,
            6670.221237392844,
            6670.221237392844,
            4000,
            5000,
            1400,
            6670.221237392844,
            6670.221237392844
           ],
           "xaxis": "x",
           "y": [
            0.151948693,
            88,
            0.399720056,
            0.306769494,
            0.316321942,
            0.138893055,
            0.099528605,
            0.136026817,
            0.109760878,
            0.55064194,
            0.776111944,
            0.186227323,
            1400,
            0.133244504,
            0.152623688,
            0,
            852,
            0.103724069,
            0.331333733,
            0,
            1906,
            0
           ],
           "yaxis": "y"
          }
         ],
         "name": "28"
        },
        {
         "data": [
          {
           "hovertemplate": "age=29<br>MonthlyIncome=%{x}<br>DebtRatio=%{y}<br>SeriousDlqin2yrs=%{marker.color}<extra></extra>",
           "legendgroup": "",
           "marker": {
            "color": [
             0,
             0,
             0,
             0,
             0,
             0,
             0,
             0,
             0,
             0,
             0,
             0,
             0,
             0,
             0,
             0,
             0,
             0
            ],
            "coloraxis": "coloraxis",
            "symbol": "circle"
           },
           "mode": "markers",
           "name": "",
           "orientation": "v",
           "showlegend": false,
           "type": "scatter",
           "x": [
            6670.221237392844,
            3200,
            4856,
            1700,
            4933,
            1407,
            2500,
            3500,
            3000,
            4966,
            2500,
            0,
            2600,
            6670.221237392844,
            4000,
            2000,
            5120,
            1
           ],
           "xaxis": "x",
           "y": [
            9,
            0.296157451,
            0.117974058,
            0.04526749,
            0.026347791,
            0,
            0,
            0.24764353,
            0.214261913,
            0,
            0.117952819,
            686,
            0.286812764,
            723,
            0.169707573,
            0.050974513,
            0.09002148,
            63
           ],
           "yaxis": "y"
          }
         ],
         "name": "29"
        },
        {
         "data": [
          {
           "hovertemplate": "age=30<br>MonthlyIncome=%{x}<br>DebtRatio=%{y}<br>SeriousDlqin2yrs=%{marker.color}<extra></extra>",
           "legendgroup": "",
           "marker": {
            "color": [
             0,
             0,
             0,
             0,
             0,
             0,
             0,
             0,
             0,
             0,
             0,
             1,
             0,
             0,
             0,
             1,
             0,
             0,
             1,
             0,
             0,
             0,
             0,
             1,
             0
            ],
            "coloraxis": "coloraxis",
            "symbol": "circle"
           },
           "mode": "markers",
           "name": "",
           "orientation": "v",
           "showlegend": false,
           "type": "scatter",
           "x": [
            5100,
            6670.221237392844,
            1932,
            6670.221237392844,
            3920,
            1280,
            3500,
            6670.221237392844,
            2878,
            3620,
            2100,
            6670.221237392844,
            3000,
            6176,
            10000,
            4100,
            1,
            3601,
            6500,
            4173,
            2700,
            6500,
            2083,
            1615,
            5491
           ],
           "xaxis": "x",
           "y": [
            0.263085669,
            944,
            0.856699431,
            460,
            0.172915073,
            0.259172521,
            0.608397601,
            55,
            0.481764502,
            0.545429439,
            0.341742028,
            2306,
            0.413195601,
            0.040958394,
            0.716128387,
            0.202389661,
            1066,
            0.226818434,
            0.960929088,
            0.254911356,
            0.282117734,
            0.498692509,
            0.188099808,
            0.220915842,
            0.0697378
           ],
           "yaxis": "y"
          }
         ],
         "name": "30"
        },
        {
         "data": [
          {
           "hovertemplate": "age=31<br>MonthlyIncome=%{x}<br>DebtRatio=%{y}<br>SeriousDlqin2yrs=%{marker.color}<extra></extra>",
           "legendgroup": "",
           "marker": {
            "color": [
             0,
             0,
             0,
             0,
             1,
             0,
             0,
             1,
             0,
             0,
             0,
             0,
             1,
             1,
             0,
             0,
             0,
             0,
             0,
             0,
             0,
             0,
             0,
             0,
             0,
             0,
             0
            ],
            "coloraxis": "coloraxis",
            "symbol": "circle"
           },
           "mode": "markers",
           "name": "",
           "orientation": "v",
           "showlegend": false,
           "type": "scatter",
           "x": [
            0,
            7500,
            6500,
            7892,
            3773,
            3600,
            6670.221237392844,
            4150,
            5514,
            7077,
            8883,
            650,
            4220,
            6100,
            2500,
            8200,
            6670.221237392844,
            2500,
            4900,
            3045,
            2200,
            2500,
            6000,
            1400,
            4000,
            2340,
            6670.221237392844
           ],
           "xaxis": "x",
           "y": [
            1068,
            0.013598187,
            0.418089525,
            0.383504371,
            0.23608903,
            0.296861983,
            46,
            0.678390749,
            0.347778785,
            0.095931054,
            0.101530842,
            2.476190476,
            0.079128169,
            0.193083101,
            0.192722911,
            0.439702475,
            101,
            0.343062775,
            0.571516017,
            0.535128037,
            0.802816901,
            0.24870052,
            0.160473254,
            0.860099929,
            0.397650587,
            0.221700128,
            151
           ],
           "yaxis": "y"
          }
         ],
         "name": "31"
        },
        {
         "data": [
          {
           "hovertemplate": "age=32<br>MonthlyIncome=%{x}<br>DebtRatio=%{y}<br>SeriousDlqin2yrs=%{marker.color}<extra></extra>",
           "legendgroup": "",
           "marker": {
            "color": [
             0,
             0,
             1,
             0,
             0,
             0,
             0,
             0,
             0,
             0,
             0,
             0,
             0,
             1,
             0,
             0,
             0,
             0,
             1,
             0,
             0,
             0,
             0,
             0,
             0,
             0,
             0,
             0,
             1,
             0,
             0,
             0,
             1,
             0,
             0,
             0
            ],
            "coloraxis": "coloraxis",
            "symbol": "circle"
           },
           "mode": "markers",
           "name": "",
           "orientation": "v",
           "showlegend": false,
           "type": "scatter",
           "x": [
            3500,
            2620,
            1000,
            3965,
            6670.221237392844,
            9610,
            8000,
            2274,
            5425,
            2500,
            3500,
            6670.221237392844,
            2200,
            1372,
            4250,
            6670.221237392844,
            3447,
            5700,
            2500,
            2313,
            6670.221237392844,
            4100,
            7791,
            4177,
            4333,
            5014,
            3651,
            4400,
            6670.221237392844,
            2417,
            7166,
            6200,
            5900,
            2727,
            8333,
            2818
           ],
           "xaxis": "x",
           "y": [
            0.273064839,
            0.334605113,
            0.919080919,
            0.649520928,
            11,
            0.19103111,
            0.273590801,
            0.574065934,
            0.457242905,
            0.12754898,
            0.409882891,
            2253,
            0.570649705,
            0.083029862,
            0.028934368,
            4640,
            0.182424594,
            0.453429223,
            0.413834466,
            0,
            566,
            0.775176786,
            0.319301848,
            0.335806606,
            0.411398246,
            0.370089731,
            0.005750274,
            0,
            240,
            0.575268817,
            0.444956049,
            0.207063377,
            0.74970344,
            0.187316716,
            0.255459563,
            1.138346932
           ],
           "yaxis": "y"
          }
         ],
         "name": "32"
        },
        {
         "data": [
          {
           "hovertemplate": "age=33<br>MonthlyIncome=%{x}<br>DebtRatio=%{y}<br>SeriousDlqin2yrs=%{marker.color}<extra></extra>",
           "legendgroup": "",
           "marker": {
            "color": [
             0,
             1,
             0,
             0,
             0,
             0,
             1,
             1,
             0,
             0,
             0,
             0,
             0,
             0,
             0,
             0,
             0,
             0,
             0,
             0,
             0,
             0,
             0,
             0,
             0,
             0,
             0,
             0,
             0,
             0,
             1
            ],
            "coloraxis": "coloraxis",
            "symbol": "circle"
           },
           "mode": "markers",
           "name": "",
           "orientation": "v",
           "showlegend": false,
           "type": "scatter",
           "x": [
            9094,
            7900,
            3750,
            6670.221237392844,
            8000,
            2400,
            4350,
            7500,
            6670.221237392844,
            2500,
            2513,
            5486,
            3500,
            12500,
            4000,
            4100,
            3000,
            5800,
            1732,
            4100,
            2447,
            400,
            10973,
            3066,
            6500,
            6333,
            3309,
            9000,
            1700,
            3460,
            2000
           ],
           "xaxis": "x",
           "y": [
            0.056074766,
            0.773572965,
            0.531591576,
            3115,
            0.130108736,
            0.300291545,
            0.10756148,
            0.419944007,
            445,
            0.43582567,
            0.352824185,
            0.2695462,
            0.158811768,
            0.307735381,
            0.356660835,
            0.018044379,
            0.329223592,
            0.034649198,
            0,
            0.055352353,
            1.032679739,
            0,
            0.178695098,
            0.061297685,
            0.130595293,
            0.376381434,
            0.165256798,
            0.409176758,
            0.203409759,
            0.106616585,
            0.935532234
           ],
           "yaxis": "y"
          }
         ],
         "name": "33"
        },
        {
         "data": [
          {
           "hovertemplate": "age=34<br>MonthlyIncome=%{x}<br>DebtRatio=%{y}<br>SeriousDlqin2yrs=%{marker.color}<extra></extra>",
           "legendgroup": "",
           "marker": {
            "color": [
             0,
             0,
             0,
             0,
             0,
             0,
             0,
             1,
             0,
             1,
             0,
             0,
             0,
             0,
             0,
             0,
             0,
             0,
             0,
             0,
             0,
             0,
             0,
             1,
             0,
             0,
             0,
             0,
             0,
             0,
             0
            ],
            "coloraxis": "coloraxis",
            "symbol": "circle"
           },
           "mode": "markers",
           "name": "",
           "orientation": "v",
           "showlegend": false,
           "type": "scatter",
           "x": [
            8500,
            5690,
            7083,
            3040,
            6670.221237392844,
            1600,
            2796,
            5066,
            2300,
            4621,
            7700,
            3492,
            7916,
            3916,
            10000,
            5400,
            6458,
            7000,
            5833,
            2291,
            5500,
            3800,
            3400,
            6670.221237392844,
            2710,
            5333,
            5000,
            6453,
            15000,
            2000,
            4710
           ],
           "xaxis": "x",
           "y": [
            0.295965181,
            0.288701458,
            0.570440429,
            0.160473528,
            887,
            0.943160525,
            0,
            0.282810341,
            0.364189483,
            0.568368672,
            0.179846773,
            0.497566562,
            0.379436655,
            0.335460812,
            0.252174783,
            0.234215886,
            0.267224028,
            0.214683617,
            0.273054508,
            0.004799302,
            0.062897655,
            0.736122073,
            1.107321376,
            173,
            0.017336776,
            0.066741657,
            0.112177564,
            0.022931515,
            0.304579695,
            0.070964518,
            0.224368499
           ],
           "yaxis": "y"
          }
         ],
         "name": "34"
        },
        {
         "data": [
          {
           "hovertemplate": "age=35<br>MonthlyIncome=%{x}<br>DebtRatio=%{y}<br>SeriousDlqin2yrs=%{marker.color}<extra></extra>",
           "legendgroup": "",
           "marker": {
            "color": [
             0,
             0,
             0,
             0,
             0,
             0,
             0,
             0,
             0,
             0,
             0,
             0,
             0,
             1,
             0,
             0,
             0,
             0,
             0,
             0,
             0,
             0,
             0
            ],
            "coloraxis": "coloraxis",
            "symbol": "circle"
           },
           "mode": "markers",
           "name": "",
           "orientation": "v",
           "showlegend": false,
           "type": "scatter",
           "x": [
            4516,
            5593,
            5680,
            0,
            8100,
            3200,
            2416,
            5600,
            8400,
            9000,
            6050,
            4500,
            8668,
            2900,
            7083,
            6334,
            4000,
            1,
            6666,
            5020,
            8625,
            2183,
            900
           ],
           "xaxis": "x",
           "y": [
            0.651538632,
            0.282445477,
            0.512761838,
            1783,
            0.26675719,
            0.17494533,
            0.098469177,
            0.892162114,
            0.111891441,
            0.313965115,
            0.471657577,
            0.37102866,
            0.884992502,
            0.273698725,
            0.401044608,
            0.38816101,
            0.195701075,
            3014,
            0.220038998,
            0.333798048,
            0.158822166,
            0.364468864,
            0.996670366
           ],
           "yaxis": "y"
          }
         ],
         "name": "35"
        },
        {
         "data": [
          {
           "hovertemplate": "age=36<br>MonthlyIncome=%{x}<br>DebtRatio=%{y}<br>SeriousDlqin2yrs=%{marker.color}<extra></extra>",
           "legendgroup": "",
           "marker": {
            "color": [
             0,
             0,
             0,
             0,
             0,
             0,
             0,
             0,
             0,
             0,
             0,
             0,
             0,
             0,
             0,
             1,
             1,
             0,
             0,
             1,
             0,
             0,
             0,
             0,
             0,
             0,
             0,
             1,
             0,
             0,
             1,
             0,
             1,
             1
            ],
            "coloraxis": "coloraxis",
            "symbol": "circle"
           },
           "mode": "markers",
           "name": "",
           "orientation": "v",
           "showlegend": false,
           "type": "scatter",
           "x": [
            2650,
            7650,
            9166,
            7855,
            4806,
            4750,
            10833,
            12084,
            10000,
            3362,
            8750,
            2516,
            8333,
            2800,
            10000,
            3243,
            6670.221237392844,
            3200,
            3200,
            3666,
            3776,
            5652,
            8789,
            4200,
            14000,
            3750,
            4680,
            3464,
            6670.221237392844,
            2000,
            29167,
            9000,
            3292,
            2468
           ],
           "xaxis": "x",
           "y": [
            0.397585817,
            0.260096719,
            0.277844442,
            0.153895112,
            0.367380903,
            0.091980636,
            0.387391545,
            0.413984278,
            0.223477652,
            0.145108534,
            0.306250714,
            0.723480334,
            0.338612911,
            0.063548733,
            0.267773223,
            0.443896424,
            3931,
            0.637300843,
            0.114339269,
            0.255794928,
            0.30394493,
            0.28091279,
            0.494311718,
            0.045465365,
            0.21491322,
            1.088509731,
            0.247596667,
            0.418759019,
            2124,
            1.069465267,
            0.197819528,
            0.328296856,
            0.777102946,
            0
           ],
           "yaxis": "y"
          }
         ],
         "name": "36"
        },
        {
         "data": [
          {
           "hovertemplate": "age=37<br>MonthlyIncome=%{x}<br>DebtRatio=%{y}<br>SeriousDlqin2yrs=%{marker.color}<extra></extra>",
           "legendgroup": "",
           "marker": {
            "color": [
             0,
             0,
             1,
             0,
             1,
             0,
             0,
             1,
             0,
             1,
             0,
             0,
             0,
             0,
             0,
             0,
             0,
             0,
             0,
             0,
             0,
             0,
             0,
             0,
             0,
             0
            ],
            "coloraxis": "coloraxis",
            "symbol": "circle"
           },
           "mode": "markers",
           "name": "",
           "orientation": "v",
           "showlegend": false,
           "type": "scatter",
           "x": [
            2500,
            6000,
            4360,
            8666,
            1877,
            4292,
            11200,
            5059,
            7166,
            2300,
            8666,
            6670.221237392844,
            7250,
            2500,
            6670.221237392844,
            9250,
            13333,
            6670.221237392844,
            9000,
            9166,
            5000,
            9750,
            13000,
            9012,
            4920,
            2860
           ],
           "xaxis": "x",
           "y": [
            0.460615754,
            0.344109315,
            1.752579684,
            1.225106727,
            0.190095847,
            0.315164221,
            0.39201857,
            0.235770751,
            0.544021208,
            1.075619296,
            0.262028384,
            0,
            0.209350434,
            0.109156337,
            4251,
            0.365149714,
            0.706764662,
            1175,
            0.343184091,
            0.125449984,
            0.352729454,
            0.358527331,
            0.060379971,
            0.269499612,
            0.177606178,
            0.833974135
           ],
           "yaxis": "y"
          }
         ],
         "name": "37"
        },
        {
         "data": [
          {
           "hovertemplate": "age=38<br>MonthlyIncome=%{x}<br>DebtRatio=%{y}<br>SeriousDlqin2yrs=%{marker.color}<extra></extra>",
           "legendgroup": "",
           "marker": {
            "color": [
             0,
             0,
             0,
             1,
             0,
             0,
             0,
             0,
             0,
             0,
             0,
             0,
             0,
             0,
             0,
             1,
             0,
             0,
             0,
             0,
             0,
             0,
             0,
             0,
             1,
             0
            ],
            "coloraxis": "coloraxis",
            "symbol": "circle"
           },
           "mode": "markers",
           "name": "",
           "orientation": "v",
           "showlegend": false,
           "type": "scatter",
           "x": [
            7800,
            14500,
            8160,
            2042,
            15000,
            3078,
            3196,
            5900,
            2152,
            10010,
            3000,
            6670.221237392844,
            5500,
            5203,
            5000,
            4600,
            4130,
            7916,
            2205,
            6100,
            5833,
            13000,
            14590,
            15000,
            1750,
            2166
           ],
           "xaxis": "x",
           "y": [
            0.174208435,
            0.208537342,
            0.050116407,
            0.463534019,
            0.030131325,
            0.408898993,
            0.586174539,
            0.369089985,
            0.621922898,
            0.494755769,
            0.483172276,
            1984,
            0.595346301,
            0.429669485,
            0.364527095,
            0.08411215,
            0.384168482,
            0.766073007,
            0.138259293,
            0.559744304,
            0.514226945,
            0.202753634,
            0.203618669,
            0.436170922,
            0.324957167,
            0.236271343
           ],
           "yaxis": "y"
          }
         ],
         "name": "38"
        },
        {
         "data": [
          {
           "hovertemplate": "age=39<br>MonthlyIncome=%{x}<br>DebtRatio=%{y}<br>SeriousDlqin2yrs=%{marker.color}<extra></extra>",
           "legendgroup": "",
           "marker": {
            "color": [
             0,
             0,
             0,
             0,
             1,
             0,
             0,
             0,
             0,
             0,
             0,
             0,
             0,
             0,
             0,
             0,
             0,
             0,
             0,
             0,
             0,
             0,
             0,
             0,
             0,
             0,
             0,
             0,
             0,
             0,
             0,
             0
            ],
            "coloraxis": "coloraxis",
            "symbol": "circle"
           },
           "mode": "markers",
           "name": "",
           "orientation": "v",
           "showlegend": false,
           "type": "scatter",
           "x": [
            6670.221237392844,
            5133,
            3640,
            8158,
            21350,
            10166,
            4230,
            4000,
            4600,
            8333,
            11000,
            7200,
            6000,
            8585,
            6670.221237392844,
            6200,
            11871,
            6670.221237392844,
            6240,
            6670.221237392844,
            5583,
            7600,
            2400,
            7460,
            5000,
            1200,
            5066,
            3207,
            6670.221237392844,
            9167,
            6000,
            10000
           ],
           "xaxis": "x",
           "y": [
            2010,
            0.524931827,
            0.568250481,
            1.189361441,
            0.000608871,
            0.339529851,
            0.036161664,
            0.015246188,
            0.515105412,
            0.270698344,
            0.170529952,
            0,
            0.083486086,
            0.327393431,
            223,
            0.230285438,
            0.186994609,
            3371,
            0.056561448,
            276,
            0.394340974,
            0.715169057,
            0.185339442,
            0.451145959,
            0.118176365,
            1.696086595,
            0.653443852,
            0.474438903,
            677,
            0.269524433,
            0.086152308,
            0.530146985
           ],
           "yaxis": "y"
          }
         ],
         "name": "39"
        },
        {
         "data": [
          {
           "hovertemplate": "age=40<br>MonthlyIncome=%{x}<br>DebtRatio=%{y}<br>SeriousDlqin2yrs=%{marker.color}<extra></extra>",
           "legendgroup": "",
           "marker": {
            "color": [
             0,
             0,
             0,
             0,
             0,
             0,
             0,
             0,
             0,
             0,
             0,
             0,
             0,
             0,
             0,
             0,
             0,
             0,
             0,
             0,
             0,
             0,
             0,
             0,
             0,
             0,
             0,
             0,
             0,
             0,
             0,
             0,
             0,
             0
            ],
            "coloraxis": "coloraxis",
            "symbol": "circle"
           },
           "mode": "markers",
           "name": "",
           "orientation": "v",
           "showlegend": false,
           "type": "scatter",
           "x": [
            8000,
            7500,
            3100,
            2500,
            5000,
            6250,
            13800,
            6670.221237392844,
            1081,
            8916,
            4919,
            3300,
            4000,
            5916,
            6666,
            7000,
            3699,
            4300,
            4200,
            6000,
            14382,
            6670.221237392844,
            6670.221237392844,
            6670.221237392844,
            4500,
            12000,
            21100,
            3333,
            7348,
            31706,
            6350,
            3700,
            3828,
            7500
           ],
           "xaxis": "x",
           "y": [
            0.143107112,
            0.173443541,
            0.664301838,
            0.638144742,
            0.195760848,
            0.316269397,
            0.950220998,
            372,
            0.004621072,
            0.448805652,
            0.103658537,
            0.020599818,
            0.420394901,
            0.428933581,
            0.330283486,
            0.375374946,
            0.575945946,
            0.127877238,
            0.161152107,
            0.264455924,
            0.300632691,
            3252,
            3384,
            2775,
            0.946456343,
            0.465377885,
            0.111606085,
            0.085782843,
            0.342223432,
            0.067934525,
            0.629034798,
            0.875709268,
            0.181248368,
            0.36795094
           ],
           "yaxis": "y"
          }
         ],
         "name": "40"
        },
        {
         "data": [
          {
           "hovertemplate": "age=41<br>MonthlyIncome=%{x}<br>DebtRatio=%{y}<br>SeriousDlqin2yrs=%{marker.color}<extra></extra>",
           "legendgroup": "",
           "marker": {
            "color": [
             0,
             0,
             0,
             0,
             0,
             0,
             0,
             0,
             0,
             0,
             0,
             0,
             1,
             1,
             0,
             0,
             0,
             0,
             0,
             0,
             0,
             0,
             0,
             0,
             1,
             0,
             0,
             0,
             0,
             0,
             0,
             0,
             0,
             0,
             0,
             0,
             0,
             0,
             0
            ],
            "coloraxis": "coloraxis",
            "symbol": "circle"
           },
           "mode": "markers",
           "name": "",
           "orientation": "v",
           "showlegend": false,
           "type": "scatter",
           "x": [
            9819,
            6700,
            2800,
            9739,
            350,
            6752,
            8300,
            8833,
            6670.221237392844,
            6670.221237392844,
            12170,
            3583,
            6900,
            2700,
            6670.221237392844,
            5000,
            5020,
            5200,
            1,
            400,
            8645,
            3585,
            6670.221237392844,
            8084,
            6670.221237392844,
            4250,
            6670.221237392844,
            6670.221237392844,
            2000,
            7400,
            7500,
            30000,
            4500,
            4166,
            5700,
            6996,
            3900,
            6670.221237392844,
            5892
           ],
           "xaxis": "x",
           "y": [
            0.160488798,
            0.148932995,
            0.353445198,
            0.174332649,
            4.082621083,
            0.214571302,
            0.373208047,
            0.596219153,
            1265,
            2704,
            0.330457645,
            0.036830357,
            2.639327634,
            0.221029248,
            1400,
            0.120775845,
            0.478988249,
            0.559700058,
            1783,
            1.117206983,
            0.292505205,
            0.192136085,
            6114,
            0.222510823,
            775,
            0.520112915,
            1255,
            203,
            1.247876062,
            0.200378327,
            0.34755366,
            0.262924569,
            0.549655632,
            0.327093832,
            0.177688125,
            0.215949693,
            0.366572674,
            0,
            0.159680977
           ],
           "yaxis": "y"
          }
         ],
         "name": "41"
        },
        {
         "data": [
          {
           "hovertemplate": "age=42<br>MonthlyIncome=%{x}<br>DebtRatio=%{y}<br>SeriousDlqin2yrs=%{marker.color}<extra></extra>",
           "legendgroup": "",
           "marker": {
            "color": [
             0,
             0,
             1,
             0,
             0,
             0,
             0,
             0,
             0,
             1,
             0,
             0,
             0,
             0,
             0,
             0,
             0,
             0,
             0,
             0,
             0,
             0,
             0,
             0,
             0,
             0,
             0,
             1,
             0,
             0,
             0,
             1
            ],
            "coloraxis": "coloraxis",
            "symbol": "circle"
           },
           "mode": "markers",
           "name": "",
           "orientation": "v",
           "showlegend": false,
           "type": "scatter",
           "x": [
            6670.221237392844,
            6670.221237392844,
            6670.221237392844,
            1855,
            2825,
            6000,
            2700,
            7833,
            10500,
            3000,
            4000,
            9233,
            4600,
            3000,
            10000,
            18233,
            6670.221237392844,
            3000,
            7000,
            0,
            5547,
            3250,
            11000,
            2400,
            6670.221237392844,
            5400,
            1500,
            7350,
            6670.221237392844,
            6670.221237392844,
            5416,
            6670.221237392844
           ],
           "xaxis": "x",
           "y": [
            1233,
            1278,
            679,
            0,
            0.334748762,
            0.117147142,
            0.407997038,
            0.371457748,
            0.454432911,
            0.363212263,
            0.429142714,
            0.29716266,
            0.356009563,
            0.413528824,
            0.179382062,
            0.488099155,
            1752,
            0.017327557,
            0.065847736,
            914,
            0.278658976,
            1.274377115,
            0.310244523,
            0.915868388,
            2436,
            0.106091465,
            0.608927382,
            0.39314379,
            2082,
            180,
            0.239616024,
            2059
           ],
           "yaxis": "y"
          }
         ],
         "name": "42"
        },
        {
         "data": [
          {
           "hovertemplate": "age=43<br>MonthlyIncome=%{x}<br>DebtRatio=%{y}<br>SeriousDlqin2yrs=%{marker.color}<extra></extra>",
           "legendgroup": "",
           "marker": {
            "color": [
             0,
             0,
             0,
             0,
             0,
             0,
             0,
             0,
             0,
             0,
             0,
             0,
             0,
             0,
             0,
             0,
             0,
             0,
             0,
             0,
             0,
             0,
             0,
             0,
             0,
             0,
             0,
             0,
             0,
             0,
             0,
             0,
             0,
             0,
             0,
             0,
             1,
             1,
             0,
             0,
             0,
             0,
             0,
             0,
             0
            ],
            "coloraxis": "coloraxis",
            "symbol": "circle"
           },
           "mode": "markers",
           "name": "",
           "orientation": "v",
           "showlegend": false,
           "type": "scatter",
           "x": [
            7400,
            1020,
            7464,
            18000,
            4433,
            2100,
            6670.221237392844,
            6670.221237392844,
            6375,
            2900,
            2100,
            17916,
            5500,
            16666,
            17667,
            15416,
            3644,
            12000,
            5400,
            10600,
            2800,
            2680,
            6670.221237392844,
            7400,
            7017,
            6512,
            6833,
            5938,
            2500,
            9166,
            4695,
            12032,
            5300,
            3000,
            6670.221237392844,
            6670.221237392844,
            6670.221237392844,
            14216,
            12400,
            7000,
            5500,
            5153,
            1984,
            6670.221237392844,
            5833
           ],
           "xaxis": "x",
           "y": [
            0.340629645,
            0.868756121,
            0.783657066,
            0.380534415,
            0.141858367,
            0.264159924,
            3200,
            3086,
            0.49749059,
            0.262323337,
            0.139457401,
            0.142713624,
            0.377931285,
            0.174956501,
            0.75684854,
            0.389115911,
            0.000274348,
            0.18531789,
            0.031845954,
            0.353079898,
            0.737950732,
            0.405445729,
            1745,
            0.559789218,
            0.000712454,
            0.483955167,
            0.108867428,
            0.472133356,
            1.317073171,
            0.605214356,
            0.809199319,
            0.258372808,
            0.279003962,
            1.129623459,
            730,
            2804,
            2936,
            0.642470282,
            0.178856544,
            1.743179546,
            0.296855117,
            0.213038417,
            0.572292191,
            2692,
            0.556222146
           ],
           "yaxis": "y"
          }
         ],
         "name": "43"
        },
        {
         "data": [
          {
           "hovertemplate": "age=44<br>MonthlyIncome=%{x}<br>DebtRatio=%{y}<br>SeriousDlqin2yrs=%{marker.color}<extra></extra>",
           "legendgroup": "",
           "marker": {
            "color": [
             0,
             0,
             0,
             0,
             1,
             0,
             0,
             0,
             0,
             0,
             0,
             0,
             0,
             0,
             0,
             0,
             0,
             0,
             0,
             0,
             0,
             1,
             0,
             1,
             0,
             0,
             0,
             0,
             0,
             0,
             0,
             0,
             0,
             0,
             0,
             0,
             0,
             0,
             0,
             0,
             0,
             0,
             0,
             0
            ],
            "coloraxis": "coloraxis",
            "symbol": "circle"
           },
           "mode": "markers",
           "name": "",
           "orientation": "v",
           "showlegend": false,
           "type": "scatter",
           "x": [
            7218,
            333,
            11600,
            5800,
            2000,
            5000,
            6670.221237392844,
            2800,
            6670.221237392844,
            13157,
            0,
            11000,
            6670.221237392844,
            6400,
            3428,
            5154,
            9299,
            3462,
            4715,
            9166,
            11833,
            2300,
            5890,
            3612,
            5000,
            3900,
            3283,
            9878,
            7500,
            4200,
            4000,
            2000,
            5439,
            6968,
            6670.221237392844,
            2307,
            4083,
            9000,
            7500,
            1400,
            7400,
            2616,
            4079,
            2543
           ],
           "xaxis": "x",
           "y": [
            0.326360992,
            4.389221557,
            0.092578226,
            0.42802965,
            0.55922039,
            0.036192761,
            69,
            0.634773295,
            23,
            0.439048488,
            549,
            0.110262703,
            2044,
            0.149664115,
            0.781860601,
            0.463821532,
            0.159784946,
            0.76494369,
            0.150975403,
            0.71244682,
            0.315531519,
            0.26510213,
            0.531997963,
            0,
            0.554289142,
            0.426044604,
            0,
            0.211964774,
            0.55792561,
            0.4901214,
            0.448137966,
            0.20089955,
            0.010661765,
            0.341081934,
            433,
            0.945840555,
            0.00367287,
            0.769914454,
            0.531395814,
            2.407566024,
            0.364680449,
            0.421857088,
            0.639705882,
            0.661949686
           ],
           "yaxis": "y"
          }
         ],
         "name": "44"
        },
        {
         "data": [
          {
           "hovertemplate": "age=45<br>MonthlyIncome=%{x}<br>DebtRatio=%{y}<br>SeriousDlqin2yrs=%{marker.color}<extra></extra>",
           "legendgroup": "",
           "marker": {
            "color": [
             1,
             0,
             0,
             0,
             1,
             0,
             0,
             0,
             0,
             0,
             0,
             0,
             0,
             0,
             0,
             0,
             1,
             0,
             0,
             0,
             0,
             0,
             0,
             0,
             1,
             0,
             0,
             0,
             0,
             0,
             0,
             0,
             0,
             1,
             0,
             0,
             0,
             0,
             0,
             0,
             0,
             0,
             1,
             0,
             0,
             0,
             0
            ],
            "coloraxis": "coloraxis",
            "symbol": "circle"
           },
           "mode": "markers",
           "name": "",
           "orientation": "v",
           "showlegend": false,
           "type": "scatter",
           "x": [
            12700,
            8200,
            6670.221237392844,
            2919,
            12000,
            7100,
            4112,
            4999,
            3000,
            6670.221237392844,
            1805,
            6000,
            6670.221237392844,
            15500,
            7927,
            6670.221237392844,
            15000,
            6670.221237392844,
            5000,
            9316,
            16666,
            4167,
            6670.221237392844,
            6312,
            8320,
            0,
            0,
            7000,
            4700,
            6815,
            4350,
            7574,
            6670.221237392844,
            5095,
            21000,
            7000,
            6670.221237392844,
            7700,
            6650,
            6160,
            4500,
            1500,
            6670.221237392844,
            4695,
            9333,
            3750,
            11250
           ],
           "xaxis": "x",
           "y": [
            0.501614046,
            0.312888672,
            1172,
            0.330479452,
            0.259561703,
            0.282213773,
            0.54680282,
            0.0434,
            0.126291236,
            3429,
            0,
            0.530744876,
            4249,
            0.068834269,
            0.362386478,
            863,
            0.294380375,
            591,
            0.404719056,
            0.561339487,
            0.464870703,
            1.070777351,
            261,
            0.185965468,
            0.426030525,
            2243,
            1834,
            0.357948864,
            0.255902999,
            0.415639671,
            0.28338313,
            0.365016502,
            2488,
            0.568288854,
            0.07556783,
            0.4965005,
            1635,
            0.325152578,
            0.265373628,
            0.12984905,
            0.520773162,
            1.832111925,
            807,
            0.109241908,
            0.006320977,
            0.024793388,
            0.102390899
           ],
           "yaxis": "y"
          }
         ],
         "name": "45"
        },
        {
         "data": [
          {
           "hovertemplate": "age=46<br>MonthlyIncome=%{x}<br>DebtRatio=%{y}<br>SeriousDlqin2yrs=%{marker.color}<extra></extra>",
           "legendgroup": "",
           "marker": {
            "color": [
             0,
             0,
             0,
             0,
             0,
             0,
             0,
             0,
             0,
             1,
             0,
             0,
             0,
             0,
             0,
             0,
             0,
             0,
             0,
             0,
             0,
             0,
             0,
             0,
             0,
             0,
             0,
             0,
             1,
             1,
             0,
             0,
             0,
             0,
             1,
             0,
             0,
             0,
             0,
             0,
             0,
             0,
             0,
             0,
             0,
             0,
             0,
             1,
             0,
             0,
             0,
             0,
             0
            ],
            "coloraxis": "coloraxis",
            "symbol": "circle"
           },
           "mode": "markers",
           "name": "",
           "orientation": "v",
           "showlegend": false,
           "type": "scatter",
           "x": [
            1800,
            4584,
            7350,
            11000,
            5500,
            3833,
            4040,
            6183,
            6670.221237392844,
            6670.221237392844,
            8600,
            7916,
            6670.221237392844,
            6670.221237392844,
            6670.221237392844,
            8000,
            4254,
            9800,
            15000,
            5000,
            6670.221237392844,
            3591,
            6500,
            9064,
            6670.221237392844,
            3000,
            6277,
            3749,
            4500,
            8250,
            7416,
            11296,
            6670.221237392844,
            6670.221237392844,
            6166,
            2000,
            5000,
            9583,
            7366,
            4000,
            16666,
            7244,
            4098,
            3403,
            11583,
            6000,
            1000,
            1850,
            12850,
            2750,
            8200,
            4200,
            14999
           ],
           "xaxis": "x",
           "y": [
            0.464186563,
            0.412431843,
            0.357230309,
            0.425415871,
            1.082348664,
            0.465310381,
            1.243751547,
            0.115135834,
            278,
            3989,
            0.623415882,
            0.361374258,
            612,
            28,
            1728,
            0.455568054,
            0.247943596,
            0.119171513,
            0.278181455,
            0.617476505,
            1208,
            0.239420935,
            0.325642209,
            0.437948152,
            3114,
            1.554815062,
            0.495539981,
            0.013066667,
            0.020217729,
            0.763543813,
            0.374275313,
            0.233159246,
            239,
            144,
            0.546132641,
            1.604697651,
            0.262747451,
            0.115922371,
            0.158680603,
            0.266933267,
            0.095698086,
            0.285438233,
            0.950719688,
            0.322855464,
            0.540055249,
            0.435927345,
            3.759240759,
            0.042679633,
            0.374990273,
            0.133769538,
            0.482502134,
            0.104022852,
            0.643
           ],
           "yaxis": "y"
          }
         ],
         "name": "46"
        },
        {
         "data": [
          {
           "hovertemplate": "age=47<br>MonthlyIncome=%{x}<br>DebtRatio=%{y}<br>SeriousDlqin2yrs=%{marker.color}<extra></extra>",
           "legendgroup": "",
           "marker": {
            "color": [
             1,
             0,
             0,
             0,
             0,
             0,
             0,
             0,
             0,
             0,
             0,
             0,
             0,
             0,
             0,
             0,
             1,
             0,
             0,
             0,
             0,
             0,
             0,
             0,
             1,
             0,
             0,
             0,
             0,
             1,
             0,
             0,
             0,
             0,
             0,
             0,
             0,
             0,
             0,
             0,
             0,
             0,
             0
            ],
            "coloraxis": "coloraxis",
            "symbol": "circle"
           },
           "mode": "markers",
           "name": "",
           "orientation": "v",
           "showlegend": false,
           "type": "scatter",
           "x": [
            2500,
            2381,
            7000,
            6015,
            11107,
            5556,
            5855,
            3500,
            18018,
            7954,
            8600,
            6670.221237392844,
            4800,
            7834,
            7800,
            6670.221237392844,
            5863,
            2256,
            4850,
            18000,
            10300,
            6670.221237392844,
            30000,
            35000,
            25000,
            6670.221237392844,
            4291,
            0,
            7174,
            2735,
            3667,
            15900,
            75000,
            7916,
            8745,
            6670.221237392844,
            10200,
            6670.221237392844,
            5704,
            5640,
            10400,
            2000,
            15416
           ],
           "xaxis": "x",
           "y": [
            0.078368653,
            0.607892527,
            1.455077846,
            0.503490691,
            0.221371984,
            0.318517186,
            0.000170765,
            0.368466153,
            0.203451912,
            0.178252671,
            0.252993838,
            3221,
            0.44844824,
            0.575494576,
            0.380592232,
            171,
            0.065313779,
            0.010190518,
            0.36404865,
            0.251319371,
            0.647412873,
            2282,
            0.001433286,
            0.072255078,
            0.03975841,
            2387,
            0.646085741,
            1647,
            0.315679443,
            0.793859649,
            0.235823337,
            0.189044714,
            0.032106239,
            0.242263484,
            0.231077064,
            0,
            0.256445447,
            3152,
            0.509027169,
            0.608934586,
            0.391885396,
            0.056471764,
            0.186936499
           ],
           "yaxis": "y"
          }
         ],
         "name": "47"
        },
        {
         "data": [
          {
           "hovertemplate": "age=48<br>MonthlyIncome=%{x}<br>DebtRatio=%{y}<br>SeriousDlqin2yrs=%{marker.color}<extra></extra>",
           "legendgroup": "",
           "marker": {
            "color": [
             0,
             0,
             0,
             0,
             0,
             0,
             0,
             0,
             0,
             0,
             0,
             0,
             1,
             0,
             1,
             0,
             0,
             0,
             0,
             0,
             0,
             0,
             0,
             1,
             0,
             0,
             0,
             0,
             0,
             0,
             0,
             0,
             0,
             1,
             0,
             0,
             0,
             1,
             1,
             0,
             0,
             0,
             0,
             0,
             0,
             0,
             0,
             0,
             0,
             0
            ],
            "coloraxis": "coloraxis",
            "symbol": "circle"
           },
           "mode": "markers",
           "name": "",
           "orientation": "v",
           "showlegend": false,
           "type": "scatter",
           "x": [
            5888,
            4000,
            5000,
            16450,
            6670.221237392844,
            6300,
            6962,
            2932,
            6670.221237392844,
            4900,
            3048,
            6670.221237392844,
            5899,
            6096,
            9500,
            4628,
            6250,
            1,
            6000,
            5003,
            4000,
            9600,
            2600,
            4200,
            7860,
            7500,
            3733,
            8133,
            6000,
            2931,
            2302,
            3000,
            3188,
            2083,
            5300,
            6400,
            5510,
            12600,
            11200,
            6670.221237392844,
            4000,
            7875,
            6670.221237392844,
            5642,
            2100,
            6670.221237392844,
            7750,
            6670.221237392844,
            6670.221237392844,
            9000
           ],
           "xaxis": "x",
           "y": [
            0.234844626,
            0.292426893,
            0.291141772,
            0.361011489,
            2283,
            0.224408824,
            0.238402987,
            0.892260484,
            2633,
            0.634768415,
            1.187930469,
            543,
            0.243559322,
            0.574872888,
            0.804020629,
            0.459710521,
            0.48856183,
            1326.5,
            0.876353941,
            0.382494005,
            0.358910272,
            0.729923966,
            0.281430219,
            0.511306832,
            0.371581224,
            0.595253966,
            0.472683449,
            0.322596508,
            0.445259123,
            0.922578445,
            0.468953539,
            0.370876375,
            0.58607714,
            0.407869482,
            0.414450104,
            0.190907671,
            0.034476502,
            0.423934608,
            0.189358093,
            280,
            0.050987253,
            0.409090909,
            1338,
            0.355661882,
            1.12184674,
            1538,
            0.268610502,
            2452,
            2130,
            0.001222086
           ],
           "yaxis": "y"
          }
         ],
         "name": "48"
        },
        {
         "data": [
          {
           "hovertemplate": "age=49<br>MonthlyIncome=%{x}<br>DebtRatio=%{y}<br>SeriousDlqin2yrs=%{marker.color}<extra></extra>",
           "legendgroup": "",
           "marker": {
            "color": [
             0,
             0,
             1,
             0,
             0,
             0,
             0,
             0,
             0,
             0,
             0,
             0,
             0,
             0,
             0,
             0,
             0,
             0,
             0,
             0,
             0,
             0,
             0,
             0,
             0,
             0,
             0,
             0,
             0,
             0,
             0,
             0,
             0,
             0,
             0,
             0,
             0,
             0,
             0,
             0,
             0,
             0,
             0,
             0,
             0,
             0,
             0,
             0,
             1,
             0,
             0,
             0,
             0,
             0
            ],
            "coloraxis": "coloraxis",
            "symbol": "circle"
           },
           "mode": "markers",
           "name": "",
           "orientation": "v",
           "showlegend": false,
           "type": "scatter",
           "x": [
            6151,
            12000,
            3775,
            2800,
            6670.221237392844,
            3500,
            14832,
            16600,
            5574,
            9167,
            6710,
            6670.221237392844,
            6670.221237392844,
            10998,
            8630,
            4000,
            9400,
            16735,
            8000,
            6907,
            12750,
            9500,
            10700,
            3402,
            9195,
            6670.221237392844,
            9583,
            6670.221237392844,
            2700,
            9000,
            13375,
            9500,
            6670.221237392844,
            6670.221237392844,
            10000,
            2916,
            17500,
            4000,
            2500,
            4766,
            3520,
            5146,
            13000,
            8800,
            6000,
            6670.221237392844,
            3957,
            25000,
            3883,
            3400,
            8140,
            9583,
            6940,
            4489
           ],
           "xaxis": "x",
           "y": [
            0.581274382,
            0.311307391,
            0.671610169,
            0.394501964,
            4630,
            0.627249357,
            0.207105778,
            0.191855912,
            0.098654709,
            0.483856894,
            0.258977798,
            913,
            1989,
            0.271751977,
            0.29984938,
            0.864533867,
            0.358153388,
            0.671725621,
            0.778152731,
            0.12029531,
            0.21072857,
            0.471950321,
            0.115690122,
            0.585071995,
            0.049804263,
            2678,
            0.306239566,
            498,
            0.613846723,
            0.401399844,
            0.278857656,
            0.041995579,
            1685,
            4058,
            0.356264374,
            0.483716147,
            0.259585167,
            0.264933767,
            0.396241503,
            0.254877281,
            0.796080659,
            0.299009132,
            0.25405738,
            0.433473469,
            1.242126312,
            3759,
            0.020212228,
            0.085076597,
            0.3123069,
            0.653925316,
            0.62142243,
            0.322621035,
            0.331364357,
            0.224721604
           ],
           "yaxis": "y"
          }
         ],
         "name": "49"
        },
        {
         "data": [
          {
           "hovertemplate": "age=50<br>MonthlyIncome=%{x}<br>DebtRatio=%{y}<br>SeriousDlqin2yrs=%{marker.color}<extra></extra>",
           "legendgroup": "",
           "marker": {
            "color": [
             0,
             0,
             0,
             0,
             1,
             0,
             0,
             1,
             0,
             0,
             0,
             0,
             0,
             0,
             0,
             0,
             0,
             0,
             0,
             0,
             0,
             0,
             1,
             0,
             0,
             0,
             0,
             0,
             0,
             0,
             0,
             0,
             0,
             0,
             0,
             0,
             0,
             0,
             0,
             0,
             0,
             0,
             0,
             0,
             0,
             0,
             0,
             0,
             0,
             0
            ],
            "coloraxis": "coloraxis",
            "symbol": "circle"
           },
           "mode": "markers",
           "name": "",
           "orientation": "v",
           "showlegend": false,
           "type": "scatter",
           "x": [
            8167,
            8721,
            8200,
            4166,
            6670.221237392844,
            7300,
            11250,
            600,
            19450,
            10166,
            8967,
            12625,
            6670.221237392844,
            25083,
            11400,
            5000,
            7000,
            5100,
            12633,
            3334,
            6613,
            6450,
            10666,
            7175,
            3721,
            7442,
            6670.221237392844,
            9480,
            5416,
            9500,
            6670.221237392844,
            6670.221237392844,
            6670.221237392844,
            5100,
            6197,
            6670.221237392844,
            4584,
            6000,
            16000,
            6670.221237392844,
            4465,
            6670.221237392844,
            17069,
            6670.221237392844,
            3162,
            8630,
            6625,
            4200,
            30000,
            12500
           ],
           "xaxis": "x",
           "y": [
            6.113124388,
            0.46652144,
            0.081209609,
            0.574994,
            2448,
            0.364196685,
            0.740378633,
            0.083194676,
            0.309752712,
            0.164650339,
            0.359834969,
            0.108506257,
            5317,
            0.258969861,
            0.3953162,
            0.734053189,
            0.5244965,
            0.573416977,
            0.331803071,
            0.243178411,
            0.241911098,
            0.607812742,
            0.509046592,
            0.265328874,
            0.097796883,
            0.004299342,
            1002,
            0.526526738,
            0.583902529,
            0.530891485,
            1250,
            17,
            2697,
            0.468731621,
            0.369635366,
            411,
            0.444274809,
            0.579903349,
            0.49184426,
            2712,
            0.183609494,
            5108,
            0.233801992,
            1175,
            0.611760986,
            0.11342834,
            0.466948385,
            0.278267079,
            0.180760641,
            0.294936405
           ],
           "yaxis": "y"
          }
         ],
         "name": "50"
        },
        {
         "data": [
          {
           "hovertemplate": "age=51<br>MonthlyIncome=%{x}<br>DebtRatio=%{y}<br>SeriousDlqin2yrs=%{marker.color}<extra></extra>",
           "legendgroup": "",
           "marker": {
            "color": [
             0,
             1,
             0,
             0,
             0,
             0,
             0,
             0,
             0,
             0,
             0,
             0,
             0,
             0,
             0,
             0,
             0,
             0,
             0,
             0,
             0,
             0,
             0,
             0,
             0,
             0,
             0,
             0,
             0,
             0,
             1,
             0,
             0,
             1,
             0,
             0,
             0,
             0,
             0,
             0,
             0,
             0,
             0,
             1,
             0,
             0,
             0,
             0,
             0,
             0,
             0,
             0,
             0,
             0,
             0,
             0,
             0,
             0,
             0,
             0
            ],
            "coloraxis": "coloraxis",
            "symbol": "circle"
           },
           "mode": "markers",
           "name": "",
           "orientation": "v",
           "showlegend": false,
           "type": "scatter",
           "x": [
            9400,
            2940,
            10416,
            6670.221237392844,
            7600,
            4417,
            6746,
            4635,
            8333,
            13225,
            5640,
            6670.221237392844,
            6670.221237392844,
            15483,
            7923,
            6112,
            3090,
            4000,
            15000,
            2600,
            9250,
            1,
            9192,
            12707,
            5476,
            19583,
            6000,
            4855,
            13200,
            6700,
            2200,
            4000,
            5600,
            3689,
            5500,
            1382,
            7509,
            2500,
            1,
            6670.221237392844,
            3500,
            5531,
            4690,
            6670.221237392844,
            5835,
            21666,
            13063,
            6670.221237392844,
            5200,
            6200,
            61000,
            9128,
            6670.221237392844,
            8733,
            8335,
            9000,
            16000,
            4800,
            7500,
            5500
           ],
           "xaxis": "x",
           "y": [
            0.219657483,
            0.693641618,
            0.172410483,
            583,
            0.11577424,
            0.312811227,
            0.373943975,
            0.335849871,
            0.06587473,
            0.159685468,
            0.275128523,
            1260,
            1926,
            0.018599845,
            0.214033317,
            0.330279732,
            0.293756066,
            0.138715321,
            8.718818745,
            0.081507113,
            0.202032213,
            49,
            0.687479604,
            0.089471199,
            0.414825634,
            0.306576797,
            0.219463423,
            0.087314662,
            0.325278388,
            0.000298463,
            1.110858701,
            0.243939015,
            0.401356901,
            0.943902439,
            0.370841665,
            1.688358641,
            0.524766977,
            0.367852859,
            1066,
            725,
            0.821193945,
            0.357556038,
            0.772756342,
            2011,
            0.376285127,
            0.340933216,
            0.099816289,
            734,
            0.222841761,
            0.337848734,
            0.035261717,
            0.377806989,
            3977,
            0.294595832,
            0.316698656,
            0.408287968,
            0.181613649,
            0.388460737,
            0.233435542,
            0.215415379
           ],
           "yaxis": "y"
          }
         ],
         "name": "51"
        },
        {
         "data": [
          {
           "hovertemplate": "age=52<br>MonthlyIncome=%{x}<br>DebtRatio=%{y}<br>SeriousDlqin2yrs=%{marker.color}<extra></extra>",
           "legendgroup": "",
           "marker": {
            "color": [
             0,
             0,
             0,
             0,
             1,
             0,
             0,
             0,
             0,
             0,
             0,
             0,
             0,
             0,
             0,
             0,
             0,
             0,
             0,
             0,
             0,
             0,
             0,
             0,
             0,
             0,
             0,
             0,
             0,
             0,
             0,
             0,
             0,
             0,
             0,
             0,
             0,
             1,
             0,
             0,
             0,
             1,
             0,
             0,
             0,
             0,
             1,
             0,
             0,
             1,
             0,
             0,
             0
            ],
            "coloraxis": "coloraxis",
            "symbol": "circle"
           },
           "mode": "markers",
           "name": "",
           "orientation": "v",
           "showlegend": false,
           "type": "scatter",
           "x": [
            6670.221237392844,
            5000,
            9000,
            10350,
            1345,
            6670.221237392844,
            2600,
            6670.221237392844,
            6670.221237392844,
            6166,
            19600,
            8163,
            6253,
            9030,
            13227,
            5600,
            8799,
            6600,
            6670.221237392844,
            6958,
            10700,
            6670.221237392844,
            6670.221237392844,
            5100,
            6670.221237392844,
            4250,
            5715,
            10264,
            7583,
            6670.221237392844,
            3298,
            3796,
            5500,
            6647,
            10958,
            1583,
            6670.221237392844,
            5000,
            14200,
            6670.221237392844,
            6670.221237392844,
            3878,
            2500,
            5166,
            6670.221237392844,
            12725,
            25650,
            6670.221237392844,
            6340,
            4000,
            6670.221237392844,
            5290,
            650
           ],
           "xaxis": "x",
           "y": [
            1036,
            0.312737453,
            0.271303189,
            0.360158439,
            0.893759287,
            4895,
            0.058054594,
            122,
            1997,
            0.336468299,
            0.354828835,
            0.273272905,
            0.41301567,
            0.522865685,
            0.296719081,
            0.466523835,
            0.461136364,
            0.99727314,
            1262,
            0.361833597,
            0.155499486,
            4815,
            3178,
            0.413644383,
            2058,
            0.227475888,
            0.508922323,
            0.254262056,
            0.197916667,
            576,
            0.325250076,
            0.587305768,
            0.23032176,
            0.246690734,
            0.237339173,
            0.683712121,
            61,
            0.559488102,
            0.456939652,
            519,
            1235,
            0.378448054,
            0.004398241,
            0.510354171,
            1978,
            0.081329562,
            0.211804608,
            22,
            0.647847343,
            0.206448388,
            63,
            0.513702514,
            0.228878648
           ],
           "yaxis": "y"
          }
         ],
         "name": "52"
        },
        {
         "data": [
          {
           "hovertemplate": "age=53<br>MonthlyIncome=%{x}<br>DebtRatio=%{y}<br>SeriousDlqin2yrs=%{marker.color}<extra></extra>",
           "legendgroup": "",
           "marker": {
            "color": [
             0,
             0,
             0,
             0,
             0,
             0,
             0,
             0,
             0,
             0,
             0,
             0,
             0,
             0,
             0,
             0,
             0,
             0,
             1,
             0,
             0,
             0,
             1,
             0,
             0,
             0,
             0,
             0,
             0,
             0,
             0,
             0,
             0,
             0,
             0,
             0,
             0,
             0,
             0,
             0,
             0,
             0,
             0,
             0,
             0,
             0,
             1,
             0,
             0,
             0
            ],
            "coloraxis": "coloraxis",
            "symbol": "circle"
           },
           "mode": "markers",
           "name": "",
           "orientation": "v",
           "showlegend": false,
           "type": "scatter",
           "x": [
            3500,
            15670,
            4333,
            10666,
            5985,
            4333,
            8166,
            15000,
            5795,
            3333,
            9400,
            5700,
            10000,
            6670.221237392844,
            7816,
            3201,
            9500,
            9300,
            6670.221237392844,
            11233,
            6816,
            3800,
            6670.221237392844,
            4750,
            1500,
            7511,
            6670.221237392844,
            2000,
            5000,
            4688,
            8923,
            2740,
            6670.221237392844,
            17033,
            5973,
            9000,
            3900,
            2937,
            7450,
            2750,
            6454,
            1700,
            7180,
            2251,
            6670.221237392844,
            6670.221237392844,
            11819,
            3397,
            6670.221237392844,
            6670.221237392844
           ],
           "xaxis": "x",
           "y": [
            0.020851185,
            0.131963499,
            0.205122289,
            0.268210368,
            0.676411627,
            0.384863867,
            0.676380556,
            0.158856076,
            1.271911663,
            0.444511098,
            0.228167216,
            0.015786704,
            0.00379962,
            3093,
            0.381220417,
            0.196439725,
            0.497105568,
            0.341361144,
            1346,
            0.036585366,
            0.019363356,
            0.102341489,
            758,
            0.059987371,
            0.597601599,
            0.323349308,
            2986,
            3.380309845,
            0.411917616,
            0.453401578,
            0.215822501,
            0.302809194,
            1362,
            0.26171187,
            0.013726147,
            0.178757916,
            0.458344014,
            0.059564329,
            0.220909945,
            0.784078517,
            0.316653757,
            1.340975897,
            0.36262359,
            0.026198934,
            6867,
            4740,
            0.354822335,
            0.43407887,
            1300,
            2303
           ],
           "yaxis": "y"
          }
         ],
         "name": "53"
        },
        {
         "data": [
          {
           "hovertemplate": "age=54<br>MonthlyIncome=%{x}<br>DebtRatio=%{y}<br>SeriousDlqin2yrs=%{marker.color}<extra></extra>",
           "legendgroup": "",
           "marker": {
            "color": [
             0,
             0,
             0,
             0,
             0,
             0,
             0,
             0,
             0,
             0,
             0,
             0,
             0,
             0,
             0,
             0,
             0,
             0,
             0,
             0,
             0,
             0,
             0,
             0,
             0,
             0,
             0,
             0,
             0,
             0,
             0,
             0,
             0,
             0,
             0,
             0,
             0,
             0,
             0,
             0,
             0,
             1,
             0,
             0,
             0,
             0
            ],
            "coloraxis": "coloraxis",
            "symbol": "circle"
           },
           "mode": "markers",
           "name": "",
           "orientation": "v",
           "showlegend": false,
           "type": "scatter",
           "x": [
            3711,
            6670.221237392844,
            6670.221237392844,
            6670.221237392844,
            4083,
            18141,
            10864,
            9102,
            6670.221237392844,
            6670.221237392844,
            6670.221237392844,
            7650,
            2459,
            13720,
            3750,
            6670.221237392844,
            7960,
            6670.221237392844,
            8583,
            9166,
            11291,
            7500,
            4366,
            10839,
            6670.221237392844,
            4583,
            5114,
            3000,
            2700,
            6520,
            6670.221237392844,
            6000,
            3100,
            5001,
            400,
            6670.221237392844,
            6670.221237392844,
            6670.221237392844,
            5417,
            6670.221237392844,
            6666,
            6670.221237392844,
            12000,
            6670.221237392844,
            2500,
            6230
           ],
           "xaxis": "x",
           "y": [
            0.121497845,
            1118,
            2681,
            1618,
            0.189520078,
            0.557711388,
            0.350575242,
            0.321981764,
            1666,
            1552,
            1273,
            0.550254869,
            0.206504065,
            0.375628598,
            0.45721141,
            2899,
            0.684336139,
            3173,
            0.269105312,
            0.250899967,
            0.704658165,
            0.93907479,
            0.141057935,
            0.359870849,
            3182,
            0.089005236,
            0.530791789,
            0.334888371,
            0.449833395,
            0.50329704,
            2210,
            0.766038994,
            0.182844244,
            0.767293083,
            1.289276808,
            2452,
            814,
            2218,
            0.356035437,
            3119,
            0.598320084,
            413,
            0.243146404,
            2650,
            1.674530188,
            0.186647408
           ],
           "yaxis": "y"
          }
         ],
         "name": "54"
        },
        {
         "data": [
          {
           "hovertemplate": "age=55<br>MonthlyIncome=%{x}<br>DebtRatio=%{y}<br>SeriousDlqin2yrs=%{marker.color}<extra></extra>",
           "legendgroup": "",
           "marker": {
            "color": [
             0,
             0,
             0,
             0,
             0,
             1,
             0,
             0,
             0,
             0,
             0,
             0,
             0,
             0,
             0,
             0,
             0,
             0,
             0,
             0,
             0,
             0,
             0,
             0,
             0,
             0,
             0,
             0,
             0,
             0,
             0,
             1,
             0,
             0,
             0,
             0,
             0,
             0,
             0,
             0,
             0,
             0,
             0,
             0,
             0,
             0,
             0,
             0
            ],
            "coloraxis": "coloraxis",
            "symbol": "circle"
           },
           "mode": "markers",
           "name": "",
           "orientation": "v",
           "showlegend": false,
           "type": "scatter",
           "x": [
            10879,
            9450,
            6670.221237392844,
            4458,
            2900,
            4500,
            0,
            6670.221237392844,
            6670.221237392844,
            1,
            18333,
            7027,
            9600,
            5000,
            41666,
            10650,
            3700,
            750,
            3600,
            10583,
            10116,
            2816,
            2000,
            6200,
            6497,
            6159,
            15250,
            6650,
            11350,
            6833,
            6113,
            8500,
            10416,
            2000,
            5666,
            7500,
            2000,
            6670.221237392844,
            4000,
            6670.221237392844,
            6670.221237392844,
            2600,
            6670.221237392844,
            6750,
            7500,
            5417,
            5000,
            2455
           ],
           "xaxis": "x",
           "y": [
            0.293290441,
            0.112051635,
            3100,
            0.785602153,
            0.553602206,
            0.796489669,
            2407,
            1845,
            1775,
            1428,
            0.333369696,
            0.380478088,
            0.313821477,
            0.25694861,
            0.07629539,
            0.001220543,
            0.254796001,
            0,
            0.419605665,
            0.427343159,
            0.845507562,
            0.360667377,
            1.732633683,
            0.208030963,
            0.608187135,
            0.174350649,
            0.386532031,
            0.203277703,
            0.474495639,
            0.299531753,
            0.269708865,
            0.586872133,
            0.276951138,
            0.306346827,
            0.175754367,
            0.312491668,
            0.937031484,
            2982,
            0.493376656,
            216,
            2017,
            0.189926951,
            3596,
            0.339357132,
            0.281029196,
            0.681616833,
            0.477704459,
            0.048859935
           ],
           "yaxis": "y"
          }
         ],
         "name": "55"
        },
        {
         "data": [
          {
           "hovertemplate": "age=56<br>MonthlyIncome=%{x}<br>DebtRatio=%{y}<br>SeriousDlqin2yrs=%{marker.color}<extra></extra>",
           "legendgroup": "",
           "marker": {
            "color": [
             0,
             0,
             0,
             0,
             0,
             0,
             0,
             0,
             0,
             0,
             0,
             0,
             0,
             1,
             0,
             0,
             0,
             0,
             0,
             0,
             0,
             1,
             0,
             0,
             0,
             0,
             0,
             0,
             0,
             0,
             0,
             1,
             0,
             0,
             0,
             0,
             0,
             0,
             0,
             0,
             0,
             0,
             0,
             0,
             0,
             0,
             0,
             0,
             0
            ],
            "coloraxis": "coloraxis",
            "symbol": "circle"
           },
           "mode": "markers",
           "name": "",
           "orientation": "v",
           "showlegend": false,
           "type": "scatter",
           "x": [
            6000,
            13090,
            17000,
            2350,
            6436,
            2500,
            8900,
            18383,
            5900,
            2841,
            4200,
            7000,
            6279,
            15000,
            5000,
            10000,
            7850,
            5749,
            4991,
            2500,
            11600,
            4733,
            6670.221237392844,
            10500,
            6670.221237392844,
            8500,
            9740,
            4000,
            7569,
            5500,
            3200,
            8384,
            4166,
            6670.221237392844,
            21330,
            6250,
            34700,
            5450,
            9333,
            4000,
            20000,
            11050,
            4041,
            2700,
            11116,
            5833,
            6000,
            11462,
            2826
           ],
           "xaxis": "x",
           "y": [
            0.325112481,
            0.161408601,
            0.231339333,
            0.729476818,
            0.428771167,
            0.009996002,
            0.245140995,
            0.335291558,
            0.214878834,
            0.025334272,
            0.206141395,
            0.275246393,
            0.615127389,
            0.359176055,
            0.133773245,
            0.419258074,
            0.498662591,
            0.208,
            0.241987179,
            0.547381048,
            0.160848203,
            0.381073088,
            3184,
            0.234930007,
            4393,
            0.581108105,
            0.144030387,
            0.43764059,
            0.345706737,
            0.304853663,
            0.004061231,
            0.030292188,
            1.070794336,
            2093,
            0.096807463,
            0.135178371,
            0.427682199,
            0.550357733,
            0.384186844,
            0.187203199,
            0.319834008,
            0.282960818,
            0.416378031,
            1.065901518,
            0.091841324,
            0.404696606,
            0.067488752,
            0.550030533,
            0.409975239
           ],
           "yaxis": "y"
          }
         ],
         "name": "56"
        },
        {
         "data": [
          {
           "hovertemplate": "age=57<br>MonthlyIncome=%{x}<br>DebtRatio=%{y}<br>SeriousDlqin2yrs=%{marker.color}<extra></extra>",
           "legendgroup": "",
           "marker": {
            "color": [
             1,
             0,
             0,
             0,
             0,
             0,
             0,
             0,
             0,
             0,
             0,
             0,
             0,
             0,
             0,
             0,
             0,
             0,
             0,
             0,
             0,
             0,
             0,
             0,
             0,
             0,
             1,
             0,
             0,
             0,
             0,
             0,
             0,
             1,
             0,
             0,
             0,
             0,
             0,
             0,
             1,
             0,
             1,
             0
            ],
            "coloraxis": "coloraxis",
            "symbol": "circle"
           },
           "mode": "markers",
           "name": "",
           "orientation": "v",
           "showlegend": false,
           "type": "scatter",
           "x": [
            1389,
            7652,
            6670.221237392844,
            13875,
            6670.221237392844,
            6000,
            7066,
            6670.221237392844,
            3415,
            2297,
            17843,
            11249,
            4225,
            4466,
            3700,
            5300,
            6670.221237392844,
            10300,
            40000,
            2065,
            2424,
            5472,
            5380,
            6670.221237392844,
            1500,
            4600,
            12166,
            7250,
            8500,
            8000,
            11100,
            2700,
            6000,
            5250,
            3430,
            27000,
            1943,
            6025,
            15716,
            6670.221237392844,
            3710,
            12000,
            4000,
            12500
           ],
           "xaxis": "x",
           "y": [
            0.672661871,
            0.119299621,
            5439,
            0.499423465,
            1072,
            0.329445092,
            0.82510259,
            3169,
            0.159250585,
            0.033072237,
            0.633826496,
            0.258133333,
            0.264079508,
            0.411461831,
            0.36179411,
            0.253725712,
            753,
            0.28414717,
            0.412964676,
            0.02178122,
            0.339381443,
            0.580120592,
            0.798550455,
            6136,
            0.095936043,
            0.404042599,
            0.170789841,
            0.388360226,
            0.19985884,
            0.108361455,
            0.539591028,
            0.430211033,
            0.499583403,
            0.513997334,
            0.317691635,
            0.20206659,
            0.679526749,
            0.223199469,
            0.633072469,
            1807,
            0.633252493,
            0.123073077,
            0.36315921,
            0.270538357
           ],
           "yaxis": "y"
          }
         ],
         "name": "57"
        },
        {
         "data": [
          {
           "hovertemplate": "age=58<br>MonthlyIncome=%{x}<br>DebtRatio=%{y}<br>SeriousDlqin2yrs=%{marker.color}<extra></extra>",
           "legendgroup": "",
           "marker": {
            "color": [
             0,
             0,
             0,
             0,
             0,
             0,
             0,
             0,
             0,
             0,
             0,
             1,
             0,
             0,
             0,
             0,
             0,
             0,
             0,
             1,
             0,
             0,
             0,
             0,
             0,
             0,
             0,
             0,
             0,
             0,
             1,
             0,
             0,
             0,
             0,
             0,
             0,
             0,
             1,
             1,
             0,
             0,
             0,
             0,
             0,
             0,
             0
            ],
            "coloraxis": "coloraxis",
            "symbol": "circle"
           },
           "mode": "markers",
           "name": "",
           "orientation": "v",
           "showlegend": false,
           "type": "scatter",
           "x": [
            13916,
            10583,
            4300,
            2000,
            12200,
            8770,
            9213,
            8396,
            19438,
            6670.221237392844,
            10400,
            1300,
            10633,
            6506,
            6670.221237392844,
            3546,
            5355,
            15000,
            6670.221237392844,
            4178,
            5400,
            1040,
            8128,
            6670.221237392844,
            9867,
            5000,
            13800,
            4350,
            9900,
            6670.221237392844,
            6167,
            6670.221237392844,
            12250,
            18900,
            8000,
            6966,
            6670.221237392844,
            8800,
            1552,
            3692,
            4766,
            5500,
            6000,
            1027,
            6800,
            9700,
            7235
           ],
           "xaxis": "x",
           "y": [
            0.152403535,
            0.431500378,
            0.218088817,
            0.004997501,
            0.369887714,
            0.477596625,
            0.228999349,
            0.389662975,
            0.195328978,
            5569,
            0.366503221,
            0.073789393,
            0.373801016,
            0.40556324,
            4470,
            0.027628982,
            0.145817774,
            0.240783948,
            309,
            0.47954056,
            0.021662655,
            0.018251681,
            0.628367573,
            1334,
            0.260539116,
            0.673865227,
            0.323599739,
            0.007124799,
            0.25987274,
            189,
            0.370136187,
            1876,
            0.284303322,
            0.704565896,
            0.344206974,
            0.229941151,
            2592,
            0.590273833,
            0.617514488,
            0.004061738,
            0.617788966,
            0.436102527,
            0.384769205,
            0.392996109,
            0.200999853,
            0.200494794,
            0.380458817
           ],
           "yaxis": "y"
          }
         ],
         "name": "58"
        },
        {
         "data": [
          {
           "hovertemplate": "age=59<br>MonthlyIncome=%{x}<br>DebtRatio=%{y}<br>SeriousDlqin2yrs=%{marker.color}<extra></extra>",
           "legendgroup": "",
           "marker": {
            "color": [
             0,
             0,
             0,
             0,
             0,
             0,
             0,
             0,
             0,
             1,
             0,
             0,
             0,
             0,
             0,
             0,
             0,
             0,
             0,
             0,
             0,
             0,
             0,
             0,
             0,
             0,
             0,
             0,
             0,
             0,
             0,
             0,
             0,
             0,
             0,
             0,
             0,
             0,
             0,
             0,
             0,
             0,
             0,
             0,
             0
            ],
            "coloraxis": "coloraxis",
            "symbol": "circle"
           },
           "mode": "markers",
           "name": "",
           "orientation": "v",
           "showlegend": false,
           "type": "scatter",
           "x": [
            12680,
            6670.221237392844,
            5573,
            8751,
            8732,
            8450,
            14358,
            6500,
            13405,
            5633,
            0,
            7913,
            10500,
            30000,
            2840,
            8666,
            4250,
            4200,
            15928,
            7916,
            1628,
            10852,
            9866,
            5200,
            9731,
            9900,
            2667,
            1400,
            5416,
            4333,
            11005,
            9500,
            3650,
            9510,
            4175,
            6670.221237392844,
            2468,
            10937,
            17157,
            6504,
            4940,
            3116,
            1390,
            6670.221237392844,
            6670.221237392844
           ],
           "xaxis": "x",
           "y": [
            0.294298557,
            858,
            0.48277718,
            0.019309872,
            0.464216191,
            0.422435215,
            0.571697193,
            0.126903553,
            0.150827987,
            2.219737309,
            2538,
            0.323098307,
            0.001142748,
            0.801839939,
            0.028863076,
            0.256836276,
            0.410726888,
            0.033325399,
            0.381254316,
            0.00277883,
            0.223449969,
            0.396295955,
            0.141988446,
            0.880599885,
            0.495787094,
            0.003736996,
            0.68928036,
            0.578158458,
            0.186265461,
            0.545685279,
            0.23650736,
            0.231554573,
            0.474938373,
            0.23772474,
            0.284243295,
            2121,
            0.200486027,
            0.174620589,
            0.382970043,
            0.196771714,
            0.373406193,
            0.564645492,
            0.153846154,
            5617,
            3570
           ],
           "yaxis": "y"
          }
         ],
         "name": "59"
        },
        {
         "data": [
          {
           "hovertemplate": "age=60<br>MonthlyIncome=%{x}<br>DebtRatio=%{y}<br>SeriousDlqin2yrs=%{marker.color}<extra></extra>",
           "legendgroup": "",
           "marker": {
            "color": [
             0,
             1,
             1,
             0,
             0,
             0,
             0,
             0,
             0,
             0,
             0,
             0,
             0,
             0,
             0,
             0,
             0,
             0,
             0,
             0,
             0,
             0,
             0,
             0,
             0,
             0,
             0,
             0,
             0,
             0,
             0,
             0,
             0,
             0,
             0,
             0,
             0,
             0
            ],
            "coloraxis": "coloraxis",
            "symbol": "circle"
           },
           "mode": "markers",
           "name": "",
           "orientation": "v",
           "showlegend": false,
           "type": "scatter",
           "x": [
            8179,
            3400,
            1,
            5095,
            1,
            6670.221237392844,
            20416,
            3750,
            11332,
            5091,
            6700,
            7968,
            14907,
            5000,
            4500,
            6670.221237392844,
            2809,
            6666,
            3083,
            6670.221237392844,
            8000,
            6670.221237392844,
            2741,
            10745,
            6670.221237392844,
            1974,
            6670.221237392844,
            3300,
            12000,
            1200,
            6825,
            6670.221237392844,
            3400,
            6670.221237392844,
            5772,
            6670.221237392844,
            5400,
            27500
           ],
           "xaxis": "x",
           "y": [
            0.139731051,
            0.223463687,
            5857,
            0.425627943,
            1696.5,
            3665,
            0.179605231,
            0.639296188,
            0.21865349,
            0.135113904,
            0.250261155,
            0.343581378,
            0.185336732,
            0.25734853,
            0.549877805,
            2078,
            0.693950178,
            0.451177441,
            0.006485084,
            1822,
            0.157855268,
            4269,
            1.100656455,
            0.250139587,
            1969,
            0.781772152,
            4886,
            0.000302939,
            0.240646613,
            0.000832639,
            0.412979783,
            2684,
            0.379888268,
            392,
            0.442231076,
            1808,
            0.381596001,
            0.270208356
           ],
           "yaxis": "y"
          }
         ],
         "name": "60"
        },
        {
         "data": [
          {
           "hovertemplate": "age=61<br>MonthlyIncome=%{x}<br>DebtRatio=%{y}<br>SeriousDlqin2yrs=%{marker.color}<extra></extra>",
           "legendgroup": "",
           "marker": {
            "color": [
             0,
             0,
             0,
             0,
             0,
             0,
             0,
             0,
             0,
             0,
             0,
             0,
             0,
             0,
             0,
             0,
             0,
             0,
             0,
             0,
             0,
             0,
             0,
             0,
             0,
             0,
             0,
             0,
             0,
             0,
             0,
             0,
             0,
             0,
             0,
             0,
             0,
             0,
             0,
             0,
             0,
             0,
             0,
             0,
             0,
             0,
             0,
             0,
             0,
             0,
             0,
             0,
             0,
             0,
             0,
             0
            ],
            "coloraxis": "coloraxis",
            "symbol": "circle"
           },
           "mode": "markers",
           "name": "",
           "orientation": "v",
           "showlegend": false,
           "type": "scatter",
           "x": [
            6366,
            11582,
            6670.221237392844,
            1000,
            18416,
            4083,
            2000,
            6670.221237392844,
            37500,
            3500,
            6670.221237392844,
            9416,
            6670.221237392844,
            1,
            10200,
            6891,
            21666,
            1834,
            6670.221237392844,
            6670.221237392844,
            2630,
            1000,
            8645,
            1800,
            1750,
            6850,
            4700,
            6670.221237392844,
            7400,
            1636,
            4600,
            3000,
            4000,
            1920,
            3000,
            1800,
            6670.221237392844,
            6670.221237392844,
            6670.221237392844,
            3500,
            3839,
            18000,
            4444,
            0,
            10500,
            3289,
            16000,
            6670.221237392844,
            4000,
            10000,
            7844,
            6670.221237392844,
            6670.221237392844,
            7416,
            8100,
            6670.221237392844
           ],
           "xaxis": "x",
           "y": [
            0.619601068,
            0.444444444,
            963,
            2.233766234,
            0.415485693,
            0.170176298,
            0.56171914,
            1574,
            0.254046559,
            0.533847472,
            213,
            0.383774026,
            294,
            684.5,
            0.594843643,
            0.845618108,
            0.326302672,
            0.082288828,
            892,
            974,
            0.320030407,
            0.921078921,
            0.284755957,
            0.199333703,
            0.699600228,
            0.279521238,
            0.477770687,
            3006,
            0.26428861,
            0.353084911,
            0.691806129,
            0.455514828,
            0.011247188,
            0.414367517,
            0.841719427,
            0.6285397,
            5030,
            2041,
            193,
            0.638674664,
            0.305208333,
            0.218321204,
            0.797525309,
            353,
            0.288543948,
            0.340729483,
            0.409099431,
            5281,
            0.007998,
            0.00029997,
            0.252390057,
            1421,
            2483,
            0.286099501,
            0.390075299,
            1651
           ],
           "yaxis": "y"
          }
         ],
         "name": "61"
        },
        {
         "data": [
          {
           "hovertemplate": "age=62<br>MonthlyIncome=%{x}<br>DebtRatio=%{y}<br>SeriousDlqin2yrs=%{marker.color}<extra></extra>",
           "legendgroup": "",
           "marker": {
            "color": [
             0,
             0,
             0,
             0,
             0,
             0,
             0,
             0,
             0,
             0,
             0,
             0,
             0,
             0,
             0,
             0,
             0,
             0,
             0,
             0,
             0,
             0,
             0,
             0,
             0,
             0,
             0,
             0,
             0,
             1,
             0,
             0,
             0,
             1,
             0,
             0,
             0,
             0,
             0,
             0,
             1,
             1,
             0,
             0,
             0,
             0,
             0,
             0,
             0,
             0,
             0,
             0,
             0,
             0,
             0
            ],
            "coloraxis": "coloraxis",
            "symbol": "circle"
           },
           "mode": "markers",
           "name": "",
           "orientation": "v",
           "showlegend": false,
           "type": "scatter",
           "x": [
            2400,
            13950,
            8045,
            1875,
            6670.221237392844,
            9166,
            6670.221237392844,
            0,
            6670.221237392844,
            6670.221237392844,
            7900,
            6983,
            5900,
            6670.221237392844,
            3108,
            3960,
            2000,
            6670.221237392844,
            10500,
            6670.221237392844,
            6670.221237392844,
            16811,
            6670.221237392844,
            6000,
            8125,
            6670.221237392844,
            2800,
            10300,
            4266,
            4518,
            4506,
            6670.221237392844,
            6670.221237392844,
            6670.221237392844,
            6670.221237392844,
            4500,
            6670.221237392844,
            5000,
            2384,
            6670.221237392844,
            6670.221237392844,
            8300,
            9500,
            6197,
            6670.221237392844,
            6670.221237392844,
            7059,
            17770,
            6670.221237392844,
            13482,
            3833,
            16035,
            5666,
            13820,
            4166
           ],
           "xaxis": "x",
           "y": [
            0.633486047,
            0.784316536,
            0.32861049,
            0.829957356,
            1110,
            0.265408531,
            1860,
            4003,
            3960,
            3003,
            0.384381724,
            0.465635739,
            0.461955601,
            1800,
            0.361531039,
            0.032315072,
            0.570714643,
            1739,
            0.627940196,
            2,
            1396,
            0.110992148,
            1944,
            0.115647392,
            0,
            38,
            1.106033559,
            0.066692554,
            0.247480666,
            0.617393229,
            0.213445751,
            1756,
            496,
            797,
            0,
            0.010664297,
            1,
            0.375324935,
            0.062054507,
            826,
            448,
            0.334778942,
            0.825913062,
            0.306227815,
            3991,
            2504,
            0.160906516,
            0.240054021,
            38,
            0.119557962,
            0.229264476,
            0.14910202,
            0.305629081,
            0.410389986,
            0.429805616
           ],
           "yaxis": "y"
          }
         ],
         "name": "62"
        },
        {
         "data": [
          {
           "hovertemplate": "age=63<br>MonthlyIncome=%{x}<br>DebtRatio=%{y}<br>SeriousDlqin2yrs=%{marker.color}<extra></extra>",
           "legendgroup": "",
           "marker": {
            "color": [
             0,
             0,
             0,
             0,
             0,
             0,
             0,
             0,
             0,
             0,
             0,
             0,
             0,
             0,
             0,
             0,
             0,
             0,
             0,
             0,
             0,
             0,
             0,
             0,
             0,
             0,
             0,
             0,
             0,
             0,
             0,
             0,
             0,
             0,
             0,
             0
            ],
            "coloraxis": "coloraxis",
            "symbol": "circle"
           },
           "mode": "markers",
           "name": "",
           "orientation": "v",
           "showlegend": false,
           "type": "scatter",
           "x": [
            6670.221237392844,
            6100,
            5283,
            6670.221237392844,
            6670.221237392844,
            6600,
            6670.221237392844,
            20446,
            6670.221237392844,
            6670.221237392844,
            18916,
            6670.221237392844,
            6670.221237392844,
            8615,
            3641,
            6670.221237392844,
            6670.221237392844,
            3950,
            2300,
            6670.221237392844,
            2742,
            5964,
            6670.221237392844,
            14500,
            6670.221237392844,
            1199,
            3200,
            7000,
            12500,
            6670.221237392844,
            8350,
            11917,
            11750,
            7139,
            10083,
            1300
           ],
           "xaxis": "x",
           "y": [
            5009,
            0.476479266,
            0.98996972,
            417,
            1365,
            0.20678685,
            1408,
            0.161979753,
            152,
            9,
            0.256171697,
            1223,
            30,
            0.159354689,
            0.046128501,
            2966,
            80,
            1.520121488,
            0.145588874,
            5388,
            0.497994896,
            0.33830679,
            55,
            0.002551548,
            31,
            1.388333333,
            0.035301468,
            0.004142265,
            0.186145108,
            1234,
            0.093162496,
            0.203977177,
            0.202621054,
            0.268207283,
            0.369000397,
            1.309761722
           ],
           "yaxis": "y"
          }
         ],
         "name": "63"
        },
        {
         "data": [
          {
           "hovertemplate": "age=64<br>MonthlyIncome=%{x}<br>DebtRatio=%{y}<br>SeriousDlqin2yrs=%{marker.color}<extra></extra>",
           "legendgroup": "",
           "marker": {
            "color": [
             0,
             0,
             0,
             0,
             0,
             0,
             0,
             0,
             0,
             0,
             0,
             0,
             1,
             0,
             0,
             0,
             0,
             0,
             0,
             0,
             0,
             0,
             0,
             0,
             0,
             0,
             0,
             0,
             0,
             0,
             0,
             0,
             0,
             0,
             0,
             0,
             0,
             0,
             0,
             0,
             0,
             0,
             1,
             0,
             0,
             0,
             0,
             0
            ],
            "coloraxis": "coloraxis",
            "symbol": "circle"
           },
           "mode": "markers",
           "name": "",
           "orientation": "v",
           "showlegend": false,
           "type": "scatter",
           "x": [
            12501,
            6480,
            6670.221237392844,
            7200,
            1900,
            3300,
            11000,
            800,
            6670.221237392844,
            6670.221237392844,
            7200,
            5416,
            6670.221237392844,
            2522,
            4283,
            10516,
            1,
            6670.221237392844,
            5300,
            6670.221237392844,
            6670.221237392844,
            8583,
            6000,
            6670.221237392844,
            6670.221237392844,
            2800,
            17333,
            6400,
            4231,
            15530,
            5100,
            3000,
            2248,
            13334,
            3000,
            10047,
            5700,
            6369,
            11000,
            8820,
            2741,
            10500,
            8912,
            6670.221237392844,
            2667,
            236,
            6569,
            2916
           ],
           "xaxis": "x",
           "y": [
            0.487681971,
            0.13223268,
            2521,
            0.030967921,
            0.863229879,
            0.115116631,
            0.001272612,
            0.079900125,
            3450,
            527,
            0.140258297,
            0.10965479,
            2446,
            0,
            0.72735761,
            0.146809927,
            794,
            2290,
            0.08885116,
            4147,
            991,
            0.272716682,
            0.017330445,
            5149,
            4,
            4.480542663,
            0.089246567,
            0.363068271,
            0.335302457,
            0.660421093,
            0.517741619,
            0.2035988,
            0.554913295,
            0.348781402,
            0.368877041,
            0.200736465,
            0.050692861,
            0.467974882,
            0.472138896,
            0.55560594,
            0.07840992,
            0.005428054,
            0.731403568,
            1000,
            0.071589205,
            13.31223629,
            0.202739726,
            0.446006171
           ],
           "yaxis": "y"
          }
         ],
         "name": "64"
        },
        {
         "data": [
          {
           "hovertemplate": "age=65<br>MonthlyIncome=%{x}<br>DebtRatio=%{y}<br>SeriousDlqin2yrs=%{marker.color}<extra></extra>",
           "legendgroup": "",
           "marker": {
            "color": [
             0,
             0,
             0,
             0,
             0,
             0,
             0,
             0,
             0,
             0,
             0,
             0,
             0,
             0,
             0,
             0,
             0,
             0,
             0,
             0,
             0,
             0,
             0,
             0,
             0,
             0,
             0,
             0,
             1,
             0,
             0,
             0,
             0,
             0,
             0,
             0,
             0,
             0,
             1,
             0
            ],
            "coloraxis": "coloraxis",
            "symbol": "circle"
           },
           "mode": "markers",
           "name": "",
           "orientation": "v",
           "showlegend": false,
           "type": "scatter",
           "x": [
            8750,
            6000,
            13166,
            809,
            4750,
            6670.221237392844,
            300,
            5908,
            6846,
            5000,
            4500,
            4000,
            6670.221237392844,
            7996,
            2001,
            4000,
            2600,
            6000,
            10833,
            6670.221237392844,
            3524,
            900,
            6670.221237392844,
            1635,
            6808,
            5216,
            6670.221237392844,
            3650,
            6670.221237392844,
            3875,
            18850,
            4393,
            10000,
            6670.221237392844,
            3000,
            4000,
            6300,
            11137,
            3200,
            4000
           ],
           "xaxis": "x",
           "y": [
            0.083190493,
            0.105649058,
            0.375104428,
            1.998765432,
            0.030940855,
            3560,
            2.07641196,
            0.725672703,
            0.132612823,
            0.441711658,
            0.602754943,
            0.298425394,
            389,
            0.301488058,
            0.403096903,
            0.383404149,
            0.273740869,
            0.141476421,
            0.335056304,
            1667,
            0.02070922,
            0.705882353,
            2028,
            0.146699267,
            0.230283448,
            0.34004217,
            2113,
            0.063270337,
            482,
            0.019865841,
            0.01580818,
            0.341829768,
            0.053094691,
            107,
            0.008330556,
            0.427143214,
            0.166164101,
            0.210989406,
            0.680412371,
            0.451637091
           ],
           "yaxis": "y"
          }
         ],
         "name": "65"
        },
        {
         "data": [
          {
           "hovertemplate": "age=66<br>MonthlyIncome=%{x}<br>DebtRatio=%{y}<br>SeriousDlqin2yrs=%{marker.color}<extra></extra>",
           "legendgroup": "",
           "marker": {
            "color": [
             0,
             0,
             0,
             0,
             0,
             0,
             0,
             0,
             0,
             0,
             0,
             0,
             0,
             0,
             0,
             0,
             0,
             0,
             1,
             0,
             1,
             0,
             0,
             0,
             0,
             0,
             0,
             0,
             0,
             1,
             0,
             1,
             0,
             1,
             0,
             0,
             0,
             0,
             0,
             0,
             0,
             0
            ],
            "coloraxis": "coloraxis",
            "symbol": "circle"
           },
           "mode": "markers",
           "name": "",
           "orientation": "v",
           "showlegend": false,
           "type": "scatter",
           "x": [
            1279,
            6670.221237392844,
            12440,
            1865,
            3750,
            6175,
            372,
            6670.221237392844,
            11875,
            6670.221237392844,
            1600,
            4666,
            5400,
            9083,
            8860,
            6670.221237392844,
            7416,
            10500,
            7890,
            5166,
            6670.221237392844,
            2600,
            6670.221237392844,
            7453,
            5522,
            13100,
            4166,
            21883,
            6670.221237392844,
            2000,
            17500,
            4417,
            6670.221237392844,
            4000,
            7715,
            13167,
            3562,
            3800,
            6670.221237392844,
            2000,
            5741,
            6670.221237392844
           ],
           "xaxis": "x",
           "y": [
            0.065625,
            7905,
            0.311952415,
            1.221329046,
            0.07411357,
            0.422603627,
            14.01876676,
            1339,
            0.231222634,
            1239,
            0.668332292,
            0.347118063,
            0.380299944,
            0.350726552,
            0.267238461,
            3280,
            0.071996764,
            0.004285306,
            0.884552021,
            0.60150958,
            0,
            0.007304883,
            2633,
            0.246444862,
            0.006156075,
            0.398595527,
            0.369090473,
            0.866934747,
            428,
            0.025987006,
            0.117364722,
            0.326618379,
            2019,
            0.536865784,
            0.37973043,
            0.224027947,
            0.065113668,
            0.432517758,
            4517,
            0.541729135,
            0.672762104,
            3122
           ],
           "yaxis": "y"
          }
         ],
         "name": "66"
        },
        {
         "data": [
          {
           "hovertemplate": "age=67<br>MonthlyIncome=%{x}<br>DebtRatio=%{y}<br>SeriousDlqin2yrs=%{marker.color}<extra></extra>",
           "legendgroup": "",
           "marker": {
            "color": [
             0,
             0,
             0,
             0,
             0,
             0,
             0,
             0,
             0,
             0,
             0,
             0,
             0,
             0,
             0,
             0,
             0,
             0,
             0,
             0,
             0,
             0,
             0,
             0,
             0,
             0,
             0,
             0,
             0,
             0,
             0,
             0,
             0
            ],
            "coloraxis": "coloraxis",
            "symbol": "circle"
           },
           "mode": "markers",
           "name": "",
           "orientation": "v",
           "showlegend": false,
           "type": "scatter",
           "x": [
            6670.221237392844,
            3766,
            6128,
            6670.221237392844,
            5093,
            5370,
            5983,
            6670.221237392844,
            3500,
            5733,
            1500,
            6670.221237392844,
            1500,
            6670.221237392844,
            6670.221237392844,
            6670.221237392844,
            7000,
            7000,
            1400,
            4833,
            8400,
            3700,
            2120,
            8000,
            6670.221237392844,
            6670.221237392844,
            10500,
            13283,
            4944,
            6670.221237392844,
            2690,
            6670.221237392844,
            5250
           ],
           "xaxis": "x",
           "y": [
            1995,
            0.406158747,
            0.01174743,
            1244,
            0.268747546,
            0.437721095,
            0.584224599,
            4793,
            0.35218509,
            0.900592954,
            0,
            91,
            0.569620253,
            1297,
            1472,
            2714,
            0.143265248,
            0.186116269,
            0.043540328,
            0.194662805,
            1.087251518,
            0.982437179,
            1.077793494,
            0.195850519,
            4862,
            31,
            0.225026188,
            0.524164408,
            0.29322548,
            5,
            0.381642512,
            3795,
            0.243382213
           ],
           "yaxis": "y"
          }
         ],
         "name": "67"
        },
        {
         "data": [
          {
           "hovertemplate": "age=68<br>MonthlyIncome=%{x}<br>DebtRatio=%{y}<br>SeriousDlqin2yrs=%{marker.color}<extra></extra>",
           "legendgroup": "",
           "marker": {
            "color": [
             0,
             0,
             0,
             0,
             0,
             0,
             0,
             0,
             0,
             0,
             0,
             0,
             0,
             0,
             0,
             0,
             0,
             0,
             1,
             0,
             0,
             0,
             0,
             0,
             0,
             0,
             0,
             0,
             0,
             0,
             0,
             0,
             0,
             0,
             0,
             0
            ],
            "coloraxis": "coloraxis",
            "symbol": "circle"
           },
           "mode": "markers",
           "name": "",
           "orientation": "v",
           "showlegend": false,
           "type": "scatter",
           "x": [
            6649,
            6687,
            6670.221237392844,
            6670.221237392844,
            6670.221237392844,
            5000,
            6670.221237392844,
            1980,
            21250,
            3750,
            4710,
            4500,
            6670.221237392844,
            9300,
            5083,
            5000,
            5083,
            2620,
            25000,
            6670.221237392844,
            3944,
            6670.221237392844,
            5767,
            4666,
            5583,
            1185,
            6670.221237392844,
            6670.221237392844,
            5158,
            5483,
            6670.221237392844,
            3000,
            6670.221237392844,
            10480,
            6670.221237392844,
            5696
           ],
           "xaxis": "x",
           "y": [
            0.346616541,
            0.054575359,
            3536,
            2410,
            1038,
            1.879624075,
            84,
            0.457344775,
            0.203331608,
            0.129832045,
            0,
            0.040435459,
            2473,
            0.121277282,
            0.306648308,
            0.221955609,
            0.21361133,
            0.323922167,
            0.218071277,
            2362,
            0.367046895,
            716,
            0.391643551,
            0.003428327,
            0,
            0,
            1956,
            1483,
            0.138205079,
            0.289022611,
            6840,
            1.016661113,
            221,
            0.129186146,
            123,
            0.339125856
           ],
           "yaxis": "y"
          }
         ],
         "name": "68"
        },
        {
         "data": [
          {
           "hovertemplate": "age=69<br>MonthlyIncome=%{x}<br>DebtRatio=%{y}<br>SeriousDlqin2yrs=%{marker.color}<extra></extra>",
           "legendgroup": "",
           "marker": {
            "color": [
             0,
             0,
             0,
             0,
             0,
             0,
             0,
             0,
             0,
             0,
             0,
             0,
             0,
             0,
             0,
             0,
             0,
             0,
             0,
             0
            ],
            "coloraxis": "coloraxis",
            "symbol": "circle"
           },
           "mode": "markers",
           "name": "",
           "orientation": "v",
           "showlegend": false,
           "type": "scatter",
           "x": [
            600,
            9532,
            4310,
            10500,
            5000,
            7141,
            925,
            10300,
            12334,
            25000,
            3115,
            6670.221237392844,
            2249,
            6670.221237392844,
            6670.221237392844,
            6670.221237392844,
            2431,
            2600,
            12000,
            6670.221237392844
           ],
           "xaxis": "x",
           "y": [
            2.923460899,
            0.221546208,
            0.786360473,
            0.170459956,
            0.210557888,
            0.616633996,
            1.453563715,
            0.482671585,
            0.389298743,
            0.036678533,
            0.157252888,
            1205,
            0.372444444,
            2100,
            1609,
            8,
            0.116776316,
            0.636678201,
            0.387217732,
            2212
           ],
           "yaxis": "y"
          }
         ],
         "name": "69"
        },
        {
         "data": [
          {
           "hovertemplate": "age=70<br>MonthlyIncome=%{x}<br>DebtRatio=%{y}<br>SeriousDlqin2yrs=%{marker.color}<extra></extra>",
           "legendgroup": "",
           "marker": {
            "color": [
             1,
             0,
             0,
             0,
             0,
             0,
             0,
             0,
             0,
             0,
             0,
             0,
             0,
             0,
             0,
             0,
             0,
             0,
             0,
             0,
             0,
             0,
             0,
             0,
             0,
             0,
             0,
             1
            ],
            "coloraxis": "coloraxis",
            "symbol": "circle"
           },
           "mode": "markers",
           "name": "",
           "orientation": "v",
           "showlegend": false,
           "type": "scatter",
           "x": [
            3436,
            8470,
            3700,
            5000,
            6670.221237392844,
            5166,
            6670.221237392844,
            6670.221237392844,
            62500,
            10000,
            8173,
            5000,
            5232,
            2000,
            6299,
            6670.221237392844,
            8333,
            6266,
            4239,
            3848,
            2070,
            3404,
            8525,
            2000,
            6670.221237392844,
            2983,
            6670.221237392844,
            2979
           ],
           "xaxis": "x",
           "y": [
            0.836776258,
            0.17435958,
            0.14212375,
            0.0009998,
            1,
            0.291852139,
            1314,
            3831,
            0.03375946,
            0.286871313,
            0.566919501,
            0.647470506,
            0.009172559,
            0,
            0.566349206,
            4681,
            0.027237821,
            1.095580022,
            0.082075472,
            0,
            0.554804442,
            0.282232012,
            0.078348581,
            0.086956522,
            1236,
            1.529825737,
            0,
            0.129865772
           ],
           "yaxis": "y"
          }
         ],
         "name": "70"
        },
        {
         "data": [
          {
           "hovertemplate": "age=71<br>MonthlyIncome=%{x}<br>DebtRatio=%{y}<br>SeriousDlqin2yrs=%{marker.color}<extra></extra>",
           "legendgroup": "",
           "marker": {
            "color": [
             0,
             0,
             0,
             0,
             0,
             0,
             0,
             0,
             0,
             1,
             0,
             0,
             0,
             0,
             0,
             0,
             0,
             0,
             0
            ],
            "coloraxis": "coloraxis",
            "symbol": "circle"
           },
           "mode": "markers",
           "name": "",
           "orientation": "v",
           "showlegend": false,
           "type": "scatter",
           "x": [
            7975,
            3545,
            12500,
            2100,
            4500,
            4053,
            1200,
            6670.221237392844,
            2769,
            7300,
            4583,
            3379,
            6666,
            5133,
            2700,
            8000,
            6670.221237392844,
            6294,
            6670.221237392844
           ],
           "xaxis": "x",
           "y": [
            0.591900702,
            0.022278624,
            0.078793697,
            0.043788672,
            0.476116419,
            0.201776024,
            0.059950042,
            1018,
            0.380505415,
            0,
            0.128490401,
            0.529585799,
            0.016649168,
            0.223802104,
            0.431691966,
            0.400074991,
            1440,
            0.689277204,
            2747
           ],
           "yaxis": "y"
          }
         ],
         "name": "71"
        },
        {
         "data": [
          {
           "hovertemplate": "age=72<br>MonthlyIncome=%{x}<br>DebtRatio=%{y}<br>SeriousDlqin2yrs=%{marker.color}<extra></extra>",
           "legendgroup": "",
           "marker": {
            "color": [
             0,
             0,
             1,
             0,
             0,
             0,
             0,
             0,
             0,
             0,
             0,
             0,
             0,
             0,
             0,
             1,
             0,
             0,
             0,
             0,
             0,
             0,
             0,
             0
            ],
            "coloraxis": "coloraxis",
            "symbol": "circle"
           },
           "mode": "markers",
           "name": "",
           "orientation": "v",
           "showlegend": false,
           "type": "scatter",
           "x": [
            5000,
            6670.221237392844,
            6670.221237392844,
            4100,
            6670.221237392844,
            9000,
            6670.221237392844,
            11067,
            6670.221237392844,
            3500,
            9100,
            6670.221237392844,
            6670.221237392844,
            6670.221237392844,
            1260,
            3749,
            4863,
            3500,
            2325,
            4600,
            6670.221237392844,
            3583,
            4579,
            4566
           ],
           "xaxis": "x",
           "y": [
            0.01219756,
            84,
            1887,
            0.096074128,
            2482,
            0.353960671,
            5,
            0.16452837,
            369,
            0.346472436,
            0.389078123,
            1018,
            85,
            35,
            1.321966693,
            1.159466667,
            0.242598684,
            0.004855755,
            0.045571797,
            0.003477505,
            3031,
            0.118303571,
            0.432532751,
            0.370045982
           ],
           "yaxis": "y"
          }
         ],
         "name": "72"
        },
        {
         "data": [
          {
           "hovertemplate": "age=73<br>MonthlyIncome=%{x}<br>DebtRatio=%{y}<br>SeriousDlqin2yrs=%{marker.color}<extra></extra>",
           "legendgroup": "",
           "marker": {
            "color": [
             0,
             0,
             0,
             0,
             0,
             0,
             0,
             0,
             0,
             0,
             0,
             0,
             0,
             0,
             0,
             0,
             0,
             0,
             0,
             0,
             0,
             1,
             0,
             0,
             0,
             0,
             0,
             0
            ],
            "coloraxis": "coloraxis",
            "symbol": "circle"
           },
           "mode": "markers",
           "name": "",
           "orientation": "v",
           "showlegend": false,
           "type": "scatter",
           "x": [
            9960,
            6450,
            16666,
            4365,
            6670.221237392844,
            6670.221237392844,
            6670.221237392844,
            3090,
            6670.221237392844,
            7400,
            8013,
            6670.221237392844,
            6670.221237392844,
            7000,
            6670.221237392844,
            8801,
            6670.221237392844,
            6670.221237392844,
            6670.221237392844,
            2083,
            6670.221237392844,
            4999,
            12300,
            2500,
            10200,
            4000,
            11083,
            7414
           ],
           "xaxis": "x",
           "y": [
            0.207710069,
            0.928228182,
            0.0199796,
            0.603756299,
            180,
            0,
            4811,
            0.142672274,
            2006,
            0.501013377,
            0.369977539,
            37,
            467,
            0.006284816,
            87,
            0.197000682,
            183,
            20,
            43,
            0.285028791,
            41,
            0.224,
            0.335663767,
            0.026389444,
            0.332712479,
            0.00099975,
            0.166907254,
            0.122454484
           ],
           "yaxis": "y"
          }
         ],
         "name": "73"
        },
        {
         "data": [
          {
           "hovertemplate": "age=74<br>MonthlyIncome=%{x}<br>DebtRatio=%{y}<br>SeriousDlqin2yrs=%{marker.color}<extra></extra>",
           "legendgroup": "",
           "marker": {
            "color": [
             0,
             0,
             0,
             0,
             0,
             0,
             0,
             0,
             0,
             0,
             0,
             0,
             0,
             0,
             0,
             0,
             0,
             0,
             0,
             0
            ],
            "coloraxis": "coloraxis",
            "symbol": "circle"
           },
           "mode": "markers",
           "name": "",
           "orientation": "v",
           "showlegend": false,
           "type": "scatter",
           "x": [
            2013,
            2928,
            7500,
            6725,
            4050,
            6670.221237392844,
            15000,
            3169,
            4500,
            6816,
            7491,
            5708,
            6000,
            6670.221237392844,
            1341,
            5275,
            3250,
            8500,
            6670.221237392844,
            6670.221237392844
           ],
           "xaxis": "x",
           "y": [
            0,
            1.085694776,
            0.362485002,
            0.102140946,
            0.239940755,
            1067,
            0.329311379,
            0.570662461,
            0.19017996,
            0.509168256,
            1.569006941,
            0.208793134,
            0.123812698,
            166,
            0.245901639,
            0.007391964,
            0.278375884,
            0.241030467,
            0,
            0
           ],
           "yaxis": "y"
          }
         ],
         "name": "74"
        },
        {
         "data": [
          {
           "hovertemplate": "age=75<br>MonthlyIncome=%{x}<br>DebtRatio=%{y}<br>SeriousDlqin2yrs=%{marker.color}<extra></extra>",
           "legendgroup": "",
           "marker": {
            "color": [
             0,
             0,
             0,
             0,
             0,
             0,
             0,
             0,
             0,
             0,
             0,
             0,
             0,
             0,
             0,
             0
            ],
            "coloraxis": "coloraxis",
            "symbol": "circle"
           },
           "mode": "markers",
           "name": "",
           "orientation": "v",
           "showlegend": false,
           "type": "scatter",
           "x": [
            4583,
            10381,
            7300,
            6670.221237392844,
            1700,
            6670.221237392844,
            4300,
            4833,
            0,
            6670.221237392844,
            3333,
            2746,
            7774,
            6670.221237392844,
            6670.221237392844,
            10500
           ],
           "xaxis": "x",
           "y": [
            0.161431065,
            0.111539202,
            0.388850842,
            89,
            0.844797178,
            13,
            0.019762846,
            0.45821266,
            1473,
            1042,
            0.0044991,
            0.223880597,
            0.389067524,
            316,
            8,
            0.244929054
           ],
           "yaxis": "y"
          }
         ],
         "name": "75"
        },
        {
         "data": [
          {
           "hovertemplate": "age=76<br>MonthlyIncome=%{x}<br>DebtRatio=%{y}<br>SeriousDlqin2yrs=%{marker.color}<extra></extra>",
           "legendgroup": "",
           "marker": {
            "color": [
             0,
             0,
             0,
             0,
             0,
             0,
             0,
             0,
             0,
             0
            ],
            "coloraxis": "coloraxis",
            "symbol": "circle"
           },
           "mode": "markers",
           "name": "",
           "orientation": "v",
           "showlegend": false,
           "type": "scatter",
           "x": [
            6670.221237392844,
            3743,
            6020,
            6670.221237392844,
            3668,
            8600,
            5706,
            1501,
            3125,
            1927
           ],
           "xaxis": "x",
           "y": [
            157,
            0,
            0.201627637,
            454,
            0.005451077,
            0.525055226,
            0.406167864,
            0.023302264,
            0.183301344,
            0.210580913
           ],
           "yaxis": "y"
          }
         ],
         "name": "76"
        },
        {
         "data": [
          {
           "hovertemplate": "age=77<br>MonthlyIncome=%{x}<br>DebtRatio=%{y}<br>SeriousDlqin2yrs=%{marker.color}<extra></extra>",
           "legendgroup": "",
           "marker": {
            "color": [
             0,
             0,
             0,
             0,
             0,
             0,
             0,
             0,
             0,
             0,
             0,
             0,
             0,
             0,
             0,
             0,
             0
            ],
            "coloraxis": "coloraxis",
            "symbol": "circle"
           },
           "mode": "markers",
           "name": "",
           "orientation": "v",
           "showlegend": false,
           "type": "scatter",
           "x": [
            6655,
            6670.221237392844,
            1856,
            6670.221237392844,
            6670.221237392844,
            6670.221237392844,
            5000,
            10073,
            6670.221237392844,
            3551,
            3500,
            6670.221237392844,
            6670.221237392844,
            3000,
            5000,
            1944,
            17251
           ],
           "xaxis": "x",
           "y": [
            0.030498798,
            1180,
            0.126548196,
            104,
            2376,
            369,
            0.00759848,
            0.5376216,
            302,
            0.262387387,
            0.387603542,
            487,
            19,
            0.000333222,
            0.061187762,
            0.00874036,
            0.099408764
           ],
           "yaxis": "y"
          }
         ],
         "name": "77"
        },
        {
         "data": [
          {
           "hovertemplate": "age=78<br>MonthlyIncome=%{x}<br>DebtRatio=%{y}<br>SeriousDlqin2yrs=%{marker.color}<extra></extra>",
           "legendgroup": "",
           "marker": {
            "color": [
             1,
             0,
             0,
             0,
             0,
             0,
             0,
             0,
             0,
             0,
             0,
             0,
             0,
             0,
             0,
             0,
             0,
             1,
             0,
             0,
             0
            ],
            "coloraxis": "coloraxis",
            "symbol": "circle"
           },
           "mode": "markers",
           "name": "",
           "orientation": "v",
           "showlegend": false,
           "type": "scatter",
           "x": [
            6670.221237392844,
            1916,
            3500,
            5159,
            2850,
            6670.221237392844,
            5367,
            3750,
            10400,
            2118,
            4734,
            4516,
            4000,
            6670.221237392844,
            3800,
            7344,
            1986,
            7406,
            3834,
            2972,
            10227
           ],
           "xaxis": "x",
           "y": [
            340,
            0.410015649,
            0.017423593,
            0.472286822,
            0.035075412,
            35,
            0.00633383,
            0.090109304,
            0.656379194,
            0.63142992,
            0.253220697,
            0.262785034,
            0.049737566,
            502,
            0.101815312,
            0.602178353,
            0.424760946,
            0.626569461,
            0.278226858,
            0,
            0.202874462
           ],
           "yaxis": "y"
          }
         ],
         "name": "78"
        },
        {
         "data": [
          {
           "hovertemplate": "age=79<br>MonthlyIncome=%{x}<br>DebtRatio=%{y}<br>SeriousDlqin2yrs=%{marker.color}<extra></extra>",
           "legendgroup": "",
           "marker": {
            "color": [
             0,
             0,
             0,
             0,
             0,
             0,
             0,
             0,
             0,
             0,
             0,
             0,
             0,
             0,
             0,
             0,
             0,
             0,
             0,
             0,
             0
            ],
            "coloraxis": "coloraxis",
            "symbol": "circle"
           },
           "mode": "markers",
           "name": "",
           "orientation": "v",
           "showlegend": false,
           "type": "scatter",
           "x": [
            7310,
            6670.221237392844,
            4000,
            5000,
            8300,
            3500,
            836,
            3200,
            3676,
            6670.221237392844,
            4700,
            4522,
            3300,
            6000,
            6670.221237392844,
            10500,
            11699,
            6670.221237392844,
            6670.221237392844,
            6670.221237392844,
            6670.221237392844
           ],
           "xaxis": "x",
           "y": [
            0.320886336,
            3,
            0.002749313,
            0.224555089,
            0.079026623,
            0.159954299,
            0.618876941,
            0.812870978,
            0.001359804,
            2433,
            0.027228249,
            0.23059916,
            0.274765223,
            0.009831695,
            12,
            0.006094658,
            0.150940171,
            3057,
            0,
            272,
            25
           ],
           "yaxis": "y"
          }
         ],
         "name": "79"
        },
        {
         "data": [
          {
           "hovertemplate": "age=80<br>MonthlyIncome=%{x}<br>DebtRatio=%{y}<br>SeriousDlqin2yrs=%{marker.color}<extra></extra>",
           "legendgroup": "",
           "marker": {
            "color": [
             0,
             0,
             0,
             0,
             0,
             0,
             0,
             0,
             0,
             0,
             0,
             0,
             0,
             0,
             0
            ],
            "coloraxis": "coloraxis",
            "symbol": "circle"
           },
           "mode": "markers",
           "name": "",
           "orientation": "v",
           "showlegend": false,
           "type": "scatter",
           "x": [
            2800,
            6670.221237392844,
            6670.221237392844,
            646,
            647,
            6000,
            10000,
            6670.221237392844,
            6670.221237392844,
            6670.221237392844,
            3484,
            4700,
            6670.221237392844,
            7237,
            5000
           ],
           "xaxis": "x",
           "y": [
            0.022491967,
            1482,
            846,
            7.494590417,
            0.390432099,
            0.01049825,
            0.087691231,
            0,
            28,
            8,
            0.002295552,
            0.215486067,
            3355,
            0.128212213,
            0.286742651
           ],
           "yaxis": "y"
          }
         ],
         "name": "80"
        },
        {
         "data": [
          {
           "hovertemplate": "age=81<br>MonthlyIncome=%{x}<br>DebtRatio=%{y}<br>SeriousDlqin2yrs=%{marker.color}<extra></extra>",
           "legendgroup": "",
           "marker": {
            "color": [
             0,
             0,
             0,
             0
            ],
            "coloraxis": "coloraxis",
            "symbol": "circle"
           },
           "mode": "markers",
           "name": "",
           "orientation": "v",
           "showlegend": false,
           "type": "scatter",
           "x": [
            4500,
            0,
            3500,
            6670.221237392844
           ],
           "xaxis": "x",
           "y": [
            0.226171962,
            892,
            0.006569552,
            0
           ],
           "yaxis": "y"
          }
         ],
         "name": "81"
        },
        {
         "data": [
          {
           "hovertemplate": "age=82<br>MonthlyIncome=%{x}<br>DebtRatio=%{y}<br>SeriousDlqin2yrs=%{marker.color}<extra></extra>",
           "legendgroup": "",
           "marker": {
            "color": [
             0,
             0,
             0,
             0,
             0,
             0
            ],
            "coloraxis": "coloraxis",
            "symbol": "circle"
           },
           "mode": "markers",
           "name": "",
           "orientation": "v",
           "showlegend": false,
           "type": "scatter",
           "x": [
            17000,
            6670.221237392844,
            6670.221237392844,
            3166,
            400,
            1400
           ],
           "xaxis": "x",
           "y": [
            0.190282925,
            278,
            30,
            0.362488159,
            0.159600998,
            0.215560314
           ],
           "yaxis": "y"
          }
         ],
         "name": "82"
        },
        {
         "data": [
          {
           "hovertemplate": "age=83<br>MonthlyIncome=%{x}<br>DebtRatio=%{y}<br>SeriousDlqin2yrs=%{marker.color}<extra></extra>",
           "legendgroup": "",
           "marker": {
            "color": [
             0,
             0,
             0
            ],
            "coloraxis": "coloraxis",
            "symbol": "circle"
           },
           "mode": "markers",
           "name": "",
           "orientation": "v",
           "showlegend": false,
           "type": "scatter",
           "x": [
            5503,
            3000,
            6558
           ],
           "xaxis": "x",
           "y": [
            0.354287791,
            0.233922026,
            0.086293642
           ],
           "yaxis": "y"
          }
         ],
         "name": "83"
        },
        {
         "data": [
          {
           "hovertemplate": "age=84<br>MonthlyIncome=%{x}<br>DebtRatio=%{y}<br>SeriousDlqin2yrs=%{marker.color}<extra></extra>",
           "legendgroup": "",
           "marker": {
            "color": [
             0,
             0,
             0,
             0,
             0,
             0
            ],
            "coloraxis": "coloraxis",
            "symbol": "circle"
           },
           "mode": "markers",
           "name": "",
           "orientation": "v",
           "showlegend": false,
           "type": "scatter",
           "x": [
            5000,
            6670.221237392844,
            2501,
            2400,
            2166,
            6670.221237392844
           ],
           "xaxis": "x",
           "y": [
            0.012797441,
            1347,
            0.026378897,
            0.278633903,
            0.070604522,
            20
           ],
           "yaxis": "y"
          }
         ],
         "name": "84"
        },
        {
         "data": [
          {
           "hovertemplate": "age=85<br>MonthlyIncome=%{x}<br>DebtRatio=%{y}<br>SeriousDlqin2yrs=%{marker.color}<extra></extra>",
           "legendgroup": "",
           "marker": {
            "color": [
             0,
             0
            ],
            "coloraxis": "coloraxis",
            "symbol": "circle"
           },
           "mode": "markers",
           "name": "",
           "orientation": "v",
           "showlegend": false,
           "type": "scatter",
           "x": [
            3334,
            6670.221237392844
           ],
           "xaxis": "x",
           "y": [
            0.018890555,
            1095
           ],
           "yaxis": "y"
          }
         ],
         "name": "85"
        },
        {
         "data": [
          {
           "hovertemplate": "age=86<br>MonthlyIncome=%{x}<br>DebtRatio=%{y}<br>SeriousDlqin2yrs=%{marker.color}<extra></extra>",
           "legendgroup": "",
           "marker": {
            "color": [
             0,
             0,
             0,
             0
            ],
            "coloraxis": "coloraxis",
            "symbol": "circle"
           },
           "mode": "markers",
           "name": "",
           "orientation": "v",
           "showlegend": false,
           "type": "scatter",
           "x": [
            3670,
            3001,
            5716,
            6670.221237392844
           ],
           "xaxis": "x",
           "y": [
            0.206210842,
            0.351432378,
            0.157775057,
            12
           ],
           "yaxis": "y"
          }
         ],
         "name": "86"
        },
        {
         "data": [
          {
           "hovertemplate": "age=87<br>MonthlyIncome=%{x}<br>DebtRatio=%{y}<br>SeriousDlqin2yrs=%{marker.color}<extra></extra>",
           "legendgroup": "",
           "marker": {
            "color": [
             0,
             0,
             0
            ],
            "coloraxis": "coloraxis",
            "symbol": "circle"
           },
           "mode": "markers",
           "name": "",
           "orientation": "v",
           "showlegend": false,
           "type": "scatter",
           "x": [
            6670.221237392844,
            6670.221237392844,
            6670.221237392844
           ],
           "xaxis": "x",
           "y": [
            0,
            10,
            25
           ],
           "yaxis": "y"
          }
         ],
         "name": "87"
        },
        {
         "data": [
          {
           "hovertemplate": "age=88<br>MonthlyIncome=%{x}<br>DebtRatio=%{y}<br>SeriousDlqin2yrs=%{marker.color}<extra></extra>",
           "legendgroup": "",
           "marker": {
            "color": [
             0,
             0,
             0,
             0,
             0
            ],
            "coloraxis": "coloraxis",
            "symbol": "circle"
           },
           "mode": "markers",
           "name": "",
           "orientation": "v",
           "showlegend": false,
           "type": "scatter",
           "x": [
            6670.221237392844,
            10500,
            4150,
            9433,
            6670.221237392844
           ],
           "xaxis": "x",
           "y": [
            19,
            0.099609561,
            0.000963623,
            0,
            664
           ],
           "yaxis": "y"
          }
         ],
         "name": "88"
        },
        {
         "data": [
          {
           "hovertemplate": "age=89<br>MonthlyIncome=%{x}<br>DebtRatio=%{y}<br>SeriousDlqin2yrs=%{marker.color}<extra></extra>",
           "legendgroup": "",
           "marker": {
            "color": [
             1,
             0,
             0,
             0,
             0,
             0
            ],
            "coloraxis": "coloraxis",
            "symbol": "circle"
           },
           "mode": "markers",
           "name": "",
           "orientation": "v",
           "showlegend": false,
           "type": "scatter",
           "x": [
            15366,
            4806,
            4000,
            10500,
            1502,
            4865
           ],
           "xaxis": "x",
           "y": [
            0.527493981,
            0.271271063,
            0.003249188,
            0.0059042,
            0.019294744,
            0.004521167
           ],
           "yaxis": "y"
          }
         ],
         "name": "89"
        },
        {
         "data": [
          {
           "hovertemplate": "age=90<br>MonthlyIncome=%{x}<br>DebtRatio=%{y}<br>SeriousDlqin2yrs=%{marker.color}<extra></extra>",
           "legendgroup": "",
           "marker": {
            "color": [
             0,
             0
            ],
            "coloraxis": "coloraxis",
            "symbol": "circle"
           },
           "mode": "markers",
           "name": "",
           "orientation": "v",
           "showlegend": false,
           "type": "scatter",
           "x": [
            6670.221237392844,
            10500
           ],
           "xaxis": "x",
           "y": [
            290,
            0.000285687
           ],
           "yaxis": "y"
          }
         ],
         "name": "90"
        },
        {
         "data": [
          {
           "hovertemplate": "age=91<br>MonthlyIncome=%{x}<br>DebtRatio=%{y}<br>SeriousDlqin2yrs=%{marker.color}<extra></extra>",
           "legendgroup": "",
           "marker": {
            "color": [
             0,
             0
            ],
            "coloraxis": "coloraxis",
            "symbol": "circle"
           },
           "mode": "markers",
           "name": "",
           "orientation": "v",
           "showlegend": false,
           "type": "scatter",
           "x": [
            7991,
            2538
           ],
           "xaxis": "x",
           "y": [
            0.004254254,
            0.609688854
           ],
           "yaxis": "y"
          }
         ],
         "name": "91"
        },
        {
         "data": [
          {
           "hovertemplate": "age=92<br>MonthlyIncome=%{x}<br>DebtRatio=%{y}<br>SeriousDlqin2yrs=%{marker.color}<extra></extra>",
           "legendgroup": "",
           "marker": {
            "color": [
             0
            ],
            "coloraxis": "coloraxis",
            "symbol": "circle"
           },
           "mode": "markers",
           "name": "",
           "orientation": "v",
           "showlegend": false,
           "type": "scatter",
           "x": [
            10500
           ],
           "xaxis": "x",
           "y": [
            0.003333016
           ],
           "yaxis": "y"
          }
         ],
         "name": "92"
        }
       ],
       "layout": {
        "coloraxis": {
         "colorbar": {
          "title": {
           "text": "SeriousDlqin2yrs"
          }
         },
         "colorscale": [
          [
           0,
           "#0d0887"
          ],
          [
           0.1111111111111111,
           "#46039f"
          ],
          [
           0.2222222222222222,
           "#7201a8"
          ],
          [
           0.3333333333333333,
           "#9c179e"
          ],
          [
           0.4444444444444444,
           "#bd3786"
          ],
          [
           0.5555555555555556,
           "#d8576b"
          ],
          [
           0.6666666666666666,
           "#ed7953"
          ],
          [
           0.7777777777777778,
           "#fb9f3a"
          ],
          [
           0.8888888888888888,
           "#fdca26"
          ],
          [
           1,
           "#f0f921"
          ]
         ]
        },
        "legend": {
         "tracegroupgap": 0
        },
        "margin": {
         "t": 60
        },
        "sliders": [
         {
          "active": 0,
          "currentvalue": {
           "prefix": "age="
          },
          "len": 0.9,
          "pad": {
           "b": 10,
           "t": 60
          },
          "steps": [
           {
            "args": [
             [
              "21"
             ],
             {
              "frame": {
               "duration": 0,
               "redraw": false
              },
              "fromcurrent": true,
              "mode": "immediate",
              "transition": {
               "duration": 0,
               "easing": "linear"
              }
             }
            ],
            "label": "21",
            "method": "animate"
           },
           {
            "args": [
             [
              "22"
             ],
             {
              "frame": {
               "duration": 0,
               "redraw": false
              },
              "fromcurrent": true,
              "mode": "immediate",
              "transition": {
               "duration": 0,
               "easing": "linear"
              }
             }
            ],
            "label": "22",
            "method": "animate"
           },
           {
            "args": [
             [
              "23"
             ],
             {
              "frame": {
               "duration": 0,
               "redraw": false
              },
              "fromcurrent": true,
              "mode": "immediate",
              "transition": {
               "duration": 0,
               "easing": "linear"
              }
             }
            ],
            "label": "23",
            "method": "animate"
           },
           {
            "args": [
             [
              "24"
             ],
             {
              "frame": {
               "duration": 0,
               "redraw": false
              },
              "fromcurrent": true,
              "mode": "immediate",
              "transition": {
               "duration": 0,
               "easing": "linear"
              }
             }
            ],
            "label": "24",
            "method": "animate"
           },
           {
            "args": [
             [
              "25"
             ],
             {
              "frame": {
               "duration": 0,
               "redraw": false
              },
              "fromcurrent": true,
              "mode": "immediate",
              "transition": {
               "duration": 0,
               "easing": "linear"
              }
             }
            ],
            "label": "25",
            "method": "animate"
           },
           {
            "args": [
             [
              "26"
             ],
             {
              "frame": {
               "duration": 0,
               "redraw": false
              },
              "fromcurrent": true,
              "mode": "immediate",
              "transition": {
               "duration": 0,
               "easing": "linear"
              }
             }
            ],
            "label": "26",
            "method": "animate"
           },
           {
            "args": [
             [
              "27"
             ],
             {
              "frame": {
               "duration": 0,
               "redraw": false
              },
              "fromcurrent": true,
              "mode": "immediate",
              "transition": {
               "duration": 0,
               "easing": "linear"
              }
             }
            ],
            "label": "27",
            "method": "animate"
           },
           {
            "args": [
             [
              "28"
             ],
             {
              "frame": {
               "duration": 0,
               "redraw": false
              },
              "fromcurrent": true,
              "mode": "immediate",
              "transition": {
               "duration": 0,
               "easing": "linear"
              }
             }
            ],
            "label": "28",
            "method": "animate"
           },
           {
            "args": [
             [
              "29"
             ],
             {
              "frame": {
               "duration": 0,
               "redraw": false
              },
              "fromcurrent": true,
              "mode": "immediate",
              "transition": {
               "duration": 0,
               "easing": "linear"
              }
             }
            ],
            "label": "29",
            "method": "animate"
           },
           {
            "args": [
             [
              "30"
             ],
             {
              "frame": {
               "duration": 0,
               "redraw": false
              },
              "fromcurrent": true,
              "mode": "immediate",
              "transition": {
               "duration": 0,
               "easing": "linear"
              }
             }
            ],
            "label": "30",
            "method": "animate"
           },
           {
            "args": [
             [
              "31"
             ],
             {
              "frame": {
               "duration": 0,
               "redraw": false
              },
              "fromcurrent": true,
              "mode": "immediate",
              "transition": {
               "duration": 0,
               "easing": "linear"
              }
             }
            ],
            "label": "31",
            "method": "animate"
           },
           {
            "args": [
             [
              "32"
             ],
             {
              "frame": {
               "duration": 0,
               "redraw": false
              },
              "fromcurrent": true,
              "mode": "immediate",
              "transition": {
               "duration": 0,
               "easing": "linear"
              }
             }
            ],
            "label": "32",
            "method": "animate"
           },
           {
            "args": [
             [
              "33"
             ],
             {
              "frame": {
               "duration": 0,
               "redraw": false
              },
              "fromcurrent": true,
              "mode": "immediate",
              "transition": {
               "duration": 0,
               "easing": "linear"
              }
             }
            ],
            "label": "33",
            "method": "animate"
           },
           {
            "args": [
             [
              "34"
             ],
             {
              "frame": {
               "duration": 0,
               "redraw": false
              },
              "fromcurrent": true,
              "mode": "immediate",
              "transition": {
               "duration": 0,
               "easing": "linear"
              }
             }
            ],
            "label": "34",
            "method": "animate"
           },
           {
            "args": [
             [
              "35"
             ],
             {
              "frame": {
               "duration": 0,
               "redraw": false
              },
              "fromcurrent": true,
              "mode": "immediate",
              "transition": {
               "duration": 0,
               "easing": "linear"
              }
             }
            ],
            "label": "35",
            "method": "animate"
           },
           {
            "args": [
             [
              "36"
             ],
             {
              "frame": {
               "duration": 0,
               "redraw": false
              },
              "fromcurrent": true,
              "mode": "immediate",
              "transition": {
               "duration": 0,
               "easing": "linear"
              }
             }
            ],
            "label": "36",
            "method": "animate"
           },
           {
            "args": [
             [
              "37"
             ],
             {
              "frame": {
               "duration": 0,
               "redraw": false
              },
              "fromcurrent": true,
              "mode": "immediate",
              "transition": {
               "duration": 0,
               "easing": "linear"
              }
             }
            ],
            "label": "37",
            "method": "animate"
           },
           {
            "args": [
             [
              "38"
             ],
             {
              "frame": {
               "duration": 0,
               "redraw": false
              },
              "fromcurrent": true,
              "mode": "immediate",
              "transition": {
               "duration": 0,
               "easing": "linear"
              }
             }
            ],
            "label": "38",
            "method": "animate"
           },
           {
            "args": [
             [
              "39"
             ],
             {
              "frame": {
               "duration": 0,
               "redraw": false
              },
              "fromcurrent": true,
              "mode": "immediate",
              "transition": {
               "duration": 0,
               "easing": "linear"
              }
             }
            ],
            "label": "39",
            "method": "animate"
           },
           {
            "args": [
             [
              "40"
             ],
             {
              "frame": {
               "duration": 0,
               "redraw": false
              },
              "fromcurrent": true,
              "mode": "immediate",
              "transition": {
               "duration": 0,
               "easing": "linear"
              }
             }
            ],
            "label": "40",
            "method": "animate"
           },
           {
            "args": [
             [
              "41"
             ],
             {
              "frame": {
               "duration": 0,
               "redraw": false
              },
              "fromcurrent": true,
              "mode": "immediate",
              "transition": {
               "duration": 0,
               "easing": "linear"
              }
             }
            ],
            "label": "41",
            "method": "animate"
           },
           {
            "args": [
             [
              "42"
             ],
             {
              "frame": {
               "duration": 0,
               "redraw": false
              },
              "fromcurrent": true,
              "mode": "immediate",
              "transition": {
               "duration": 0,
               "easing": "linear"
              }
             }
            ],
            "label": "42",
            "method": "animate"
           },
           {
            "args": [
             [
              "43"
             ],
             {
              "frame": {
               "duration": 0,
               "redraw": false
              },
              "fromcurrent": true,
              "mode": "immediate",
              "transition": {
               "duration": 0,
               "easing": "linear"
              }
             }
            ],
            "label": "43",
            "method": "animate"
           },
           {
            "args": [
             [
              "44"
             ],
             {
              "frame": {
               "duration": 0,
               "redraw": false
              },
              "fromcurrent": true,
              "mode": "immediate",
              "transition": {
               "duration": 0,
               "easing": "linear"
              }
             }
            ],
            "label": "44",
            "method": "animate"
           },
           {
            "args": [
             [
              "45"
             ],
             {
              "frame": {
               "duration": 0,
               "redraw": false
              },
              "fromcurrent": true,
              "mode": "immediate",
              "transition": {
               "duration": 0,
               "easing": "linear"
              }
             }
            ],
            "label": "45",
            "method": "animate"
           },
           {
            "args": [
             [
              "46"
             ],
             {
              "frame": {
               "duration": 0,
               "redraw": false
              },
              "fromcurrent": true,
              "mode": "immediate",
              "transition": {
               "duration": 0,
               "easing": "linear"
              }
             }
            ],
            "label": "46",
            "method": "animate"
           },
           {
            "args": [
             [
              "47"
             ],
             {
              "frame": {
               "duration": 0,
               "redraw": false
              },
              "fromcurrent": true,
              "mode": "immediate",
              "transition": {
               "duration": 0,
               "easing": "linear"
              }
             }
            ],
            "label": "47",
            "method": "animate"
           },
           {
            "args": [
             [
              "48"
             ],
             {
              "frame": {
               "duration": 0,
               "redraw": false
              },
              "fromcurrent": true,
              "mode": "immediate",
              "transition": {
               "duration": 0,
               "easing": "linear"
              }
             }
            ],
            "label": "48",
            "method": "animate"
           },
           {
            "args": [
             [
              "49"
             ],
             {
              "frame": {
               "duration": 0,
               "redraw": false
              },
              "fromcurrent": true,
              "mode": "immediate",
              "transition": {
               "duration": 0,
               "easing": "linear"
              }
             }
            ],
            "label": "49",
            "method": "animate"
           },
           {
            "args": [
             [
              "50"
             ],
             {
              "frame": {
               "duration": 0,
               "redraw": false
              },
              "fromcurrent": true,
              "mode": "immediate",
              "transition": {
               "duration": 0,
               "easing": "linear"
              }
             }
            ],
            "label": "50",
            "method": "animate"
           },
           {
            "args": [
             [
              "51"
             ],
             {
              "frame": {
               "duration": 0,
               "redraw": false
              },
              "fromcurrent": true,
              "mode": "immediate",
              "transition": {
               "duration": 0,
               "easing": "linear"
              }
             }
            ],
            "label": "51",
            "method": "animate"
           },
           {
            "args": [
             [
              "52"
             ],
             {
              "frame": {
               "duration": 0,
               "redraw": false
              },
              "fromcurrent": true,
              "mode": "immediate",
              "transition": {
               "duration": 0,
               "easing": "linear"
              }
             }
            ],
            "label": "52",
            "method": "animate"
           },
           {
            "args": [
             [
              "53"
             ],
             {
              "frame": {
               "duration": 0,
               "redraw": false
              },
              "fromcurrent": true,
              "mode": "immediate",
              "transition": {
               "duration": 0,
               "easing": "linear"
              }
             }
            ],
            "label": "53",
            "method": "animate"
           },
           {
            "args": [
             [
              "54"
             ],
             {
              "frame": {
               "duration": 0,
               "redraw": false
              },
              "fromcurrent": true,
              "mode": "immediate",
              "transition": {
               "duration": 0,
               "easing": "linear"
              }
             }
            ],
            "label": "54",
            "method": "animate"
           },
           {
            "args": [
             [
              "55"
             ],
             {
              "frame": {
               "duration": 0,
               "redraw": false
              },
              "fromcurrent": true,
              "mode": "immediate",
              "transition": {
               "duration": 0,
               "easing": "linear"
              }
             }
            ],
            "label": "55",
            "method": "animate"
           },
           {
            "args": [
             [
              "56"
             ],
             {
              "frame": {
               "duration": 0,
               "redraw": false
              },
              "fromcurrent": true,
              "mode": "immediate",
              "transition": {
               "duration": 0,
               "easing": "linear"
              }
             }
            ],
            "label": "56",
            "method": "animate"
           },
           {
            "args": [
             [
              "57"
             ],
             {
              "frame": {
               "duration": 0,
               "redraw": false
              },
              "fromcurrent": true,
              "mode": "immediate",
              "transition": {
               "duration": 0,
               "easing": "linear"
              }
             }
            ],
            "label": "57",
            "method": "animate"
           },
           {
            "args": [
             [
              "58"
             ],
             {
              "frame": {
               "duration": 0,
               "redraw": false
              },
              "fromcurrent": true,
              "mode": "immediate",
              "transition": {
               "duration": 0,
               "easing": "linear"
              }
             }
            ],
            "label": "58",
            "method": "animate"
           },
           {
            "args": [
             [
              "59"
             ],
             {
              "frame": {
               "duration": 0,
               "redraw": false
              },
              "fromcurrent": true,
              "mode": "immediate",
              "transition": {
               "duration": 0,
               "easing": "linear"
              }
             }
            ],
            "label": "59",
            "method": "animate"
           },
           {
            "args": [
             [
              "60"
             ],
             {
              "frame": {
               "duration": 0,
               "redraw": false
              },
              "fromcurrent": true,
              "mode": "immediate",
              "transition": {
               "duration": 0,
               "easing": "linear"
              }
             }
            ],
            "label": "60",
            "method": "animate"
           },
           {
            "args": [
             [
              "61"
             ],
             {
              "frame": {
               "duration": 0,
               "redraw": false
              },
              "fromcurrent": true,
              "mode": "immediate",
              "transition": {
               "duration": 0,
               "easing": "linear"
              }
             }
            ],
            "label": "61",
            "method": "animate"
           },
           {
            "args": [
             [
              "62"
             ],
             {
              "frame": {
               "duration": 0,
               "redraw": false
              },
              "fromcurrent": true,
              "mode": "immediate",
              "transition": {
               "duration": 0,
               "easing": "linear"
              }
             }
            ],
            "label": "62",
            "method": "animate"
           },
           {
            "args": [
             [
              "63"
             ],
             {
              "frame": {
               "duration": 0,
               "redraw": false
              },
              "fromcurrent": true,
              "mode": "immediate",
              "transition": {
               "duration": 0,
               "easing": "linear"
              }
             }
            ],
            "label": "63",
            "method": "animate"
           },
           {
            "args": [
             [
              "64"
             ],
             {
              "frame": {
               "duration": 0,
               "redraw": false
              },
              "fromcurrent": true,
              "mode": "immediate",
              "transition": {
               "duration": 0,
               "easing": "linear"
              }
             }
            ],
            "label": "64",
            "method": "animate"
           },
           {
            "args": [
             [
              "65"
             ],
             {
              "frame": {
               "duration": 0,
               "redraw": false
              },
              "fromcurrent": true,
              "mode": "immediate",
              "transition": {
               "duration": 0,
               "easing": "linear"
              }
             }
            ],
            "label": "65",
            "method": "animate"
           },
           {
            "args": [
             [
              "66"
             ],
             {
              "frame": {
               "duration": 0,
               "redraw": false
              },
              "fromcurrent": true,
              "mode": "immediate",
              "transition": {
               "duration": 0,
               "easing": "linear"
              }
             }
            ],
            "label": "66",
            "method": "animate"
           },
           {
            "args": [
             [
              "67"
             ],
             {
              "frame": {
               "duration": 0,
               "redraw": false
              },
              "fromcurrent": true,
              "mode": "immediate",
              "transition": {
               "duration": 0,
               "easing": "linear"
              }
             }
            ],
            "label": "67",
            "method": "animate"
           },
           {
            "args": [
             [
              "68"
             ],
             {
              "frame": {
               "duration": 0,
               "redraw": false
              },
              "fromcurrent": true,
              "mode": "immediate",
              "transition": {
               "duration": 0,
               "easing": "linear"
              }
             }
            ],
            "label": "68",
            "method": "animate"
           },
           {
            "args": [
             [
              "69"
             ],
             {
              "frame": {
               "duration": 0,
               "redraw": false
              },
              "fromcurrent": true,
              "mode": "immediate",
              "transition": {
               "duration": 0,
               "easing": "linear"
              }
             }
            ],
            "label": "69",
            "method": "animate"
           },
           {
            "args": [
             [
              "70"
             ],
             {
              "frame": {
               "duration": 0,
               "redraw": false
              },
              "fromcurrent": true,
              "mode": "immediate",
              "transition": {
               "duration": 0,
               "easing": "linear"
              }
             }
            ],
            "label": "70",
            "method": "animate"
           },
           {
            "args": [
             [
              "71"
             ],
             {
              "frame": {
               "duration": 0,
               "redraw": false
              },
              "fromcurrent": true,
              "mode": "immediate",
              "transition": {
               "duration": 0,
               "easing": "linear"
              }
             }
            ],
            "label": "71",
            "method": "animate"
           },
           {
            "args": [
             [
              "72"
             ],
             {
              "frame": {
               "duration": 0,
               "redraw": false
              },
              "fromcurrent": true,
              "mode": "immediate",
              "transition": {
               "duration": 0,
               "easing": "linear"
              }
             }
            ],
            "label": "72",
            "method": "animate"
           },
           {
            "args": [
             [
              "73"
             ],
             {
              "frame": {
               "duration": 0,
               "redraw": false
              },
              "fromcurrent": true,
              "mode": "immediate",
              "transition": {
               "duration": 0,
               "easing": "linear"
              }
             }
            ],
            "label": "73",
            "method": "animate"
           },
           {
            "args": [
             [
              "74"
             ],
             {
              "frame": {
               "duration": 0,
               "redraw": false
              },
              "fromcurrent": true,
              "mode": "immediate",
              "transition": {
               "duration": 0,
               "easing": "linear"
              }
             }
            ],
            "label": "74",
            "method": "animate"
           },
           {
            "args": [
             [
              "75"
             ],
             {
              "frame": {
               "duration": 0,
               "redraw": false
              },
              "fromcurrent": true,
              "mode": "immediate",
              "transition": {
               "duration": 0,
               "easing": "linear"
              }
             }
            ],
            "label": "75",
            "method": "animate"
           },
           {
            "args": [
             [
              "76"
             ],
             {
              "frame": {
               "duration": 0,
               "redraw": false
              },
              "fromcurrent": true,
              "mode": "immediate",
              "transition": {
               "duration": 0,
               "easing": "linear"
              }
             }
            ],
            "label": "76",
            "method": "animate"
           },
           {
            "args": [
             [
              "77"
             ],
             {
              "frame": {
               "duration": 0,
               "redraw": false
              },
              "fromcurrent": true,
              "mode": "immediate",
              "transition": {
               "duration": 0,
               "easing": "linear"
              }
             }
            ],
            "label": "77",
            "method": "animate"
           },
           {
            "args": [
             [
              "78"
             ],
             {
              "frame": {
               "duration": 0,
               "redraw": false
              },
              "fromcurrent": true,
              "mode": "immediate",
              "transition": {
               "duration": 0,
               "easing": "linear"
              }
             }
            ],
            "label": "78",
            "method": "animate"
           },
           {
            "args": [
             [
              "79"
             ],
             {
              "frame": {
               "duration": 0,
               "redraw": false
              },
              "fromcurrent": true,
              "mode": "immediate",
              "transition": {
               "duration": 0,
               "easing": "linear"
              }
             }
            ],
            "label": "79",
            "method": "animate"
           },
           {
            "args": [
             [
              "80"
             ],
             {
              "frame": {
               "duration": 0,
               "redraw": false
              },
              "fromcurrent": true,
              "mode": "immediate",
              "transition": {
               "duration": 0,
               "easing": "linear"
              }
             }
            ],
            "label": "80",
            "method": "animate"
           },
           {
            "args": [
             [
              "81"
             ],
             {
              "frame": {
               "duration": 0,
               "redraw": false
              },
              "fromcurrent": true,
              "mode": "immediate",
              "transition": {
               "duration": 0,
               "easing": "linear"
              }
             }
            ],
            "label": "81",
            "method": "animate"
           },
           {
            "args": [
             [
              "82"
             ],
             {
              "frame": {
               "duration": 0,
               "redraw": false
              },
              "fromcurrent": true,
              "mode": "immediate",
              "transition": {
               "duration": 0,
               "easing": "linear"
              }
             }
            ],
            "label": "82",
            "method": "animate"
           },
           {
            "args": [
             [
              "83"
             ],
             {
              "frame": {
               "duration": 0,
               "redraw": false
              },
              "fromcurrent": true,
              "mode": "immediate",
              "transition": {
               "duration": 0,
               "easing": "linear"
              }
             }
            ],
            "label": "83",
            "method": "animate"
           },
           {
            "args": [
             [
              "84"
             ],
             {
              "frame": {
               "duration": 0,
               "redraw": false
              },
              "fromcurrent": true,
              "mode": "immediate",
              "transition": {
               "duration": 0,
               "easing": "linear"
              }
             }
            ],
            "label": "84",
            "method": "animate"
           },
           {
            "args": [
             [
              "85"
             ],
             {
              "frame": {
               "duration": 0,
               "redraw": false
              },
              "fromcurrent": true,
              "mode": "immediate",
              "transition": {
               "duration": 0,
               "easing": "linear"
              }
             }
            ],
            "label": "85",
            "method": "animate"
           },
           {
            "args": [
             [
              "86"
             ],
             {
              "frame": {
               "duration": 0,
               "redraw": false
              },
              "fromcurrent": true,
              "mode": "immediate",
              "transition": {
               "duration": 0,
               "easing": "linear"
              }
             }
            ],
            "label": "86",
            "method": "animate"
           },
           {
            "args": [
             [
              "87"
             ],
             {
              "frame": {
               "duration": 0,
               "redraw": false
              },
              "fromcurrent": true,
              "mode": "immediate",
              "transition": {
               "duration": 0,
               "easing": "linear"
              }
             }
            ],
            "label": "87",
            "method": "animate"
           },
           {
            "args": [
             [
              "88"
             ],
             {
              "frame": {
               "duration": 0,
               "redraw": false
              },
              "fromcurrent": true,
              "mode": "immediate",
              "transition": {
               "duration": 0,
               "easing": "linear"
              }
             }
            ],
            "label": "88",
            "method": "animate"
           },
           {
            "args": [
             [
              "89"
             ],
             {
              "frame": {
               "duration": 0,
               "redraw": false
              },
              "fromcurrent": true,
              "mode": "immediate",
              "transition": {
               "duration": 0,
               "easing": "linear"
              }
             }
            ],
            "label": "89",
            "method": "animate"
           },
           {
            "args": [
             [
              "90"
             ],
             {
              "frame": {
               "duration": 0,
               "redraw": false
              },
              "fromcurrent": true,
              "mode": "immediate",
              "transition": {
               "duration": 0,
               "easing": "linear"
              }
             }
            ],
            "label": "90",
            "method": "animate"
           },
           {
            "args": [
             [
              "91"
             ],
             {
              "frame": {
               "duration": 0,
               "redraw": false
              },
              "fromcurrent": true,
              "mode": "immediate",
              "transition": {
               "duration": 0,
               "easing": "linear"
              }
             }
            ],
            "label": "91",
            "method": "animate"
           },
           {
            "args": [
             [
              "92"
             ],
             {
              "frame": {
               "duration": 0,
               "redraw": false
              },
              "fromcurrent": true,
              "mode": "immediate",
              "transition": {
               "duration": 0,
               "easing": "linear"
              }
             }
            ],
            "label": "92",
            "method": "animate"
           }
          ],
          "x": 0.1,
          "xanchor": "left",
          "y": 0,
          "yanchor": "top"
         }
        ],
        "template": {
         "data": {
          "bar": [
           {
            "error_x": {
             "color": "#2a3f5f"
            },
            "error_y": {
             "color": "#2a3f5f"
            },
            "marker": {
             "line": {
              "color": "#E5ECF6",
              "width": 0.5
             },
             "pattern": {
              "fillmode": "overlay",
              "size": 10,
              "solidity": 0.2
             }
            },
            "type": "bar"
           }
          ],
          "barpolar": [
           {
            "marker": {
             "line": {
              "color": "#E5ECF6",
              "width": 0.5
             },
             "pattern": {
              "fillmode": "overlay",
              "size": 10,
              "solidity": 0.2
             }
            },
            "type": "barpolar"
           }
          ],
          "carpet": [
           {
            "aaxis": {
             "endlinecolor": "#2a3f5f",
             "gridcolor": "white",
             "linecolor": "white",
             "minorgridcolor": "white",
             "startlinecolor": "#2a3f5f"
            },
            "baxis": {
             "endlinecolor": "#2a3f5f",
             "gridcolor": "white",
             "linecolor": "white",
             "minorgridcolor": "white",
             "startlinecolor": "#2a3f5f"
            },
            "type": "carpet"
           }
          ],
          "choropleth": [
           {
            "colorbar": {
             "outlinewidth": 0,
             "ticks": ""
            },
            "type": "choropleth"
           }
          ],
          "contour": [
           {
            "colorbar": {
             "outlinewidth": 0,
             "ticks": ""
            },
            "colorscale": [
             [
              0,
              "#0d0887"
             ],
             [
              0.1111111111111111,
              "#46039f"
             ],
             [
              0.2222222222222222,
              "#7201a8"
             ],
             [
              0.3333333333333333,
              "#9c179e"
             ],
             [
              0.4444444444444444,
              "#bd3786"
             ],
             [
              0.5555555555555556,
              "#d8576b"
             ],
             [
              0.6666666666666666,
              "#ed7953"
             ],
             [
              0.7777777777777778,
              "#fb9f3a"
             ],
             [
              0.8888888888888888,
              "#fdca26"
             ],
             [
              1,
              "#f0f921"
             ]
            ],
            "type": "contour"
           }
          ],
          "contourcarpet": [
           {
            "colorbar": {
             "outlinewidth": 0,
             "ticks": ""
            },
            "type": "contourcarpet"
           }
          ],
          "heatmap": [
           {
            "colorbar": {
             "outlinewidth": 0,
             "ticks": ""
            },
            "colorscale": [
             [
              0,
              "#0d0887"
             ],
             [
              0.1111111111111111,
              "#46039f"
             ],
             [
              0.2222222222222222,
              "#7201a8"
             ],
             [
              0.3333333333333333,
              "#9c179e"
             ],
             [
              0.4444444444444444,
              "#bd3786"
             ],
             [
              0.5555555555555556,
              "#d8576b"
             ],
             [
              0.6666666666666666,
              "#ed7953"
             ],
             [
              0.7777777777777778,
              "#fb9f3a"
             ],
             [
              0.8888888888888888,
              "#fdca26"
             ],
             [
              1,
              "#f0f921"
             ]
            ],
            "type": "heatmap"
           }
          ],
          "heatmapgl": [
           {
            "colorbar": {
             "outlinewidth": 0,
             "ticks": ""
            },
            "colorscale": [
             [
              0,
              "#0d0887"
             ],
             [
              0.1111111111111111,
              "#46039f"
             ],
             [
              0.2222222222222222,
              "#7201a8"
             ],
             [
              0.3333333333333333,
              "#9c179e"
             ],
             [
              0.4444444444444444,
              "#bd3786"
             ],
             [
              0.5555555555555556,
              "#d8576b"
             ],
             [
              0.6666666666666666,
              "#ed7953"
             ],
             [
              0.7777777777777778,
              "#fb9f3a"
             ],
             [
              0.8888888888888888,
              "#fdca26"
             ],
             [
              1,
              "#f0f921"
             ]
            ],
            "type": "heatmapgl"
           }
          ],
          "histogram": [
           {
            "marker": {
             "pattern": {
              "fillmode": "overlay",
              "size": 10,
              "solidity": 0.2
             }
            },
            "type": "histogram"
           }
          ],
          "histogram2d": [
           {
            "colorbar": {
             "outlinewidth": 0,
             "ticks": ""
            },
            "colorscale": [
             [
              0,
              "#0d0887"
             ],
             [
              0.1111111111111111,
              "#46039f"
             ],
             [
              0.2222222222222222,
              "#7201a8"
             ],
             [
              0.3333333333333333,
              "#9c179e"
             ],
             [
              0.4444444444444444,
              "#bd3786"
             ],
             [
              0.5555555555555556,
              "#d8576b"
             ],
             [
              0.6666666666666666,
              "#ed7953"
             ],
             [
              0.7777777777777778,
              "#fb9f3a"
             ],
             [
              0.8888888888888888,
              "#fdca26"
             ],
             [
              1,
              "#f0f921"
             ]
            ],
            "type": "histogram2d"
           }
          ],
          "histogram2dcontour": [
           {
            "colorbar": {
             "outlinewidth": 0,
             "ticks": ""
            },
            "colorscale": [
             [
              0,
              "#0d0887"
             ],
             [
              0.1111111111111111,
              "#46039f"
             ],
             [
              0.2222222222222222,
              "#7201a8"
             ],
             [
              0.3333333333333333,
              "#9c179e"
             ],
             [
              0.4444444444444444,
              "#bd3786"
             ],
             [
              0.5555555555555556,
              "#d8576b"
             ],
             [
              0.6666666666666666,
              "#ed7953"
             ],
             [
              0.7777777777777778,
              "#fb9f3a"
             ],
             [
              0.8888888888888888,
              "#fdca26"
             ],
             [
              1,
              "#f0f921"
             ]
            ],
            "type": "histogram2dcontour"
           }
          ],
          "mesh3d": [
           {
            "colorbar": {
             "outlinewidth": 0,
             "ticks": ""
            },
            "type": "mesh3d"
           }
          ],
          "parcoords": [
           {
            "line": {
             "colorbar": {
              "outlinewidth": 0,
              "ticks": ""
             }
            },
            "type": "parcoords"
           }
          ],
          "pie": [
           {
            "automargin": true,
            "type": "pie"
           }
          ],
          "scatter": [
           {
            "marker": {
             "colorbar": {
              "outlinewidth": 0,
              "ticks": ""
             }
            },
            "type": "scatter"
           }
          ],
          "scatter3d": [
           {
            "line": {
             "colorbar": {
              "outlinewidth": 0,
              "ticks": ""
             }
            },
            "marker": {
             "colorbar": {
              "outlinewidth": 0,
              "ticks": ""
             }
            },
            "type": "scatter3d"
           }
          ],
          "scattercarpet": [
           {
            "marker": {
             "colorbar": {
              "outlinewidth": 0,
              "ticks": ""
             }
            },
            "type": "scattercarpet"
           }
          ],
          "scattergeo": [
           {
            "marker": {
             "colorbar": {
              "outlinewidth": 0,
              "ticks": ""
             }
            },
            "type": "scattergeo"
           }
          ],
          "scattergl": [
           {
            "marker": {
             "colorbar": {
              "outlinewidth": 0,
              "ticks": ""
             }
            },
            "type": "scattergl"
           }
          ],
          "scattermapbox": [
           {
            "marker": {
             "colorbar": {
              "outlinewidth": 0,
              "ticks": ""
             }
            },
            "type": "scattermapbox"
           }
          ],
          "scatterpolar": [
           {
            "marker": {
             "colorbar": {
              "outlinewidth": 0,
              "ticks": ""
             }
            },
            "type": "scatterpolar"
           }
          ],
          "scatterpolargl": [
           {
            "marker": {
             "colorbar": {
              "outlinewidth": 0,
              "ticks": ""
             }
            },
            "type": "scatterpolargl"
           }
          ],
          "scatterternary": [
           {
            "marker": {
             "colorbar": {
              "outlinewidth": 0,
              "ticks": ""
             }
            },
            "type": "scatterternary"
           }
          ],
          "surface": [
           {
            "colorbar": {
             "outlinewidth": 0,
             "ticks": ""
            },
            "colorscale": [
             [
              0,
              "#0d0887"
             ],
             [
              0.1111111111111111,
              "#46039f"
             ],
             [
              0.2222222222222222,
              "#7201a8"
             ],
             [
              0.3333333333333333,
              "#9c179e"
             ],
             [
              0.4444444444444444,
              "#bd3786"
             ],
             [
              0.5555555555555556,
              "#d8576b"
             ],
             [
              0.6666666666666666,
              "#ed7953"
             ],
             [
              0.7777777777777778,
              "#fb9f3a"
             ],
             [
              0.8888888888888888,
              "#fdca26"
             ],
             [
              1,
              "#f0f921"
             ]
            ],
            "type": "surface"
           }
          ],
          "table": [
           {
            "cells": {
             "fill": {
              "color": "#EBF0F8"
             },
             "line": {
              "color": "white"
             }
            },
            "header": {
             "fill": {
              "color": "#C8D4E3"
             },
             "line": {
              "color": "white"
             }
            },
            "type": "table"
           }
          ]
         },
         "layout": {
          "annotationdefaults": {
           "arrowcolor": "#2a3f5f",
           "arrowhead": 0,
           "arrowwidth": 1
          },
          "autotypenumbers": "strict",
          "coloraxis": {
           "colorbar": {
            "outlinewidth": 0,
            "ticks": ""
           }
          },
          "colorscale": {
           "diverging": [
            [
             0,
             "#8e0152"
            ],
            [
             0.1,
             "#c51b7d"
            ],
            [
             0.2,
             "#de77ae"
            ],
            [
             0.3,
             "#f1b6da"
            ],
            [
             0.4,
             "#fde0ef"
            ],
            [
             0.5,
             "#f7f7f7"
            ],
            [
             0.6,
             "#e6f5d0"
            ],
            [
             0.7,
             "#b8e186"
            ],
            [
             0.8,
             "#7fbc41"
            ],
            [
             0.9,
             "#4d9221"
            ],
            [
             1,
             "#276419"
            ]
           ],
           "sequential": [
            [
             0,
             "#0d0887"
            ],
            [
             0.1111111111111111,
             "#46039f"
            ],
            [
             0.2222222222222222,
             "#7201a8"
            ],
            [
             0.3333333333333333,
             "#9c179e"
            ],
            [
             0.4444444444444444,
             "#bd3786"
            ],
            [
             0.5555555555555556,
             "#d8576b"
            ],
            [
             0.6666666666666666,
             "#ed7953"
            ],
            [
             0.7777777777777778,
             "#fb9f3a"
            ],
            [
             0.8888888888888888,
             "#fdca26"
            ],
            [
             1,
             "#f0f921"
            ]
           ],
           "sequentialminus": [
            [
             0,
             "#0d0887"
            ],
            [
             0.1111111111111111,
             "#46039f"
            ],
            [
             0.2222222222222222,
             "#7201a8"
            ],
            [
             0.3333333333333333,
             "#9c179e"
            ],
            [
             0.4444444444444444,
             "#bd3786"
            ],
            [
             0.5555555555555556,
             "#d8576b"
            ],
            [
             0.6666666666666666,
             "#ed7953"
            ],
            [
             0.7777777777777778,
             "#fb9f3a"
            ],
            [
             0.8888888888888888,
             "#fdca26"
            ],
            [
             1,
             "#f0f921"
            ]
           ]
          },
          "colorway": [
           "#636efa",
           "#EF553B",
           "#00cc96",
           "#ab63fa",
           "#FFA15A",
           "#19d3f3",
           "#FF6692",
           "#B6E880",
           "#FF97FF",
           "#FECB52"
          ],
          "font": {
           "color": "#2a3f5f"
          },
          "geo": {
           "bgcolor": "white",
           "lakecolor": "white",
           "landcolor": "#E5ECF6",
           "showlakes": true,
           "showland": true,
           "subunitcolor": "white"
          },
          "hoverlabel": {
           "align": "left"
          },
          "hovermode": "closest",
          "mapbox": {
           "style": "light"
          },
          "paper_bgcolor": "white",
          "plot_bgcolor": "#E5ECF6",
          "polar": {
           "angularaxis": {
            "gridcolor": "white",
            "linecolor": "white",
            "ticks": ""
           },
           "bgcolor": "#E5ECF6",
           "radialaxis": {
            "gridcolor": "white",
            "linecolor": "white",
            "ticks": ""
           }
          },
          "scene": {
           "xaxis": {
            "backgroundcolor": "#E5ECF6",
            "gridcolor": "white",
            "gridwidth": 2,
            "linecolor": "white",
            "showbackground": true,
            "ticks": "",
            "zerolinecolor": "white"
           },
           "yaxis": {
            "backgroundcolor": "#E5ECF6",
            "gridcolor": "white",
            "gridwidth": 2,
            "linecolor": "white",
            "showbackground": true,
            "ticks": "",
            "zerolinecolor": "white"
           },
           "zaxis": {
            "backgroundcolor": "#E5ECF6",
            "gridcolor": "white",
            "gridwidth": 2,
            "linecolor": "white",
            "showbackground": true,
            "ticks": "",
            "zerolinecolor": "white"
           }
          },
          "shapedefaults": {
           "line": {
            "color": "#2a3f5f"
           }
          },
          "ternary": {
           "aaxis": {
            "gridcolor": "white",
            "linecolor": "white",
            "ticks": ""
           },
           "baxis": {
            "gridcolor": "white",
            "linecolor": "white",
            "ticks": ""
           },
           "bgcolor": "#E5ECF6",
           "caxis": {
            "gridcolor": "white",
            "linecolor": "white",
            "ticks": ""
           }
          },
          "title": {
           "x": 0.05
          },
          "xaxis": {
           "automargin": true,
           "gridcolor": "white",
           "linecolor": "white",
           "ticks": "",
           "title": {
            "standoff": 15
           },
           "zerolinecolor": "white",
           "zerolinewidth": 2
          },
          "yaxis": {
           "automargin": true,
           "gridcolor": "white",
           "linecolor": "white",
           "ticks": "",
           "title": {
            "standoff": 15
           },
           "zerolinecolor": "white",
           "zerolinewidth": 2
          }
         }
        },
        "updatemenus": [
         {
          "buttons": [
           {
            "args": [
             null,
             {
              "frame": {
               "duration": 500,
               "redraw": false
              },
              "fromcurrent": true,
              "mode": "immediate",
              "transition": {
               "duration": 500,
               "easing": "linear"
              }
             }
            ],
            "label": "&#9654;",
            "method": "animate"
           },
           {
            "args": [
             [
              null
             ],
             {
              "frame": {
               "duration": 0,
               "redraw": false
              },
              "fromcurrent": true,
              "mode": "immediate",
              "transition": {
               "duration": 0,
               "easing": "linear"
              }
             }
            ],
            "label": "&#9724;",
            "method": "animate"
           }
          ],
          "direction": "left",
          "pad": {
           "r": 10,
           "t": 70
          },
          "showactive": false,
          "type": "buttons",
          "x": 0.1,
          "xanchor": "right",
          "y": 0,
          "yanchor": "top"
         }
        ],
        "xaxis": {
         "anchor": "y",
         "domain": [
          0,
          1
         ],
         "title": {
          "text": "MonthlyIncome"
         }
        },
        "yaxis": {
         "anchor": "x",
         "domain": [
          0,
          1
         ],
         "title": {
          "text": "DebtRatio"
         }
        }
       }
      },
      "text/html": [
       "<div>                            <div id=\"0740ed9b-8050-43da-b972-4e4f9f0eda2d\" class=\"plotly-graph-div\" style=\"height:525px; width:100%;\"></div>            <script type=\"text/javascript\">                require([\"plotly\"], function(Plotly) {                    window.PLOTLYENV=window.PLOTLYENV || {};                                    if (document.getElementById(\"0740ed9b-8050-43da-b972-4e4f9f0eda2d\")) {                    Plotly.newPlot(                        \"0740ed9b-8050-43da-b972-4e4f9f0eda2d\",                        [{\"hovertemplate\":\"age=21<br>MonthlyIncome=%{x}<br>DebtRatio=%{y}<br>SeriousDlqin2yrs=%{marker.color}<extra></extra>\",\"legendgroup\":\"\",\"marker\":{\"color\":[0,0,0],\"coloraxis\":\"coloraxis\",\"symbol\":\"circle\"},\"mode\":\"markers\",\"name\":\"\",\"orientation\":\"v\",\"showlegend\":false,\"x\":[2000.0,820.0,929.0],\"xaxis\":\"x\",\"y\":[0.0,0.382460414,0.0],\"yaxis\":\"y\",\"type\":\"scatter\"}],                        {\"template\":{\"data\":{\"bar\":[{\"error_x\":{\"color\":\"#2a3f5f\"},\"error_y\":{\"color\":\"#2a3f5f\"},\"marker\":{\"line\":{\"color\":\"#E5ECF6\",\"width\":0.5},\"pattern\":{\"fillmode\":\"overlay\",\"size\":10,\"solidity\":0.2}},\"type\":\"bar\"}],\"barpolar\":[{\"marker\":{\"line\":{\"color\":\"#E5ECF6\",\"width\":0.5},\"pattern\":{\"fillmode\":\"overlay\",\"size\":10,\"solidity\":0.2}},\"type\":\"barpolar\"}],\"carpet\":[{\"aaxis\":{\"endlinecolor\":\"#2a3f5f\",\"gridcolor\":\"white\",\"linecolor\":\"white\",\"minorgridcolor\":\"white\",\"startlinecolor\":\"#2a3f5f\"},\"baxis\":{\"endlinecolor\":\"#2a3f5f\",\"gridcolor\":\"white\",\"linecolor\":\"white\",\"minorgridcolor\":\"white\",\"startlinecolor\":\"#2a3f5f\"},\"type\":\"carpet\"}],\"choropleth\":[{\"colorbar\":{\"outlinewidth\":0,\"ticks\":\"\"},\"type\":\"choropleth\"}],\"contour\":[{\"colorbar\":{\"outlinewidth\":0,\"ticks\":\"\"},\"colorscale\":[[0.0,\"#0d0887\"],[0.1111111111111111,\"#46039f\"],[0.2222222222222222,\"#7201a8\"],[0.3333333333333333,\"#9c179e\"],[0.4444444444444444,\"#bd3786\"],[0.5555555555555556,\"#d8576b\"],[0.6666666666666666,\"#ed7953\"],[0.7777777777777778,\"#fb9f3a\"],[0.8888888888888888,\"#fdca26\"],[1.0,\"#f0f921\"]],\"type\":\"contour\"}],\"contourcarpet\":[{\"colorbar\":{\"outlinewidth\":0,\"ticks\":\"\"},\"type\":\"contourcarpet\"}],\"heatmap\":[{\"colorbar\":{\"outlinewidth\":0,\"ticks\":\"\"},\"colorscale\":[[0.0,\"#0d0887\"],[0.1111111111111111,\"#46039f\"],[0.2222222222222222,\"#7201a8\"],[0.3333333333333333,\"#9c179e\"],[0.4444444444444444,\"#bd3786\"],[0.5555555555555556,\"#d8576b\"],[0.6666666666666666,\"#ed7953\"],[0.7777777777777778,\"#fb9f3a\"],[0.8888888888888888,\"#fdca26\"],[1.0,\"#f0f921\"]],\"type\":\"heatmap\"}],\"heatmapgl\":[{\"colorbar\":{\"outlinewidth\":0,\"ticks\":\"\"},\"colorscale\":[[0.0,\"#0d0887\"],[0.1111111111111111,\"#46039f\"],[0.2222222222222222,\"#7201a8\"],[0.3333333333333333,\"#9c179e\"],[0.4444444444444444,\"#bd3786\"],[0.5555555555555556,\"#d8576b\"],[0.6666666666666666,\"#ed7953\"],[0.7777777777777778,\"#fb9f3a\"],[0.8888888888888888,\"#fdca26\"],[1.0,\"#f0f921\"]],\"type\":\"heatmapgl\"}],\"histogram\":[{\"marker\":{\"pattern\":{\"fillmode\":\"overlay\",\"size\":10,\"solidity\":0.2}},\"type\":\"histogram\"}],\"histogram2d\":[{\"colorbar\":{\"outlinewidth\":0,\"ticks\":\"\"},\"colorscale\":[[0.0,\"#0d0887\"],[0.1111111111111111,\"#46039f\"],[0.2222222222222222,\"#7201a8\"],[0.3333333333333333,\"#9c179e\"],[0.4444444444444444,\"#bd3786\"],[0.5555555555555556,\"#d8576b\"],[0.6666666666666666,\"#ed7953\"],[0.7777777777777778,\"#fb9f3a\"],[0.8888888888888888,\"#fdca26\"],[1.0,\"#f0f921\"]],\"type\":\"histogram2d\"}],\"histogram2dcontour\":[{\"colorbar\":{\"outlinewidth\":0,\"ticks\":\"\"},\"colorscale\":[[0.0,\"#0d0887\"],[0.1111111111111111,\"#46039f\"],[0.2222222222222222,\"#7201a8\"],[0.3333333333333333,\"#9c179e\"],[0.4444444444444444,\"#bd3786\"],[0.5555555555555556,\"#d8576b\"],[0.6666666666666666,\"#ed7953\"],[0.7777777777777778,\"#fb9f3a\"],[0.8888888888888888,\"#fdca26\"],[1.0,\"#f0f921\"]],\"type\":\"histogram2dcontour\"}],\"mesh3d\":[{\"colorbar\":{\"outlinewidth\":0,\"ticks\":\"\"},\"type\":\"mesh3d\"}],\"parcoords\":[{\"line\":{\"colorbar\":{\"outlinewidth\":0,\"ticks\":\"\"}},\"type\":\"parcoords\"}],\"pie\":[{\"automargin\":true,\"type\":\"pie\"}],\"scatter\":[{\"marker\":{\"colorbar\":{\"outlinewidth\":0,\"ticks\":\"\"}},\"type\":\"scatter\"}],\"scatter3d\":[{\"line\":{\"colorbar\":{\"outlinewidth\":0,\"ticks\":\"\"}},\"marker\":{\"colorbar\":{\"outlinewidth\":0,\"ticks\":\"\"}},\"type\":\"scatter3d\"}],\"scattercarpet\":[{\"marker\":{\"colorbar\":{\"outlinewidth\":0,\"ticks\":\"\"}},\"type\":\"scattercarpet\"}],\"scattergeo\":[{\"marker\":{\"colorbar\":{\"outlinewidth\":0,\"ticks\":\"\"}},\"type\":\"scattergeo\"}],\"scattergl\":[{\"marker\":{\"colorbar\":{\"outlinewidth\":0,\"ticks\":\"\"}},\"type\":\"scattergl\"}],\"scattermapbox\":[{\"marker\":{\"colorbar\":{\"outlinewidth\":0,\"ticks\":\"\"}},\"type\":\"scattermapbox\"}],\"scatterpolar\":[{\"marker\":{\"colorbar\":{\"outlinewidth\":0,\"ticks\":\"\"}},\"type\":\"scatterpolar\"}],\"scatterpolargl\":[{\"marker\":{\"colorbar\":{\"outlinewidth\":0,\"ticks\":\"\"}},\"type\":\"scatterpolargl\"}],\"scatterternary\":[{\"marker\":{\"colorbar\":{\"outlinewidth\":0,\"ticks\":\"\"}},\"type\":\"scatterternary\"}],\"surface\":[{\"colorbar\":{\"outlinewidth\":0,\"ticks\":\"\"},\"colorscale\":[[0.0,\"#0d0887\"],[0.1111111111111111,\"#46039f\"],[0.2222222222222222,\"#7201a8\"],[0.3333333333333333,\"#9c179e\"],[0.4444444444444444,\"#bd3786\"],[0.5555555555555556,\"#d8576b\"],[0.6666666666666666,\"#ed7953\"],[0.7777777777777778,\"#fb9f3a\"],[0.8888888888888888,\"#fdca26\"],[1.0,\"#f0f921\"]],\"type\":\"surface\"}],\"table\":[{\"cells\":{\"fill\":{\"color\":\"#EBF0F8\"},\"line\":{\"color\":\"white\"}},\"header\":{\"fill\":{\"color\":\"#C8D4E3\"},\"line\":{\"color\":\"white\"}},\"type\":\"table\"}]},\"layout\":{\"annotationdefaults\":{\"arrowcolor\":\"#2a3f5f\",\"arrowhead\":0,\"arrowwidth\":1},\"autotypenumbers\":\"strict\",\"coloraxis\":{\"colorbar\":{\"outlinewidth\":0,\"ticks\":\"\"}},\"colorscale\":{\"diverging\":[[0,\"#8e0152\"],[0.1,\"#c51b7d\"],[0.2,\"#de77ae\"],[0.3,\"#f1b6da\"],[0.4,\"#fde0ef\"],[0.5,\"#f7f7f7\"],[0.6,\"#e6f5d0\"],[0.7,\"#b8e186\"],[0.8,\"#7fbc41\"],[0.9,\"#4d9221\"],[1,\"#276419\"]],\"sequential\":[[0.0,\"#0d0887\"],[0.1111111111111111,\"#46039f\"],[0.2222222222222222,\"#7201a8\"],[0.3333333333333333,\"#9c179e\"],[0.4444444444444444,\"#bd3786\"],[0.5555555555555556,\"#d8576b\"],[0.6666666666666666,\"#ed7953\"],[0.7777777777777778,\"#fb9f3a\"],[0.8888888888888888,\"#fdca26\"],[1.0,\"#f0f921\"]],\"sequentialminus\":[[0.0,\"#0d0887\"],[0.1111111111111111,\"#46039f\"],[0.2222222222222222,\"#7201a8\"],[0.3333333333333333,\"#9c179e\"],[0.4444444444444444,\"#bd3786\"],[0.5555555555555556,\"#d8576b\"],[0.6666666666666666,\"#ed7953\"],[0.7777777777777778,\"#fb9f3a\"],[0.8888888888888888,\"#fdca26\"],[1.0,\"#f0f921\"]]},\"colorway\":[\"#636efa\",\"#EF553B\",\"#00cc96\",\"#ab63fa\",\"#FFA15A\",\"#19d3f3\",\"#FF6692\",\"#B6E880\",\"#FF97FF\",\"#FECB52\"],\"font\":{\"color\":\"#2a3f5f\"},\"geo\":{\"bgcolor\":\"white\",\"lakecolor\":\"white\",\"landcolor\":\"#E5ECF6\",\"showlakes\":true,\"showland\":true,\"subunitcolor\":\"white\"},\"hoverlabel\":{\"align\":\"left\"},\"hovermode\":\"closest\",\"mapbox\":{\"style\":\"light\"},\"paper_bgcolor\":\"white\",\"plot_bgcolor\":\"#E5ECF6\",\"polar\":{\"angularaxis\":{\"gridcolor\":\"white\",\"linecolor\":\"white\",\"ticks\":\"\"},\"bgcolor\":\"#E5ECF6\",\"radialaxis\":{\"gridcolor\":\"white\",\"linecolor\":\"white\",\"ticks\":\"\"}},\"scene\":{\"xaxis\":{\"backgroundcolor\":\"#E5ECF6\",\"gridcolor\":\"white\",\"gridwidth\":2,\"linecolor\":\"white\",\"showbackground\":true,\"ticks\":\"\",\"zerolinecolor\":\"white\"},\"yaxis\":{\"backgroundcolor\":\"#E5ECF6\",\"gridcolor\":\"white\",\"gridwidth\":2,\"linecolor\":\"white\",\"showbackground\":true,\"ticks\":\"\",\"zerolinecolor\":\"white\"},\"zaxis\":{\"backgroundcolor\":\"#E5ECF6\",\"gridcolor\":\"white\",\"gridwidth\":2,\"linecolor\":\"white\",\"showbackground\":true,\"ticks\":\"\",\"zerolinecolor\":\"white\"}},\"shapedefaults\":{\"line\":{\"color\":\"#2a3f5f\"}},\"ternary\":{\"aaxis\":{\"gridcolor\":\"white\",\"linecolor\":\"white\",\"ticks\":\"\"},\"baxis\":{\"gridcolor\":\"white\",\"linecolor\":\"white\",\"ticks\":\"\"},\"bgcolor\":\"#E5ECF6\",\"caxis\":{\"gridcolor\":\"white\",\"linecolor\":\"white\",\"ticks\":\"\"}},\"title\":{\"x\":0.05},\"xaxis\":{\"automargin\":true,\"gridcolor\":\"white\",\"linecolor\":\"white\",\"ticks\":\"\",\"title\":{\"standoff\":15},\"zerolinecolor\":\"white\",\"zerolinewidth\":2},\"yaxis\":{\"automargin\":true,\"gridcolor\":\"white\",\"linecolor\":\"white\",\"ticks\":\"\",\"title\":{\"standoff\":15},\"zerolinecolor\":\"white\",\"zerolinewidth\":2}}},\"xaxis\":{\"anchor\":\"y\",\"domain\":[0.0,1.0],\"title\":{\"text\":\"MonthlyIncome\"}},\"yaxis\":{\"anchor\":\"x\",\"domain\":[0.0,1.0],\"title\":{\"text\":\"DebtRatio\"}},\"coloraxis\":{\"colorbar\":{\"title\":{\"text\":\"SeriousDlqin2yrs\"}},\"colorscale\":[[0.0,\"#0d0887\"],[0.1111111111111111,\"#46039f\"],[0.2222222222222222,\"#7201a8\"],[0.3333333333333333,\"#9c179e\"],[0.4444444444444444,\"#bd3786\"],[0.5555555555555556,\"#d8576b\"],[0.6666666666666666,\"#ed7953\"],[0.7777777777777778,\"#fb9f3a\"],[0.8888888888888888,\"#fdca26\"],[1.0,\"#f0f921\"]]},\"legend\":{\"tracegroupgap\":0},\"margin\":{\"t\":60},\"updatemenus\":[{\"buttons\":[{\"args\":[null,{\"frame\":{\"duration\":500,\"redraw\":false},\"mode\":\"immediate\",\"fromcurrent\":true,\"transition\":{\"duration\":500,\"easing\":\"linear\"}}],\"label\":\"&#9654;\",\"method\":\"animate\"},{\"args\":[[null],{\"frame\":{\"duration\":0,\"redraw\":false},\"mode\":\"immediate\",\"fromcurrent\":true,\"transition\":{\"duration\":0,\"easing\":\"linear\"}}],\"label\":\"&#9724;\",\"method\":\"animate\"}],\"direction\":\"left\",\"pad\":{\"r\":10,\"t\":70},\"showactive\":false,\"type\":\"buttons\",\"x\":0.1,\"xanchor\":\"right\",\"y\":0,\"yanchor\":\"top\"}],\"sliders\":[{\"active\":0,\"currentvalue\":{\"prefix\":\"age=\"},\"len\":0.9,\"pad\":{\"b\":10,\"t\":60},\"steps\":[{\"args\":[[\"21\"],{\"frame\":{\"duration\":0,\"redraw\":false},\"mode\":\"immediate\",\"fromcurrent\":true,\"transition\":{\"duration\":0,\"easing\":\"linear\"}}],\"label\":\"21\",\"method\":\"animate\"},{\"args\":[[\"22\"],{\"frame\":{\"duration\":0,\"redraw\":false},\"mode\":\"immediate\",\"fromcurrent\":true,\"transition\":{\"duration\":0,\"easing\":\"linear\"}}],\"label\":\"22\",\"method\":\"animate\"},{\"args\":[[\"23\"],{\"frame\":{\"duration\":0,\"redraw\":false},\"mode\":\"immediate\",\"fromcurrent\":true,\"transition\":{\"duration\":0,\"easing\":\"linear\"}}],\"label\":\"23\",\"method\":\"animate\"},{\"args\":[[\"24\"],{\"frame\":{\"duration\":0,\"redraw\":false},\"mode\":\"immediate\",\"fromcurrent\":true,\"transition\":{\"duration\":0,\"easing\":\"linear\"}}],\"label\":\"24\",\"method\":\"animate\"},{\"args\":[[\"25\"],{\"frame\":{\"duration\":0,\"redraw\":false},\"mode\":\"immediate\",\"fromcurrent\":true,\"transition\":{\"duration\":0,\"easing\":\"linear\"}}],\"label\":\"25\",\"method\":\"animate\"},{\"args\":[[\"26\"],{\"frame\":{\"duration\":0,\"redraw\":false},\"mode\":\"immediate\",\"fromcurrent\":true,\"transition\":{\"duration\":0,\"easing\":\"linear\"}}],\"label\":\"26\",\"method\":\"animate\"},{\"args\":[[\"27\"],{\"frame\":{\"duration\":0,\"redraw\":false},\"mode\":\"immediate\",\"fromcurrent\":true,\"transition\":{\"duration\":0,\"easing\":\"linear\"}}],\"label\":\"27\",\"method\":\"animate\"},{\"args\":[[\"28\"],{\"frame\":{\"duration\":0,\"redraw\":false},\"mode\":\"immediate\",\"fromcurrent\":true,\"transition\":{\"duration\":0,\"easing\":\"linear\"}}],\"label\":\"28\",\"method\":\"animate\"},{\"args\":[[\"29\"],{\"frame\":{\"duration\":0,\"redraw\":false},\"mode\":\"immediate\",\"fromcurrent\":true,\"transition\":{\"duration\":0,\"easing\":\"linear\"}}],\"label\":\"29\",\"method\":\"animate\"},{\"args\":[[\"30\"],{\"frame\":{\"duration\":0,\"redraw\":false},\"mode\":\"immediate\",\"fromcurrent\":true,\"transition\":{\"duration\":0,\"easing\":\"linear\"}}],\"label\":\"30\",\"method\":\"animate\"},{\"args\":[[\"31\"],{\"frame\":{\"duration\":0,\"redraw\":false},\"mode\":\"immediate\",\"fromcurrent\":true,\"transition\":{\"duration\":0,\"easing\":\"linear\"}}],\"label\":\"31\",\"method\":\"animate\"},{\"args\":[[\"32\"],{\"frame\":{\"duration\":0,\"redraw\":false},\"mode\":\"immediate\",\"fromcurrent\":true,\"transition\":{\"duration\":0,\"easing\":\"linear\"}}],\"label\":\"32\",\"method\":\"animate\"},{\"args\":[[\"33\"],{\"frame\":{\"duration\":0,\"redraw\":false},\"mode\":\"immediate\",\"fromcurrent\":true,\"transition\":{\"duration\":0,\"easing\":\"linear\"}}],\"label\":\"33\",\"method\":\"animate\"},{\"args\":[[\"34\"],{\"frame\":{\"duration\":0,\"redraw\":false},\"mode\":\"immediate\",\"fromcurrent\":true,\"transition\":{\"duration\":0,\"easing\":\"linear\"}}],\"label\":\"34\",\"method\":\"animate\"},{\"args\":[[\"35\"],{\"frame\":{\"duration\":0,\"redraw\":false},\"mode\":\"immediate\",\"fromcurrent\":true,\"transition\":{\"duration\":0,\"easing\":\"linear\"}}],\"label\":\"35\",\"method\":\"animate\"},{\"args\":[[\"36\"],{\"frame\":{\"duration\":0,\"redraw\":false},\"mode\":\"immediate\",\"fromcurrent\":true,\"transition\":{\"duration\":0,\"easing\":\"linear\"}}],\"label\":\"36\",\"method\":\"animate\"},{\"args\":[[\"37\"],{\"frame\":{\"duration\":0,\"redraw\":false},\"mode\":\"immediate\",\"fromcurrent\":true,\"transition\":{\"duration\":0,\"easing\":\"linear\"}}],\"label\":\"37\",\"method\":\"animate\"},{\"args\":[[\"38\"],{\"frame\":{\"duration\":0,\"redraw\":false},\"mode\":\"immediate\",\"fromcurrent\":true,\"transition\":{\"duration\":0,\"easing\":\"linear\"}}],\"label\":\"38\",\"method\":\"animate\"},{\"args\":[[\"39\"],{\"frame\":{\"duration\":0,\"redraw\":false},\"mode\":\"immediate\",\"fromcurrent\":true,\"transition\":{\"duration\":0,\"easing\":\"linear\"}}],\"label\":\"39\",\"method\":\"animate\"},{\"args\":[[\"40\"],{\"frame\":{\"duration\":0,\"redraw\":false},\"mode\":\"immediate\",\"fromcurrent\":true,\"transition\":{\"duration\":0,\"easing\":\"linear\"}}],\"label\":\"40\",\"method\":\"animate\"},{\"args\":[[\"41\"],{\"frame\":{\"duration\":0,\"redraw\":false},\"mode\":\"immediate\",\"fromcurrent\":true,\"transition\":{\"duration\":0,\"easing\":\"linear\"}}],\"label\":\"41\",\"method\":\"animate\"},{\"args\":[[\"42\"],{\"frame\":{\"duration\":0,\"redraw\":false},\"mode\":\"immediate\",\"fromcurrent\":true,\"transition\":{\"duration\":0,\"easing\":\"linear\"}}],\"label\":\"42\",\"method\":\"animate\"},{\"args\":[[\"43\"],{\"frame\":{\"duration\":0,\"redraw\":false},\"mode\":\"immediate\",\"fromcurrent\":true,\"transition\":{\"duration\":0,\"easing\":\"linear\"}}],\"label\":\"43\",\"method\":\"animate\"},{\"args\":[[\"44\"],{\"frame\":{\"duration\":0,\"redraw\":false},\"mode\":\"immediate\",\"fromcurrent\":true,\"transition\":{\"duration\":0,\"easing\":\"linear\"}}],\"label\":\"44\",\"method\":\"animate\"},{\"args\":[[\"45\"],{\"frame\":{\"duration\":0,\"redraw\":false},\"mode\":\"immediate\",\"fromcurrent\":true,\"transition\":{\"duration\":0,\"easing\":\"linear\"}}],\"label\":\"45\",\"method\":\"animate\"},{\"args\":[[\"46\"],{\"frame\":{\"duration\":0,\"redraw\":false},\"mode\":\"immediate\",\"fromcurrent\":true,\"transition\":{\"duration\":0,\"easing\":\"linear\"}}],\"label\":\"46\",\"method\":\"animate\"},{\"args\":[[\"47\"],{\"frame\":{\"duration\":0,\"redraw\":false},\"mode\":\"immediate\",\"fromcurrent\":true,\"transition\":{\"duration\":0,\"easing\":\"linear\"}}],\"label\":\"47\",\"method\":\"animate\"},{\"args\":[[\"48\"],{\"frame\":{\"duration\":0,\"redraw\":false},\"mode\":\"immediate\",\"fromcurrent\":true,\"transition\":{\"duration\":0,\"easing\":\"linear\"}}],\"label\":\"48\",\"method\":\"animate\"},{\"args\":[[\"49\"],{\"frame\":{\"duration\":0,\"redraw\":false},\"mode\":\"immediate\",\"fromcurrent\":true,\"transition\":{\"duration\":0,\"easing\":\"linear\"}}],\"label\":\"49\",\"method\":\"animate\"},{\"args\":[[\"50\"],{\"frame\":{\"duration\":0,\"redraw\":false},\"mode\":\"immediate\",\"fromcurrent\":true,\"transition\":{\"duration\":0,\"easing\":\"linear\"}}],\"label\":\"50\",\"method\":\"animate\"},{\"args\":[[\"51\"],{\"frame\":{\"duration\":0,\"redraw\":false},\"mode\":\"immediate\",\"fromcurrent\":true,\"transition\":{\"duration\":0,\"easing\":\"linear\"}}],\"label\":\"51\",\"method\":\"animate\"},{\"args\":[[\"52\"],{\"frame\":{\"duration\":0,\"redraw\":false},\"mode\":\"immediate\",\"fromcurrent\":true,\"transition\":{\"duration\":0,\"easing\":\"linear\"}}],\"label\":\"52\",\"method\":\"animate\"},{\"args\":[[\"53\"],{\"frame\":{\"duration\":0,\"redraw\":false},\"mode\":\"immediate\",\"fromcurrent\":true,\"transition\":{\"duration\":0,\"easing\":\"linear\"}}],\"label\":\"53\",\"method\":\"animate\"},{\"args\":[[\"54\"],{\"frame\":{\"duration\":0,\"redraw\":false},\"mode\":\"immediate\",\"fromcurrent\":true,\"transition\":{\"duration\":0,\"easing\":\"linear\"}}],\"label\":\"54\",\"method\":\"animate\"},{\"args\":[[\"55\"],{\"frame\":{\"duration\":0,\"redraw\":false},\"mode\":\"immediate\",\"fromcurrent\":true,\"transition\":{\"duration\":0,\"easing\":\"linear\"}}],\"label\":\"55\",\"method\":\"animate\"},{\"args\":[[\"56\"],{\"frame\":{\"duration\":0,\"redraw\":false},\"mode\":\"immediate\",\"fromcurrent\":true,\"transition\":{\"duration\":0,\"easing\":\"linear\"}}],\"label\":\"56\",\"method\":\"animate\"},{\"args\":[[\"57\"],{\"frame\":{\"duration\":0,\"redraw\":false},\"mode\":\"immediate\",\"fromcurrent\":true,\"transition\":{\"duration\":0,\"easing\":\"linear\"}}],\"label\":\"57\",\"method\":\"animate\"},{\"args\":[[\"58\"],{\"frame\":{\"duration\":0,\"redraw\":false},\"mode\":\"immediate\",\"fromcurrent\":true,\"transition\":{\"duration\":0,\"easing\":\"linear\"}}],\"label\":\"58\",\"method\":\"animate\"},{\"args\":[[\"59\"],{\"frame\":{\"duration\":0,\"redraw\":false},\"mode\":\"immediate\",\"fromcurrent\":true,\"transition\":{\"duration\":0,\"easing\":\"linear\"}}],\"label\":\"59\",\"method\":\"animate\"},{\"args\":[[\"60\"],{\"frame\":{\"duration\":0,\"redraw\":false},\"mode\":\"immediate\",\"fromcurrent\":true,\"transition\":{\"duration\":0,\"easing\":\"linear\"}}],\"label\":\"60\",\"method\":\"animate\"},{\"args\":[[\"61\"],{\"frame\":{\"duration\":0,\"redraw\":false},\"mode\":\"immediate\",\"fromcurrent\":true,\"transition\":{\"duration\":0,\"easing\":\"linear\"}}],\"label\":\"61\",\"method\":\"animate\"},{\"args\":[[\"62\"],{\"frame\":{\"duration\":0,\"redraw\":false},\"mode\":\"immediate\",\"fromcurrent\":true,\"transition\":{\"duration\":0,\"easing\":\"linear\"}}],\"label\":\"62\",\"method\":\"animate\"},{\"args\":[[\"63\"],{\"frame\":{\"duration\":0,\"redraw\":false},\"mode\":\"immediate\",\"fromcurrent\":true,\"transition\":{\"duration\":0,\"easing\":\"linear\"}}],\"label\":\"63\",\"method\":\"animate\"},{\"args\":[[\"64\"],{\"frame\":{\"duration\":0,\"redraw\":false},\"mode\":\"immediate\",\"fromcurrent\":true,\"transition\":{\"duration\":0,\"easing\":\"linear\"}}],\"label\":\"64\",\"method\":\"animate\"},{\"args\":[[\"65\"],{\"frame\":{\"duration\":0,\"redraw\":false},\"mode\":\"immediate\",\"fromcurrent\":true,\"transition\":{\"duration\":0,\"easing\":\"linear\"}}],\"label\":\"65\",\"method\":\"animate\"},{\"args\":[[\"66\"],{\"frame\":{\"duration\":0,\"redraw\":false},\"mode\":\"immediate\",\"fromcurrent\":true,\"transition\":{\"duration\":0,\"easing\":\"linear\"}}],\"label\":\"66\",\"method\":\"animate\"},{\"args\":[[\"67\"],{\"frame\":{\"duration\":0,\"redraw\":false},\"mode\":\"immediate\",\"fromcurrent\":true,\"transition\":{\"duration\":0,\"easing\":\"linear\"}}],\"label\":\"67\",\"method\":\"animate\"},{\"args\":[[\"68\"],{\"frame\":{\"duration\":0,\"redraw\":false},\"mode\":\"immediate\",\"fromcurrent\":true,\"transition\":{\"duration\":0,\"easing\":\"linear\"}}],\"label\":\"68\",\"method\":\"animate\"},{\"args\":[[\"69\"],{\"frame\":{\"duration\":0,\"redraw\":false},\"mode\":\"immediate\",\"fromcurrent\":true,\"transition\":{\"duration\":0,\"easing\":\"linear\"}}],\"label\":\"69\",\"method\":\"animate\"},{\"args\":[[\"70\"],{\"frame\":{\"duration\":0,\"redraw\":false},\"mode\":\"immediate\",\"fromcurrent\":true,\"transition\":{\"duration\":0,\"easing\":\"linear\"}}],\"label\":\"70\",\"method\":\"animate\"},{\"args\":[[\"71\"],{\"frame\":{\"duration\":0,\"redraw\":false},\"mode\":\"immediate\",\"fromcurrent\":true,\"transition\":{\"duration\":0,\"easing\":\"linear\"}}],\"label\":\"71\",\"method\":\"animate\"},{\"args\":[[\"72\"],{\"frame\":{\"duration\":0,\"redraw\":false},\"mode\":\"immediate\",\"fromcurrent\":true,\"transition\":{\"duration\":0,\"easing\":\"linear\"}}],\"label\":\"72\",\"method\":\"animate\"},{\"args\":[[\"73\"],{\"frame\":{\"duration\":0,\"redraw\":false},\"mode\":\"immediate\",\"fromcurrent\":true,\"transition\":{\"duration\":0,\"easing\":\"linear\"}}],\"label\":\"73\",\"method\":\"animate\"},{\"args\":[[\"74\"],{\"frame\":{\"duration\":0,\"redraw\":false},\"mode\":\"immediate\",\"fromcurrent\":true,\"transition\":{\"duration\":0,\"easing\":\"linear\"}}],\"label\":\"74\",\"method\":\"animate\"},{\"args\":[[\"75\"],{\"frame\":{\"duration\":0,\"redraw\":false},\"mode\":\"immediate\",\"fromcurrent\":true,\"transition\":{\"duration\":0,\"easing\":\"linear\"}}],\"label\":\"75\",\"method\":\"animate\"},{\"args\":[[\"76\"],{\"frame\":{\"duration\":0,\"redraw\":false},\"mode\":\"immediate\",\"fromcurrent\":true,\"transition\":{\"duration\":0,\"easing\":\"linear\"}}],\"label\":\"76\",\"method\":\"animate\"},{\"args\":[[\"77\"],{\"frame\":{\"duration\":0,\"redraw\":false},\"mode\":\"immediate\",\"fromcurrent\":true,\"transition\":{\"duration\":0,\"easing\":\"linear\"}}],\"label\":\"77\",\"method\":\"animate\"},{\"args\":[[\"78\"],{\"frame\":{\"duration\":0,\"redraw\":false},\"mode\":\"immediate\",\"fromcurrent\":true,\"transition\":{\"duration\":0,\"easing\":\"linear\"}}],\"label\":\"78\",\"method\":\"animate\"},{\"args\":[[\"79\"],{\"frame\":{\"duration\":0,\"redraw\":false},\"mode\":\"immediate\",\"fromcurrent\":true,\"transition\":{\"duration\":0,\"easing\":\"linear\"}}],\"label\":\"79\",\"method\":\"animate\"},{\"args\":[[\"80\"],{\"frame\":{\"duration\":0,\"redraw\":false},\"mode\":\"immediate\",\"fromcurrent\":true,\"transition\":{\"duration\":0,\"easing\":\"linear\"}}],\"label\":\"80\",\"method\":\"animate\"},{\"args\":[[\"81\"],{\"frame\":{\"duration\":0,\"redraw\":false},\"mode\":\"immediate\",\"fromcurrent\":true,\"transition\":{\"duration\":0,\"easing\":\"linear\"}}],\"label\":\"81\",\"method\":\"animate\"},{\"args\":[[\"82\"],{\"frame\":{\"duration\":0,\"redraw\":false},\"mode\":\"immediate\",\"fromcurrent\":true,\"transition\":{\"duration\":0,\"easing\":\"linear\"}}],\"label\":\"82\",\"method\":\"animate\"},{\"args\":[[\"83\"],{\"frame\":{\"duration\":0,\"redraw\":false},\"mode\":\"immediate\",\"fromcurrent\":true,\"transition\":{\"duration\":0,\"easing\":\"linear\"}}],\"label\":\"83\",\"method\":\"animate\"},{\"args\":[[\"84\"],{\"frame\":{\"duration\":0,\"redraw\":false},\"mode\":\"immediate\",\"fromcurrent\":true,\"transition\":{\"duration\":0,\"easing\":\"linear\"}}],\"label\":\"84\",\"method\":\"animate\"},{\"args\":[[\"85\"],{\"frame\":{\"duration\":0,\"redraw\":false},\"mode\":\"immediate\",\"fromcurrent\":true,\"transition\":{\"duration\":0,\"easing\":\"linear\"}}],\"label\":\"85\",\"method\":\"animate\"},{\"args\":[[\"86\"],{\"frame\":{\"duration\":0,\"redraw\":false},\"mode\":\"immediate\",\"fromcurrent\":true,\"transition\":{\"duration\":0,\"easing\":\"linear\"}}],\"label\":\"86\",\"method\":\"animate\"},{\"args\":[[\"87\"],{\"frame\":{\"duration\":0,\"redraw\":false},\"mode\":\"immediate\",\"fromcurrent\":true,\"transition\":{\"duration\":0,\"easing\":\"linear\"}}],\"label\":\"87\",\"method\":\"animate\"},{\"args\":[[\"88\"],{\"frame\":{\"duration\":0,\"redraw\":false},\"mode\":\"immediate\",\"fromcurrent\":true,\"transition\":{\"duration\":0,\"easing\":\"linear\"}}],\"label\":\"88\",\"method\":\"animate\"},{\"args\":[[\"89\"],{\"frame\":{\"duration\":0,\"redraw\":false},\"mode\":\"immediate\",\"fromcurrent\":true,\"transition\":{\"duration\":0,\"easing\":\"linear\"}}],\"label\":\"89\",\"method\":\"animate\"},{\"args\":[[\"90\"],{\"frame\":{\"duration\":0,\"redraw\":false},\"mode\":\"immediate\",\"fromcurrent\":true,\"transition\":{\"duration\":0,\"easing\":\"linear\"}}],\"label\":\"90\",\"method\":\"animate\"},{\"args\":[[\"91\"],{\"frame\":{\"duration\":0,\"redraw\":false},\"mode\":\"immediate\",\"fromcurrent\":true,\"transition\":{\"duration\":0,\"easing\":\"linear\"}}],\"label\":\"91\",\"method\":\"animate\"},{\"args\":[[\"92\"],{\"frame\":{\"duration\":0,\"redraw\":false},\"mode\":\"immediate\",\"fromcurrent\":true,\"transition\":{\"duration\":0,\"easing\":\"linear\"}}],\"label\":\"92\",\"method\":\"animate\"}],\"x\":0.1,\"xanchor\":\"left\",\"y\":0,\"yanchor\":\"top\"}]},                        {\"responsive\": true}                    ).then(function(){\n",
       "                            Plotly.addFrames('0740ed9b-8050-43da-b972-4e4f9f0eda2d', [{\"data\":[{\"hovertemplate\":\"age=21<br>MonthlyIncome=%{x}<br>DebtRatio=%{y}<br>SeriousDlqin2yrs=%{marker.color}<extra></extra>\",\"legendgroup\":\"\",\"marker\":{\"color\":[0,0,0],\"coloraxis\":\"coloraxis\",\"symbol\":\"circle\"},\"mode\":\"markers\",\"name\":\"\",\"orientation\":\"v\",\"showlegend\":false,\"x\":[2000.0,820.0,929.0],\"xaxis\":\"x\",\"y\":[0.0,0.382460414,0.0],\"yaxis\":\"y\",\"type\":\"scatter\"}],\"name\":\"21\"},{\"data\":[{\"hovertemplate\":\"age=22<br>MonthlyIncome=%{x}<br>DebtRatio=%{y}<br>SeriousDlqin2yrs=%{marker.color}<extra></extra>\",\"legendgroup\":\"\",\"marker\":{\"color\":[0,0,0,1,0,0],\"coloraxis\":\"coloraxis\",\"symbol\":\"circle\"},\"mode\":\"markers\",\"name\":\"\",\"orientation\":\"v\",\"showlegend\":false,\"x\":[820.0,929.0,0.0,6670.221237392844,6670.221237392844,820.0],\"xaxis\":\"x\",\"y\":[0.001218027,0.016129032,5.0,533.0,0.0,0.0],\"yaxis\":\"y\",\"type\":\"scatter\"}],\"name\":\"22\"},{\"data\":[{\"hovertemplate\":\"age=23<br>MonthlyIncome=%{x}<br>DebtRatio=%{y}<br>SeriousDlqin2yrs=%{marker.color}<extra></extra>\",\"legendgroup\":\"\",\"marker\":{\"color\":[1,0,0,1,0,0,0,1,0,0,0],\"coloraxis\":\"coloraxis\",\"symbol\":\"circle\"},\"mode\":\"markers\",\"name\":\"\",\"orientation\":\"v\",\"showlegend\":false,\"x\":[2000.0,3419.0,929.0,1600.0,770.0,3600.0,1.0,1760.0,618.0,898.0,820.0],\"xaxis\":\"x\",\"y\":[0.04147926,0.024561404,0.043010753,0.007495315,0.0,0.0,44.5,0.0,0.030694669,0.0,0.0],\"yaxis\":\"y\",\"type\":\"scatter\"}],\"name\":\"23\"},{\"data\":[{\"hovertemplate\":\"age=24<br>MonthlyIncome=%{x}<br>DebtRatio=%{y}<br>SeriousDlqin2yrs=%{marker.color}<extra></extra>\",\"legendgroup\":\"\",\"marker\":{\"color\":[0,0,1,0,1,0,0,0,0,0,0,0],\"coloraxis\":\"coloraxis\",\"symbol\":\"circle\"},\"mode\":\"markers\",\"name\":\"\",\"orientation\":\"v\",\"showlegend\":false,\"x\":[820.0,800.0,1600.0,1700.0,1687.0,0.0,2032.0,3200.0,2191.0,1500.0,2037.0,2557.0],\"xaxis\":\"x\",\"y\":[0.053593179,0.61298377,0.0,0.027630805,0.030805687,57.0,0.148057059,0.354576695,0.0,0.488341106,0.219332679,0.241594996],\"yaxis\":\"y\",\"type\":\"scatter\"}],\"name\":\"24\"},{\"data\":[{\"hovertemplate\":\"age=25<br>MonthlyIncome=%{x}<br>DebtRatio=%{y}<br>SeriousDlqin2yrs=%{marker.color}<extra></extra>\",\"legendgroup\":\"\",\"marker\":{\"color\":[0,0,0,0,0,0,1,0,0,0,0,0],\"coloraxis\":\"coloraxis\",\"symbol\":\"circle\"},\"mode\":\"markers\",\"name\":\"\",\"orientation\":\"v\",\"showlegend\":false,\"x\":[1800.0,2800.0,4500.0,2100.0,2494.0,2500.0,1900.0,6670.221237392844,2500.0,6670.221237392844,2750.0,3000.0],\"xaxis\":\"x\",\"y\":[0.211549139,0.102463406,0.15818707,0.259400286,0.008817635,0.12395042,0.369279327,654.0,0.237105158,9.0,0.007633588,0.097634122],\"yaxis\":\"y\",\"type\":\"scatter\"}],\"name\":\"25\"},{\"data\":[{\"hovertemplate\":\"age=26<br>MonthlyIncome=%{x}<br>DebtRatio=%{y}<br>SeriousDlqin2yrs=%{marker.color}<extra></extra>\",\"legendgroup\":\"\",\"marker\":{\"color\":[0,0,0,0,0,0,0,0],\"coloraxis\":\"coloraxis\",\"symbol\":\"circle\"},\"mode\":\"markers\",\"name\":\"\",\"orientation\":\"v\",\"showlegend\":false,\"x\":[4300.0,3500.0,2400.0,9000.0,2528.0,6670.221237392844,6670.221237392844,1770.0],\"xaxis\":\"x\",\"y\":[0.255754476,0.285347044,0.082882132,0.069103433,0.259391064,60.0,0.0,0.134387352],\"yaxis\":\"y\",\"type\":\"scatter\"}],\"name\":\"26\"},{\"data\":[{\"hovertemplate\":\"age=27<br>MonthlyIncome=%{x}<br>DebtRatio=%{y}<br>SeriousDlqin2yrs=%{marker.color}<extra></extra>\",\"legendgroup\":\"\",\"marker\":{\"color\":[0,0,1,0,0,0,1,0,0,0,0,0,0,0,0,0,0],\"coloraxis\":\"coloraxis\",\"symbol\":\"circle\"},\"mode\":\"markers\",\"name\":\"\",\"orientation\":\"v\",\"showlegend\":false,\"x\":[3700.0,4250.0,4200.0,7444.0,7500.0,4331.0,2780.0,2000.0,2430.0,3956.0,5100.0,1250.0,4166.0,2079.0,10011.0,2992.0,3000.0],\"xaxis\":\"x\",\"y\":[0.540394488,0.070806869,0.005236848,0.000268637,0.179309425,0.06232687,0.217188062,0.306346827,0.154668861,0.016173869,0.0,0.092725819,0.368850492,0.01875,0.087594886,0.031072503,0.212929024],\"yaxis\":\"y\",\"type\":\"scatter\"}],\"name\":\"27\"},{\"data\":[{\"hovertemplate\":\"age=28<br>MonthlyIncome=%{x}<br>DebtRatio=%{y}<br>SeriousDlqin2yrs=%{marker.color}<extra></extra>\",\"legendgroup\":\"\",\"marker\":{\"color\":[0,0,0,0,0,0,0,0,0,1,1,0,0,0,0,0,0,0,0,0,0,0],\"coloraxis\":\"coloraxis\",\"symbol\":\"circle\"},\"mode\":\"markers\",\"name\":\"\",\"orientation\":\"v\",\"showlegend\":false,\"x\":[2026.0,6670.221237392844,5000.0,3500.0,4447.0,6666.0,9333.0,5667.0,2550.0,700.0,2000.0,2700.0,6670.221237392844,1500.0,3334.0,6670.221237392844,6670.221237392844,4000.0,5000.0,1400.0,6670.221237392844,6670.221237392844],\"xaxis\":\"x\",\"y\":[0.151948693,88.0,0.399720056,0.306769494,0.316321942,0.138893055,0.099528605,0.136026817,0.109760878,0.55064194,0.776111944,0.186227323,1400.0,0.133244504,0.152623688,0.0,852.0,0.103724069,0.331333733,0.0,1906.0,0.0],\"yaxis\":\"y\",\"type\":\"scatter\"}],\"name\":\"28\"},{\"data\":[{\"hovertemplate\":\"age=29<br>MonthlyIncome=%{x}<br>DebtRatio=%{y}<br>SeriousDlqin2yrs=%{marker.color}<extra></extra>\",\"legendgroup\":\"\",\"marker\":{\"color\":[0,0,0,0,0,0,0,0,0,0,0,0,0,0,0,0,0,0],\"coloraxis\":\"coloraxis\",\"symbol\":\"circle\"},\"mode\":\"markers\",\"name\":\"\",\"orientation\":\"v\",\"showlegend\":false,\"x\":[6670.221237392844,3200.0,4856.0,1700.0,4933.0,1407.0,2500.0,3500.0,3000.0,4966.0,2500.0,0.0,2600.0,6670.221237392844,4000.0,2000.0,5120.0,1.0],\"xaxis\":\"x\",\"y\":[9.0,0.296157451,0.117974058,0.04526749,0.026347791,0.0,0.0,0.24764353,0.214261913,0.0,0.117952819,686.0,0.286812764,723.0,0.169707573,0.050974513,0.09002148,63.0],\"yaxis\":\"y\",\"type\":\"scatter\"}],\"name\":\"29\"},{\"data\":[{\"hovertemplate\":\"age=30<br>MonthlyIncome=%{x}<br>DebtRatio=%{y}<br>SeriousDlqin2yrs=%{marker.color}<extra></extra>\",\"legendgroup\":\"\",\"marker\":{\"color\":[0,0,0,0,0,0,0,0,0,0,0,1,0,0,0,1,0,0,1,0,0,0,0,1,0],\"coloraxis\":\"coloraxis\",\"symbol\":\"circle\"},\"mode\":\"markers\",\"name\":\"\",\"orientation\":\"v\",\"showlegend\":false,\"x\":[5100.0,6670.221237392844,1932.0,6670.221237392844,3920.0,1280.0,3500.0,6670.221237392844,2878.0,3620.0,2100.0,6670.221237392844,3000.0,6176.0,10000.0,4100.0,1.0,3601.0,6500.0,4173.0,2700.0,6500.0,2083.0,1615.0,5491.0],\"xaxis\":\"x\",\"y\":[0.263085669,944.0,0.856699431,460.0,0.172915073,0.259172521,0.608397601,55.0,0.481764502,0.545429439,0.341742028,2306.0,0.413195601,0.040958394,0.716128387,0.202389661,1066.0,0.226818434,0.960929088,0.254911356,0.282117734,0.498692509,0.188099808,0.220915842,0.0697378],\"yaxis\":\"y\",\"type\":\"scatter\"}],\"name\":\"30\"},{\"data\":[{\"hovertemplate\":\"age=31<br>MonthlyIncome=%{x}<br>DebtRatio=%{y}<br>SeriousDlqin2yrs=%{marker.color}<extra></extra>\",\"legendgroup\":\"\",\"marker\":{\"color\":[0,0,0,0,1,0,0,1,0,0,0,0,1,1,0,0,0,0,0,0,0,0,0,0,0,0,0],\"coloraxis\":\"coloraxis\",\"symbol\":\"circle\"},\"mode\":\"markers\",\"name\":\"\",\"orientation\":\"v\",\"showlegend\":false,\"x\":[0.0,7500.0,6500.0,7892.0,3773.0,3600.0,6670.221237392844,4150.0,5514.0,7077.0,8883.0,650.0,4220.0,6100.0,2500.0,8200.0,6670.221237392844,2500.0,4900.0,3045.0,2200.0,2500.0,6000.0,1400.0,4000.0,2340.0,6670.221237392844],\"xaxis\":\"x\",\"y\":[1068.0,0.013598187,0.418089525,0.383504371,0.23608903,0.296861983,46.0,0.678390749,0.347778785,0.095931054,0.101530842,2.476190476,0.079128169,0.193083101,0.192722911,0.439702475,101.0,0.343062775,0.571516017,0.535128037,0.802816901,0.24870052,0.160473254,0.860099929,0.397650587,0.221700128,151.0],\"yaxis\":\"y\",\"type\":\"scatter\"}],\"name\":\"31\"},{\"data\":[{\"hovertemplate\":\"age=32<br>MonthlyIncome=%{x}<br>DebtRatio=%{y}<br>SeriousDlqin2yrs=%{marker.color}<extra></extra>\",\"legendgroup\":\"\",\"marker\":{\"color\":[0,0,1,0,0,0,0,0,0,0,0,0,0,1,0,0,0,0,1,0,0,0,0,0,0,0,0,0,1,0,0,0,1,0,0,0],\"coloraxis\":\"coloraxis\",\"symbol\":\"circle\"},\"mode\":\"markers\",\"name\":\"\",\"orientation\":\"v\",\"showlegend\":false,\"x\":[3500.0,2620.0,1000.0,3965.0,6670.221237392844,9610.0,8000.0,2274.0,5425.0,2500.0,3500.0,6670.221237392844,2200.0,1372.0,4250.0,6670.221237392844,3447.0,5700.0,2500.0,2313.0,6670.221237392844,4100.0,7791.0,4177.0,4333.0,5014.0,3651.0,4400.0,6670.221237392844,2417.0,7166.0,6200.0,5900.0,2727.0,8333.0,2818.0],\"xaxis\":\"x\",\"y\":[0.273064839,0.334605113,0.919080919,0.649520928,11.0,0.19103111,0.273590801,0.574065934,0.457242905,0.12754898,0.409882891,2253.0,0.570649705,0.083029862,0.028934368,4640.0,0.182424594,0.453429223,0.413834466,0.0,566.0,0.775176786,0.319301848,0.335806606,0.411398246,0.370089731,0.005750274,0.0,240.0,0.575268817,0.444956049,0.207063377,0.74970344,0.187316716,0.255459563,1.138346932],\"yaxis\":\"y\",\"type\":\"scatter\"}],\"name\":\"32\"},{\"data\":[{\"hovertemplate\":\"age=33<br>MonthlyIncome=%{x}<br>DebtRatio=%{y}<br>SeriousDlqin2yrs=%{marker.color}<extra></extra>\",\"legendgroup\":\"\",\"marker\":{\"color\":[0,1,0,0,0,0,1,1,0,0,0,0,0,0,0,0,0,0,0,0,0,0,0,0,0,0,0,0,0,0,1],\"coloraxis\":\"coloraxis\",\"symbol\":\"circle\"},\"mode\":\"markers\",\"name\":\"\",\"orientation\":\"v\",\"showlegend\":false,\"x\":[9094.0,7900.0,3750.0,6670.221237392844,8000.0,2400.0,4350.0,7500.0,6670.221237392844,2500.0,2513.0,5486.0,3500.0,12500.0,4000.0,4100.0,3000.0,5800.0,1732.0,4100.0,2447.0,400.0,10973.0,3066.0,6500.0,6333.0,3309.0,9000.0,1700.0,3460.0,2000.0],\"xaxis\":\"x\",\"y\":[0.056074766,0.773572965,0.531591576,3115.0,0.130108736,0.300291545,0.10756148,0.419944007,445.0,0.43582567,0.352824185,0.2695462,0.158811768,0.307735381,0.356660835,0.018044379,0.329223592,0.034649198,0.0,0.055352353,1.032679739,0.0,0.178695098,0.061297685,0.130595293,0.376381434,0.165256798,0.409176758,0.203409759,0.106616585,0.935532234],\"yaxis\":\"y\",\"type\":\"scatter\"}],\"name\":\"33\"},{\"data\":[{\"hovertemplate\":\"age=34<br>MonthlyIncome=%{x}<br>DebtRatio=%{y}<br>SeriousDlqin2yrs=%{marker.color}<extra></extra>\",\"legendgroup\":\"\",\"marker\":{\"color\":[0,0,0,0,0,0,0,1,0,1,0,0,0,0,0,0,0,0,0,0,0,0,0,1,0,0,0,0,0,0,0],\"coloraxis\":\"coloraxis\",\"symbol\":\"circle\"},\"mode\":\"markers\",\"name\":\"\",\"orientation\":\"v\",\"showlegend\":false,\"x\":[8500.0,5690.0,7083.0,3040.0,6670.221237392844,1600.0,2796.0,5066.0,2300.0,4621.0,7700.0,3492.0,7916.0,3916.0,10000.0,5400.0,6458.0,7000.0,5833.0,2291.0,5500.0,3800.0,3400.0,6670.221237392844,2710.0,5333.0,5000.0,6453.0,15000.0,2000.0,4710.0],\"xaxis\":\"x\",\"y\":[0.295965181,0.288701458,0.570440429,0.160473528,887.0,0.943160525,0.0,0.282810341,0.364189483,0.568368672,0.179846773,0.497566562,0.379436655,0.335460812,0.252174783,0.234215886,0.267224028,0.214683617,0.273054508,0.004799302,0.062897655,0.736122073,1.107321376,173.0,0.017336776,0.066741657,0.112177564,0.022931515,0.304579695,0.070964518,0.224368499],\"yaxis\":\"y\",\"type\":\"scatter\"}],\"name\":\"34\"},{\"data\":[{\"hovertemplate\":\"age=35<br>MonthlyIncome=%{x}<br>DebtRatio=%{y}<br>SeriousDlqin2yrs=%{marker.color}<extra></extra>\",\"legendgroup\":\"\",\"marker\":{\"color\":[0,0,0,0,0,0,0,0,0,0,0,0,0,1,0,0,0,0,0,0,0,0,0],\"coloraxis\":\"coloraxis\",\"symbol\":\"circle\"},\"mode\":\"markers\",\"name\":\"\",\"orientation\":\"v\",\"showlegend\":false,\"x\":[4516.0,5593.0,5680.0,0.0,8100.0,3200.0,2416.0,5600.0,8400.0,9000.0,6050.0,4500.0,8668.0,2900.0,7083.0,6334.0,4000.0,1.0,6666.0,5020.0,8625.0,2183.0,900.0],\"xaxis\":\"x\",\"y\":[0.651538632,0.282445477,0.512761838,1783.0,0.26675719,0.17494533,0.098469177,0.892162114,0.111891441,0.313965115,0.471657577,0.37102866,0.884992502,0.273698725,0.401044608,0.38816101,0.195701075,3014.0,0.220038998,0.333798048,0.158822166,0.364468864,0.996670366],\"yaxis\":\"y\",\"type\":\"scatter\"}],\"name\":\"35\"},{\"data\":[{\"hovertemplate\":\"age=36<br>MonthlyIncome=%{x}<br>DebtRatio=%{y}<br>SeriousDlqin2yrs=%{marker.color}<extra></extra>\",\"legendgroup\":\"\",\"marker\":{\"color\":[0,0,0,0,0,0,0,0,0,0,0,0,0,0,0,1,1,0,0,1,0,0,0,0,0,0,0,1,0,0,1,0,1,1],\"coloraxis\":\"coloraxis\",\"symbol\":\"circle\"},\"mode\":\"markers\",\"name\":\"\",\"orientation\":\"v\",\"showlegend\":false,\"x\":[2650.0,7650.0,9166.0,7855.0,4806.0,4750.0,10833.0,12084.0,10000.0,3362.0,8750.0,2516.0,8333.0,2800.0,10000.0,3243.0,6670.221237392844,3200.0,3200.0,3666.0,3776.0,5652.0,8789.0,4200.0,14000.0,3750.0,4680.0,3464.0,6670.221237392844,2000.0,29167.0,9000.0,3292.0,2468.0],\"xaxis\":\"x\",\"y\":[0.397585817,0.260096719,0.277844442,0.153895112,0.367380903,0.091980636,0.387391545,0.413984278,0.223477652,0.145108534,0.306250714,0.723480334,0.338612911,0.063548733,0.267773223,0.443896424,3931.0,0.637300843,0.114339269,0.255794928,0.30394493,0.28091279,0.494311718,0.045465365,0.21491322,1.088509731,0.247596667,0.418759019,2124.0,1.069465267,0.197819528,0.328296856,0.777102946,0.0],\"yaxis\":\"y\",\"type\":\"scatter\"}],\"name\":\"36\"},{\"data\":[{\"hovertemplate\":\"age=37<br>MonthlyIncome=%{x}<br>DebtRatio=%{y}<br>SeriousDlqin2yrs=%{marker.color}<extra></extra>\",\"legendgroup\":\"\",\"marker\":{\"color\":[0,0,1,0,1,0,0,1,0,1,0,0,0,0,0,0,0,0,0,0,0,0,0,0,0,0],\"coloraxis\":\"coloraxis\",\"symbol\":\"circle\"},\"mode\":\"markers\",\"name\":\"\",\"orientation\":\"v\",\"showlegend\":false,\"x\":[2500.0,6000.0,4360.0,8666.0,1877.0,4292.0,11200.0,5059.0,7166.0,2300.0,8666.0,6670.221237392844,7250.0,2500.0,6670.221237392844,9250.0,13333.0,6670.221237392844,9000.0,9166.0,5000.0,9750.0,13000.0,9012.0,4920.0,2860.0],\"xaxis\":\"x\",\"y\":[0.460615754,0.344109315,1.752579684,1.225106727,0.190095847,0.315164221,0.39201857,0.235770751,0.544021208,1.075619296,0.262028384,0.0,0.209350434,0.109156337,4251.0,0.365149714,0.706764662,1175.0,0.343184091,0.125449984,0.352729454,0.358527331,0.060379971,0.269499612,0.177606178,0.833974135],\"yaxis\":\"y\",\"type\":\"scatter\"}],\"name\":\"37\"},{\"data\":[{\"hovertemplate\":\"age=38<br>MonthlyIncome=%{x}<br>DebtRatio=%{y}<br>SeriousDlqin2yrs=%{marker.color}<extra></extra>\",\"legendgroup\":\"\",\"marker\":{\"color\":[0,0,0,1,0,0,0,0,0,0,0,0,0,0,0,1,0,0,0,0,0,0,0,0,1,0],\"coloraxis\":\"coloraxis\",\"symbol\":\"circle\"},\"mode\":\"markers\",\"name\":\"\",\"orientation\":\"v\",\"showlegend\":false,\"x\":[7800.0,14500.0,8160.0,2042.0,15000.0,3078.0,3196.0,5900.0,2152.0,10010.0,3000.0,6670.221237392844,5500.0,5203.0,5000.0,4600.0,4130.0,7916.0,2205.0,6100.0,5833.0,13000.0,14590.0,15000.0,1750.0,2166.0],\"xaxis\":\"x\",\"y\":[0.174208435,0.208537342,0.050116407,0.463534019,0.030131325,0.408898993,0.586174539,0.369089985,0.621922898,0.494755769,0.483172276,1984.0,0.595346301,0.429669485,0.364527095,0.08411215,0.384168482,0.766073007,0.138259293,0.559744304,0.514226945,0.202753634,0.203618669,0.436170922,0.324957167,0.236271343],\"yaxis\":\"y\",\"type\":\"scatter\"}],\"name\":\"38\"},{\"data\":[{\"hovertemplate\":\"age=39<br>MonthlyIncome=%{x}<br>DebtRatio=%{y}<br>SeriousDlqin2yrs=%{marker.color}<extra></extra>\",\"legendgroup\":\"\",\"marker\":{\"color\":[0,0,0,0,1,0,0,0,0,0,0,0,0,0,0,0,0,0,0,0,0,0,0,0,0,0,0,0,0,0,0,0],\"coloraxis\":\"coloraxis\",\"symbol\":\"circle\"},\"mode\":\"markers\",\"name\":\"\",\"orientation\":\"v\",\"showlegend\":false,\"x\":[6670.221237392844,5133.0,3640.0,8158.0,21350.0,10166.0,4230.0,4000.0,4600.0,8333.0,11000.0,7200.0,6000.0,8585.0,6670.221237392844,6200.0,11871.0,6670.221237392844,6240.0,6670.221237392844,5583.0,7600.0,2400.0,7460.0,5000.0,1200.0,5066.0,3207.0,6670.221237392844,9167.0,6000.0,10000.0],\"xaxis\":\"x\",\"y\":[2010.0,0.524931827,0.568250481,1.189361441,0.000608871,0.339529851,0.036161664,0.015246188,0.515105412,0.270698344,0.170529952,0.0,0.083486086,0.327393431,223.0,0.230285438,0.186994609,3371.0,0.056561448,276.0,0.394340974,0.715169057,0.185339442,0.451145959,0.118176365,1.696086595,0.653443852,0.474438903,677.0,0.269524433,0.086152308,0.530146985],\"yaxis\":\"y\",\"type\":\"scatter\"}],\"name\":\"39\"},{\"data\":[{\"hovertemplate\":\"age=40<br>MonthlyIncome=%{x}<br>DebtRatio=%{y}<br>SeriousDlqin2yrs=%{marker.color}<extra></extra>\",\"legendgroup\":\"\",\"marker\":{\"color\":[0,0,0,0,0,0,0,0,0,0,0,0,0,0,0,0,0,0,0,0,0,0,0,0,0,0,0,0,0,0,0,0,0,0],\"coloraxis\":\"coloraxis\",\"symbol\":\"circle\"},\"mode\":\"markers\",\"name\":\"\",\"orientation\":\"v\",\"showlegend\":false,\"x\":[8000.0,7500.0,3100.0,2500.0,5000.0,6250.0,13800.0,6670.221237392844,1081.0,8916.0,4919.0,3300.0,4000.0,5916.0,6666.0,7000.0,3699.0,4300.0,4200.0,6000.0,14382.0,6670.221237392844,6670.221237392844,6670.221237392844,4500.0,12000.0,21100.0,3333.0,7348.0,31706.0,6350.0,3700.0,3828.0,7500.0],\"xaxis\":\"x\",\"y\":[0.143107112,0.173443541,0.664301838,0.638144742,0.195760848,0.316269397,0.950220998,372.0,0.004621072,0.448805652,0.103658537,0.020599818,0.420394901,0.428933581,0.330283486,0.375374946,0.575945946,0.127877238,0.161152107,0.264455924,0.300632691,3252.0,3384.0,2775.0,0.946456343,0.465377885,0.111606085,0.085782843,0.342223432,0.067934525,0.629034798,0.875709268,0.181248368,0.36795094],\"yaxis\":\"y\",\"type\":\"scatter\"}],\"name\":\"40\"},{\"data\":[{\"hovertemplate\":\"age=41<br>MonthlyIncome=%{x}<br>DebtRatio=%{y}<br>SeriousDlqin2yrs=%{marker.color}<extra></extra>\",\"legendgroup\":\"\",\"marker\":{\"color\":[0,0,0,0,0,0,0,0,0,0,0,0,1,1,0,0,0,0,0,0,0,0,0,0,1,0,0,0,0,0,0,0,0,0,0,0,0,0,0],\"coloraxis\":\"coloraxis\",\"symbol\":\"circle\"},\"mode\":\"markers\",\"name\":\"\",\"orientation\":\"v\",\"showlegend\":false,\"x\":[9819.0,6700.0,2800.0,9739.0,350.0,6752.0,8300.0,8833.0,6670.221237392844,6670.221237392844,12170.0,3583.0,6900.0,2700.0,6670.221237392844,5000.0,5020.0,5200.0,1.0,400.0,8645.0,3585.0,6670.221237392844,8084.0,6670.221237392844,4250.0,6670.221237392844,6670.221237392844,2000.0,7400.0,7500.0,30000.0,4500.0,4166.0,5700.0,6996.0,3900.0,6670.221237392844,5892.0],\"xaxis\":\"x\",\"y\":[0.160488798,0.148932995,0.353445198,0.174332649,4.082621083,0.214571302,0.373208047,0.596219153,1265.0,2704.0,0.330457645,0.036830357,2.639327634,0.221029248,1400.0,0.120775845,0.478988249,0.559700058,1783.0,1.117206983,0.292505205,0.192136085,6114.0,0.222510823,775.0,0.520112915,1255.0,203.0,1.247876062,0.200378327,0.34755366,0.262924569,0.549655632,0.327093832,0.177688125,0.215949693,0.366572674,0.0,0.159680977],\"yaxis\":\"y\",\"type\":\"scatter\"}],\"name\":\"41\"},{\"data\":[{\"hovertemplate\":\"age=42<br>MonthlyIncome=%{x}<br>DebtRatio=%{y}<br>SeriousDlqin2yrs=%{marker.color}<extra></extra>\",\"legendgroup\":\"\",\"marker\":{\"color\":[0,0,1,0,0,0,0,0,0,1,0,0,0,0,0,0,0,0,0,0,0,0,0,0,0,0,0,1,0,0,0,1],\"coloraxis\":\"coloraxis\",\"symbol\":\"circle\"},\"mode\":\"markers\",\"name\":\"\",\"orientation\":\"v\",\"showlegend\":false,\"x\":[6670.221237392844,6670.221237392844,6670.221237392844,1855.0,2825.0,6000.0,2700.0,7833.0,10500.0,3000.0,4000.0,9233.0,4600.0,3000.0,10000.0,18233.0,6670.221237392844,3000.0,7000.0,0.0,5547.0,3250.0,11000.0,2400.0,6670.221237392844,5400.0,1500.0,7350.0,6670.221237392844,6670.221237392844,5416.0,6670.221237392844],\"xaxis\":\"x\",\"y\":[1233.0,1278.0,679.0,0.0,0.334748762,0.117147142,0.407997038,0.371457748,0.454432911,0.363212263,0.429142714,0.29716266,0.356009563,0.413528824,0.179382062,0.488099155,1752.0,0.017327557,0.065847736,914.0,0.278658976,1.274377115,0.310244523,0.915868388,2436.0,0.106091465,0.608927382,0.39314379,2082.0,180.0,0.239616024,2059.0],\"yaxis\":\"y\",\"type\":\"scatter\"}],\"name\":\"42\"},{\"data\":[{\"hovertemplate\":\"age=43<br>MonthlyIncome=%{x}<br>DebtRatio=%{y}<br>SeriousDlqin2yrs=%{marker.color}<extra></extra>\",\"legendgroup\":\"\",\"marker\":{\"color\":[0,0,0,0,0,0,0,0,0,0,0,0,0,0,0,0,0,0,0,0,0,0,0,0,0,0,0,0,0,0,0,0,0,0,0,0,1,1,0,0,0,0,0,0,0],\"coloraxis\":\"coloraxis\",\"symbol\":\"circle\"},\"mode\":\"markers\",\"name\":\"\",\"orientation\":\"v\",\"showlegend\":false,\"x\":[7400.0,1020.0,7464.0,18000.0,4433.0,2100.0,6670.221237392844,6670.221237392844,6375.0,2900.0,2100.0,17916.0,5500.0,16666.0,17667.0,15416.0,3644.0,12000.0,5400.0,10600.0,2800.0,2680.0,6670.221237392844,7400.0,7017.0,6512.0,6833.0,5938.0,2500.0,9166.0,4695.0,12032.0,5300.0,3000.0,6670.221237392844,6670.221237392844,6670.221237392844,14216.0,12400.0,7000.0,5500.0,5153.0,1984.0,6670.221237392844,5833.0],\"xaxis\":\"x\",\"y\":[0.340629645,0.868756121,0.783657066,0.380534415,0.141858367,0.264159924,3200.0,3086.0,0.49749059,0.262323337,0.139457401,0.142713624,0.377931285,0.174956501,0.75684854,0.389115911,0.000274348,0.18531789,0.031845954,0.353079898,0.737950732,0.405445729,1745.0,0.559789218,0.000712454,0.483955167,0.108867428,0.472133356,1.317073171,0.605214356,0.809199319,0.258372808,0.279003962,1.129623459,730.0,2804.0,2936.0,0.642470282,0.178856544,1.743179546,0.296855117,0.213038417,0.572292191,2692.0,0.556222146],\"yaxis\":\"y\",\"type\":\"scatter\"}],\"name\":\"43\"},{\"data\":[{\"hovertemplate\":\"age=44<br>MonthlyIncome=%{x}<br>DebtRatio=%{y}<br>SeriousDlqin2yrs=%{marker.color}<extra></extra>\",\"legendgroup\":\"\",\"marker\":{\"color\":[0,0,0,0,1,0,0,0,0,0,0,0,0,0,0,0,0,0,0,0,0,1,0,1,0,0,0,0,0,0,0,0,0,0,0,0,0,0,0,0,0,0,0,0],\"coloraxis\":\"coloraxis\",\"symbol\":\"circle\"},\"mode\":\"markers\",\"name\":\"\",\"orientation\":\"v\",\"showlegend\":false,\"x\":[7218.0,333.0,11600.0,5800.0,2000.0,5000.0,6670.221237392844,2800.0,6670.221237392844,13157.0,0.0,11000.0,6670.221237392844,6400.0,3428.0,5154.0,9299.0,3462.0,4715.0,9166.0,11833.0,2300.0,5890.0,3612.0,5000.0,3900.0,3283.0,9878.0,7500.0,4200.0,4000.0,2000.0,5439.0,6968.0,6670.221237392844,2307.0,4083.0,9000.0,7500.0,1400.0,7400.0,2616.0,4079.0,2543.0],\"xaxis\":\"x\",\"y\":[0.326360992,4.389221557,0.092578226,0.42802965,0.55922039,0.036192761,69.0,0.634773295,23.0,0.439048488,549.0,0.110262703,2044.0,0.149664115,0.781860601,0.463821532,0.159784946,0.76494369,0.150975403,0.71244682,0.315531519,0.26510213,0.531997963,0.0,0.554289142,0.426044604,0.0,0.211964774,0.55792561,0.4901214,0.448137966,0.20089955,0.010661765,0.341081934,433.0,0.945840555,0.00367287,0.769914454,0.531395814,2.407566024,0.364680449,0.421857088,0.639705882,0.661949686],\"yaxis\":\"y\",\"type\":\"scatter\"}],\"name\":\"44\"},{\"data\":[{\"hovertemplate\":\"age=45<br>MonthlyIncome=%{x}<br>DebtRatio=%{y}<br>SeriousDlqin2yrs=%{marker.color}<extra></extra>\",\"legendgroup\":\"\",\"marker\":{\"color\":[1,0,0,0,1,0,0,0,0,0,0,0,0,0,0,0,1,0,0,0,0,0,0,0,1,0,0,0,0,0,0,0,0,1,0,0,0,0,0,0,0,0,1,0,0,0,0],\"coloraxis\":\"coloraxis\",\"symbol\":\"circle\"},\"mode\":\"markers\",\"name\":\"\",\"orientation\":\"v\",\"showlegend\":false,\"x\":[12700.0,8200.0,6670.221237392844,2919.0,12000.0,7100.0,4112.0,4999.0,3000.0,6670.221237392844,1805.0,6000.0,6670.221237392844,15500.0,7927.0,6670.221237392844,15000.0,6670.221237392844,5000.0,9316.0,16666.0,4167.0,6670.221237392844,6312.0,8320.0,0.0,0.0,7000.0,4700.0,6815.0,4350.0,7574.0,6670.221237392844,5095.0,21000.0,7000.0,6670.221237392844,7700.0,6650.0,6160.0,4500.0,1500.0,6670.221237392844,4695.0,9333.0,3750.0,11250.0],\"xaxis\":\"x\",\"y\":[0.501614046,0.312888672,1172.0,0.330479452,0.259561703,0.282213773,0.54680282,0.0434,0.126291236,3429.0,0.0,0.530744876,4249.0,0.068834269,0.362386478,863.0,0.294380375,591.0,0.404719056,0.561339487,0.464870703,1.070777351,261.0,0.185965468,0.426030525,2243.0,1834.0,0.357948864,0.255902999,0.415639671,0.28338313,0.365016502,2488.0,0.568288854,0.07556783,0.4965005,1635.0,0.325152578,0.265373628,0.12984905,0.520773162,1.832111925,807.0,0.109241908,0.006320977,0.024793388,0.102390899],\"yaxis\":\"y\",\"type\":\"scatter\"}],\"name\":\"45\"},{\"data\":[{\"hovertemplate\":\"age=46<br>MonthlyIncome=%{x}<br>DebtRatio=%{y}<br>SeriousDlqin2yrs=%{marker.color}<extra></extra>\",\"legendgroup\":\"\",\"marker\":{\"color\":[0,0,0,0,0,0,0,0,0,1,0,0,0,0,0,0,0,0,0,0,0,0,0,0,0,0,0,0,1,1,0,0,0,0,1,0,0,0,0,0,0,0,0,0,0,0,0,1,0,0,0,0,0],\"coloraxis\":\"coloraxis\",\"symbol\":\"circle\"},\"mode\":\"markers\",\"name\":\"\",\"orientation\":\"v\",\"showlegend\":false,\"x\":[1800.0,4584.0,7350.0,11000.0,5500.0,3833.0,4040.0,6183.0,6670.221237392844,6670.221237392844,8600.0,7916.0,6670.221237392844,6670.221237392844,6670.221237392844,8000.0,4254.0,9800.0,15000.0,5000.0,6670.221237392844,3591.0,6500.0,9064.0,6670.221237392844,3000.0,6277.0,3749.0,4500.0,8250.0,7416.0,11296.0,6670.221237392844,6670.221237392844,6166.0,2000.0,5000.0,9583.0,7366.0,4000.0,16666.0,7244.0,4098.0,3403.0,11583.0,6000.0,1000.0,1850.0,12850.0,2750.0,8200.0,4200.0,14999.0],\"xaxis\":\"x\",\"y\":[0.464186563,0.412431843,0.357230309,0.425415871,1.082348664,0.465310381,1.243751547,0.115135834,278.0,3989.0,0.623415882,0.361374258,612.0,28.0,1728.0,0.455568054,0.247943596,0.119171513,0.278181455,0.617476505,1208.0,0.239420935,0.325642209,0.437948152,3114.0,1.554815062,0.495539981,0.013066667,0.020217729,0.763543813,0.374275313,0.233159246,239.0,144.0,0.546132641,1.604697651,0.262747451,0.115922371,0.158680603,0.266933267,0.095698086,0.285438233,0.950719688,0.322855464,0.540055249,0.435927345,3.759240759,0.042679633,0.374990273,0.133769538,0.482502134,0.104022852,0.643],\"yaxis\":\"y\",\"type\":\"scatter\"}],\"name\":\"46\"},{\"data\":[{\"hovertemplate\":\"age=47<br>MonthlyIncome=%{x}<br>DebtRatio=%{y}<br>SeriousDlqin2yrs=%{marker.color}<extra></extra>\",\"legendgroup\":\"\",\"marker\":{\"color\":[1,0,0,0,0,0,0,0,0,0,0,0,0,0,0,0,1,0,0,0,0,0,0,0,1,0,0,0,0,1,0,0,0,0,0,0,0,0,0,0,0,0,0],\"coloraxis\":\"coloraxis\",\"symbol\":\"circle\"},\"mode\":\"markers\",\"name\":\"\",\"orientation\":\"v\",\"showlegend\":false,\"x\":[2500.0,2381.0,7000.0,6015.0,11107.0,5556.0,5855.0,3500.0,18018.0,7954.0,8600.0,6670.221237392844,4800.0,7834.0,7800.0,6670.221237392844,5863.0,2256.0,4850.0,18000.0,10300.0,6670.221237392844,30000.0,35000.0,25000.0,6670.221237392844,4291.0,0.0,7174.0,2735.0,3667.0,15900.0,75000.0,7916.0,8745.0,6670.221237392844,10200.0,6670.221237392844,5704.0,5640.0,10400.0,2000.0,15416.0],\"xaxis\":\"x\",\"y\":[0.078368653,0.607892527,1.455077846,0.503490691,0.221371984,0.318517186,0.000170765,0.368466153,0.203451912,0.178252671,0.252993838,3221.0,0.44844824,0.575494576,0.380592232,171.0,0.065313779,0.010190518,0.36404865,0.251319371,0.647412873,2282.0,0.001433286,0.072255078,0.03975841,2387.0,0.646085741,1647.0,0.315679443,0.793859649,0.235823337,0.189044714,0.032106239,0.242263484,0.231077064,0.0,0.256445447,3152.0,0.509027169,0.608934586,0.391885396,0.056471764,0.186936499],\"yaxis\":\"y\",\"type\":\"scatter\"}],\"name\":\"47\"},{\"data\":[{\"hovertemplate\":\"age=48<br>MonthlyIncome=%{x}<br>DebtRatio=%{y}<br>SeriousDlqin2yrs=%{marker.color}<extra></extra>\",\"legendgroup\":\"\",\"marker\":{\"color\":[0,0,0,0,0,0,0,0,0,0,0,0,1,0,1,0,0,0,0,0,0,0,0,1,0,0,0,0,0,0,0,0,0,1,0,0,0,1,1,0,0,0,0,0,0,0,0,0,0,0],\"coloraxis\":\"coloraxis\",\"symbol\":\"circle\"},\"mode\":\"markers\",\"name\":\"\",\"orientation\":\"v\",\"showlegend\":false,\"x\":[5888.0,4000.0,5000.0,16450.0,6670.221237392844,6300.0,6962.0,2932.0,6670.221237392844,4900.0,3048.0,6670.221237392844,5899.0,6096.0,9500.0,4628.0,6250.0,1.0,6000.0,5003.0,4000.0,9600.0,2600.0,4200.0,7860.0,7500.0,3733.0,8133.0,6000.0,2931.0,2302.0,3000.0,3188.0,2083.0,5300.0,6400.0,5510.0,12600.0,11200.0,6670.221237392844,4000.0,7875.0,6670.221237392844,5642.0,2100.0,6670.221237392844,7750.0,6670.221237392844,6670.221237392844,9000.0],\"xaxis\":\"x\",\"y\":[0.234844626,0.292426893,0.291141772,0.361011489,2283.0,0.224408824,0.238402987,0.892260484,2633.0,0.634768415,1.187930469,543.0,0.243559322,0.574872888,0.804020629,0.459710521,0.48856183,1326.5,0.876353941,0.382494005,0.358910272,0.729923966,0.281430219,0.511306832,0.371581224,0.595253966,0.472683449,0.322596508,0.445259123,0.922578445,0.468953539,0.370876375,0.58607714,0.407869482,0.414450104,0.190907671,0.034476502,0.423934608,0.189358093,280.0,0.050987253,0.409090909,1338.0,0.355661882,1.12184674,1538.0,0.268610502,2452.0,2130.0,0.001222086],\"yaxis\":\"y\",\"type\":\"scatter\"}],\"name\":\"48\"},{\"data\":[{\"hovertemplate\":\"age=49<br>MonthlyIncome=%{x}<br>DebtRatio=%{y}<br>SeriousDlqin2yrs=%{marker.color}<extra></extra>\",\"legendgroup\":\"\",\"marker\":{\"color\":[0,0,1,0,0,0,0,0,0,0,0,0,0,0,0,0,0,0,0,0,0,0,0,0,0,0,0,0,0,0,0,0,0,0,0,0,0,0,0,0,0,0,0,0,0,0,0,0,1,0,0,0,0,0],\"coloraxis\":\"coloraxis\",\"symbol\":\"circle\"},\"mode\":\"markers\",\"name\":\"\",\"orientation\":\"v\",\"showlegend\":false,\"x\":[6151.0,12000.0,3775.0,2800.0,6670.221237392844,3500.0,14832.0,16600.0,5574.0,9167.0,6710.0,6670.221237392844,6670.221237392844,10998.0,8630.0,4000.0,9400.0,16735.0,8000.0,6907.0,12750.0,9500.0,10700.0,3402.0,9195.0,6670.221237392844,9583.0,6670.221237392844,2700.0,9000.0,13375.0,9500.0,6670.221237392844,6670.221237392844,10000.0,2916.0,17500.0,4000.0,2500.0,4766.0,3520.0,5146.0,13000.0,8800.0,6000.0,6670.221237392844,3957.0,25000.0,3883.0,3400.0,8140.0,9583.0,6940.0,4489.0],\"xaxis\":\"x\",\"y\":[0.581274382,0.311307391,0.671610169,0.394501964,4630.0,0.627249357,0.207105778,0.191855912,0.098654709,0.483856894,0.258977798,913.0,1989.0,0.271751977,0.29984938,0.864533867,0.358153388,0.671725621,0.778152731,0.12029531,0.21072857,0.471950321,0.115690122,0.585071995,0.049804263,2678.0,0.306239566,498.0,0.613846723,0.401399844,0.278857656,0.041995579,1685.0,4058.0,0.356264374,0.483716147,0.259585167,0.264933767,0.396241503,0.254877281,0.796080659,0.299009132,0.25405738,0.433473469,1.242126312,3759.0,0.020212228,0.085076597,0.3123069,0.653925316,0.62142243,0.322621035,0.331364357,0.224721604],\"yaxis\":\"y\",\"type\":\"scatter\"}],\"name\":\"49\"},{\"data\":[{\"hovertemplate\":\"age=50<br>MonthlyIncome=%{x}<br>DebtRatio=%{y}<br>SeriousDlqin2yrs=%{marker.color}<extra></extra>\",\"legendgroup\":\"\",\"marker\":{\"color\":[0,0,0,0,1,0,0,1,0,0,0,0,0,0,0,0,0,0,0,0,0,0,1,0,0,0,0,0,0,0,0,0,0,0,0,0,0,0,0,0,0,0,0,0,0,0,0,0,0,0],\"coloraxis\":\"coloraxis\",\"symbol\":\"circle\"},\"mode\":\"markers\",\"name\":\"\",\"orientation\":\"v\",\"showlegend\":false,\"x\":[8167.0,8721.0,8200.0,4166.0,6670.221237392844,7300.0,11250.0,600.0,19450.0,10166.0,8967.0,12625.0,6670.221237392844,25083.0,11400.0,5000.0,7000.0,5100.0,12633.0,3334.0,6613.0,6450.0,10666.0,7175.0,3721.0,7442.0,6670.221237392844,9480.0,5416.0,9500.0,6670.221237392844,6670.221237392844,6670.221237392844,5100.0,6197.0,6670.221237392844,4584.0,6000.0,16000.0,6670.221237392844,4465.0,6670.221237392844,17069.0,6670.221237392844,3162.0,8630.0,6625.0,4200.0,30000.0,12500.0],\"xaxis\":\"x\",\"y\":[6.113124388,0.46652144,0.081209609,0.574994,2448.0,0.364196685,0.740378633,0.083194676,0.309752712,0.164650339,0.359834969,0.108506257,5317.0,0.258969861,0.3953162,0.734053189,0.5244965,0.573416977,0.331803071,0.243178411,0.241911098,0.607812742,0.509046592,0.265328874,0.097796883,0.004299342,1002.0,0.526526738,0.583902529,0.530891485,1250.0,17.0,2697.0,0.468731621,0.369635366,411.0,0.444274809,0.579903349,0.49184426,2712.0,0.183609494,5108.0,0.233801992,1175.0,0.611760986,0.11342834,0.466948385,0.278267079,0.180760641,0.294936405],\"yaxis\":\"y\",\"type\":\"scatter\"}],\"name\":\"50\"},{\"data\":[{\"hovertemplate\":\"age=51<br>MonthlyIncome=%{x}<br>DebtRatio=%{y}<br>SeriousDlqin2yrs=%{marker.color}<extra></extra>\",\"legendgroup\":\"\",\"marker\":{\"color\":[0,1,0,0,0,0,0,0,0,0,0,0,0,0,0,0,0,0,0,0,0,0,0,0,0,0,0,0,0,0,1,0,0,1,0,0,0,0,0,0,0,0,0,1,0,0,0,0,0,0,0,0,0,0,0,0,0,0,0,0],\"coloraxis\":\"coloraxis\",\"symbol\":\"circle\"},\"mode\":\"markers\",\"name\":\"\",\"orientation\":\"v\",\"showlegend\":false,\"x\":[9400.0,2940.0,10416.0,6670.221237392844,7600.0,4417.0,6746.0,4635.0,8333.0,13225.0,5640.0,6670.221237392844,6670.221237392844,15483.0,7923.0,6112.0,3090.0,4000.0,15000.0,2600.0,9250.0,1.0,9192.0,12707.0,5476.0,19583.0,6000.0,4855.0,13200.0,6700.0,2200.0,4000.0,5600.0,3689.0,5500.0,1382.0,7509.0,2500.0,1.0,6670.221237392844,3500.0,5531.0,4690.0,6670.221237392844,5835.0,21666.0,13063.0,6670.221237392844,5200.0,6200.0,61000.0,9128.0,6670.221237392844,8733.0,8335.0,9000.0,16000.0,4800.0,7500.0,5500.0],\"xaxis\":\"x\",\"y\":[0.219657483,0.693641618,0.172410483,583.0,0.11577424,0.312811227,0.373943975,0.335849871,0.06587473,0.159685468,0.275128523,1260.0,1926.0,0.018599845,0.214033317,0.330279732,0.293756066,0.138715321,8.718818745,0.081507113,0.202032213,49.0,0.687479604,0.089471199,0.414825634,0.306576797,0.219463423,0.087314662,0.325278388,0.000298463,1.110858701,0.243939015,0.401356901,0.943902439,0.370841665,1.688358641,0.524766977,0.367852859,1066.0,725.0,0.821193945,0.357556038,0.772756342,2011.0,0.376285127,0.340933216,0.099816289,734.0,0.222841761,0.337848734,0.035261717,0.377806989,3977.0,0.294595832,0.316698656,0.408287968,0.181613649,0.388460737,0.233435542,0.215415379],\"yaxis\":\"y\",\"type\":\"scatter\"}],\"name\":\"51\"},{\"data\":[{\"hovertemplate\":\"age=52<br>MonthlyIncome=%{x}<br>DebtRatio=%{y}<br>SeriousDlqin2yrs=%{marker.color}<extra></extra>\",\"legendgroup\":\"\",\"marker\":{\"color\":[0,0,0,0,1,0,0,0,0,0,0,0,0,0,0,0,0,0,0,0,0,0,0,0,0,0,0,0,0,0,0,0,0,0,0,0,0,1,0,0,0,1,0,0,0,0,1,0,0,1,0,0,0],\"coloraxis\":\"coloraxis\",\"symbol\":\"circle\"},\"mode\":\"markers\",\"name\":\"\",\"orientation\":\"v\",\"showlegend\":false,\"x\":[6670.221237392844,5000.0,9000.0,10350.0,1345.0,6670.221237392844,2600.0,6670.221237392844,6670.221237392844,6166.0,19600.0,8163.0,6253.0,9030.0,13227.0,5600.0,8799.0,6600.0,6670.221237392844,6958.0,10700.0,6670.221237392844,6670.221237392844,5100.0,6670.221237392844,4250.0,5715.0,10264.0,7583.0,6670.221237392844,3298.0,3796.0,5500.0,6647.0,10958.0,1583.0,6670.221237392844,5000.0,14200.0,6670.221237392844,6670.221237392844,3878.0,2500.0,5166.0,6670.221237392844,12725.0,25650.0,6670.221237392844,6340.0,4000.0,6670.221237392844,5290.0,650.0],\"xaxis\":\"x\",\"y\":[1036.0,0.312737453,0.271303189,0.360158439,0.893759287,4895.0,0.058054594,122.0,1997.0,0.336468299,0.354828835,0.273272905,0.41301567,0.522865685,0.296719081,0.466523835,0.461136364,0.99727314,1262.0,0.361833597,0.155499486,4815.0,3178.0,0.413644383,2058.0,0.227475888,0.508922323,0.254262056,0.197916667,576.0,0.325250076,0.587305768,0.23032176,0.246690734,0.237339173,0.683712121,61.0,0.559488102,0.456939652,519.0,1235.0,0.378448054,0.004398241,0.510354171,1978.0,0.081329562,0.211804608,22.0,0.647847343,0.206448388,63.0,0.513702514,0.228878648],\"yaxis\":\"y\",\"type\":\"scatter\"}],\"name\":\"52\"},{\"data\":[{\"hovertemplate\":\"age=53<br>MonthlyIncome=%{x}<br>DebtRatio=%{y}<br>SeriousDlqin2yrs=%{marker.color}<extra></extra>\",\"legendgroup\":\"\",\"marker\":{\"color\":[0,0,0,0,0,0,0,0,0,0,0,0,0,0,0,0,0,0,1,0,0,0,1,0,0,0,0,0,0,0,0,0,0,0,0,0,0,0,0,0,0,0,0,0,0,0,1,0,0,0],\"coloraxis\":\"coloraxis\",\"symbol\":\"circle\"},\"mode\":\"markers\",\"name\":\"\",\"orientation\":\"v\",\"showlegend\":false,\"x\":[3500.0,15670.0,4333.0,10666.0,5985.0,4333.0,8166.0,15000.0,5795.0,3333.0,9400.0,5700.0,10000.0,6670.221237392844,7816.0,3201.0,9500.0,9300.0,6670.221237392844,11233.0,6816.0,3800.0,6670.221237392844,4750.0,1500.0,7511.0,6670.221237392844,2000.0,5000.0,4688.0,8923.0,2740.0,6670.221237392844,17033.0,5973.0,9000.0,3900.0,2937.0,7450.0,2750.0,6454.0,1700.0,7180.0,2251.0,6670.221237392844,6670.221237392844,11819.0,3397.0,6670.221237392844,6670.221237392844],\"xaxis\":\"x\",\"y\":[0.020851185,0.131963499,0.205122289,0.268210368,0.676411627,0.384863867,0.676380556,0.158856076,1.271911663,0.444511098,0.228167216,0.015786704,0.00379962,3093.0,0.381220417,0.196439725,0.497105568,0.341361144,1346.0,0.036585366,0.019363356,0.102341489,758.0,0.059987371,0.597601599,0.323349308,2986.0,3.380309845,0.411917616,0.453401578,0.215822501,0.302809194,1362.0,0.26171187,0.013726147,0.178757916,0.458344014,0.059564329,0.220909945,0.784078517,0.316653757,1.340975897,0.36262359,0.026198934,6867.0,4740.0,0.354822335,0.43407887,1300.0,2303.0],\"yaxis\":\"y\",\"type\":\"scatter\"}],\"name\":\"53\"},{\"data\":[{\"hovertemplate\":\"age=54<br>MonthlyIncome=%{x}<br>DebtRatio=%{y}<br>SeriousDlqin2yrs=%{marker.color}<extra></extra>\",\"legendgroup\":\"\",\"marker\":{\"color\":[0,0,0,0,0,0,0,0,0,0,0,0,0,0,0,0,0,0,0,0,0,0,0,0,0,0,0,0,0,0,0,0,0,0,0,0,0,0,0,0,0,1,0,0,0,0],\"coloraxis\":\"coloraxis\",\"symbol\":\"circle\"},\"mode\":\"markers\",\"name\":\"\",\"orientation\":\"v\",\"showlegend\":false,\"x\":[3711.0,6670.221237392844,6670.221237392844,6670.221237392844,4083.0,18141.0,10864.0,9102.0,6670.221237392844,6670.221237392844,6670.221237392844,7650.0,2459.0,13720.0,3750.0,6670.221237392844,7960.0,6670.221237392844,8583.0,9166.0,11291.0,7500.0,4366.0,10839.0,6670.221237392844,4583.0,5114.0,3000.0,2700.0,6520.0,6670.221237392844,6000.0,3100.0,5001.0,400.0,6670.221237392844,6670.221237392844,6670.221237392844,5417.0,6670.221237392844,6666.0,6670.221237392844,12000.0,6670.221237392844,2500.0,6230.0],\"xaxis\":\"x\",\"y\":[0.121497845,1118.0,2681.0,1618.0,0.189520078,0.557711388,0.350575242,0.321981764,1666.0,1552.0,1273.0,0.550254869,0.206504065,0.375628598,0.45721141,2899.0,0.684336139,3173.0,0.269105312,0.250899967,0.704658165,0.93907479,0.141057935,0.359870849,3182.0,0.089005236,0.530791789,0.334888371,0.449833395,0.50329704,2210.0,0.766038994,0.182844244,0.767293083,1.289276808,2452.0,814.0,2218.0,0.356035437,3119.0,0.598320084,413.0,0.243146404,2650.0,1.674530188,0.186647408],\"yaxis\":\"y\",\"type\":\"scatter\"}],\"name\":\"54\"},{\"data\":[{\"hovertemplate\":\"age=55<br>MonthlyIncome=%{x}<br>DebtRatio=%{y}<br>SeriousDlqin2yrs=%{marker.color}<extra></extra>\",\"legendgroup\":\"\",\"marker\":{\"color\":[0,0,0,0,0,1,0,0,0,0,0,0,0,0,0,0,0,0,0,0,0,0,0,0,0,0,0,0,0,0,0,1,0,0,0,0,0,0,0,0,0,0,0,0,0,0,0,0],\"coloraxis\":\"coloraxis\",\"symbol\":\"circle\"},\"mode\":\"markers\",\"name\":\"\",\"orientation\":\"v\",\"showlegend\":false,\"x\":[10879.0,9450.0,6670.221237392844,4458.0,2900.0,4500.0,0.0,6670.221237392844,6670.221237392844,1.0,18333.0,7027.0,9600.0,5000.0,41666.0,10650.0,3700.0,750.0,3600.0,10583.0,10116.0,2816.0,2000.0,6200.0,6497.0,6159.0,15250.0,6650.0,11350.0,6833.0,6113.0,8500.0,10416.0,2000.0,5666.0,7500.0,2000.0,6670.221237392844,4000.0,6670.221237392844,6670.221237392844,2600.0,6670.221237392844,6750.0,7500.0,5417.0,5000.0,2455.0],\"xaxis\":\"x\",\"y\":[0.293290441,0.112051635,3100.0,0.785602153,0.553602206,0.796489669,2407.0,1845.0,1775.0,1428.0,0.333369696,0.380478088,0.313821477,0.25694861,0.07629539,0.001220543,0.254796001,0.0,0.419605665,0.427343159,0.845507562,0.360667377,1.732633683,0.208030963,0.608187135,0.174350649,0.386532031,0.203277703,0.474495639,0.299531753,0.269708865,0.586872133,0.276951138,0.306346827,0.175754367,0.312491668,0.937031484,2982.0,0.493376656,216.0,2017.0,0.189926951,3596.0,0.339357132,0.281029196,0.681616833,0.477704459,0.048859935],\"yaxis\":\"y\",\"type\":\"scatter\"}],\"name\":\"55\"},{\"data\":[{\"hovertemplate\":\"age=56<br>MonthlyIncome=%{x}<br>DebtRatio=%{y}<br>SeriousDlqin2yrs=%{marker.color}<extra></extra>\",\"legendgroup\":\"\",\"marker\":{\"color\":[0,0,0,0,0,0,0,0,0,0,0,0,0,1,0,0,0,0,0,0,0,1,0,0,0,0,0,0,0,0,0,1,0,0,0,0,0,0,0,0,0,0,0,0,0,0,0,0,0],\"coloraxis\":\"coloraxis\",\"symbol\":\"circle\"},\"mode\":\"markers\",\"name\":\"\",\"orientation\":\"v\",\"showlegend\":false,\"x\":[6000.0,13090.0,17000.0,2350.0,6436.0,2500.0,8900.0,18383.0,5900.0,2841.0,4200.0,7000.0,6279.0,15000.0,5000.0,10000.0,7850.0,5749.0,4991.0,2500.0,11600.0,4733.0,6670.221237392844,10500.0,6670.221237392844,8500.0,9740.0,4000.0,7569.0,5500.0,3200.0,8384.0,4166.0,6670.221237392844,21330.0,6250.0,34700.0,5450.0,9333.0,4000.0,20000.0,11050.0,4041.0,2700.0,11116.0,5833.0,6000.0,11462.0,2826.0],\"xaxis\":\"x\",\"y\":[0.325112481,0.161408601,0.231339333,0.729476818,0.428771167,0.009996002,0.245140995,0.335291558,0.214878834,0.025334272,0.206141395,0.275246393,0.615127389,0.359176055,0.133773245,0.419258074,0.498662591,0.208,0.241987179,0.547381048,0.160848203,0.381073088,3184.0,0.234930007,4393.0,0.581108105,0.144030387,0.43764059,0.345706737,0.304853663,0.004061231,0.030292188,1.070794336,2093.0,0.096807463,0.135178371,0.427682199,0.550357733,0.384186844,0.187203199,0.319834008,0.282960818,0.416378031,1.065901518,0.091841324,0.404696606,0.067488752,0.550030533,0.409975239],\"yaxis\":\"y\",\"type\":\"scatter\"}],\"name\":\"56\"},{\"data\":[{\"hovertemplate\":\"age=57<br>MonthlyIncome=%{x}<br>DebtRatio=%{y}<br>SeriousDlqin2yrs=%{marker.color}<extra></extra>\",\"legendgroup\":\"\",\"marker\":{\"color\":[1,0,0,0,0,0,0,0,0,0,0,0,0,0,0,0,0,0,0,0,0,0,0,0,0,0,1,0,0,0,0,0,0,1,0,0,0,0,0,0,1,0,1,0],\"coloraxis\":\"coloraxis\",\"symbol\":\"circle\"},\"mode\":\"markers\",\"name\":\"\",\"orientation\":\"v\",\"showlegend\":false,\"x\":[1389.0,7652.0,6670.221237392844,13875.0,6670.221237392844,6000.0,7066.0,6670.221237392844,3415.0,2297.0,17843.0,11249.0,4225.0,4466.0,3700.0,5300.0,6670.221237392844,10300.0,40000.0,2065.0,2424.0,5472.0,5380.0,6670.221237392844,1500.0,4600.0,12166.0,7250.0,8500.0,8000.0,11100.0,2700.0,6000.0,5250.0,3430.0,27000.0,1943.0,6025.0,15716.0,6670.221237392844,3710.0,12000.0,4000.0,12500.0],\"xaxis\":\"x\",\"y\":[0.672661871,0.119299621,5439.0,0.499423465,1072.0,0.329445092,0.82510259,3169.0,0.159250585,0.033072237,0.633826496,0.258133333,0.264079508,0.411461831,0.36179411,0.253725712,753.0,0.28414717,0.412964676,0.02178122,0.339381443,0.580120592,0.798550455,6136.0,0.095936043,0.404042599,0.170789841,0.388360226,0.19985884,0.108361455,0.539591028,0.430211033,0.499583403,0.513997334,0.317691635,0.20206659,0.679526749,0.223199469,0.633072469,1807.0,0.633252493,0.123073077,0.36315921,0.270538357],\"yaxis\":\"y\",\"type\":\"scatter\"}],\"name\":\"57\"},{\"data\":[{\"hovertemplate\":\"age=58<br>MonthlyIncome=%{x}<br>DebtRatio=%{y}<br>SeriousDlqin2yrs=%{marker.color}<extra></extra>\",\"legendgroup\":\"\",\"marker\":{\"color\":[0,0,0,0,0,0,0,0,0,0,0,1,0,0,0,0,0,0,0,1,0,0,0,0,0,0,0,0,0,0,1,0,0,0,0,0,0,0,1,1,0,0,0,0,0,0,0],\"coloraxis\":\"coloraxis\",\"symbol\":\"circle\"},\"mode\":\"markers\",\"name\":\"\",\"orientation\":\"v\",\"showlegend\":false,\"x\":[13916.0,10583.0,4300.0,2000.0,12200.0,8770.0,9213.0,8396.0,19438.0,6670.221237392844,10400.0,1300.0,10633.0,6506.0,6670.221237392844,3546.0,5355.0,15000.0,6670.221237392844,4178.0,5400.0,1040.0,8128.0,6670.221237392844,9867.0,5000.0,13800.0,4350.0,9900.0,6670.221237392844,6167.0,6670.221237392844,12250.0,18900.0,8000.0,6966.0,6670.221237392844,8800.0,1552.0,3692.0,4766.0,5500.0,6000.0,1027.0,6800.0,9700.0,7235.0],\"xaxis\":\"x\",\"y\":[0.152403535,0.431500378,0.218088817,0.004997501,0.369887714,0.477596625,0.228999349,0.389662975,0.195328978,5569.0,0.366503221,0.073789393,0.373801016,0.40556324,4470.0,0.027628982,0.145817774,0.240783948,309.0,0.47954056,0.021662655,0.018251681,0.628367573,1334.0,0.260539116,0.673865227,0.323599739,0.007124799,0.25987274,189.0,0.370136187,1876.0,0.284303322,0.704565896,0.344206974,0.229941151,2592.0,0.590273833,0.617514488,0.004061738,0.617788966,0.436102527,0.384769205,0.392996109,0.200999853,0.200494794,0.380458817],\"yaxis\":\"y\",\"type\":\"scatter\"}],\"name\":\"58\"},{\"data\":[{\"hovertemplate\":\"age=59<br>MonthlyIncome=%{x}<br>DebtRatio=%{y}<br>SeriousDlqin2yrs=%{marker.color}<extra></extra>\",\"legendgroup\":\"\",\"marker\":{\"color\":[0,0,0,0,0,0,0,0,0,1,0,0,0,0,0,0,0,0,0,0,0,0,0,0,0,0,0,0,0,0,0,0,0,0,0,0,0,0,0,0,0,0,0,0,0],\"coloraxis\":\"coloraxis\",\"symbol\":\"circle\"},\"mode\":\"markers\",\"name\":\"\",\"orientation\":\"v\",\"showlegend\":false,\"x\":[12680.0,6670.221237392844,5573.0,8751.0,8732.0,8450.0,14358.0,6500.0,13405.0,5633.0,0.0,7913.0,10500.0,30000.0,2840.0,8666.0,4250.0,4200.0,15928.0,7916.0,1628.0,10852.0,9866.0,5200.0,9731.0,9900.0,2667.0,1400.0,5416.0,4333.0,11005.0,9500.0,3650.0,9510.0,4175.0,6670.221237392844,2468.0,10937.0,17157.0,6504.0,4940.0,3116.0,1390.0,6670.221237392844,6670.221237392844],\"xaxis\":\"x\",\"y\":[0.294298557,858.0,0.48277718,0.019309872,0.464216191,0.422435215,0.571697193,0.126903553,0.150827987,2.219737309,2538.0,0.323098307,0.001142748,0.801839939,0.028863076,0.256836276,0.410726888,0.033325399,0.381254316,0.00277883,0.223449969,0.396295955,0.141988446,0.880599885,0.495787094,0.003736996,0.68928036,0.578158458,0.186265461,0.545685279,0.23650736,0.231554573,0.474938373,0.23772474,0.284243295,2121.0,0.200486027,0.174620589,0.382970043,0.196771714,0.373406193,0.564645492,0.153846154,5617.0,3570.0],\"yaxis\":\"y\",\"type\":\"scatter\"}],\"name\":\"59\"},{\"data\":[{\"hovertemplate\":\"age=60<br>MonthlyIncome=%{x}<br>DebtRatio=%{y}<br>SeriousDlqin2yrs=%{marker.color}<extra></extra>\",\"legendgroup\":\"\",\"marker\":{\"color\":[0,1,1,0,0,0,0,0,0,0,0,0,0,0,0,0,0,0,0,0,0,0,0,0,0,0,0,0,0,0,0,0,0,0,0,0,0,0],\"coloraxis\":\"coloraxis\",\"symbol\":\"circle\"},\"mode\":\"markers\",\"name\":\"\",\"orientation\":\"v\",\"showlegend\":false,\"x\":[8179.0,3400.0,1.0,5095.0,1.0,6670.221237392844,20416.0,3750.0,11332.0,5091.0,6700.0,7968.0,14907.0,5000.0,4500.0,6670.221237392844,2809.0,6666.0,3083.0,6670.221237392844,8000.0,6670.221237392844,2741.0,10745.0,6670.221237392844,1974.0,6670.221237392844,3300.0,12000.0,1200.0,6825.0,6670.221237392844,3400.0,6670.221237392844,5772.0,6670.221237392844,5400.0,27500.0],\"xaxis\":\"x\",\"y\":[0.139731051,0.223463687,5857.0,0.425627943,1696.5,3665.0,0.179605231,0.639296188,0.21865349,0.135113904,0.250261155,0.343581378,0.185336732,0.25734853,0.549877805,2078.0,0.693950178,0.451177441,0.006485084,1822.0,0.157855268,4269.0,1.100656455,0.250139587,1969.0,0.781772152,4886.0,0.000302939,0.240646613,0.000832639,0.412979783,2684.0,0.379888268,392.0,0.442231076,1808.0,0.381596001,0.270208356],\"yaxis\":\"y\",\"type\":\"scatter\"}],\"name\":\"60\"},{\"data\":[{\"hovertemplate\":\"age=61<br>MonthlyIncome=%{x}<br>DebtRatio=%{y}<br>SeriousDlqin2yrs=%{marker.color}<extra></extra>\",\"legendgroup\":\"\",\"marker\":{\"color\":[0,0,0,0,0,0,0,0,0,0,0,0,0,0,0,0,0,0,0,0,0,0,0,0,0,0,0,0,0,0,0,0,0,0,0,0,0,0,0,0,0,0,0,0,0,0,0,0,0,0,0,0,0,0,0,0],\"coloraxis\":\"coloraxis\",\"symbol\":\"circle\"},\"mode\":\"markers\",\"name\":\"\",\"orientation\":\"v\",\"showlegend\":false,\"x\":[6366.0,11582.0,6670.221237392844,1000.0,18416.0,4083.0,2000.0,6670.221237392844,37500.0,3500.0,6670.221237392844,9416.0,6670.221237392844,1.0,10200.0,6891.0,21666.0,1834.0,6670.221237392844,6670.221237392844,2630.0,1000.0,8645.0,1800.0,1750.0,6850.0,4700.0,6670.221237392844,7400.0,1636.0,4600.0,3000.0,4000.0,1920.0,3000.0,1800.0,6670.221237392844,6670.221237392844,6670.221237392844,3500.0,3839.0,18000.0,4444.0,0.0,10500.0,3289.0,16000.0,6670.221237392844,4000.0,10000.0,7844.0,6670.221237392844,6670.221237392844,7416.0,8100.0,6670.221237392844],\"xaxis\":\"x\",\"y\":[0.619601068,0.444444444,963.0,2.233766234,0.415485693,0.170176298,0.56171914,1574.0,0.254046559,0.533847472,213.0,0.383774026,294.0,684.5,0.594843643,0.845618108,0.326302672,0.082288828,892.0,974.0,0.320030407,0.921078921,0.284755957,0.199333703,0.699600228,0.279521238,0.477770687,3006.0,0.26428861,0.353084911,0.691806129,0.455514828,0.011247188,0.414367517,0.841719427,0.6285397,5030.0,2041.0,193.0,0.638674664,0.305208333,0.218321204,0.797525309,353.0,0.288543948,0.340729483,0.409099431,5281.0,0.007998,0.00029997,0.252390057,1421.0,2483.0,0.286099501,0.390075299,1651.0],\"yaxis\":\"y\",\"type\":\"scatter\"}],\"name\":\"61\"},{\"data\":[{\"hovertemplate\":\"age=62<br>MonthlyIncome=%{x}<br>DebtRatio=%{y}<br>SeriousDlqin2yrs=%{marker.color}<extra></extra>\",\"legendgroup\":\"\",\"marker\":{\"color\":[0,0,0,0,0,0,0,0,0,0,0,0,0,0,0,0,0,0,0,0,0,0,0,0,0,0,0,0,0,1,0,0,0,1,0,0,0,0,0,0,1,1,0,0,0,0,0,0,0,0,0,0,0,0,0],\"coloraxis\":\"coloraxis\",\"symbol\":\"circle\"},\"mode\":\"markers\",\"name\":\"\",\"orientation\":\"v\",\"showlegend\":false,\"x\":[2400.0,13950.0,8045.0,1875.0,6670.221237392844,9166.0,6670.221237392844,0.0,6670.221237392844,6670.221237392844,7900.0,6983.0,5900.0,6670.221237392844,3108.0,3960.0,2000.0,6670.221237392844,10500.0,6670.221237392844,6670.221237392844,16811.0,6670.221237392844,6000.0,8125.0,6670.221237392844,2800.0,10300.0,4266.0,4518.0,4506.0,6670.221237392844,6670.221237392844,6670.221237392844,6670.221237392844,4500.0,6670.221237392844,5000.0,2384.0,6670.221237392844,6670.221237392844,8300.0,9500.0,6197.0,6670.221237392844,6670.221237392844,7059.0,17770.0,6670.221237392844,13482.0,3833.0,16035.0,5666.0,13820.0,4166.0],\"xaxis\":\"x\",\"y\":[0.633486047,0.784316536,0.32861049,0.829957356,1110.0,0.265408531,1860.0,4003.0,3960.0,3003.0,0.384381724,0.465635739,0.461955601,1800.0,0.361531039,0.032315072,0.570714643,1739.0,0.627940196,2.0,1396.0,0.110992148,1944.0,0.115647392,0.0,38.0,1.106033559,0.066692554,0.247480666,0.617393229,0.213445751,1756.0,496.0,797.0,0.0,0.010664297,1.0,0.375324935,0.062054507,826.0,448.0,0.334778942,0.825913062,0.306227815,3991.0,2504.0,0.160906516,0.240054021,38.0,0.119557962,0.229264476,0.14910202,0.305629081,0.410389986,0.429805616],\"yaxis\":\"y\",\"type\":\"scatter\"}],\"name\":\"62\"},{\"data\":[{\"hovertemplate\":\"age=63<br>MonthlyIncome=%{x}<br>DebtRatio=%{y}<br>SeriousDlqin2yrs=%{marker.color}<extra></extra>\",\"legendgroup\":\"\",\"marker\":{\"color\":[0,0,0,0,0,0,0,0,0,0,0,0,0,0,0,0,0,0,0,0,0,0,0,0,0,0,0,0,0,0,0,0,0,0,0,0],\"coloraxis\":\"coloraxis\",\"symbol\":\"circle\"},\"mode\":\"markers\",\"name\":\"\",\"orientation\":\"v\",\"showlegend\":false,\"x\":[6670.221237392844,6100.0,5283.0,6670.221237392844,6670.221237392844,6600.0,6670.221237392844,20446.0,6670.221237392844,6670.221237392844,18916.0,6670.221237392844,6670.221237392844,8615.0,3641.0,6670.221237392844,6670.221237392844,3950.0,2300.0,6670.221237392844,2742.0,5964.0,6670.221237392844,14500.0,6670.221237392844,1199.0,3200.0,7000.0,12500.0,6670.221237392844,8350.0,11917.0,11750.0,7139.0,10083.0,1300.0],\"xaxis\":\"x\",\"y\":[5009.0,0.476479266,0.98996972,417.0,1365.0,0.20678685,1408.0,0.161979753,152.0,9.0,0.256171697,1223.0,30.0,0.159354689,0.046128501,2966.0,80.0,1.520121488,0.145588874,5388.0,0.497994896,0.33830679,55.0,0.002551548,31.0,1.388333333,0.035301468,0.004142265,0.186145108,1234.0,0.093162496,0.203977177,0.202621054,0.268207283,0.369000397,1.309761722],\"yaxis\":\"y\",\"type\":\"scatter\"}],\"name\":\"63\"},{\"data\":[{\"hovertemplate\":\"age=64<br>MonthlyIncome=%{x}<br>DebtRatio=%{y}<br>SeriousDlqin2yrs=%{marker.color}<extra></extra>\",\"legendgroup\":\"\",\"marker\":{\"color\":[0,0,0,0,0,0,0,0,0,0,0,0,1,0,0,0,0,0,0,0,0,0,0,0,0,0,0,0,0,0,0,0,0,0,0,0,0,0,0,0,0,0,1,0,0,0,0,0],\"coloraxis\":\"coloraxis\",\"symbol\":\"circle\"},\"mode\":\"markers\",\"name\":\"\",\"orientation\":\"v\",\"showlegend\":false,\"x\":[12501.0,6480.0,6670.221237392844,7200.0,1900.0,3300.0,11000.0,800.0,6670.221237392844,6670.221237392844,7200.0,5416.0,6670.221237392844,2522.0,4283.0,10516.0,1.0,6670.221237392844,5300.0,6670.221237392844,6670.221237392844,8583.0,6000.0,6670.221237392844,6670.221237392844,2800.0,17333.0,6400.0,4231.0,15530.0,5100.0,3000.0,2248.0,13334.0,3000.0,10047.0,5700.0,6369.0,11000.0,8820.0,2741.0,10500.0,8912.0,6670.221237392844,2667.0,236.0,6569.0,2916.0],\"xaxis\":\"x\",\"y\":[0.487681971,0.13223268,2521.0,0.030967921,0.863229879,0.115116631,0.001272612,0.079900125,3450.0,527.0,0.140258297,0.10965479,2446.0,0.0,0.72735761,0.146809927,794.0,2290.0,0.08885116,4147.0,991.0,0.272716682,0.017330445,5149.0,4.0,4.480542663,0.089246567,0.363068271,0.335302457,0.660421093,0.517741619,0.2035988,0.554913295,0.348781402,0.368877041,0.200736465,0.050692861,0.467974882,0.472138896,0.55560594,0.07840992,0.005428054,0.731403568,1000.0,0.071589205,13.31223629,0.202739726,0.446006171],\"yaxis\":\"y\",\"type\":\"scatter\"}],\"name\":\"64\"},{\"data\":[{\"hovertemplate\":\"age=65<br>MonthlyIncome=%{x}<br>DebtRatio=%{y}<br>SeriousDlqin2yrs=%{marker.color}<extra></extra>\",\"legendgroup\":\"\",\"marker\":{\"color\":[0,0,0,0,0,0,0,0,0,0,0,0,0,0,0,0,0,0,0,0,0,0,0,0,0,0,0,0,1,0,0,0,0,0,0,0,0,0,1,0],\"coloraxis\":\"coloraxis\",\"symbol\":\"circle\"},\"mode\":\"markers\",\"name\":\"\",\"orientation\":\"v\",\"showlegend\":false,\"x\":[8750.0,6000.0,13166.0,809.0,4750.0,6670.221237392844,300.0,5908.0,6846.0,5000.0,4500.0,4000.0,6670.221237392844,7996.0,2001.0,4000.0,2600.0,6000.0,10833.0,6670.221237392844,3524.0,900.0,6670.221237392844,1635.0,6808.0,5216.0,6670.221237392844,3650.0,6670.221237392844,3875.0,18850.0,4393.0,10000.0,6670.221237392844,3000.0,4000.0,6300.0,11137.0,3200.0,4000.0],\"xaxis\":\"x\",\"y\":[0.083190493,0.105649058,0.375104428,1.998765432,0.030940855,3560.0,2.07641196,0.725672703,0.132612823,0.441711658,0.602754943,0.298425394,389.0,0.301488058,0.403096903,0.383404149,0.273740869,0.141476421,0.335056304,1667.0,0.02070922,0.705882353,2028.0,0.146699267,0.230283448,0.34004217,2113.0,0.063270337,482.0,0.019865841,0.01580818,0.341829768,0.053094691,107.0,0.008330556,0.427143214,0.166164101,0.210989406,0.680412371,0.451637091],\"yaxis\":\"y\",\"type\":\"scatter\"}],\"name\":\"65\"},{\"data\":[{\"hovertemplate\":\"age=66<br>MonthlyIncome=%{x}<br>DebtRatio=%{y}<br>SeriousDlqin2yrs=%{marker.color}<extra></extra>\",\"legendgroup\":\"\",\"marker\":{\"color\":[0,0,0,0,0,0,0,0,0,0,0,0,0,0,0,0,0,0,1,0,1,0,0,0,0,0,0,0,0,1,0,1,0,1,0,0,0,0,0,0,0,0],\"coloraxis\":\"coloraxis\",\"symbol\":\"circle\"},\"mode\":\"markers\",\"name\":\"\",\"orientation\":\"v\",\"showlegend\":false,\"x\":[1279.0,6670.221237392844,12440.0,1865.0,3750.0,6175.0,372.0,6670.221237392844,11875.0,6670.221237392844,1600.0,4666.0,5400.0,9083.0,8860.0,6670.221237392844,7416.0,10500.0,7890.0,5166.0,6670.221237392844,2600.0,6670.221237392844,7453.0,5522.0,13100.0,4166.0,21883.0,6670.221237392844,2000.0,17500.0,4417.0,6670.221237392844,4000.0,7715.0,13167.0,3562.0,3800.0,6670.221237392844,2000.0,5741.0,6670.221237392844],\"xaxis\":\"x\",\"y\":[0.065625,7905.0,0.311952415,1.221329046,0.07411357,0.422603627,14.01876676,1339.0,0.231222634,1239.0,0.668332292,0.347118063,0.380299944,0.350726552,0.267238461,3280.0,0.071996764,0.004285306,0.884552021,0.60150958,0.0,0.007304883,2633.0,0.246444862,0.006156075,0.398595527,0.369090473,0.866934747,428.0,0.025987006,0.117364722,0.326618379,2019.0,0.536865784,0.37973043,0.224027947,0.065113668,0.432517758,4517.0,0.541729135,0.672762104,3122.0],\"yaxis\":\"y\",\"type\":\"scatter\"}],\"name\":\"66\"},{\"data\":[{\"hovertemplate\":\"age=67<br>MonthlyIncome=%{x}<br>DebtRatio=%{y}<br>SeriousDlqin2yrs=%{marker.color}<extra></extra>\",\"legendgroup\":\"\",\"marker\":{\"color\":[0,0,0,0,0,0,0,0,0,0,0,0,0,0,0,0,0,0,0,0,0,0,0,0,0,0,0,0,0,0,0,0,0],\"coloraxis\":\"coloraxis\",\"symbol\":\"circle\"},\"mode\":\"markers\",\"name\":\"\",\"orientation\":\"v\",\"showlegend\":false,\"x\":[6670.221237392844,3766.0,6128.0,6670.221237392844,5093.0,5370.0,5983.0,6670.221237392844,3500.0,5733.0,1500.0,6670.221237392844,1500.0,6670.221237392844,6670.221237392844,6670.221237392844,7000.0,7000.0,1400.0,4833.0,8400.0,3700.0,2120.0,8000.0,6670.221237392844,6670.221237392844,10500.0,13283.0,4944.0,6670.221237392844,2690.0,6670.221237392844,5250.0],\"xaxis\":\"x\",\"y\":[1995.0,0.406158747,0.01174743,1244.0,0.268747546,0.437721095,0.584224599,4793.0,0.35218509,0.900592954,0.0,91.0,0.569620253,1297.0,1472.0,2714.0,0.143265248,0.186116269,0.043540328,0.194662805,1.087251518,0.982437179,1.077793494,0.195850519,4862.0,31.0,0.225026188,0.524164408,0.29322548,5.0,0.381642512,3795.0,0.243382213],\"yaxis\":\"y\",\"type\":\"scatter\"}],\"name\":\"67\"},{\"data\":[{\"hovertemplate\":\"age=68<br>MonthlyIncome=%{x}<br>DebtRatio=%{y}<br>SeriousDlqin2yrs=%{marker.color}<extra></extra>\",\"legendgroup\":\"\",\"marker\":{\"color\":[0,0,0,0,0,0,0,0,0,0,0,0,0,0,0,0,0,0,1,0,0,0,0,0,0,0,0,0,0,0,0,0,0,0,0,0],\"coloraxis\":\"coloraxis\",\"symbol\":\"circle\"},\"mode\":\"markers\",\"name\":\"\",\"orientation\":\"v\",\"showlegend\":false,\"x\":[6649.0,6687.0,6670.221237392844,6670.221237392844,6670.221237392844,5000.0,6670.221237392844,1980.0,21250.0,3750.0,4710.0,4500.0,6670.221237392844,9300.0,5083.0,5000.0,5083.0,2620.0,25000.0,6670.221237392844,3944.0,6670.221237392844,5767.0,4666.0,5583.0,1185.0,6670.221237392844,6670.221237392844,5158.0,5483.0,6670.221237392844,3000.0,6670.221237392844,10480.0,6670.221237392844,5696.0],\"xaxis\":\"x\",\"y\":[0.346616541,0.054575359,3536.0,2410.0,1038.0,1.879624075,84.0,0.457344775,0.203331608,0.129832045,0.0,0.040435459,2473.0,0.121277282,0.306648308,0.221955609,0.21361133,0.323922167,0.218071277,2362.0,0.367046895,716.0,0.391643551,0.003428327,0.0,0.0,1956.0,1483.0,0.138205079,0.289022611,6840.0,1.016661113,221.0,0.129186146,123.0,0.339125856],\"yaxis\":\"y\",\"type\":\"scatter\"}],\"name\":\"68\"},{\"data\":[{\"hovertemplate\":\"age=69<br>MonthlyIncome=%{x}<br>DebtRatio=%{y}<br>SeriousDlqin2yrs=%{marker.color}<extra></extra>\",\"legendgroup\":\"\",\"marker\":{\"color\":[0,0,0,0,0,0,0,0,0,0,0,0,0,0,0,0,0,0,0,0],\"coloraxis\":\"coloraxis\",\"symbol\":\"circle\"},\"mode\":\"markers\",\"name\":\"\",\"orientation\":\"v\",\"showlegend\":false,\"x\":[600.0,9532.0,4310.0,10500.0,5000.0,7141.0,925.0,10300.0,12334.0,25000.0,3115.0,6670.221237392844,2249.0,6670.221237392844,6670.221237392844,6670.221237392844,2431.0,2600.0,12000.0,6670.221237392844],\"xaxis\":\"x\",\"y\":[2.923460899,0.221546208,0.786360473,0.170459956,0.210557888,0.616633996,1.453563715,0.482671585,0.389298743,0.036678533,0.157252888,1205.0,0.372444444,2100.0,1609.0,8.0,0.116776316,0.636678201,0.387217732,2212.0],\"yaxis\":\"y\",\"type\":\"scatter\"}],\"name\":\"69\"},{\"data\":[{\"hovertemplate\":\"age=70<br>MonthlyIncome=%{x}<br>DebtRatio=%{y}<br>SeriousDlqin2yrs=%{marker.color}<extra></extra>\",\"legendgroup\":\"\",\"marker\":{\"color\":[1,0,0,0,0,0,0,0,0,0,0,0,0,0,0,0,0,0,0,0,0,0,0,0,0,0,0,1],\"coloraxis\":\"coloraxis\",\"symbol\":\"circle\"},\"mode\":\"markers\",\"name\":\"\",\"orientation\":\"v\",\"showlegend\":false,\"x\":[3436.0,8470.0,3700.0,5000.0,6670.221237392844,5166.0,6670.221237392844,6670.221237392844,62500.0,10000.0,8173.0,5000.0,5232.0,2000.0,6299.0,6670.221237392844,8333.0,6266.0,4239.0,3848.0,2070.0,3404.0,8525.0,2000.0,6670.221237392844,2983.0,6670.221237392844,2979.0],\"xaxis\":\"x\",\"y\":[0.836776258,0.17435958,0.14212375,0.0009998,1.0,0.291852139,1314.0,3831.0,0.03375946,0.286871313,0.566919501,0.647470506,0.009172559,0.0,0.566349206,4681.0,0.027237821,1.095580022,0.082075472,0.0,0.554804442,0.282232012,0.078348581,0.086956522,1236.0,1.529825737,0.0,0.129865772],\"yaxis\":\"y\",\"type\":\"scatter\"}],\"name\":\"70\"},{\"data\":[{\"hovertemplate\":\"age=71<br>MonthlyIncome=%{x}<br>DebtRatio=%{y}<br>SeriousDlqin2yrs=%{marker.color}<extra></extra>\",\"legendgroup\":\"\",\"marker\":{\"color\":[0,0,0,0,0,0,0,0,0,1,0,0,0,0,0,0,0,0,0],\"coloraxis\":\"coloraxis\",\"symbol\":\"circle\"},\"mode\":\"markers\",\"name\":\"\",\"orientation\":\"v\",\"showlegend\":false,\"x\":[7975.0,3545.0,12500.0,2100.0,4500.0,4053.0,1200.0,6670.221237392844,2769.0,7300.0,4583.0,3379.0,6666.0,5133.0,2700.0,8000.0,6670.221237392844,6294.0,6670.221237392844],\"xaxis\":\"x\",\"y\":[0.591900702,0.022278624,0.078793697,0.043788672,0.476116419,0.201776024,0.059950042,1018.0,0.380505415,0.0,0.128490401,0.529585799,0.016649168,0.223802104,0.431691966,0.400074991,1440.0,0.689277204,2747.0],\"yaxis\":\"y\",\"type\":\"scatter\"}],\"name\":\"71\"},{\"data\":[{\"hovertemplate\":\"age=72<br>MonthlyIncome=%{x}<br>DebtRatio=%{y}<br>SeriousDlqin2yrs=%{marker.color}<extra></extra>\",\"legendgroup\":\"\",\"marker\":{\"color\":[0,0,1,0,0,0,0,0,0,0,0,0,0,0,0,1,0,0,0,0,0,0,0,0],\"coloraxis\":\"coloraxis\",\"symbol\":\"circle\"},\"mode\":\"markers\",\"name\":\"\",\"orientation\":\"v\",\"showlegend\":false,\"x\":[5000.0,6670.221237392844,6670.221237392844,4100.0,6670.221237392844,9000.0,6670.221237392844,11067.0,6670.221237392844,3500.0,9100.0,6670.221237392844,6670.221237392844,6670.221237392844,1260.0,3749.0,4863.0,3500.0,2325.0,4600.0,6670.221237392844,3583.0,4579.0,4566.0],\"xaxis\":\"x\",\"y\":[0.01219756,84.0,1887.0,0.096074128,2482.0,0.353960671,5.0,0.16452837,369.0,0.346472436,0.389078123,1018.0,85.0,35.0,1.321966693,1.159466667,0.242598684,0.004855755,0.045571797,0.003477505,3031.0,0.118303571,0.432532751,0.370045982],\"yaxis\":\"y\",\"type\":\"scatter\"}],\"name\":\"72\"},{\"data\":[{\"hovertemplate\":\"age=73<br>MonthlyIncome=%{x}<br>DebtRatio=%{y}<br>SeriousDlqin2yrs=%{marker.color}<extra></extra>\",\"legendgroup\":\"\",\"marker\":{\"color\":[0,0,0,0,0,0,0,0,0,0,0,0,0,0,0,0,0,0,0,0,0,1,0,0,0,0,0,0],\"coloraxis\":\"coloraxis\",\"symbol\":\"circle\"},\"mode\":\"markers\",\"name\":\"\",\"orientation\":\"v\",\"showlegend\":false,\"x\":[9960.0,6450.0,16666.0,4365.0,6670.221237392844,6670.221237392844,6670.221237392844,3090.0,6670.221237392844,7400.0,8013.0,6670.221237392844,6670.221237392844,7000.0,6670.221237392844,8801.0,6670.221237392844,6670.221237392844,6670.221237392844,2083.0,6670.221237392844,4999.0,12300.0,2500.0,10200.0,4000.0,11083.0,7414.0],\"xaxis\":\"x\",\"y\":[0.207710069,0.928228182,0.0199796,0.603756299,180.0,0.0,4811.0,0.142672274,2006.0,0.501013377,0.369977539,37.0,467.0,0.006284816,87.0,0.197000682,183.0,20.0,43.0,0.285028791,41.0,0.224,0.335663767,0.026389444,0.332712479,0.00099975,0.166907254,0.122454484],\"yaxis\":\"y\",\"type\":\"scatter\"}],\"name\":\"73\"},{\"data\":[{\"hovertemplate\":\"age=74<br>MonthlyIncome=%{x}<br>DebtRatio=%{y}<br>SeriousDlqin2yrs=%{marker.color}<extra></extra>\",\"legendgroup\":\"\",\"marker\":{\"color\":[0,0,0,0,0,0,0,0,0,0,0,0,0,0,0,0,0,0,0,0],\"coloraxis\":\"coloraxis\",\"symbol\":\"circle\"},\"mode\":\"markers\",\"name\":\"\",\"orientation\":\"v\",\"showlegend\":false,\"x\":[2013.0,2928.0,7500.0,6725.0,4050.0,6670.221237392844,15000.0,3169.0,4500.0,6816.0,7491.0,5708.0,6000.0,6670.221237392844,1341.0,5275.0,3250.0,8500.0,6670.221237392844,6670.221237392844],\"xaxis\":\"x\",\"y\":[0.0,1.085694776,0.362485002,0.102140946,0.239940755,1067.0,0.329311379,0.570662461,0.19017996,0.509168256,1.569006941,0.208793134,0.123812698,166.0,0.245901639,0.007391964,0.278375884,0.241030467,0.0,0.0],\"yaxis\":\"y\",\"type\":\"scatter\"}],\"name\":\"74\"},{\"data\":[{\"hovertemplate\":\"age=75<br>MonthlyIncome=%{x}<br>DebtRatio=%{y}<br>SeriousDlqin2yrs=%{marker.color}<extra></extra>\",\"legendgroup\":\"\",\"marker\":{\"color\":[0,0,0,0,0,0,0,0,0,0,0,0,0,0,0,0],\"coloraxis\":\"coloraxis\",\"symbol\":\"circle\"},\"mode\":\"markers\",\"name\":\"\",\"orientation\":\"v\",\"showlegend\":false,\"x\":[4583.0,10381.0,7300.0,6670.221237392844,1700.0,6670.221237392844,4300.0,4833.0,0.0,6670.221237392844,3333.0,2746.0,7774.0,6670.221237392844,6670.221237392844,10500.0],\"xaxis\":\"x\",\"y\":[0.161431065,0.111539202,0.388850842,89.0,0.844797178,13.0,0.019762846,0.45821266,1473.0,1042.0,0.0044991,0.223880597,0.389067524,316.0,8.0,0.244929054],\"yaxis\":\"y\",\"type\":\"scatter\"}],\"name\":\"75\"},{\"data\":[{\"hovertemplate\":\"age=76<br>MonthlyIncome=%{x}<br>DebtRatio=%{y}<br>SeriousDlqin2yrs=%{marker.color}<extra></extra>\",\"legendgroup\":\"\",\"marker\":{\"color\":[0,0,0,0,0,0,0,0,0,0],\"coloraxis\":\"coloraxis\",\"symbol\":\"circle\"},\"mode\":\"markers\",\"name\":\"\",\"orientation\":\"v\",\"showlegend\":false,\"x\":[6670.221237392844,3743.0,6020.0,6670.221237392844,3668.0,8600.0,5706.0,1501.0,3125.0,1927.0],\"xaxis\":\"x\",\"y\":[157.0,0.0,0.201627637,454.0,0.005451077,0.525055226,0.406167864,0.023302264,0.183301344,0.210580913],\"yaxis\":\"y\",\"type\":\"scatter\"}],\"name\":\"76\"},{\"data\":[{\"hovertemplate\":\"age=77<br>MonthlyIncome=%{x}<br>DebtRatio=%{y}<br>SeriousDlqin2yrs=%{marker.color}<extra></extra>\",\"legendgroup\":\"\",\"marker\":{\"color\":[0,0,0,0,0,0,0,0,0,0,0,0,0,0,0,0,0],\"coloraxis\":\"coloraxis\",\"symbol\":\"circle\"},\"mode\":\"markers\",\"name\":\"\",\"orientation\":\"v\",\"showlegend\":false,\"x\":[6655.0,6670.221237392844,1856.0,6670.221237392844,6670.221237392844,6670.221237392844,5000.0,10073.0,6670.221237392844,3551.0,3500.0,6670.221237392844,6670.221237392844,3000.0,5000.0,1944.0,17251.0],\"xaxis\":\"x\",\"y\":[0.030498798,1180.0,0.126548196,104.0,2376.0,369.0,0.00759848,0.5376216,302.0,0.262387387,0.387603542,487.0,19.0,0.000333222,0.061187762,0.00874036,0.099408764],\"yaxis\":\"y\",\"type\":\"scatter\"}],\"name\":\"77\"},{\"data\":[{\"hovertemplate\":\"age=78<br>MonthlyIncome=%{x}<br>DebtRatio=%{y}<br>SeriousDlqin2yrs=%{marker.color}<extra></extra>\",\"legendgroup\":\"\",\"marker\":{\"color\":[1,0,0,0,0,0,0,0,0,0,0,0,0,0,0,0,0,1,0,0,0],\"coloraxis\":\"coloraxis\",\"symbol\":\"circle\"},\"mode\":\"markers\",\"name\":\"\",\"orientation\":\"v\",\"showlegend\":false,\"x\":[6670.221237392844,1916.0,3500.0,5159.0,2850.0,6670.221237392844,5367.0,3750.0,10400.0,2118.0,4734.0,4516.0,4000.0,6670.221237392844,3800.0,7344.0,1986.0,7406.0,3834.0,2972.0,10227.0],\"xaxis\":\"x\",\"y\":[340.0,0.410015649,0.017423593,0.472286822,0.035075412,35.0,0.00633383,0.090109304,0.656379194,0.63142992,0.253220697,0.262785034,0.049737566,502.0,0.101815312,0.602178353,0.424760946,0.626569461,0.278226858,0.0,0.202874462],\"yaxis\":\"y\",\"type\":\"scatter\"}],\"name\":\"78\"},{\"data\":[{\"hovertemplate\":\"age=79<br>MonthlyIncome=%{x}<br>DebtRatio=%{y}<br>SeriousDlqin2yrs=%{marker.color}<extra></extra>\",\"legendgroup\":\"\",\"marker\":{\"color\":[0,0,0,0,0,0,0,0,0,0,0,0,0,0,0,0,0,0,0,0,0],\"coloraxis\":\"coloraxis\",\"symbol\":\"circle\"},\"mode\":\"markers\",\"name\":\"\",\"orientation\":\"v\",\"showlegend\":false,\"x\":[7310.0,6670.221237392844,4000.0,5000.0,8300.0,3500.0,836.0,3200.0,3676.0,6670.221237392844,4700.0,4522.0,3300.0,6000.0,6670.221237392844,10500.0,11699.0,6670.221237392844,6670.221237392844,6670.221237392844,6670.221237392844],\"xaxis\":\"x\",\"y\":[0.320886336,3.0,0.002749313,0.224555089,0.079026623,0.159954299,0.618876941,0.812870978,0.001359804,2433.0,0.027228249,0.23059916,0.274765223,0.009831695,12.0,0.006094658,0.150940171,3057.0,0.0,272.0,25.0],\"yaxis\":\"y\",\"type\":\"scatter\"}],\"name\":\"79\"},{\"data\":[{\"hovertemplate\":\"age=80<br>MonthlyIncome=%{x}<br>DebtRatio=%{y}<br>SeriousDlqin2yrs=%{marker.color}<extra></extra>\",\"legendgroup\":\"\",\"marker\":{\"color\":[0,0,0,0,0,0,0,0,0,0,0,0,0,0,0],\"coloraxis\":\"coloraxis\",\"symbol\":\"circle\"},\"mode\":\"markers\",\"name\":\"\",\"orientation\":\"v\",\"showlegend\":false,\"x\":[2800.0,6670.221237392844,6670.221237392844,646.0,647.0,6000.0,10000.0,6670.221237392844,6670.221237392844,6670.221237392844,3484.0,4700.0,6670.221237392844,7237.0,5000.0],\"xaxis\":\"x\",\"y\":[0.022491967,1482.0,846.0,7.494590417,0.390432099,0.01049825,0.087691231,0.0,28.0,8.0,0.002295552,0.215486067,3355.0,0.128212213,0.286742651],\"yaxis\":\"y\",\"type\":\"scatter\"}],\"name\":\"80\"},{\"data\":[{\"hovertemplate\":\"age=81<br>MonthlyIncome=%{x}<br>DebtRatio=%{y}<br>SeriousDlqin2yrs=%{marker.color}<extra></extra>\",\"legendgroup\":\"\",\"marker\":{\"color\":[0,0,0,0],\"coloraxis\":\"coloraxis\",\"symbol\":\"circle\"},\"mode\":\"markers\",\"name\":\"\",\"orientation\":\"v\",\"showlegend\":false,\"x\":[4500.0,0.0,3500.0,6670.221237392844],\"xaxis\":\"x\",\"y\":[0.226171962,892.0,0.006569552,0.0],\"yaxis\":\"y\",\"type\":\"scatter\"}],\"name\":\"81\"},{\"data\":[{\"hovertemplate\":\"age=82<br>MonthlyIncome=%{x}<br>DebtRatio=%{y}<br>SeriousDlqin2yrs=%{marker.color}<extra></extra>\",\"legendgroup\":\"\",\"marker\":{\"color\":[0,0,0,0,0,0],\"coloraxis\":\"coloraxis\",\"symbol\":\"circle\"},\"mode\":\"markers\",\"name\":\"\",\"orientation\":\"v\",\"showlegend\":false,\"x\":[17000.0,6670.221237392844,6670.221237392844,3166.0,400.0,1400.0],\"xaxis\":\"x\",\"y\":[0.190282925,278.0,30.0,0.362488159,0.159600998,0.215560314],\"yaxis\":\"y\",\"type\":\"scatter\"}],\"name\":\"82\"},{\"data\":[{\"hovertemplate\":\"age=83<br>MonthlyIncome=%{x}<br>DebtRatio=%{y}<br>SeriousDlqin2yrs=%{marker.color}<extra></extra>\",\"legendgroup\":\"\",\"marker\":{\"color\":[0,0,0],\"coloraxis\":\"coloraxis\",\"symbol\":\"circle\"},\"mode\":\"markers\",\"name\":\"\",\"orientation\":\"v\",\"showlegend\":false,\"x\":[5503.0,3000.0,6558.0],\"xaxis\":\"x\",\"y\":[0.354287791,0.233922026,0.086293642],\"yaxis\":\"y\",\"type\":\"scatter\"}],\"name\":\"83\"},{\"data\":[{\"hovertemplate\":\"age=84<br>MonthlyIncome=%{x}<br>DebtRatio=%{y}<br>SeriousDlqin2yrs=%{marker.color}<extra></extra>\",\"legendgroup\":\"\",\"marker\":{\"color\":[0,0,0,0,0,0],\"coloraxis\":\"coloraxis\",\"symbol\":\"circle\"},\"mode\":\"markers\",\"name\":\"\",\"orientation\":\"v\",\"showlegend\":false,\"x\":[5000.0,6670.221237392844,2501.0,2400.0,2166.0,6670.221237392844],\"xaxis\":\"x\",\"y\":[0.012797441,1347.0,0.026378897,0.278633903,0.070604522,20.0],\"yaxis\":\"y\",\"type\":\"scatter\"}],\"name\":\"84\"},{\"data\":[{\"hovertemplate\":\"age=85<br>MonthlyIncome=%{x}<br>DebtRatio=%{y}<br>SeriousDlqin2yrs=%{marker.color}<extra></extra>\",\"legendgroup\":\"\",\"marker\":{\"color\":[0,0],\"coloraxis\":\"coloraxis\",\"symbol\":\"circle\"},\"mode\":\"markers\",\"name\":\"\",\"orientation\":\"v\",\"showlegend\":false,\"x\":[3334.0,6670.221237392844],\"xaxis\":\"x\",\"y\":[0.018890555,1095.0],\"yaxis\":\"y\",\"type\":\"scatter\"}],\"name\":\"85\"},{\"data\":[{\"hovertemplate\":\"age=86<br>MonthlyIncome=%{x}<br>DebtRatio=%{y}<br>SeriousDlqin2yrs=%{marker.color}<extra></extra>\",\"legendgroup\":\"\",\"marker\":{\"color\":[0,0,0,0],\"coloraxis\":\"coloraxis\",\"symbol\":\"circle\"},\"mode\":\"markers\",\"name\":\"\",\"orientation\":\"v\",\"showlegend\":false,\"x\":[3670.0,3001.0,5716.0,6670.221237392844],\"xaxis\":\"x\",\"y\":[0.206210842,0.351432378,0.157775057,12.0],\"yaxis\":\"y\",\"type\":\"scatter\"}],\"name\":\"86\"},{\"data\":[{\"hovertemplate\":\"age=87<br>MonthlyIncome=%{x}<br>DebtRatio=%{y}<br>SeriousDlqin2yrs=%{marker.color}<extra></extra>\",\"legendgroup\":\"\",\"marker\":{\"color\":[0,0,0],\"coloraxis\":\"coloraxis\",\"symbol\":\"circle\"},\"mode\":\"markers\",\"name\":\"\",\"orientation\":\"v\",\"showlegend\":false,\"x\":[6670.221237392844,6670.221237392844,6670.221237392844],\"xaxis\":\"x\",\"y\":[0.0,10.0,25.0],\"yaxis\":\"y\",\"type\":\"scatter\"}],\"name\":\"87\"},{\"data\":[{\"hovertemplate\":\"age=88<br>MonthlyIncome=%{x}<br>DebtRatio=%{y}<br>SeriousDlqin2yrs=%{marker.color}<extra></extra>\",\"legendgroup\":\"\",\"marker\":{\"color\":[0,0,0,0,0],\"coloraxis\":\"coloraxis\",\"symbol\":\"circle\"},\"mode\":\"markers\",\"name\":\"\",\"orientation\":\"v\",\"showlegend\":false,\"x\":[6670.221237392844,10500.0,4150.0,9433.0,6670.221237392844],\"xaxis\":\"x\",\"y\":[19.0,0.099609561,0.000963623,0.0,664.0],\"yaxis\":\"y\",\"type\":\"scatter\"}],\"name\":\"88\"},{\"data\":[{\"hovertemplate\":\"age=89<br>MonthlyIncome=%{x}<br>DebtRatio=%{y}<br>SeriousDlqin2yrs=%{marker.color}<extra></extra>\",\"legendgroup\":\"\",\"marker\":{\"color\":[1,0,0,0,0,0],\"coloraxis\":\"coloraxis\",\"symbol\":\"circle\"},\"mode\":\"markers\",\"name\":\"\",\"orientation\":\"v\",\"showlegend\":false,\"x\":[15366.0,4806.0,4000.0,10500.0,1502.0,4865.0],\"xaxis\":\"x\",\"y\":[0.527493981,0.271271063,0.003249188,0.0059042,0.019294744,0.004521167],\"yaxis\":\"y\",\"type\":\"scatter\"}],\"name\":\"89\"},{\"data\":[{\"hovertemplate\":\"age=90<br>MonthlyIncome=%{x}<br>DebtRatio=%{y}<br>SeriousDlqin2yrs=%{marker.color}<extra></extra>\",\"legendgroup\":\"\",\"marker\":{\"color\":[0,0],\"coloraxis\":\"coloraxis\",\"symbol\":\"circle\"},\"mode\":\"markers\",\"name\":\"\",\"orientation\":\"v\",\"showlegend\":false,\"x\":[6670.221237392844,10500.0],\"xaxis\":\"x\",\"y\":[290.0,0.000285687],\"yaxis\":\"y\",\"type\":\"scatter\"}],\"name\":\"90\"},{\"data\":[{\"hovertemplate\":\"age=91<br>MonthlyIncome=%{x}<br>DebtRatio=%{y}<br>SeriousDlqin2yrs=%{marker.color}<extra></extra>\",\"legendgroup\":\"\",\"marker\":{\"color\":[0,0],\"coloraxis\":\"coloraxis\",\"symbol\":\"circle\"},\"mode\":\"markers\",\"name\":\"\",\"orientation\":\"v\",\"showlegend\":false,\"x\":[7991.0,2538.0],\"xaxis\":\"x\",\"y\":[0.004254254,0.609688854],\"yaxis\":\"y\",\"type\":\"scatter\"}],\"name\":\"91\"},{\"data\":[{\"hovertemplate\":\"age=92<br>MonthlyIncome=%{x}<br>DebtRatio=%{y}<br>SeriousDlqin2yrs=%{marker.color}<extra></extra>\",\"legendgroup\":\"\",\"marker\":{\"color\":[0],\"coloraxis\":\"coloraxis\",\"symbol\":\"circle\"},\"mode\":\"markers\",\"name\":\"\",\"orientation\":\"v\",\"showlegend\":false,\"x\":[10500.0],\"xaxis\":\"x\",\"y\":[0.003333016],\"yaxis\":\"y\",\"type\":\"scatter\"}],\"name\":\"92\"}]);\n",
       "                        }).then(function(){\n",
       "                            \n",
       "var gd = document.getElementById('0740ed9b-8050-43da-b972-4e4f9f0eda2d');\n",
       "var x = new MutationObserver(function (mutations, observer) {{\n",
       "        var display = window.getComputedStyle(gd).display;\n",
       "        if (!display || display === 'none') {{\n",
       "            console.log([gd, 'removed!']);\n",
       "            Plotly.purge(gd);\n",
       "            observer.disconnect();\n",
       "        }}\n",
       "}});\n",
       "\n",
       "// Listen for the removal of the full notebook cells\n",
       "var notebookContainer = gd.closest('#notebook-container');\n",
       "if (notebookContainer) {{\n",
       "    x.observe(notebookContainer, {childList: true});\n",
       "}}\n",
       "\n",
       "// Listen for the clearing of the current output cell\n",
       "var outputEl = gd.closest('.output');\n",
       "if (outputEl) {{\n",
       "    x.observe(outputEl, {childList: true});\n",
       "}}\n",
       "\n",
       "                        })                };                });            </script>        </div>"
      ]
     },
     "metadata": {},
     "output_type": "display_data"
    }
   ],
   "source": [
    "px.scatter(data_frame=x,\n",
    "    x='MonthlyIncome',\n",
    "    y='DebtRatio',\n",
    "    color='SeriousDlqin2yrs',animation_frame='age')"
   ]
  },
  {
   "cell_type": "code",
   "execution_count": 24,
   "id": "caf7c31f",
   "metadata": {},
   "outputs": [
    {
     "data": {
      "text/plain": [
       "<AxesSubplot:xlabel='MonthlyIncome', ylabel='DebtRatio'>"
      ]
     },
     "execution_count": 24,
     "metadata": {},
     "output_type": "execute_result"
    },
    {
     "data": {
      "image/png": "[encoded data removed]",
      "text/plain": [
       "<Figure size 432x288 with 1 Axes>"
      ]
     },
     "metadata": {
      "needs_background": "light"
     },
     "output_type": "display_data"
    }
   ],
   "source": [
    "#to check having better monthly income will affect debtratio\n",
    "sns.scatterplot(y='DebtRatio',x='MonthlyIncome',data=df_scaled)"
   ]
  },
  {
   "cell_type": "code",
   "execution_count": 25,
   "id": "b81f0be0",
   "metadata": {},
   "outputs": [
    {
     "data": {
      "text/plain": [
       "<AxesSubplot:xlabel='age', ylabel='RevolvingUtilizationOfUnsecuredLines'>"
      ]
     },
     "execution_count": 25,
     "metadata": {},
     "output_type": "execute_result"
    },
    {
     "data": {
      "image/png": "[encoded data removed]",
      "text/plain": [
       "<Figure size 432x288 with 1 Axes>"
      ]
     },
     "metadata": {
      "needs_background": "light"
     },
     "output_type": "display_data"
    }
   ],
   "source": [
    "sns.scatterplot(y=df_scaled['RevolvingUtilizationOfUnsecuredLines'],x=a['age'])"
   ]
  },
  {
   "cell_type": "code",
   "execution_count": null,
   "id": "8233517c",
   "metadata": {},
   "outputs": [],
   "source": []
  }
 ],
 "metadata": {
  "kernelspec": {
   "display_name": "Python 3",
   "language": "python",
   "name": "python3"
  }
 },
 "nbformat": 4,
 "nbformat_minor": 5
}
