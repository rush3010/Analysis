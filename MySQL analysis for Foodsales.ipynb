{
 "cells": [
  {
   "cell_type": "code",
   "execution_count": 6,
   "id": "0a3b1702",
   "metadata": {},
   "outputs": [],
   "source": [
    "#import librabries\n",
    "import mysql.connector as mys\n",
    "from mysql.connector import Error\n",
    "import pandas as pd"
   ]
  },
  {
   "cell_type": "code",
   "execution_count": 7,
   "id": "181dea52",
   "metadata": {},
   "outputs": [
    {
     "name": "stdout",
     "output_type": "stream",
     "text": [
      "MySQL Database connection Successful\n"
     ]
    }
   ],
   "source": [
    "def create_connection(host,user,password):\n",
    "    connection = None\n",
    "    try:\n",
    "        connection= mys.connect(host=host,user=user,\n",
    "                               passwd=password)\n",
    "        print(\"MySQL Database connection Successful\")\n",
    "    except Error as err:\n",
    "        print(f\"Error: {err} \")\n",
    "    return connection\n",
    "#Put our terminal password\n",
    "pw = \"Rush@bh3010\"\n",
    "#database name\n",
    "db= \"Mysql_python\"\n",
    "connection=create_connection(\"localhost\",\"root\",pw)"
   ]
  },
  {
   "cell_type": "code",
   "execution_count": 8,
   "id": "9ca5c424",
   "metadata": {},
   "outputs": [],
   "source": [
    "#connecting to databse\n",
    "def create_db_connection(host,user,password,db_name):\n",
    "    connection = None\n",
    "    try:\n",
    "        connection= mys.connect(host=host,user=user,passwd=password,\n",
    "                               database=db_name)\n",
    "        print(\"MySQL Database connection Successful\")\n",
    "    except Error as err:\n",
    "        print(f\"Error: {err} \")\n",
    "    return connection"
   ]
  },
  {
   "cell_type": "code",
   "execution_count": 9,
   "id": "7d10861b",
   "metadata": {},
   "outputs": [],
   "source": [
    "#excecute sql queries\n",
    "def execute_query(connection,query):\n",
    "    cursor=connection.cursor()#this is use to establish conenction and run sql queries\n",
    "    try:\n",
    "        cursor.execute(query)\n",
    "        connection.commit()\n",
    "        print(\"Query was Successful\")\n",
    "    except Error as err:\n",
    "        print(f\"Error: {err} \")"
   ]
  },
  {
   "cell_type": "code",
   "execution_count": 10,
   "id": "dcc81460",
   "metadata": {},
   "outputs": [],
   "source": [
    "#read the query and display the results\n",
    "def read_query(connection,query):\n",
    "    cursor=connection.cursor()\n",
    "    result = None\n",
    "    try:\n",
    "        cursor.execute(query)\n",
    "        result=cursor.fetchall()#it will return all result in table\n",
    "        return result\n",
    "    except Error as err:\n",
    "        print(f\"Error: {err} \")"
   ]
  },
  {
   "cell_type": "code",
   "execution_count": 11,
   "id": "40b5bcc3",
   "metadata": {},
   "outputs": [
    {
     "name": "stdout",
     "output_type": "stream",
     "text": [
      "MySQL Database connection Successful\n"
     ]
    }
   ],
   "source": [
    "connection = create_db_connection(\"localhost\",\"root\",pw,\"rushdb\")"
   ]
  },
  {
   "cell_type": "code",
   "execution_count": 12,
   "id": "f96602a9",
   "metadata": {},
   "outputs": [
    {
     "name": "stdout",
     "output_type": "stream",
     "text": [
      "MySQL Database connection Successful\n",
      "('01/01/2020', 'East', 'Boston', 'Bars', 'Carrot', 33, 1.77, 58.41)\n",
      "('04/01/2020', 'East', 'Boston', 'Crackers', 'Whole Wheat', 87, 3.49, 303.63)\n",
      "('07/01/2020', 'West', 'Los Angeles', 'Cookies', 'Chocolate Chip', 58, 1.87, 108.46)\n",
      "('10/01/2020', 'East', 'New York', 'Cookies', 'Chocolate Chip', 82, 1.87, 153.34)\n",
      "('13/01/2020', 'East', 'Boston', 'Cookies', 'Arrowroot', 38, 2.18, 82.84)\n",
      "('16/01/2020', 'East', 'Boston', 'Bars', 'Carrot', 54, 1.77, 95.58)\n",
      "('19/01/2020', 'East', 'Boston', 'Crackers', 'Whole Wheat', 149, 3.49, 520.01)\n",
      "('22/01/2020', 'West', 'Los Angeles', 'Bars', 'Carrot', 51, 1.77, 90.27)\n",
      "('25/01/2020', 'East', 'New York', 'Bars', 'Carrot', 100, 1.77, 177.0)\n",
      "('28/01/2020', 'East', 'New York', 'Snacks', 'Potato Chips', 28, 1.35, 37.8)\n",
      "('31/01/2020', 'East', 'Boston', 'Cookies', 'Arrowroot', 36, 2.18, 78.48)\n",
      "('03/02/2020', 'East', 'Boston', 'Cookies', 'Chocolate Chip', 31, 1.87, 57.97)\n",
      "('06/02/2020', 'East', 'Boston', 'Crackers', 'Whole Wheat', 28, 3.49, 97.72)\n",
      "('09/02/2020', 'West', 'Los Angeles', 'Bars', 'Carrot', 44, 1.77, 77.88)\n",
      "('12/02/2020', 'East', 'New York', 'Bars', 'Carrot', 23, 1.77, 40.71)\n",
      "('15/02/2020', 'East', 'New York', 'Snacks', 'Potato Chips', 27, 1.35, 36.45)\n",
      "('18/02/2020', 'East', 'Boston', 'Cookies', 'Arrowroot', 43, 2.18, 93.74)\n",
      "('21/02/2020', 'East', 'Boston', 'Cookies', 'Oatmeal Raisin', 123, 2.84, 349.32)\n",
      "('24/02/2020', 'West', 'Los Angeles', 'Bars', 'Bran', 42, 1.87, 78.54)\n",
      "('27/02/2020', 'West', 'Los Angeles', 'Cookies', 'Oatmeal Raisin', 33, 2.84, 93.72)\n",
      "('02/03/2020', 'East', 'New York', 'Cookies', 'Chocolate Chip', 85, 1.87, 158.95)\n",
      "('05/03/2020', 'West', 'San Diego', 'Cookies', 'Oatmeal Raisin', 30, 2.84, 85.2)\n",
      "('08/03/2020', 'East', 'Boston', 'Bars', 'Carrot', 61, 1.77, 107.97)\n",
      "('11/03/2020', 'East', 'Boston', 'Crackers', 'Whole Wheat', 40, 3.49, 139.6)\n",
      "('14/03/2020', 'West', 'Los Angeles', 'Cookies', 'Chocolate Chip', 86, 1.87, 160.82)\n",
      "('17/03/2020', 'East', 'New York', 'Bars', 'Carrot', 38, 1.77, 67.26)\n",
      "('20/03/2020', 'East', 'New York', 'Snacks', 'Potato Chips', 68, 1.68, 114.24)\n",
      "('23/03/2020', 'West', 'San Diego', 'Cookies', 'Chocolate Chip', 39, 1.87, 72.93)\n",
      "('26/03/2020', 'East', 'Boston', 'Bars', 'Bran', 103, 1.87, 192.61)\n",
      "('29/03/2020', 'East', 'Boston', 'Cookies', 'Oatmeal Raisin', 193, 2.84, 548.12)\n",
      "('01/04/2020', 'West', 'Los Angeles', 'Bars', 'Carrot', 58, 1.77, 102.66)\n",
      "('04/04/2020', 'West', 'Los Angeles', 'Snacks', 'Potato Chips', 68, 1.68, 114.24)\n",
      "('07/04/2020', 'East', 'New York', 'Bars', 'Carrot', 91, 1.77, 161.07)\n",
      "('10/04/2020', 'East', 'New York', 'Crackers', 'Whole Wheat', 23, 3.49, 80.27)\n",
      "('13/04/2020', 'West', 'San Diego', 'Snacks', 'Potato Chips', 28, 1.68, 47.04)\n",
      "('16/04/2020', 'East', 'Boston', 'Bars', 'Carrot', 48, 1.77, 84.96)\n",
      "('19/04/2020', 'East', 'Boston', 'Snacks', 'Potato Chips', 134, 1.68, 225.12)\n",
      "('22/04/2020', 'West', 'Los Angeles', 'Bars', 'Carrot', 20, 1.77, 35.4)\n",
      "('25/04/2020', 'East', 'New York', 'Bars', 'Carrot', 53, 1.77, 93.81)\n",
      "('28/04/2020', 'East', 'New York', 'Snacks', 'Potato Chips', 64, 1.68, 107.52)\n",
      "('01/05/2020', 'West', 'San Diego', 'Cookies', 'Chocolate Chip', 63, 1.87, 117.81)\n",
      "('04/05/2020', 'East', 'Boston', 'Bars', 'Bran', 105, 1.87, 196.35)\n",
      "('07/05/2020', 'East', 'Boston', 'Cookies', 'Oatmeal Raisin', 138, 2.84, 391.92)\n",
      "('10/05/2020', 'West', 'Los Angeles', 'Bars', 'Carrot', 25, 1.77, 44.25)\n",
      "('13/05/2020', 'West', 'Los Angeles', 'Crackers', 'Whole Wheat', 21, 3.49, 73.29)\n",
      "('16/05/2020', 'East', 'New York', 'Bars', 'Carrot', 61, 1.77, 107.97)\n",
      "('19/05/2020', 'East', 'New York', 'Snacks', 'Potato Chips', 49, 1.68, 82.32)\n",
      "('22/05/2020', 'West', 'San Diego', 'Cookies', 'Chocolate Chip', 55, 1.87, 102.85)\n",
      "('25/05/2020', 'East', 'Boston', 'Cookies', 'Arrowroot', 27, 2.18, 58.86)\n",
      "('28/05/2020', 'East', 'Boston', 'Bars', 'Carrot', 58, 1.77, 102.66)\n",
      "('31/05/2020', 'East', 'Boston', 'Crackers', 'Whole Wheat', 33, 3.49, 115.17)\n",
      "('03/06/2020', 'West', 'Los Angeles', 'Cookies', 'Oatmeal Raisin', 288, 2.84, 817.92)\n",
      "('06/06/2020', 'East', 'New York', 'Cookies', 'Chocolate Chip', 76, 1.87, 142.12)\n",
      "('09/06/2020', 'West', 'San Diego', 'Bars', 'Carrot', 42, 1.77, 74.34)\n",
      "('12/06/2020', 'West', 'San Diego', 'Crackers', 'Whole Wheat', 20, 3.49, 69.8)\n",
      "('15/06/2020', 'East', 'Boston', 'Bars', 'Carrot', 75, 1.77, 132.75)\n",
      "('18/06/2020', 'East', 'Boston', 'Crackers', 'Whole Wheat', 38, 3.49, 132.62)\n",
      "('21/06/2020', 'West', 'Los Angeles', 'Bars', 'Carrot', 306, 1.77, 541.62)\n",
      "('24/06/2020', 'West', 'Los Angeles', 'Snacks', 'Potato Chips', 28, 1.68, 47.04)\n",
      "('27/06/2020', 'East', 'New York', 'Bars', 'Bran', 110, 1.87, 205.7)\n",
      "('30/06/2020', 'East', 'New York', 'Cookies', 'Oatmeal Raisin', 51, 2.84, 144.84)\n",
      "('03/07/2020', 'West', 'San Diego', 'Bars', 'Carrot', 52, 1.77, 92.04)\n",
      "('06/07/2020', 'West', 'San Diego', 'Crackers', 'Whole Wheat', 28, 3.49, 97.72)\n",
      "('09/07/2020', 'East', 'Boston', 'Bars', 'Carrot', 136, 1.77, 240.72)\n",
      "('12/07/2020', 'East', 'Boston', 'Crackers', 'Whole Wheat', 42, 3.49, 146.58)\n",
      "('15/07/2020', 'West', 'Los Angeles', 'Cookies', 'Chocolate Chip', 75, 1.87, 140.25)\n",
      "('18/07/2020', 'East', 'New York', 'Bars', 'Bran', 72, 1.87, 134.64)\n",
      "('21/07/2020', 'East', 'New York', 'Cookies', 'Oatmeal Raisin', 56, 2.84, 159.04)\n",
      "('24/07/2020', 'West', 'San Diego', 'Bars', 'Bran', 51, 1.87, 95.37)\n",
      "('27/07/2020', 'West', 'San Diego', 'Snacks', 'Potato Chips', 31, 1.68, 52.08)\n",
      "('30/07/2020', 'East', 'Boston', 'Bars', 'Bran', 56, 1.87, 104.72)\n",
      "('02/08/2020', 'East', 'Boston', 'Cookies', 'Oatmeal Raisin', 137, 2.84, 389.08)\n",
      "('05/08/2020', 'West', 'Los Angeles', 'Cookies', 'Chocolate Chip', 107, 1.87, 200.09)\n",
      "('08/08/2020', 'East', 'New York', 'Bars', 'Carrot', 24, 1.77, 42.48)\n",
      "('11/08/2020', 'East', 'New York', 'Crackers', 'Whole Wheat', 30, 3.49, 104.7)\n",
      "('14/08/2020', 'West', 'San Diego', 'Cookies', 'Chocolate Chip', 70, 1.87, 130.9)\n",
      "('17/08/2020', 'East', 'Boston', 'Cookies', 'Arrowroot', 31, 2.18, 67.58)\n",
      "('20/08/2020', 'East', 'Boston', 'Bars', 'Carrot', 109, 1.77, 192.93)\n",
      "('23/08/2020', 'East', 'Boston', 'Crackers', 'Whole Wheat', 21, 3.49, 73.29)\n",
      "('26/08/2020', 'West', 'Los Angeles', 'Cookies', 'Chocolate Chip', 80, 1.87, 149.6)\n",
      "('29/08/2020', 'East', 'New York', 'Bars', 'Bran', 75, 1.87, 140.25)\n",
      "('01/09/2020', 'East', 'New York', 'Cookies', 'Oatmeal Raisin', 74, 2.84, 210.16)\n",
      "('04/09/2020', 'West', 'San Diego', 'Bars', 'Carrot', 45, 1.77, 79.65)\n",
      "('07/09/2020', 'East', 'Boston', 'Cookies', 'Arrowroot', 28, 2.18, 61.04)\n",
      "('10/09/2020', 'East', 'Boston', 'Bars', 'Carrot', 143, 1.77, 253.11)\n",
      "('13/09/2020', 'East', 'Boston', 'Snacks', 'Pretzels', 27, 3.15, 85.05)\n",
      "('16/09/2020', 'West', 'Los Angeles', 'Bars', 'Carrot', 133, 1.77, 235.41)\n",
      "('19/09/2020', 'East', 'New York', 'Cookies', 'Arrowroot', 110, 2.18, 239.8)\n",
      "('22/09/2020', 'East', 'New York', 'Cookies', 'Chocolate Chip', 65, 1.87, 121.55)\n",
      "('25/09/2020', 'West', 'San Diego', 'Bars', 'Bran', 33, 1.87, 61.71)\n",
      "('28/09/2020', 'East', 'Boston', 'Cookies', 'Arrowroot', 81, 2.18, 176.58)\n",
      "('01/10/2020', 'East', 'Boston', 'Bars', 'Carrot', 77, 1.77, 136.29)\n",
      "('04/10/2020', 'East', 'Boston', 'Crackers', 'Whole Wheat', 38, 3.49, 132.62)\n",
      "('07/10/2020', 'West', 'Los Angeles', 'Bars', 'Carrot', 40, 1.77, 70.8)\n",
      "('10/10/2020', 'West', 'Los Angeles', 'Snacks', 'Potato Chips', 114, 1.68, 191.52)\n",
      "('13/10/2020', 'East', 'New York', 'Cookies', 'Arrowroot', 224, 2.18, 488.32)\n",
      "('16/10/2020', 'East', 'New York', 'Bars', 'Carrot', 141, 1.77, 249.57)\n",
      "('19/10/2020', 'East', 'New York', 'Crackers', 'Whole Wheat', 32, 3.49, 111.68)\n",
      "('22/10/2020', 'West', 'San Diego', 'Bars', 'Carrot', 20, 1.77, 35.4)\n",
      "('25/10/2020', 'East', 'Boston', 'Cookies', 'Arrowroot', 40, 2.18, 87.2)\n",
      "('28/10/2020', 'East', 'Boston', 'Cookies', 'Chocolate Chip', 49, 1.87, 91.63)\n",
      "('31/10/2020', 'East', 'Boston', 'Crackers', 'Whole Wheat', 46, 3.49, 160.54)\n",
      "('03/11/2020', 'West', 'Los Angeles', 'Bars', 'Carrot', 39, 1.77, 69.03)\n",
      "('06/11/2020', 'West', 'Los Angeles', 'Snacks', 'Potato Chips', 62, 1.68, 104.16)\n",
      "('09/11/2020', 'East', 'New York', 'Bars', 'Carrot', 90, 1.77, 159.3)\n",
      "('12/11/2020', 'West', 'San Diego', 'Cookies', 'Arrowroot', 103, 2.18, 224.54)\n",
      "('15/11/2020', 'West', 'San Diego', 'Cookies', 'Oatmeal Raisin', 32, 2.84, 90.88)\n",
      "('18/11/2020', 'East', 'Boston', 'Bars', 'Bran', 66, 1.87, 123.42)\n",
      "('21/11/2020', 'East', 'Boston', 'Cookies', 'Oatmeal Raisin', 97, 2.84, 275.48)\n",
      "('24/11/2020', 'West', 'Los Angeles', 'Bars', 'Carrot', 30, 1.77, 53.1)\n",
      "('27/11/2020', 'West', 'Los Angeles', 'Snacks', 'Potato Chips', 29, 1.68, 48.72)\n",
      "('30/11/2020', 'East', 'New York', 'Bars', 'Carrot', 92, 1.77, 162.84)\n",
      "('03/12/2020', 'West', 'San Diego', 'Cookies', 'Arrowroot', 139, 2.18, 303.02)\n",
      "('06/12/2020', 'West', 'San Diego', 'Cookies', 'Oatmeal Raisin', 29, 2.84, 82.36)\n",
      "('09/12/2020', 'East', 'Boston', 'Bars', 'Banana', 30, 2.27, 68.1)\n",
      "('12/12/2020', 'East', 'Boston', 'Cookies', 'Chocolate Chip', 36, 1.87, 67.32)\n",
      "('15/12/2020', 'East', 'Boston', 'Crackers', 'Whole Wheat', 41, 3.49, 143.09)\n",
      "('18/12/2020', 'West', 'Los Angeles', 'Bars', 'Carrot', 44, 1.77, 77.88)\n",
      "('21/12/2020', 'West', 'Los Angeles', 'Snacks', 'Potato Chips', 29, 1.68, 48.72)\n",
      "('24/12/2020', 'East', 'New York', 'Cookies', 'Arrowroot', 237, 2.18, 516.66)\n",
      "('27/12/2020', 'East', 'New York', 'Cookies', 'Chocolate Chip', 65, 1.87, 121.55)\n",
      "('30/12/2020', 'West', 'San Diego', 'Cookies', 'Arrowroot', 83, 2.18, 180.94)\n",
      "('02/01/2021', 'East', 'Boston', 'Cookies', 'Arrowroot', 32, 2.18, 69.76)\n",
      "('05/01/2021', 'East', 'Boston', 'Bars', 'Carrot', 63, 1.77, 111.51)\n",
      "('08/01/2021', 'East', 'Boston', 'Snacks', 'Pretzels', 29, 3.15, 91.35)\n",
      "('11/01/2021', 'West', 'Los Angeles', 'Bars', 'Bran', 77, 1.87, 143.99)\n",
      "('14/01/2021', 'West', 'Los Angeles', 'Cookies', 'Oatmeal Raisin', 80, 2.84, 227.2)\n",
      "('17/01/2021', 'East', 'New York', 'Bars', 'Carrot', 102, 1.77, 180.54)\n",
      "('20/01/2021', 'East', 'New York', 'Crackers', 'Whole Wheat', 31, 3.49, 108.19)\n",
      "('23/01/2021', 'West', 'San Diego', 'Bars', 'Carrot', 56, 1.77, 99.12)\n",
      "('26/01/2021', 'East', 'Boston', 'Cookies', 'Arrowroot', 52, 2.18, 113.36)\n",
      "('29/01/2021', 'East', 'Boston', 'Bars', 'Carrot', 51, 1.77, 90.27)\n",
      "('01/02/2021', 'East', 'Boston', 'Snacks', 'Potato Chips', 24, 1.68, 40.32)\n",
      "('04/02/2021', 'West', 'Los Angeles', 'Cookies', 'Arrowroot', 58, 2.18, 126.44)\n",
      "('07/02/2021', 'West', 'Los Angeles', 'Cookies', 'Chocolate Chip', 34, 1.87, 63.58)\n",
      "('10/02/2021', 'East', 'New York', 'Bars', 'Carrot', 34, 1.77, 60.18)\n",
      "('13/02/2021', 'East', 'New York', 'Snacks', 'Potato Chips', 21, 1.68, 35.28)\n",
      "('16/02/2021', 'West', 'San Diego', 'Cookies', 'Oatmeal Raisin', 29, 2.84, 82.36)\n",
      "('19/02/2021', 'East', 'Boston', 'Bars', 'Carrot', 68, 1.77, 120.36)\n",
      "('22/02/2021', 'East', 'Boston', 'Snacks', 'Pretzels', 31, 3.15, 97.65)\n",
      "('25/02/2021', 'West', 'Los Angeles', 'Cookies', 'Arrowroot', 30, 2.18, 65.4)\n",
      "('28/02/2021', 'West', 'Los Angeles', 'Cookies', 'Chocolate Chip', 232, 1.87, 433.84)\n",
      "('02/03/2021', 'East', 'New York', 'Bars', 'Bran', 68, 1.87, 127.16)\n",
      "('05/03/2021', 'East', 'New York', 'Cookies', 'Oatmeal Raisin', 97, 2.84, 275.48)\n",
      "('08/03/2021', 'West', 'San Diego', 'Bars', 'Bran', 86, 1.87, 160.82)\n",
      "('11/03/2021', 'West', 'San Diego', 'Snacks', 'Potato Chips', 41, 1.68, 68.88)\n",
      "('14/03/2021', 'East', 'Boston', 'Bars', 'Carrot', 93, 1.77, 164.61)\n",
      "('17/03/2021', 'East', 'Boston', 'Snacks', 'Potato Chips', 47, 1.68, 78.96)\n",
      "('20/03/2021', 'West', 'Los Angeles', 'Bars', 'Carrot', 103, 1.77, 182.31)\n",
      "('23/03/2021', 'West', 'Los Angeles', 'Snacks', 'Potato Chips', 33, 1.68, 55.44)\n",
      "('26/03/2021', 'East', 'New York', 'Bars', 'Bran', 57, 1.87, 106.59)\n",
      "('29/03/2021', 'East', 'New York', 'Cookies', 'Oatmeal Raisin', 65, 2.84, 184.6)\n",
      "('01/04/2021', 'West', 'San Diego', 'Bars', 'Carrot', 118, 1.77, 208.86)\n",
      "('04/04/2021', 'East', 'Boston', 'Cookies', 'Arrowroot', 36, 2.18, 78.48)\n",
      "('07/04/2021', 'East', 'Boston', 'Cookies', 'Oatmeal Raisin', 123, 2.84, 349.32)\n",
      "('10/04/2021', 'West', 'Los Angeles', 'Bars', 'Carrot', 90, 1.77, 159.3)\n",
      "('13/04/2021', 'West', 'Los Angeles', 'Crackers', 'Whole Wheat', 21, 3.49, 73.29)\n",
      "('16/04/2021', 'East', 'New York', 'Bars', 'Carrot', 48, 1.77, 84.96)\n",
      "('19/04/2021', 'East', 'New York', 'Snacks', 'Potato Chips', 24, 1.68, 40.32)\n",
      "('22/04/2021', 'West', 'San Diego', 'Cookies', 'Chocolate Chip', 67, 1.87, 125.29)\n",
      "('25/04/2021', 'East', 'Boston', 'Bars', 'Bran', 27, 1.87, 50.49)\n",
      "('28/04/2021', 'East', 'Boston', 'Cookies', 'Oatmeal Raisin', 129, 2.84, 366.36)\n",
      "('01/05/2021', 'West', 'Los Angeles', 'Cookies', 'Arrowroot', 77, 2.18, 167.86)\n",
      "('04/05/2021', 'West', 'Los Angeles', 'Cookies', 'Chocolate Chip', 58, 1.87, 108.46)\n",
      "('07/05/2021', 'East', 'New York', 'Bars', 'Bran', 47, 1.87, 87.89)\n",
      "('10/05/2021', 'East', 'New York', 'Cookies', 'Oatmeal Raisin', 33, 2.84, 93.72)\n",
      "('13/05/2021', 'West', 'San Diego', 'Cookies', 'Chocolate Chip', 82, 1.87, 153.34)\n",
      "('16/05/2021', 'East', 'Boston', 'Bars', 'Carrot', 58, 1.77, 102.66)\n",
      "('19/05/2021', 'East', 'Boston', 'Snacks', 'Pretzels', 30, 3.15, 94.5)\n",
      "('22/05/2021', 'West', 'Los Angeles', 'Cookies', 'Chocolate Chip', 43, 1.87, 80.41)\n",
      "('25/05/2021', 'East', 'New York', 'Bars', 'Carrot', 84, 1.77, 148.68)\n",
      "('28/05/2021', 'West', 'San Diego', 'Cookies', 'Arrowroot', 36, 2.18, 78.48)\n",
      "('31/05/2021', 'West', 'San Diego', 'Cookies', 'Oatmeal Raisin', 44, 2.84, 124.96)\n",
      "('03/06/2021', 'East', 'Boston', 'Bars', 'Bran', 27, 1.87, 50.49)\n",
      "('06/06/2021', 'East', 'Boston', 'Cookies', 'Oatmeal Raisin', 120, 2.84, 340.8)\n",
      "('09/06/2021', 'East', 'Boston', 'Crackers', 'Whole Wheat', 26, 3.49, 90.74)\n",
      "('12/06/2021', 'West', 'Los Angeles', 'Bars', 'Carrot', 73, 1.77, 129.21)\n",
      "('15/06/2021', 'East', 'New York', 'Bars', 'Bran', 38, 1.87, 71.06)\n",
      "('18/06/2021', 'East', 'New York', 'Cookies', 'Oatmeal Raisin', 40, 2.84, 113.6)\n",
      "('21/06/2021', 'West', 'San Diego', 'Bars', 'Carrot', 41, 1.77, 72.57)\n",
      "('24/06/2021', 'East', 'Boston', 'Bars', 'Banana', 27, 2.27, 61.29)\n",
      "('27/06/2021', 'East', 'Boston', 'Cookies', 'Chocolate Chip', 38, 1.87, 71.06)\n",
      "('30/06/2021', 'East', 'Boston', 'Crackers', 'Whole Wheat', 34, 3.49, 118.66)\n",
      "('03/07/2021', 'West', 'Los Angeles', 'Bars', 'Bran', 65, 1.87, 121.55)\n",
      "('06/07/2021', 'West', 'Los Angeles', 'Cookies', 'Oatmeal Raisin', 60, 2.84, 170.4)\n",
      "('09/07/2021', 'East', 'New York', 'Cookies', 'Arrowroot', 37, 2.18, 80.66)\n",
      "('12/07/2021', 'East', 'New York', 'Cookies', 'Chocolate Chip', 40, 1.87, 74.8)\n",
      "('15/07/2021', 'West', 'San Diego', 'Bars', 'Bran', 26, 1.87, 48.62)\n",
      "('18/07/2021', 'East', 'Boston', 'Bars', 'Banana', 22, 2.27, 49.94)\n",
      "('21/07/2021', 'East', 'Boston', 'Cookies', 'Chocolate Chip', 32, 1.87, 59.84)\n",
      "('24/07/2021', 'East', 'Boston', 'Crackers', 'Whole Wheat', 23, 3.49, 80.27)\n",
      "('27/07/2021', 'West', 'Los Angeles', 'Cookies', 'Arrowroot', 20, 2.18, 43.6)\n",
      "('30/07/2021', 'West', 'Los Angeles', 'Cookies', 'Chocolate Chip', 64, 1.87, 119.68)\n",
      "('02/08/2021', 'East', 'New York', 'Bars', 'Carrot', 71, 1.77, 125.67)\n",
      "('05/08/2021', 'West', 'San Diego', 'Cookies', 'Arrowroot', 90, 2.18, 196.2)\n",
      "('08/08/2021', 'West', 'San Diego', 'Cookies', 'Oatmeal Raisin', 38, 2.84, 107.92)\n",
      "('11/08/2021', 'East', 'Boston', 'Bars', 'Carrot', 55, 1.77, 97.35)\n",
      "('14/08/2021', 'East', 'Boston', 'Snacks', 'Pretzels', 22, 3.15, 69.3)\n",
      "('17/08/2021', 'West', 'Los Angeles', 'Bars', 'Carrot', 34, 1.77, 60.18)\n",
      "('20/08/2021', 'East', 'New York', 'Bars', 'Bran', 39, 1.87, 72.93)\n",
      "('23/08/2021', 'East', 'New York', 'Cookies', 'Oatmeal Raisin', 41, 2.84, 116.44)\n",
      "('26/08/2021', 'West', 'San Diego', 'Bars', 'Carrot', 41, 1.77, 72.57)\n",
      "('29/08/2021', 'East', 'Boston', 'Cookies', 'Arrowroot', 136, 2.18, 296.48)\n",
      "('01/09/2021', 'East', 'Boston', 'Bars', 'Carrot', 25, 1.77, 44.25)\n",
      "('04/09/2021', 'East', 'Boston', 'Snacks', 'Pretzels', 26, 3.15, 81.9)\n",
      "('07/09/2021', 'West', 'Los Angeles', 'Bars', 'Bran', 50, 1.87, 93.5)\n",
      "('10/09/2021', 'West', 'Los Angeles', 'Cookies', 'Oatmeal Raisin', 79, 2.84, 224.36)\n",
      "('13/09/2021', 'East', 'New York', 'Bars', 'Carrot', 30, 1.77, 53.1)\n",
      "('16/09/2021', 'East', 'New York', 'Snacks', 'Potato Chips', 20, 1.68, 33.6)\n",
      "('19/09/2021', 'West', 'San Diego', 'Bars', 'Carrot', 49, 1.77, 86.73)\n",
      "('22/09/2021', 'East', 'Boston', 'Cookies', 'Arrowroot', 40, 2.18, 87.2)\n",
      "('25/09/2021', 'East', 'Boston', 'Bars', 'Carrot', 31, 1.77, 54.87)\n",
      "('28/09/2021', 'East', 'Boston', 'Snacks', 'Pretzels', 21, 3.15, 66.15)\n",
      "('01/10/2021', 'West', 'Los Angeles', 'Bars', 'Bran', 43, 1.87, 80.41)\n",
      "('04/10/2021', 'West', 'Los Angeles', 'Cookies', 'Oatmeal Raisin', 47, 2.84, 133.48)\n",
      "('07/10/2021', 'East', 'New York', 'Cookies', 'Arrowroot', 175, 2.18, 381.5)\n",
      "('10/10/2021', 'East', 'New York', 'Cookies', 'Chocolate Chip', 23, 1.87, 43.01)\n",
      "('13/10/2021', 'West', 'San Diego', 'Bars', 'Carrot', 40, 1.77, 70.8)\n",
      "('16/10/2021', 'East', 'Boston', 'Cookies', 'Arrowroot', 87, 2.18, 189.66)\n",
      "('19/10/2021', 'East', 'Boston', 'Bars', 'Carrot', 43, 1.77, 76.11)\n",
      "('22/10/2021', 'East', 'Boston', 'Crackers', 'Whole Wheat', 30, 3.49, 104.7)\n",
      "('25/10/2021', 'West', 'Los Angeles', 'Bars', 'Carrot', 35, 1.77, 61.95)\n",
      "('28/10/2021', 'East', 'New York', 'Bars', 'Bran', 57, 1.87, 106.59)\n",
      "('31/10/2021', 'East', 'New York', 'Snacks', 'Potato Chips', 25, 1.68, 42.0)\n",
      "('03/11/2021', 'West', 'San Diego', 'Cookies', 'Chocolate Chip', 24, 1.87, 44.88)\n",
      "('06/11/2021', 'East', 'Boston', 'Bars', 'Bran', 83, 1.87, 155.21)\n",
      "('09/11/2021', 'East', 'Boston', 'Cookies', 'Oatmeal Raisin', 124, 2.84, 352.16)\n",
      "('12/11/2021', 'West', 'Los Angeles', 'Bars', 'Carrot', 137, 1.77, 242.49)\n",
      "('15/11/2021', 'East', 'New York', 'Cookies', 'Arrowroot', 146, 2.18, 318.28)\n",
      "('18/11/2021', 'East', 'New York', 'Cookies', 'Chocolate Chip', 34, 1.87, 63.58)\n",
      "('21/11/2021', 'West', 'San Diego', 'Bars', 'Carrot', 20, 1.77, 35.4)\n",
      "('24/11/2021', 'East', 'Boston', 'Cookies', 'Arrowroot', 139, 2.18, 303.02)\n",
      "('27/11/2021', 'East', 'Boston', 'Cookies', 'Chocolate Chip', 211, 1.87, 394.57)\n",
      "('30/11/2021', 'East', 'Boston', 'Crackers', 'Whole Wheat', 20, 3.49, 69.8)\n",
      "('03/12/2021', 'West', 'Los Angeles', 'Bars', 'Bran', 42, 1.87, 78.54)\n",
      "('06/12/2021', 'West', 'Los Angeles', 'Cookies', 'Oatmeal Raisin', 100, 2.84, 284.0)\n",
      "('09/12/2021', 'East', 'New York', 'Bars', 'Carrot', 38, 1.77, 67.26)\n",
      "('12/12/2021', 'East', 'New York', 'Crackers', 'Whole Wheat', 25, 3.49, 87.25)\n",
      "('15/12/2021', 'West', 'San Diego', 'Cookies', 'Chocolate Chip', 96, 1.87, 179.52)\n",
      "('18/12/2021', 'East', 'Boston', 'Cookies', 'Arrowroot', 34, 2.18, 74.12)\n",
      "('21/12/2021', 'East', 'Boston', 'Cookies', 'Chocolate Chip', 245, 1.87, 458.15)\n",
      "('24/12/2021', 'East', 'Boston', 'Crackers', 'Whole Wheat', 30, 3.49, 104.7)\n",
      "('27/12/2021', 'West', 'Los Angeles', 'Bars', 'Bran', 30, 1.87, 56.1)\n",
      "('30/12/2021', 'West', 'Los Angeles', 'Cookies', 'Oatmeal Raisin', 44, 2.84, 124.96)\n"
     ]
    }
   ],
   "source": [
    "q1=\"\"\"select * from foodsale;\"\"\"\n",
    "connection = create_db_connection(\"localhost\",\"root\",pw,\"rushdb\")\n",
    "results=read_query(connection,q1)\n",
    "for i in results:\n",
    "    print(i)"
   ]
  },
  {
   "cell_type": "code",
   "execution_count": 35,
   "id": "baafafd5",
   "metadata": {},
   "outputs": [
    {
     "name": "stdout",
     "output_type": "stream",
     "text": [
      "MySQL Database connection Successful\n",
      "('Boston', 'Bars', 'Carrot', 13265.53)\n"
     ]
    }
   ],
   "source": [
    "#in boston city which product is sold most?\n",
    "q2=\"\"\"select city,category,product,sum(totalprice) as totalsales from foodsale where city='boston';\"\"\"\n",
    "connection = create_db_connection(\"localhost\",\"root\",pw,\"rushdb\")\n",
    "results=read_query(connection,q2)\n",
    "for i in results:\n",
    "    print(i)\n",
    "#Carrot is sold most"
   ]
  },
  {
   "cell_type": "code",
   "execution_count": 32,
   "id": "4c8937cf",
   "metadata": {},
   "outputs": [
    {
     "name": "stdout",
     "output_type": "stream",
     "text": [
      "MySQL Database connection Successful\n",
      "('New York', 'Chocolate Chip', 8258.830000000002)\n"
     ]
    }
   ],
   "source": [
    "#In new york city which product is sold most?\n",
    "q3=\"\"\"select city,category,product, sum(totalprice) as totalsales from foodsale where city='new york';\"\"\"\n",
    "connection = create_db_connection(\"localhost\",\"root\",pw,\"rushdb\")\n",
    "results=read_query(connection,q3)\n",
    "for i in results:\n",
    "    print(i)\n",
    "#Chocolate Chip is sold most"
   ]
  },
  {
   "cell_type": "code",
   "execution_count": 33,
   "id": "71b02d83",
   "metadata": {},
   "outputs": [
    {
     "name": "stdout",
     "output_type": "stream",
     "text": [
      "MySQL Database connection Successful\n",
      "('San Diego', 'Cookies', 'Oatmeal Raisin', 4113.9000000000015)\n"
     ]
    }
   ],
   "source": [
    "#in san diego city which product is sold most?\n",
    "q4=\"\"\"select city,category,product, sum(totalprice) as totalsales from foodsale where city='san diego';\"\"\"\n",
    "connection = create_db_connection(\"localhost\",\"root\",pw,\"rushdb\")\n",
    "results = read_query(connection,q4)\n",
    "for i in results:\n",
    "    print(i)\n",
    "#Oatmeal Raisin is sold most"
   ]
  },
  {
   "cell_type": "code",
   "execution_count": 30,
   "id": "643b751e",
   "metadata": {},
   "outputs": [
    {
     "name": "stdout",
     "output_type": "stream",
     "text": [
      "MySQL Database connection Successful\n"
     ]
    },
    {
     "data": {
      "text/html": [
       "<div>\n",
       "<style scoped>\n",
       "    .dataframe tbody tr th:only-of-type {\n",
       "        vertical-align: middle;\n",
       "    }\n",
       "\n",
       "    .dataframe tbody tr th {\n",
       "        vertical-align: top;\n",
       "    }\n",
       "\n",
       "    .dataframe thead th {\n",
       "        text-align: right;\n",
       "    }\n",
       "</style>\n",
       "<table border=\"1\" class=\"dataframe\">\n",
       "  <thead>\n",
       "    <tr style=\"text-align: right;\">\n",
       "      <th></th>\n",
       "      <th>City</th>\n",
       "      <th>Category</th>\n",
       "      <th>Product</th>\n",
       "      <th>TotalSales</th>\n",
       "    </tr>\n",
       "  </thead>\n",
       "  <tbody>\n",
       "    <tr>\n",
       "      <th>0</th>\n",
       "      <td>Los Angeles</td>\n",
       "      <td>Cookies</td>\n",
       "      <td>Chocolate Chip</td>\n",
       "      <td>7687.32</td>\n",
       "    </tr>\n",
       "  </tbody>\n",
       "</table>\n",
       "</div>"
      ],
      "text/plain": [
       "          City Category         Product  TotalSales\n",
       "0  Los Angeles  Cookies  Chocolate Chip     7687.32"
      ]
     },
     "metadata": {},
     "output_type": "display_data"
    }
   ],
   "source": [
    "#in los angeles city which product is sold most?\n",
    "q5=\"\"\"select city,category,product,sum(totalprice) as totalsales from foodsale where city='los angeles';\"\"\"\n",
    "connection = create_db_connection(\"localhost\",\"root\",pw,\"rushdb\")\n",
    "results=read_query(connection,q5)\n",
    "from_db=[]\n",
    "for result in results:\n",
    "    result=list(result)\n",
    "    from_db.append(result)\n",
    "columns=[\"City\",\"Category\",\"Product\",\"TotalSales\"]\n",
    "df=pd.DataFrame(from_db, columns= columns)\n",
    "display(df)\n",
    "#Chocolate Chip is sold most"
   ]
  },
  {
   "cell_type": "code",
   "execution_count": 17,
   "id": "4f0b147f",
   "metadata": {},
   "outputs": [
    {
     "data": {
      "text/html": [
       "<div>\n",
       "<style scoped>\n",
       "    .dataframe tbody tr th:only-of-type {\n",
       "        vertical-align: middle;\n",
       "    }\n",
       "\n",
       "    .dataframe tbody tr th {\n",
       "        vertical-align: top;\n",
       "    }\n",
       "\n",
       "    .dataframe thead th {\n",
       "        text-align: right;\n",
       "    }\n",
       "</style>\n",
       "<table border=\"1\" class=\"dataframe\">\n",
       "  <thead>\n",
       "    <tr style=\"text-align: right;\">\n",
       "      <th></th>\n",
       "      <th>city</th>\n",
       "      <th>category</th>\n",
       "      <th>product</th>\n",
       "      <th>Totalprice</th>\n",
       "    </tr>\n",
       "  </thead>\n",
       "  <tbody>\n",
       "    <tr>\n",
       "      <th>0</th>\n",
       "      <td>Los Angeles</td>\n",
       "      <td>Cookies</td>\n",
       "      <td>Oatmeal Raisin</td>\n",
       "      <td>817.92</td>\n",
       "    </tr>\n",
       "  </tbody>\n",
       "</table>\n",
       "</div>"
      ],
      "text/plain": [
       "          city category         product  Totalprice\n",
       "0  Los Angeles  Cookies  Oatmeal Raisin      817.92"
      ]
     },
     "metadata": {},
     "output_type": "display_data"
    }
   ],
   "source": [
    "from_db=[]\n",
    "for result in results:\n",
    "    result=list(result)\n",
    "    from_db.append(result)\n",
    "columns=[\"city\",\"category\",\"product\",\"Totalprice\"]\n",
    "df=pd.DataFrame(from_db, columns= columns)\n",
    "display(df)"
   ]
  },
  {
   "cell_type": "code",
   "execution_count": 20,
   "id": "896d48c7",
   "metadata": {},
   "outputs": [
    {
     "name": "stdout",
     "output_type": "stream",
     "text": [
      "MySQL Database connection Successful\n",
      "('East', 21524.35999999999)\n",
      "('West', 11801.219999999996)\n"
     ]
    }
   ],
   "source": [
    "#Sales by Region\n",
    "q7=\"\"\"select region ,sum(totalprice) as totalsales from foodsale group by region\"\"\"\n",
    "connection = create_db_connection(\"localhost\",\"root\",pw,\"rushdb\")\n",
    "results = read_query(connection,q7)\n",
    "for i in results:\n",
    "    print(i)\n",
    "#Maximum Sales was in east"
   ]
  },
  {
   "cell_type": "code",
   "execution_count": 21,
   "id": "e2638f82",
   "metadata": {},
   "outputs": [
    {
     "name": "stdout",
     "output_type": "stream",
     "text": [
      "MySQL Database connection Successful\n",
      "('Boston', 13265.53)\n",
      "('Los Angeles', 7687.319999999998)\n",
      "('New York', 8258.830000000002)\n",
      "('San Diego', 4113.9000000000015)\n"
     ]
    }
   ],
   "source": [
    "#Sales by city\n",
    "q8=\"\"\"select city,sum(totalprice) as totalsales from foodsale group by city\"\"\"\n",
    "connection = create_db_connection(\"localhost\",\"root\",pw,\"rushdb\")\n",
    "results = read_query(connection,q8)\n",
    "for i in results:\n",
    "    print(i)\n",
    "#Maximum Sales was in Boston"
   ]
  },
  {
   "cell_type": "code",
   "execution_count": null,
   "id": "ccddc5d0",
   "metadata": {},
   "outputs": [],
   "source": []
  },
  {
   "cell_type": "code",
   "execution_count": null,
   "id": "81632ebb",
   "metadata": {},
   "outputs": [],
   "source": []
  },
  {
   "cell_type": "code",
   "execution_count": null,
   "id": "e87b9819",
   "metadata": {},
   "outputs": [],
   "source": []
  },
  {
   "cell_type": "code",
   "execution_count": null,
   "id": "bff5bc98",
   "metadata": {},
   "outputs": [],
   "source": []
  },
  {
   "cell_type": "code",
   "execution_count": null,
   "id": "a1ee8466",
   "metadata": {},
   "outputs": [],
   "source": []
  },
  {
   "cell_type": "code",
   "execution_count": null,
   "id": "04459409",
   "metadata": {},
   "outputs": [],
   "source": []
  },
  {
   "cell_type": "code",
   "execution_count": null,
   "id": "3270218b",
   "metadata": {},
   "outputs": [],
   "source": []
  },
  {
   "cell_type": "code",
   "execution_count": null,
   "id": "33ab3e34",
   "metadata": {},
   "outputs": [],
   "source": []
  },
  {
   "cell_type": "code",
   "execution_count": null,
   "id": "937c90ba",
   "metadata": {},
   "outputs": [],
   "source": []
  },
  {
   "cell_type": "code",
   "execution_count": null,
   "id": "25c17d63",
   "metadata": {},
   "outputs": [],
   "source": []
  },
  {
   "cell_type": "code",
   "execution_count": null,
   "id": "c39b546b",
   "metadata": {},
   "outputs": [],
   "source": []
  },
  {
   "cell_type": "code",
   "execution_count": null,
   "id": "c66c7d7c",
   "metadata": {},
   "outputs": [],
   "source": []
  },
  {
   "cell_type": "code",
   "execution_count": null,
   "id": "ad3b7721",
   "metadata": {},
   "outputs": [],
   "source": []
  }
 ],
 "metadata": {
  "kernelspec": {
   "display_name": "Python 3",
   "language": "python",
   "name": "python3"
  },
  "language_info": {
   "codemirror_mode": {
    "name": "ipython",
    "version": 3
   },
   "file_extension": ".py",
   "mimetype": "text/x-python",
   "name": "python",
   "nbconvert_exporter": "python",
   "pygments_lexer": "ipython3",
   "version": "3.8.8"
  }
 },
 "nbformat": 4,
 "nbformat_minor": 5
}
