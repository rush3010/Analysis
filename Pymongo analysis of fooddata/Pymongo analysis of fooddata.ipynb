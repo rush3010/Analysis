{
 "cells": [
  {
   "cell_type": "code",
   "execution_count": 14,
   "id": "ef793f78",
   "metadata": {},
   "outputs": [
    {
     "name": "stdout",
     "output_type": "stream",
     "text": [
      "['Cardata', 'Patients', 'admin', 'config', 'courses', 'employee', 'flightdata', 'food', 'local', 'ordersdata', 'passengers', 'restaurant', 'schooldata', 'shop']\n"
     ]
    }
   ],
   "source": [
    "import pymongo\n",
    "\n",
    "client=pymongo.MongoClient()\n",
    "\n",
    "print(client.list_database_names())"
   ]
  },
  {
   "cell_type": "code",
   "execution_count": 15,
   "id": "add08b08",
   "metadata": {},
   "outputs": [
    {
     "name": "stdout",
     "output_type": "stream",
     "text": [
      "['cardata']\n",
      "{'customerName': 'Rushabh', 'carModel': 'Laferrari', 'purchaseDate': '11 oct 2021', 'Price': 200000, 'condition': {'meter': 1000, 'oilCondition': 'good'}}\n",
      "{'customerName': 'kshitij', 'carModel': 'Shelby cobra', 'purchaseDate': '22 aug 2020', 'Price': 150000, 'condition': {'meter': 1000, 'oilCondition': 'good'}}\n",
      "{'customerName': 'vel', 'carModel': 'Mercedez AMG', 'purchaseDate': '15 may 2019', 'Price': 135000, 'condition': {'meter': 1000, 'oilCondition': 'good'}}\n"
     ]
    }
   ],
   "source": [
    "db=client['Cardata']\n",
    "print(db.list_collection_names())\n",
    "docs=db.cardata.find({},{\"_id\":0})\n",
    "for i in docs:\n",
    "    print(i)"
   ]
  },
  {
   "cell_type": "code",
   "execution_count": 16,
   "id": "8d7008fd",
   "metadata": {},
   "outputs": [
    {
     "name": "stdout",
     "output_type": "stream",
     "text": [
      "0\n"
     ]
    }
   ],
   "source": [
    "#to update data\n",
    "up=db.cardata.update_many({\"customerName\":\"kshitij\"},{\"$set\":{\"carModel\":\"Shelby cobra\"}})\n",
    "print(up.modified_count)"
   ]
  },
  {
   "cell_type": "markdown",
   "id": "c2f82c48",
   "metadata": {},
   "source": [
    "# City Based Product sales"
   ]
  },
  {
   "cell_type": "code",
   "execution_count": 17,
   "id": "e37309f4",
   "metadata": {},
   "outputs": [
    {
     "name": "stdout",
     "output_type": "stream",
     "text": [
      "['foodsales']\n"
     ]
    }
   ],
   "source": [
    "#city based product sales\n",
    "#which total sale in each city?\n",
    "#max product sales in each city\n",
    "\n",
    "\n",
    "db=client[\"food\"]\n",
    "print(db.list_collection_names())\n",
    "col=db['foodsales']"
   ]
  },
  {
   "cell_type": "code",
   "execution_count": 18,
   "id": "6846d36c",
   "metadata": {},
   "outputs": [
    {
     "name": "stdout",
     "output_type": "stream",
     "text": [
      "{'Region': 'East', 'City': 'Boston', 'Category': 'Bars', 'Product': 'Carrot', 'Quantity': '33', 'UnitPrice': '1.77', 'TotalPrice': '58.41'}\n",
      "{'Region': 'East', 'City': 'Boston', 'Category': 'Crackers', 'Product': 'Whole Wheat', 'Quantity': '87', 'UnitPrice': '3.49', 'TotalPrice': '303.63'}\n",
      "{'Region': 'West', 'City': 'Los Angeles', 'Category': 'Cookies', 'Product': 'Chocolate Chip', 'Quantity': '58', 'UnitPrice': '1.87', 'TotalPrice': '108.46'}\n",
      "{'Region': 'East', 'City': 'New York', 'Category': 'Cookies', 'Product': 'Chocolate Chip', 'Quantity': '82', 'UnitPrice': '1.87', 'TotalPrice': '153.34'}\n",
      "{'Region': 'East', 'City': 'Boston', 'Category': 'Cookies', 'Product': 'Arrowroot', 'Quantity': '38', 'UnitPrice': '2.18', 'TotalPrice': '82.84'}\n",
      "{'Region': 'East', 'City': 'Boston', 'Category': 'Bars', 'Product': 'Carrot', 'Quantity': '54', 'UnitPrice': '1.77', 'TotalPrice': '95.58'}\n",
      "{'Region': 'East', 'City': 'Boston', 'Category': 'Crackers', 'Product': 'Whole Wheat', 'Quantity': '149', 'UnitPrice': '3.49', 'TotalPrice': '520.01'}\n",
      "{'Region': 'West', 'City': 'Los Angeles', 'Category': 'Bars', 'Product': 'Carrot', 'Quantity': '51', 'UnitPrice': '1.77', 'TotalPrice': '90.27'}\n",
      "{'Region': 'East', 'City': 'New York', 'Category': 'Bars', 'Product': 'Carrot', 'Quantity': '100', 'UnitPrice': '1.77', 'TotalPrice': '177'}\n",
      "{'Region': 'East', 'City': 'New York', 'Category': 'Snacks', 'Product': 'Potato Chips', 'Quantity': '28', 'UnitPrice': '1.35', 'TotalPrice': '37.8'}\n",
      "{'Region': 'East', 'City': 'Boston', 'Category': 'Cookies', 'Product': 'Arrowroot', 'Quantity': '36', 'UnitPrice': '2.18', 'TotalPrice': '78.48'}\n",
      "{'Region': 'East', 'City': 'Boston', 'Category': 'Cookies', 'Product': 'Chocolate Chip', 'Quantity': '31', 'UnitPrice': '1.87', 'TotalPrice': '57.97'}\n",
      "{'Region': 'East', 'City': 'Boston', 'Category': 'Crackers', 'Product': 'Whole Wheat', 'Quantity': '28', 'UnitPrice': '3.49', 'TotalPrice': '97.72'}\n",
      "{'Region': 'West', 'City': 'Los Angeles', 'Category': 'Bars', 'Product': 'Carrot', 'Quantity': '44', 'UnitPrice': '1.77', 'TotalPrice': '77.88'}\n",
      "{'Region': 'East', 'City': 'New York', 'Category': 'Bars', 'Product': 'Carrot', 'Quantity': '23', 'UnitPrice': '1.77', 'TotalPrice': '40.71'}\n",
      "{'Region': 'East', 'City': 'New York', 'Category': 'Snacks', 'Product': 'Potato Chips', 'Quantity': '27', 'UnitPrice': '1.35', 'TotalPrice': '36.45'}\n",
      "{'Region': 'East', 'City': 'Boston', 'Category': 'Cookies', 'Product': 'Arrowroot', 'Quantity': '43', 'UnitPrice': '2.18', 'TotalPrice': '93.74'}\n",
      "{'Region': 'East', 'City': 'Boston', 'Category': 'Cookies', 'Product': 'Oatmeal Raisin', 'Quantity': '123', 'UnitPrice': '2.84', 'TotalPrice': '349.32'}\n",
      "{'Region': 'West', 'City': 'Los Angeles', 'Category': 'Bars', 'Product': 'Bran', 'Quantity': '42', 'UnitPrice': '1.87', 'TotalPrice': '78.54'}\n",
      "{'Region': 'West', 'City': 'Los Angeles', 'Category': 'Cookies', 'Product': 'Oatmeal Raisin', 'Quantity': '33', 'UnitPrice': '2.84', 'TotalPrice': '93.72'}\n",
      "{'Region': 'East', 'City': 'New York', 'Category': 'Cookies', 'Product': 'Chocolate Chip', 'Quantity': '85', 'UnitPrice': '1.87', 'TotalPrice': '158.95'}\n",
      "{'Region': 'West', 'City': 'San Diego', 'Category': 'Cookies', 'Product': 'Oatmeal Raisin', 'Quantity': '30', 'UnitPrice': '2.84', 'TotalPrice': '85.2'}\n",
      "{'Region': 'East', 'City': 'Boston', 'Category': 'Bars', 'Product': 'Carrot', 'Quantity': '61', 'UnitPrice': '1.77', 'TotalPrice': '107.97'}\n",
      "{'Region': 'East', 'City': 'Boston', 'Category': 'Crackers', 'Product': 'Whole Wheat', 'Quantity': '40', 'UnitPrice': '3.49', 'TotalPrice': '139.6'}\n",
      "{'Region': 'West', 'City': 'Los Angeles', 'Category': 'Cookies', 'Product': 'Chocolate Chip', 'Quantity': '86', 'UnitPrice': '1.87', 'TotalPrice': '160.82'}\n",
      "{'Region': 'East', 'City': 'New York', 'Category': 'Bars', 'Product': 'Carrot', 'Quantity': '38', 'UnitPrice': '1.77', 'TotalPrice': '67.26'}\n",
      "{'Region': 'East', 'City': 'New York', 'Category': 'Snacks', 'Product': 'Potato Chips', 'Quantity': '68', 'UnitPrice': '1.68', 'TotalPrice': '114.24'}\n",
      "{'Region': 'West', 'City': 'San Diego', 'Category': 'Cookies', 'Product': 'Chocolate Chip', 'Quantity': '39', 'UnitPrice': '1.87', 'TotalPrice': '72.93'}\n",
      "{'Region': 'East', 'City': 'Boston', 'Category': 'Bars', 'Product': 'Bran', 'Quantity': '103', 'UnitPrice': '1.87', 'TotalPrice': '192.61'}\n",
      "{'Region': 'East', 'City': 'Boston', 'Category': 'Cookies', 'Product': 'Oatmeal Raisin', 'Quantity': '193', 'UnitPrice': '2.84', 'TotalPrice': '548.12'}\n",
      "{'Region': 'West', 'City': 'Los Angeles', 'Category': 'Bars', 'Product': 'Carrot', 'Quantity': '58', 'UnitPrice': '1.77', 'TotalPrice': '102.66'}\n",
      "{'Region': 'West', 'City': 'Los Angeles', 'Category': 'Snacks', 'Product': 'Potato Chips', 'Quantity': '68', 'UnitPrice': '1.68', 'TotalPrice': '114.24'}\n",
      "{'Region': 'East', 'City': 'New York', 'Category': 'Bars', 'Product': 'Carrot', 'Quantity': '91', 'UnitPrice': '1.77', 'TotalPrice': '161.07'}\n",
      "{'Region': 'East', 'City': 'New York', 'Category': 'Crackers', 'Product': 'Whole Wheat', 'Quantity': '23', 'UnitPrice': '3.49', 'TotalPrice': '80.27'}\n",
      "{'Region': 'West', 'City': 'San Diego', 'Category': 'Snacks', 'Product': 'Potato Chips', 'Quantity': '28', 'UnitPrice': '1.68', 'TotalPrice': '47.04'}\n",
      "{'Region': 'East', 'City': 'Boston', 'Category': 'Bars', 'Product': 'Carrot', 'Quantity': '48', 'UnitPrice': '1.77', 'TotalPrice': '84.96'}\n",
      "{'Region': 'East', 'City': 'Boston', 'Category': 'Snacks', 'Product': 'Potato Chips', 'Quantity': '134', 'UnitPrice': '1.68', 'TotalPrice': '225.12'}\n",
      "{'Region': 'West', 'City': 'Los Angeles', 'Category': 'Bars', 'Product': 'Carrot', 'Quantity': '20', 'UnitPrice': '1.77', 'TotalPrice': '35.4'}\n",
      "{'Region': 'East', 'City': 'New York', 'Category': 'Bars', 'Product': 'Carrot', 'Quantity': '53', 'UnitPrice': '1.77', 'TotalPrice': '93.81'}\n",
      "{'Region': 'East', 'City': 'New York', 'Category': 'Snacks', 'Product': 'Potato Chips', 'Quantity': '64', 'UnitPrice': '1.68', 'TotalPrice': '107.52'}\n",
      "{'Region': 'West', 'City': 'San Diego', 'Category': 'Cookies', 'Product': 'Chocolate Chip', 'Quantity': '63', 'UnitPrice': '1.87', 'TotalPrice': '117.81'}\n",
      "{'Region': 'East', 'City': 'Boston', 'Category': 'Bars', 'Product': 'Bran', 'Quantity': '105', 'UnitPrice': '1.87', 'TotalPrice': '196.35'}\n",
      "{'Region': 'East', 'City': 'Boston', 'Category': 'Cookies', 'Product': 'Oatmeal Raisin', 'Quantity': '138', 'UnitPrice': '2.84', 'TotalPrice': '391.92'}\n",
      "{'Region': 'West', 'City': 'Los Angeles', 'Category': 'Bars', 'Product': 'Carrot', 'Quantity': '25', 'UnitPrice': '1.77', 'TotalPrice': '44.25'}\n",
      "{'Region': 'West', 'City': 'Los Angeles', 'Category': 'Crackers', 'Product': 'Whole Wheat', 'Quantity': '21', 'UnitPrice': '3.49', 'TotalPrice': '73.29'}\n",
      "{'Region': 'East', 'City': 'New York', 'Category': 'Bars', 'Product': 'Carrot', 'Quantity': '61', 'UnitPrice': '1.77', 'TotalPrice': '107.97'}\n",
      "{'Region': 'East', 'City': 'New York', 'Category': 'Snacks', 'Product': 'Potato Chips', 'Quantity': '49', 'UnitPrice': '1.68', 'TotalPrice': '82.32'}\n",
      "{'Region': 'West', 'City': 'San Diego', 'Category': 'Cookies', 'Product': 'Chocolate Chip', 'Quantity': '55', 'UnitPrice': '1.87', 'TotalPrice': '102.85'}\n",
      "{'Region': 'East', 'City': 'Boston', 'Category': 'Cookies', 'Product': 'Arrowroot', 'Quantity': '27', 'UnitPrice': '2.18', 'TotalPrice': '58.86'}\n",
      "{'Region': 'East', 'City': 'Boston', 'Category': 'Bars', 'Product': 'Carrot', 'Quantity': '58', 'UnitPrice': '1.77', 'TotalPrice': '102.66'}\n",
      "{'Region': 'East', 'City': 'Boston', 'Category': 'Crackers', 'Product': 'Whole Wheat', 'Quantity': '33', 'UnitPrice': '3.49', 'TotalPrice': '115.17'}\n",
      "{'Region': 'West', 'City': 'Los Angeles', 'Category': 'Cookies', 'Product': 'Oatmeal Raisin', 'Quantity': '288', 'UnitPrice': '2.84', 'TotalPrice': '817.92'}\n",
      "{'Region': 'East', 'City': 'New York', 'Category': 'Cookies', 'Product': 'Chocolate Chip', 'Quantity': '76', 'UnitPrice': '1.87', 'TotalPrice': '142.12'}\n",
      "{'Region': 'West', 'City': 'San Diego', 'Category': 'Bars', 'Product': 'Carrot', 'Quantity': '42', 'UnitPrice': '1.77', 'TotalPrice': '74.34'}\n",
      "{'Region': 'West', 'City': 'San Diego', 'Category': 'Crackers', 'Product': 'Whole Wheat', 'Quantity': '20', 'UnitPrice': '3.49', 'TotalPrice': '69.8'}\n",
      "{'Region': 'East', 'City': 'Boston', 'Category': 'Bars', 'Product': 'Carrot', 'Quantity': '75', 'UnitPrice': '1.77', 'TotalPrice': '132.75'}\n",
      "{'Region': 'East', 'City': 'Boston', 'Category': 'Crackers', 'Product': 'Whole Wheat', 'Quantity': '38', 'UnitPrice': '3.49', 'TotalPrice': '132.62'}\n",
      "{'Region': 'West', 'City': 'Los Angeles', 'Category': 'Bars', 'Product': 'Carrot', 'Quantity': '306', 'UnitPrice': '1.77', 'TotalPrice': '541.62'}\n",
      "{'Region': 'West', 'City': 'Los Angeles', 'Category': 'Snacks', 'Product': 'Potato Chips', 'Quantity': '28', 'UnitPrice': '1.68', 'TotalPrice': '47.04'}\n",
      "{'Region': 'East', 'City': 'New York', 'Category': 'Bars', 'Product': 'Bran', 'Quantity': '110', 'UnitPrice': '1.87', 'TotalPrice': '205.7'}\n",
      "{'Region': 'East', 'City': 'New York', 'Category': 'Cookies', 'Product': 'Oatmeal Raisin', 'Quantity': '51', 'UnitPrice': '2.84', 'TotalPrice': '144.84'}\n",
      "{'Region': 'West', 'City': 'San Diego', 'Category': 'Bars', 'Product': 'Carrot', 'Quantity': '52', 'UnitPrice': '1.77', 'TotalPrice': '92.04'}\n",
      "{'Region': 'West', 'City': 'San Diego', 'Category': 'Crackers', 'Product': 'Whole Wheat', 'Quantity': '28', 'UnitPrice': '3.49', 'TotalPrice': '97.72'}\n",
      "{'Region': 'East', 'City': 'Boston', 'Category': 'Bars', 'Product': 'Carrot', 'Quantity': '136', 'UnitPrice': '1.77', 'TotalPrice': '240.72'}\n",
      "{'Region': 'East', 'City': 'Boston', 'Category': 'Crackers', 'Product': 'Whole Wheat', 'Quantity': '42', 'UnitPrice': '3.49', 'TotalPrice': '146.58'}\n",
      "{'Region': 'West', 'City': 'Los Angeles', 'Category': 'Cookies', 'Product': 'Chocolate Chip', 'Quantity': '75', 'UnitPrice': '1.87', 'TotalPrice': '140.25'}\n",
      "{'Region': 'East', 'City': 'New York', 'Category': 'Bars', 'Product': 'Bran', 'Quantity': '72', 'UnitPrice': '1.87', 'TotalPrice': '134.64'}\n",
      "{'Region': 'East', 'City': 'New York', 'Category': 'Cookies', 'Product': 'Oatmeal Raisin', 'Quantity': '56', 'UnitPrice': '2.84', 'TotalPrice': '159.04'}\n",
      "{'Region': 'West', 'City': 'San Diego', 'Category': 'Bars', 'Product': 'Bran', 'Quantity': '51', 'UnitPrice': '1.87', 'TotalPrice': '95.37'}\n",
      "{'Region': 'West', 'City': 'San Diego', 'Category': 'Snacks', 'Product': 'Potato Chips', 'Quantity': '31', 'UnitPrice': '1.68', 'TotalPrice': '52.08'}\n",
      "{'Region': 'East', 'City': 'Boston', 'Category': 'Bars', 'Product': 'Bran', 'Quantity': '56', 'UnitPrice': '1.87', 'TotalPrice': '104.72'}\n",
      "{'Region': 'East', 'City': 'Boston', 'Category': 'Cookies', 'Product': 'Oatmeal Raisin', 'Quantity': '137', 'UnitPrice': '2.84', 'TotalPrice': '389.08'}\n",
      "{'Region': 'West', 'City': 'Los Angeles', 'Category': 'Cookies', 'Product': 'Chocolate Chip', 'Quantity': '107', 'UnitPrice': '1.87', 'TotalPrice': '200.09'}\n",
      "{'Region': 'East', 'City': 'New York', 'Category': 'Bars', 'Product': 'Carrot', 'Quantity': '24', 'UnitPrice': '1.77', 'TotalPrice': '42.48'}\n",
      "{'Region': 'East', 'City': 'New York', 'Category': 'Crackers', 'Product': 'Whole Wheat', 'Quantity': '30', 'UnitPrice': '3.49', 'TotalPrice': '104.7'}\n",
      "{'Region': 'West', 'City': 'San Diego', 'Category': 'Cookies', 'Product': 'Chocolate Chip', 'Quantity': '70', 'UnitPrice': '1.87', 'TotalPrice': '130.9'}\n",
      "{'Region': 'East', 'City': 'Boston', 'Category': 'Cookies', 'Product': 'Arrowroot', 'Quantity': '31', 'UnitPrice': '2.18', 'TotalPrice': '67.58'}\n",
      "{'Region': 'East', 'City': 'Boston', 'Category': 'Bars', 'Product': 'Carrot', 'Quantity': '109', 'UnitPrice': '1.77', 'TotalPrice': '192.93'}\n",
      "{'Region': 'East', 'City': 'Boston', 'Category': 'Crackers', 'Product': 'Whole Wheat', 'Quantity': '21', 'UnitPrice': '3.49', 'TotalPrice': '73.29'}\n",
      "{'Region': 'West', 'City': 'Los Angeles', 'Category': 'Cookies', 'Product': 'Chocolate Chip', 'Quantity': '80', 'UnitPrice': '1.87', 'TotalPrice': '149.6'}\n",
      "{'Region': 'East', 'City': 'New York', 'Category': 'Bars', 'Product': 'Bran', 'Quantity': '75', 'UnitPrice': '1.87', 'TotalPrice': '140.25'}\n",
      "{'Region': 'East', 'City': 'New York', 'Category': 'Cookies', 'Product': 'Oatmeal Raisin', 'Quantity': '74', 'UnitPrice': '2.84', 'TotalPrice': '210.16'}\n",
      "{'Region': 'West', 'City': 'San Diego', 'Category': 'Bars', 'Product': 'Carrot', 'Quantity': '45', 'UnitPrice': '1.77', 'TotalPrice': '79.65'}\n",
      "{'Region': 'East', 'City': 'Boston', 'Category': 'Cookies', 'Product': 'Arrowroot', 'Quantity': '28', 'UnitPrice': '2.18', 'TotalPrice': '61.04'}\n",
      "{'Region': 'East', 'City': 'Boston', 'Category': 'Bars', 'Product': 'Carrot', 'Quantity': '143', 'UnitPrice': '1.77', 'TotalPrice': '253.11'}\n",
      "{'Region': 'East', 'City': 'Boston', 'Category': 'Snacks', 'Product': 'Pretzels', 'Quantity': '27', 'UnitPrice': '3.15', 'TotalPrice': '85.05'}\n",
      "{'Region': 'West', 'City': 'Los Angeles', 'Category': 'Bars', 'Product': 'Carrot', 'Quantity': '133', 'UnitPrice': '1.77', 'TotalPrice': '235.41'}\n",
      "{'Region': 'East', 'City': 'New York', 'Category': 'Cookies', 'Product': 'Arrowroot', 'Quantity': '110', 'UnitPrice': '2.18', 'TotalPrice': '239.8'}\n",
      "{'Region': 'East', 'City': 'New York', 'Category': 'Cookies', 'Product': 'Chocolate Chip', 'Quantity': '65', 'UnitPrice': '1.87', 'TotalPrice': '121.55'}\n",
      "{'Region': 'West', 'City': 'San Diego', 'Category': 'Bars', 'Product': 'Bran', 'Quantity': '33', 'UnitPrice': '1.87', 'TotalPrice': '61.71'}\n",
      "{'Region': 'East', 'City': 'Boston', 'Category': 'Cookies', 'Product': 'Arrowroot', 'Quantity': '81', 'UnitPrice': '2.18', 'TotalPrice': '176.58'}\n",
      "{'Region': 'East', 'City': 'Boston', 'Category': 'Bars', 'Product': 'Carrot', 'Quantity': '77', 'UnitPrice': '1.77', 'TotalPrice': '136.29'}\n",
      "{'Region': 'East', 'City': 'Boston', 'Category': 'Crackers', 'Product': 'Whole Wheat', 'Quantity': '38', 'UnitPrice': '3.49', 'TotalPrice': '132.62'}\n",
      "{'Region': 'West', 'City': 'Los Angeles', 'Category': 'Bars', 'Product': 'Carrot', 'Quantity': '40', 'UnitPrice': '1.77', 'TotalPrice': '70.8'}\n",
      "{'Region': 'West', 'City': 'Los Angeles', 'Category': 'Snacks', 'Product': 'Potato Chips', 'Quantity': '114', 'UnitPrice': '1.68', 'TotalPrice': '191.52'}\n",
      "{'Region': 'East', 'City': 'New York', 'Category': 'Cookies', 'Product': 'Arrowroot', 'Quantity': '224', 'UnitPrice': '2.18', 'TotalPrice': '488.32'}\n",
      "{'Region': 'East', 'City': 'New York', 'Category': 'Bars', 'Product': 'Carrot', 'Quantity': '141', 'UnitPrice': '1.77', 'TotalPrice': '249.57'}\n",
      "{'Region': 'East', 'City': 'New York', 'Category': 'Crackers', 'Product': 'Whole Wheat', 'Quantity': '32', 'UnitPrice': '3.49', 'TotalPrice': '111.68'}\n",
      "{'Region': 'West', 'City': 'San Diego', 'Category': 'Bars', 'Product': 'Carrot', 'Quantity': '20', 'UnitPrice': '1.77', 'TotalPrice': '35.4'}\n",
      "{'Region': 'East', 'City': 'Boston', 'Category': 'Cookies', 'Product': 'Arrowroot', 'Quantity': '40', 'UnitPrice': '2.18', 'TotalPrice': '87.2'}\n",
      "{'Region': 'East', 'City': 'Boston', 'Category': 'Cookies', 'Product': 'Chocolate Chip', 'Quantity': '49', 'UnitPrice': '1.87', 'TotalPrice': '91.63'}\n",
      "{'Region': 'East', 'City': 'Boston', 'Category': 'Crackers', 'Product': 'Whole Wheat', 'Quantity': '46', 'UnitPrice': '3.49', 'TotalPrice': '160.54'}\n",
      "{'Region': 'West', 'City': 'Los Angeles', 'Category': 'Bars', 'Product': 'Carrot', 'Quantity': '39', 'UnitPrice': '1.77', 'TotalPrice': '69.03'}\n",
      "{'Region': 'West', 'City': 'Los Angeles', 'Category': 'Snacks', 'Product': 'Potato Chips', 'Quantity': '62', 'UnitPrice': '1.68', 'TotalPrice': '104.16'}\n",
      "{'Region': 'East', 'City': 'New York', 'Category': 'Bars', 'Product': 'Carrot', 'Quantity': '90', 'UnitPrice': '1.77', 'TotalPrice': '159.3'}\n",
      "{'Region': 'West', 'City': 'San Diego', 'Category': 'Cookies', 'Product': 'Arrowroot', 'Quantity': '103', 'UnitPrice': '2.18', 'TotalPrice': '224.54'}\n",
      "{'Region': 'West', 'City': 'San Diego', 'Category': 'Cookies', 'Product': 'Oatmeal Raisin', 'Quantity': '32', 'UnitPrice': '2.84', 'TotalPrice': '90.88'}\n",
      "{'Region': 'East', 'City': 'Boston', 'Category': 'Bars', 'Product': 'Bran', 'Quantity': '66', 'UnitPrice': '1.87', 'TotalPrice': '123.42'}\n",
      "{'Region': 'East', 'City': 'Boston', 'Category': 'Cookies', 'Product': 'Oatmeal Raisin', 'Quantity': '97', 'UnitPrice': '2.84', 'TotalPrice': '275.48'}\n",
      "{'Region': 'West', 'City': 'Los Angeles', 'Category': 'Bars', 'Product': 'Carrot', 'Quantity': '30', 'UnitPrice': '1.77', 'TotalPrice': '53.1'}\n",
      "{'Region': 'West', 'City': 'Los Angeles', 'Category': 'Snacks', 'Product': 'Potato Chips', 'Quantity': '29', 'UnitPrice': '1.68', 'TotalPrice': '48.72'}\n",
      "{'Region': 'East', 'City': 'New York', 'Category': 'Bars', 'Product': 'Carrot', 'Quantity': '92', 'UnitPrice': '1.77', 'TotalPrice': '162.84'}\n",
      "{'Region': 'West', 'City': 'San Diego', 'Category': 'Cookies', 'Product': 'Arrowroot', 'Quantity': '139', 'UnitPrice': '2.18', 'TotalPrice': '303.02'}\n",
      "{'Region': 'West', 'City': 'San Diego', 'Category': 'Cookies', 'Product': 'Oatmeal Raisin', 'Quantity': '29', 'UnitPrice': '2.84', 'TotalPrice': '82.36'}\n",
      "{'Region': 'East', 'City': 'Boston', 'Category': 'Bars', 'Product': 'Banana', 'Quantity': '30', 'UnitPrice': '2.27', 'TotalPrice': '68.1'}\n",
      "{'Region': 'East', 'City': 'Boston', 'Category': 'Cookies', 'Product': 'Chocolate Chip', 'Quantity': '36', 'UnitPrice': '1.87', 'TotalPrice': '67.32'}\n",
      "{'Region': 'East', 'City': 'Boston', 'Category': 'Crackers', 'Product': 'Whole Wheat', 'Quantity': '41', 'UnitPrice': '3.49', 'TotalPrice': '143.09'}\n",
      "{'Region': 'West', 'City': 'Los Angeles', 'Category': 'Bars', 'Product': 'Carrot', 'Quantity': '44', 'UnitPrice': '1.77', 'TotalPrice': '77.88'}\n",
      "{'Region': 'West', 'City': 'Los Angeles', 'Category': 'Snacks', 'Product': 'Potato Chips', 'Quantity': '29', 'UnitPrice': '1.68', 'TotalPrice': '48.72'}\n",
      "{'Region': 'East', 'City': 'New York', 'Category': 'Cookies', 'Product': 'Arrowroot', 'Quantity': '237', 'UnitPrice': '2.18', 'TotalPrice': '516.66'}\n",
      "{'Region': 'East', 'City': 'New York', 'Category': 'Cookies', 'Product': 'Chocolate Chip', 'Quantity': '65', 'UnitPrice': '1.87', 'TotalPrice': '121.55'}\n",
      "{'Region': 'West', 'City': 'San Diego', 'Category': 'Cookies', 'Product': 'Arrowroot', 'Quantity': '83', 'UnitPrice': '2.18', 'TotalPrice': '180.94'}\n",
      "{'Region': 'East', 'City': 'Boston', 'Category': 'Cookies', 'Product': 'Arrowroot', 'Quantity': '32', 'UnitPrice': '2.18', 'TotalPrice': '69.76'}\n",
      "{'Region': 'East', 'City': 'Boston', 'Category': 'Bars', 'Product': 'Carrot', 'Quantity': '63', 'UnitPrice': '1.77', 'TotalPrice': '111.51'}\n",
      "{'Region': 'East', 'City': 'Boston', 'Category': 'Snacks', 'Product': 'Pretzels', 'Quantity': '29', 'UnitPrice': '3.15', 'TotalPrice': '91.35'}\n",
      "{'Region': 'West', 'City': 'Los Angeles', 'Category': 'Bars', 'Product': 'Bran', 'Quantity': '77', 'UnitPrice': '1.87', 'TotalPrice': '143.99'}\n",
      "{'Region': 'West', 'City': 'Los Angeles', 'Category': 'Cookies', 'Product': 'Oatmeal Raisin', 'Quantity': '80', 'UnitPrice': '2.84', 'TotalPrice': '227.2'}\n",
      "{'Region': 'East', 'City': 'New York', 'Category': 'Bars', 'Product': 'Carrot', 'Quantity': '102', 'UnitPrice': '1.77', 'TotalPrice': '180.54'}\n",
      "{'Region': 'East', 'City': 'New York', 'Category': 'Crackers', 'Product': 'Whole Wheat', 'Quantity': '31', 'UnitPrice': '3.49', 'TotalPrice': '108.19'}\n",
      "{'Region': 'West', 'City': 'San Diego', 'Category': 'Bars', 'Product': 'Carrot', 'Quantity': '56', 'UnitPrice': '1.77', 'TotalPrice': '99.12'}\n",
      "{'Region': 'East', 'City': 'Boston', 'Category': 'Cookies', 'Product': 'Arrowroot', 'Quantity': '52', 'UnitPrice': '2.18', 'TotalPrice': '113.36'}\n",
      "{'Region': 'East', 'City': 'Boston', 'Category': 'Bars', 'Product': 'Carrot', 'Quantity': '51', 'UnitPrice': '1.77', 'TotalPrice': '90.27'}\n",
      "{'Region': 'East', 'City': 'Boston', 'Category': 'Snacks', 'Product': 'Potato Chips', 'Quantity': '24', 'UnitPrice': '1.68', 'TotalPrice': '40.32'}\n",
      "{'Region': 'West', 'City': 'Los Angeles', 'Category': 'Cookies', 'Product': 'Arrowroot', 'Quantity': '58', 'UnitPrice': '2.18', 'TotalPrice': '126.44'}\n",
      "{'Region': 'West', 'City': 'Los Angeles', 'Category': 'Cookies', 'Product': 'Chocolate Chip', 'Quantity': '34', 'UnitPrice': '1.87', 'TotalPrice': '63.58'}\n",
      "{'Region': 'East', 'City': 'New York', 'Category': 'Bars', 'Product': 'Carrot', 'Quantity': '34', 'UnitPrice': '1.77', 'TotalPrice': '60.18'}\n",
      "{'Region': 'East', 'City': 'New York', 'Category': 'Snacks', 'Product': 'Potato Chips', 'Quantity': '21', 'UnitPrice': '1.68', 'TotalPrice': '35.28'}\n",
      "{'Region': 'West', 'City': 'San Diego', 'Category': 'Cookies', 'Product': 'Oatmeal Raisin', 'Quantity': '29', 'UnitPrice': '2.84', 'TotalPrice': '82.36'}\n",
      "{'Region': 'East', 'City': 'Boston', 'Category': 'Bars', 'Product': 'Carrot', 'Quantity': '68', 'UnitPrice': '1.77', 'TotalPrice': '120.36'}\n",
      "{'Region': 'East', 'City': 'Boston', 'Category': 'Snacks', 'Product': 'Pretzels', 'Quantity': '31', 'UnitPrice': '3.15', 'TotalPrice': '97.65'}\n",
      "{'Region': 'West', 'City': 'Los Angeles', 'Category': 'Cookies', 'Product': 'Arrowroot', 'Quantity': '30', 'UnitPrice': '2.18', 'TotalPrice': '65.4'}\n",
      "{'Region': 'West', 'City': 'Los Angeles', 'Category': 'Cookies', 'Product': 'Chocolate Chip', 'Quantity': '232', 'UnitPrice': '1.87', 'TotalPrice': '433.84'}\n",
      "{'Region': 'East', 'City': 'New York', 'Category': 'Bars', 'Product': 'Bran', 'Quantity': '68', 'UnitPrice': '1.87', 'TotalPrice': '127.16'}\n",
      "{'Region': 'East', 'City': 'New York', 'Category': 'Cookies', 'Product': 'Oatmeal Raisin', 'Quantity': '97', 'UnitPrice': '2.84', 'TotalPrice': '275.48'}\n",
      "{'Region': 'West', 'City': 'San Diego', 'Category': 'Bars', 'Product': 'Bran', 'Quantity': '86', 'UnitPrice': '1.87', 'TotalPrice': '160.82'}\n",
      "{'Region': 'West', 'City': 'San Diego', 'Category': 'Snacks', 'Product': 'Potato Chips', 'Quantity': '41', 'UnitPrice': '1.68', 'TotalPrice': '68.88'}\n",
      "{'Region': 'East', 'City': 'Boston', 'Category': 'Bars', 'Product': 'Carrot', 'Quantity': '93', 'UnitPrice': '1.77', 'TotalPrice': '164.61'}\n",
      "{'Region': 'East', 'City': 'Boston', 'Category': 'Snacks', 'Product': 'Potato Chips', 'Quantity': '47', 'UnitPrice': '1.68', 'TotalPrice': '78.96'}\n",
      "{'Region': 'West', 'City': 'Los Angeles', 'Category': 'Bars', 'Product': 'Carrot', 'Quantity': '103', 'UnitPrice': '1.77', 'TotalPrice': '182.31'}\n",
      "{'Region': 'West', 'City': 'Los Angeles', 'Category': 'Snacks', 'Product': 'Potato Chips', 'Quantity': '33', 'UnitPrice': '1.68', 'TotalPrice': '55.44'}\n",
      "{'Region': 'East', 'City': 'New York', 'Category': 'Bars', 'Product': 'Bran', 'Quantity': '57', 'UnitPrice': '1.87', 'TotalPrice': '106.59'}\n",
      "{'Region': 'East', 'City': 'New York', 'Category': 'Cookies', 'Product': 'Oatmeal Raisin', 'Quantity': '65', 'UnitPrice': '2.84', 'TotalPrice': '184.6'}\n",
      "{'Region': 'West', 'City': 'San Diego', 'Category': 'Bars', 'Product': 'Carrot', 'Quantity': '118', 'UnitPrice': '1.77', 'TotalPrice': '208.86'}\n",
      "{'Region': 'East', 'City': 'Boston', 'Category': 'Cookies', 'Product': 'Arrowroot', 'Quantity': '36', 'UnitPrice': '2.18', 'TotalPrice': '78.48'}\n",
      "{'Region': 'East', 'City': 'Boston', 'Category': 'Cookies', 'Product': 'Oatmeal Raisin', 'Quantity': '123', 'UnitPrice': '2.84', 'TotalPrice': '349.32'}\n",
      "{'Region': 'West', 'City': 'Los Angeles', 'Category': 'Bars', 'Product': 'Carrot', 'Quantity': '90', 'UnitPrice': '1.77', 'TotalPrice': '159.3'}\n",
      "{'Region': 'West', 'City': 'Los Angeles', 'Category': 'Crackers', 'Product': 'Whole Wheat', 'Quantity': '21', 'UnitPrice': '3.49', 'TotalPrice': '73.29'}\n",
      "{'Region': 'East', 'City': 'New York', 'Category': 'Bars', 'Product': 'Carrot', 'Quantity': '48', 'UnitPrice': '1.77', 'TotalPrice': '84.96'}\n",
      "{'Region': 'East', 'City': 'New York', 'Category': 'Snacks', 'Product': 'Potato Chips', 'Quantity': '24', 'UnitPrice': '1.68', 'TotalPrice': '40.32'}\n",
      "{'Region': 'West', 'City': 'San Diego', 'Category': 'Cookies', 'Product': 'Chocolate Chip', 'Quantity': '67', 'UnitPrice': '1.87', 'TotalPrice': '125.29'}\n",
      "{'Region': 'East', 'City': 'Boston', 'Category': 'Bars', 'Product': 'Bran', 'Quantity': '27', 'UnitPrice': '1.87', 'TotalPrice': '50.49'}\n",
      "{'Region': 'East', 'City': 'Boston', 'Category': 'Cookies', 'Product': 'Oatmeal Raisin', 'Quantity': '129', 'UnitPrice': '2.84', 'TotalPrice': '366.36'}\n",
      "{'Region': 'West', 'City': 'Los Angeles', 'Category': 'Cookies', 'Product': 'Arrowroot', 'Quantity': '77', 'UnitPrice': '2.18', 'TotalPrice': '167.86'}\n",
      "{'Region': 'West', 'City': 'Los Angeles', 'Category': 'Cookies', 'Product': 'Chocolate Chip', 'Quantity': '58', 'UnitPrice': '1.87', 'TotalPrice': '108.46'}\n",
      "{'Region': 'East', 'City': 'New York', 'Category': 'Bars', 'Product': 'Bran', 'Quantity': '47', 'UnitPrice': '1.87', 'TotalPrice': '87.89'}\n",
      "{'Region': 'East', 'City': 'New York', 'Category': 'Cookies', 'Product': 'Oatmeal Raisin', 'Quantity': '33', 'UnitPrice': '2.84', 'TotalPrice': '93.72'}\n",
      "{'Region': 'West', 'City': 'San Diego', 'Category': 'Cookies', 'Product': 'Chocolate Chip', 'Quantity': '82', 'UnitPrice': '1.87', 'TotalPrice': '153.34'}\n",
      "{'Region': 'East', 'City': 'Boston', 'Category': 'Bars', 'Product': 'Carrot', 'Quantity': '58', 'UnitPrice': '1.77', 'TotalPrice': '102.66'}\n",
      "{'Region': 'East', 'City': 'Boston', 'Category': 'Snacks', 'Product': 'Pretzels', 'Quantity': '30', 'UnitPrice': '3.15', 'TotalPrice': '94.5'}\n",
      "{'Region': 'West', 'City': 'Los Angeles', 'Category': 'Cookies', 'Product': 'Chocolate Chip', 'Quantity': '43', 'UnitPrice': '1.87', 'TotalPrice': '80.41'}\n",
      "{'Region': 'East', 'City': 'New York', 'Category': 'Bars', 'Product': 'Carrot', 'Quantity': '84', 'UnitPrice': '1.77', 'TotalPrice': '148.68'}\n",
      "{'Region': 'West', 'City': 'San Diego', 'Category': 'Cookies', 'Product': 'Arrowroot', 'Quantity': '36', 'UnitPrice': '2.18', 'TotalPrice': '78.48'}\n",
      "{'Region': 'West', 'City': 'San Diego', 'Category': 'Cookies', 'Product': 'Oatmeal Raisin', 'Quantity': '44', 'UnitPrice': '2.84', 'TotalPrice': '124.96'}\n",
      "{'Region': 'East', 'City': 'Boston', 'Category': 'Bars', 'Product': 'Bran', 'Quantity': '27', 'UnitPrice': '1.87', 'TotalPrice': '50.49'}\n",
      "{'Region': 'East', 'City': 'Boston', 'Category': 'Cookies', 'Product': 'Oatmeal Raisin', 'Quantity': '120', 'UnitPrice': '2.84', 'TotalPrice': '340.8'}\n",
      "{'Region': 'East', 'City': 'Boston', 'Category': 'Crackers', 'Product': 'Whole Wheat', 'Quantity': '26', 'UnitPrice': '3.49', 'TotalPrice': '90.74'}\n",
      "{'Region': 'West', 'City': 'Los Angeles', 'Category': 'Bars', 'Product': 'Carrot', 'Quantity': '73', 'UnitPrice': '1.77', 'TotalPrice': '129.21'}\n",
      "{'Region': 'East', 'City': 'New York', 'Category': 'Bars', 'Product': 'Bran', 'Quantity': '38', 'UnitPrice': '1.87', 'TotalPrice': '71.06'}\n",
      "{'Region': 'East', 'City': 'New York', 'Category': 'Cookies', 'Product': 'Oatmeal Raisin', 'Quantity': '40', 'UnitPrice': '2.84', 'TotalPrice': '113.6'}\n",
      "{'Region': 'West', 'City': 'San Diego', 'Category': 'Bars', 'Product': 'Carrot', 'Quantity': '41', 'UnitPrice': '1.77', 'TotalPrice': '72.57'}\n",
      "{'Region': 'East', 'City': 'Boston', 'Category': 'Bars', 'Product': 'Banana', 'Quantity': '27', 'UnitPrice': '2.27', 'TotalPrice': '61.29'}\n",
      "{'Region': 'East', 'City': 'Boston', 'Category': 'Cookies', 'Product': 'Chocolate Chip', 'Quantity': '38', 'UnitPrice': '1.87', 'TotalPrice': '71.06'}\n",
      "{'Region': 'East', 'City': 'Boston', 'Category': 'Crackers', 'Product': 'Whole Wheat', 'Quantity': '34', 'UnitPrice': '3.49', 'TotalPrice': '118.66'}\n",
      "{'Region': 'West', 'City': 'Los Angeles', 'Category': 'Bars', 'Product': 'Bran', 'Quantity': '65', 'UnitPrice': '1.87', 'TotalPrice': '121.55'}\n",
      "{'Region': 'West', 'City': 'Los Angeles', 'Category': 'Cookies', 'Product': 'Oatmeal Raisin', 'Quantity': '60', 'UnitPrice': '2.84', 'TotalPrice': '170.4'}\n",
      "{'Region': 'East', 'City': 'New York', 'Category': 'Cookies', 'Product': 'Arrowroot', 'Quantity': '37', 'UnitPrice': '2.18', 'TotalPrice': '80.66'}\n",
      "{'Region': 'East', 'City': 'New York', 'Category': 'Cookies', 'Product': 'Chocolate Chip', 'Quantity': '40', 'UnitPrice': '1.87', 'TotalPrice': '74.8'}\n",
      "{'Region': 'West', 'City': 'San Diego', 'Category': 'Bars', 'Product': 'Bran', 'Quantity': '26', 'UnitPrice': '1.87', 'TotalPrice': '48.62'}\n",
      "{'Region': 'East', 'City': 'Boston', 'Category': 'Bars', 'Product': 'Banana', 'Quantity': '22', 'UnitPrice': '2.27', 'TotalPrice': '49.94'}\n",
      "{'Region': 'East', 'City': 'Boston', 'Category': 'Cookies', 'Product': 'Chocolate Chip', 'Quantity': '32', 'UnitPrice': '1.87', 'TotalPrice': '59.84'}\n",
      "{'Region': 'East', 'City': 'Boston', 'Category': 'Crackers', 'Product': 'Whole Wheat', 'Quantity': '23', 'UnitPrice': '3.49', 'TotalPrice': '80.27'}\n",
      "{'Region': 'West', 'City': 'Los Angeles', 'Category': 'Cookies', 'Product': 'Arrowroot', 'Quantity': '20', 'UnitPrice': '2.18', 'TotalPrice': '43.6'}\n",
      "{'Region': 'West', 'City': 'Los Angeles', 'Category': 'Cookies', 'Product': 'Chocolate Chip', 'Quantity': '64', 'UnitPrice': '1.87', 'TotalPrice': '119.68'}\n",
      "{'Region': 'East', 'City': 'New York', 'Category': 'Bars', 'Product': 'Carrot', 'Quantity': '71', 'UnitPrice': '1.77', 'TotalPrice': '125.67'}\n",
      "{'Region': 'West', 'City': 'San Diego', 'Category': 'Cookies', 'Product': 'Arrowroot', 'Quantity': '90', 'UnitPrice': '2.18', 'TotalPrice': '196.2'}\n",
      "{'Region': 'West', 'City': 'San Diego', 'Category': 'Cookies', 'Product': 'Oatmeal Raisin', 'Quantity': '38', 'UnitPrice': '2.84', 'TotalPrice': '107.92'}\n",
      "{'Region': 'East', 'City': 'Boston', 'Category': 'Bars', 'Product': 'Carrot', 'Quantity': '55', 'UnitPrice': '1.77', 'TotalPrice': '97.35'}\n",
      "{'Region': 'East', 'City': 'Boston', 'Category': 'Snacks', 'Product': 'Pretzels', 'Quantity': '22', 'UnitPrice': '3.15', 'TotalPrice': '69.3'}\n",
      "{'Region': 'West', 'City': 'Los Angeles', 'Category': 'Bars', 'Product': 'Carrot', 'Quantity': '34', 'UnitPrice': '1.77', 'TotalPrice': '60.18'}\n",
      "{'Region': 'East', 'City': 'New York', 'Category': 'Bars', 'Product': 'Bran', 'Quantity': '39', 'UnitPrice': '1.87', 'TotalPrice': '72.93'}\n",
      "{'Region': 'East', 'City': 'New York', 'Category': 'Cookies', 'Product': 'Oatmeal Raisin', 'Quantity': '41', 'UnitPrice': '2.84', 'TotalPrice': '116.44'}\n",
      "{'Region': 'West', 'City': 'San Diego', 'Category': 'Bars', 'Product': 'Carrot', 'Quantity': '41', 'UnitPrice': '1.77', 'TotalPrice': '72.57'}\n",
      "{'Region': 'East', 'City': 'Boston', 'Category': 'Cookies', 'Product': 'Arrowroot', 'Quantity': '136', 'UnitPrice': '2.18', 'TotalPrice': '296.48'}\n",
      "{'Region': 'East', 'City': 'Boston', 'Category': 'Bars', 'Product': 'Carrot', 'Quantity': '25', 'UnitPrice': '1.77', 'TotalPrice': '44.25'}\n",
      "{'Region': 'East', 'City': 'Boston', 'Category': 'Snacks', 'Product': 'Pretzels', 'Quantity': '26', 'UnitPrice': '3.15', 'TotalPrice': '81.9'}\n",
      "{'Region': 'West', 'City': 'Los Angeles', 'Category': 'Bars', 'Product': 'Bran', 'Quantity': '50', 'UnitPrice': '1.87', 'TotalPrice': '93.5'}\n",
      "{'Region': 'West', 'City': 'Los Angeles', 'Category': 'Cookies', 'Product': 'Oatmeal Raisin', 'Quantity': '79', 'UnitPrice': '2.84', 'TotalPrice': '224.36'}\n",
      "{'Region': 'East', 'City': 'New York', 'Category': 'Bars', 'Product': 'Carrot', 'Quantity': '30', 'UnitPrice': '1.77', 'TotalPrice': '53.1'}\n",
      "{'Region': 'East', 'City': 'New York', 'Category': 'Snacks', 'Product': 'Potato Chips', 'Quantity': '20', 'UnitPrice': '1.68', 'TotalPrice': '33.6'}\n",
      "{'Region': 'West', 'City': 'San Diego', 'Category': 'Bars', 'Product': 'Carrot', 'Quantity': '49', 'UnitPrice': '1.77', 'TotalPrice': '86.73'}\n",
      "{'Region': 'East', 'City': 'Boston', 'Category': 'Cookies', 'Product': 'Arrowroot', 'Quantity': '40', 'UnitPrice': '2.18', 'TotalPrice': '87.2'}\n",
      "{'Region': 'East', 'City': 'Boston', 'Category': 'Bars', 'Product': 'Carrot', 'Quantity': '31', 'UnitPrice': '1.77', 'TotalPrice': '54.87'}\n",
      "{'Region': 'East', 'City': 'Boston', 'Category': 'Snacks', 'Product': 'Pretzels', 'Quantity': '21', 'UnitPrice': '3.15', 'TotalPrice': '66.15'}\n",
      "{'Region': 'West', 'City': 'Los Angeles', 'Category': 'Bars', 'Product': 'Bran', 'Quantity': '43', 'UnitPrice': '1.87', 'TotalPrice': '80.41'}\n",
      "{'Region': 'West', 'City': 'Los Angeles', 'Category': 'Cookies', 'Product': 'Oatmeal Raisin', 'Quantity': '47', 'UnitPrice': '2.84', 'TotalPrice': '133.48'}\n",
      "{'Region': 'East', 'City': 'New York', 'Category': 'Cookies', 'Product': 'Arrowroot', 'Quantity': '175', 'UnitPrice': '2.18', 'TotalPrice': '381.5'}\n",
      "{'Region': 'East', 'City': 'New York', 'Category': 'Cookies', 'Product': 'Chocolate Chip', 'Quantity': '23', 'UnitPrice': '1.87', 'TotalPrice': '43.01'}\n",
      "{'Region': 'West', 'City': 'San Diego', 'Category': 'Bars', 'Product': 'Carrot', 'Quantity': '40', 'UnitPrice': '1.77', 'TotalPrice': '70.8'}\n",
      "{'Region': 'East', 'City': 'Boston', 'Category': 'Cookies', 'Product': 'Arrowroot', 'Quantity': '87', 'UnitPrice': '2.18', 'TotalPrice': '189.66'}\n",
      "{'Region': 'East', 'City': 'Boston', 'Category': 'Bars', 'Product': 'Carrot', 'Quantity': '43', 'UnitPrice': '1.77', 'TotalPrice': '76.11'}\n",
      "{'Region': 'East', 'City': 'Boston', 'Category': 'Crackers', 'Product': 'Whole Wheat', 'Quantity': '30', 'UnitPrice': '3.49', 'TotalPrice': '104.7'}\n",
      "{'Region': 'West', 'City': 'Los Angeles', 'Category': 'Bars', 'Product': 'Carrot', 'Quantity': '35', 'UnitPrice': '1.77', 'TotalPrice': '61.95'}\n",
      "{'Region': 'East', 'City': 'New York', 'Category': 'Bars', 'Product': 'Bran', 'Quantity': '57', 'UnitPrice': '1.87', 'TotalPrice': '106.59'}\n",
      "{'Region': 'East', 'City': 'New York', 'Category': 'Snacks', 'Product': 'Potato Chips', 'Quantity': '25', 'UnitPrice': '1.68', 'TotalPrice': '42'}\n",
      "{'Region': 'West', 'City': 'San Diego', 'Category': 'Cookies', 'Product': 'Chocolate Chip', 'Quantity': '24', 'UnitPrice': '1.87', 'TotalPrice': '44.88'}\n",
      "{'Region': 'East', 'City': 'Boston', 'Category': 'Bars', 'Product': 'Bran', 'Quantity': '83', 'UnitPrice': '1.87', 'TotalPrice': '155.21'}\n",
      "{'Region': 'East', 'City': 'Boston', 'Category': 'Cookies', 'Product': 'Oatmeal Raisin', 'Quantity': '124', 'UnitPrice': '2.84', 'TotalPrice': '352.16'}\n",
      "{'Region': 'West', 'City': 'Los Angeles', 'Category': 'Bars', 'Product': 'Carrot', 'Quantity': '137', 'UnitPrice': '1.77', 'TotalPrice': '242.49'}\n",
      "{'Region': 'East', 'City': 'New York', 'Category': 'Cookies', 'Product': 'Arrowroot', 'Quantity': '146', 'UnitPrice': '2.18', 'TotalPrice': '318.28'}\n",
      "{'Region': 'East', 'City': 'New York', 'Category': 'Cookies', 'Product': 'Chocolate Chip', 'Quantity': '34', 'UnitPrice': '1.87', 'TotalPrice': '63.58'}\n",
      "{'Region': 'West', 'City': 'San Diego', 'Category': 'Bars', 'Product': 'Carrot', 'Quantity': '20', 'UnitPrice': '1.77', 'TotalPrice': '35.4'}\n",
      "{'Region': 'East', 'City': 'Boston', 'Category': 'Cookies', 'Product': 'Arrowroot', 'Quantity': '139', 'UnitPrice': '2.18', 'TotalPrice': '303.02'}\n",
      "{'Region': 'East', 'City': 'Boston', 'Category': 'Cookies', 'Product': 'Chocolate Chip', 'Quantity': '211', 'UnitPrice': '1.87', 'TotalPrice': '394.57'}\n",
      "{'Region': 'East', 'City': 'Boston', 'Category': 'Crackers', 'Product': 'Whole Wheat', 'Quantity': '20', 'UnitPrice': '3.49', 'TotalPrice': '69.8'}\n",
      "{'Region': 'West', 'City': 'Los Angeles', 'Category': 'Bars', 'Product': 'Bran', 'Quantity': '42', 'UnitPrice': '1.87', 'TotalPrice': '78.54'}\n",
      "{'Region': 'West', 'City': 'Los Angeles', 'Category': 'Cookies', 'Product': 'Oatmeal Raisin', 'Quantity': '100', 'UnitPrice': '2.84', 'TotalPrice': '284'}\n",
      "{'Region': 'East', 'City': 'New York', 'Category': 'Bars', 'Product': 'Carrot', 'Quantity': '38', 'UnitPrice': '1.77', 'TotalPrice': '67.26'}\n",
      "{'Region': 'East', 'City': 'New York', 'Category': 'Crackers', 'Product': 'Whole Wheat', 'Quantity': '25', 'UnitPrice': '3.49', 'TotalPrice': '87.25'}\n",
      "{'Region': 'West', 'City': 'San Diego', 'Category': 'Cookies', 'Product': 'Chocolate Chip', 'Quantity': '96', 'UnitPrice': '1.87', 'TotalPrice': '179.52'}\n",
      "{'Region': 'East', 'City': 'Boston', 'Category': 'Cookies', 'Product': 'Arrowroot', 'Quantity': '34', 'UnitPrice': '2.18', 'TotalPrice': '74.12'}\n",
      "{'Region': 'East', 'City': 'Boston', 'Category': 'Cookies', 'Product': 'Chocolate Chip', 'Quantity': '245', 'UnitPrice': '1.87', 'TotalPrice': '458.15'}\n",
      "{'Region': 'East', 'City': 'Boston', 'Category': 'Crackers', 'Product': 'Whole Wheat', 'Quantity': '30', 'UnitPrice': '3.49', 'TotalPrice': '104.7'}\n",
      "{'Region': 'West', 'City': 'Los Angeles', 'Category': 'Bars', 'Product': 'Bran', 'Quantity': '30', 'UnitPrice': '1.87', 'TotalPrice': '56.1'}\n",
      "{'Region': 'West', 'City': 'Los Angeles', 'Category': 'Cookies', 'Product': 'Oatmeal Raisin', 'Quantity': '44', 'UnitPrice': '2.84', 'TotalPrice': '124.96'}\n"
     ]
    }
   ],
   "source": [
    "docs=col.find({},{\"OrderDate\":0,\"_id\":0})\n",
    "for i in docs:\n",
    "    print(i)"
   ]
  },
  {
   "cell_type": "code",
   "execution_count": 23,
   "id": "7c8717b2",
   "metadata": {},
   "outputs": [
    {
     "name": "stdout",
     "output_type": "stream",
     "text": [
      "{'_id': 'Oatmeal Raisin', 'Totalprices': 3362.56}\n",
      "{'_id': 'Carrot', 'Totalprices': 2267.37}\n",
      "{'_id': 'Pretzels', 'Totalprices': 585.9}\n",
      "{'_id': 'Banana', 'Totalprices': 179.32999999999998}\n",
      "{'_id': 'Whole Wheat', 'Totalprices': 2533.74}\n",
      "{'_id': 'Arrowroot', 'Totalprices': 1918.4}\n",
      "{'_id': 'Chocolate Chip', 'Totalprices': 1200.54}\n",
      "{'_id': 'Bran', 'Totalprices': 873.29}\n",
      "{'_id': 'Potato Chips', 'Totalprices': 344.4}\n"
     ]
    }
   ],
   "source": [
    "#product sales in each city\n",
    "#Boston\n",
    "\n",
    "agg=col.aggregate([{\"$match\":{\"City\":\"Boston\"}},{\"$group\":{\"_id\":\"$Product\",\"Totalprices\":{\"$sum\":\"$TotalPrice\"}}}])\n",
    "for j in agg:\n",
    "    print(j)\n",
    "    \n",
    "#it shows that highest sale in city Boston is of Oatmeal Raisin"
   ]
  },
  {
   "cell_type": "code",
   "execution_count": 24,
   "id": "ae67632c",
   "metadata": {},
   "outputs": [
    {
     "name": "stdout",
     "output_type": "stream",
     "text": [
      "{'_id': 'Oatmeal Raisin', 'Totalprices': 573.68}\n",
      "{'_id': 'Carrot', 'Totalprices': 927.48}\n",
      "{'_id': 'Potato Chips', 'Totalprices': 168.0}\n",
      "{'_id': 'Chocolate Chip', 'Totalprices': 927.52}\n",
      "{'_id': 'Whole Wheat', 'Totalprices': 167.51999999999998}\n",
      "{'_id': 'Bran', 'Totalprices': 366.52}\n",
      "{'_id': 'Arrowroot', 'Totalprices': 983.18}\n"
     ]
    }
   ],
   "source": [
    "#product sales in each city\n",
    "#San Diego\n",
    "\n",
    "agg=col.aggregate([{\"$match\":{\"City\":\"San Diego\"}},{\"$group\":{\"_id\":\"$Product\",\"Totalprices\":{\"$sum\":\"$TotalPrice\"}}}])\n",
    "for j in agg:\n",
    "    print(j)\n",
    "    \n",
    "#it shows that highest sale in city San Diego is of Arrowroot"
   ]
  },
  {
   "cell_type": "code",
   "execution_count": 25,
   "id": "a25cbd0a",
   "metadata": {},
   "outputs": [
    {
     "name": "stdout",
     "output_type": "stream",
     "text": [
      "{'_id': 'Oatmeal Raisin', 'Totalprices': 1297.88}\n",
      "{'_id': 'Carrot', 'Totalprices': 1982.4}\n",
      "{'_id': 'Potato Chips', 'Totalprices': 529.53}\n",
      "{'_id': 'Chocolate Chip', 'Totalprices': 878.9}\n",
      "{'_id': 'Whole Wheat', 'Totalprices': 492.09000000000003}\n",
      "{'_id': 'Bran', 'Totalprices': 1052.81}\n",
      "{'_id': 'Arrowroot', 'Totalprices': 2025.2199999999998}\n"
     ]
    }
   ],
   "source": [
    "#product sales in each city\n",
    "#New York\n",
    "\n",
    "agg=col.aggregate([{\"$match\":{\"City\":\"New York\"}},{\"$group\":{\"_id\":\"$Product\",\"Totalprices\":{\"$sum\":\"$TotalPrice\"}}}])\n",
    "for j in agg:\n",
    "    print(j)\n",
    "    \n",
    "#it shows that highest sale in city New York is of Arrowroot"
   ]
  },
  {
   "cell_type": "code",
   "execution_count": 37,
   "id": "c5c56e74",
   "metadata": {},
   "outputs": [
    {
     "name": "stdout",
     "output_type": "stream",
     "text": [
      "{'_id': 'Oatmeal Raisin', 'Totalprices': 2076.04}\n",
      "{'_id': 'Carrot', 'Totalprices': 2233.74}\n",
      "{'_id': 'Whole Wheat', 'Totalprices': 146.58}\n",
      "{'_id': 'Potato Chips', 'Totalprices': 609.84}\n",
      "{'_id': 'Chocolate Chip', 'Totalprices': 1565.19}\n",
      "{'_id': 'Bran', 'Totalprices': 652.63}\n",
      "{'_id': 'Arrowroot', 'Totalprices': 403.3}\n"
     ]
    }
   ],
   "source": [
    "#product sales in each city\n",
    "#Los Angeles\n",
    "\n",
    "agg=col.aggregate([{\"$sort\":{\"Product\":-1}},{\"$match\":{\"City\":\"Los Angeles\"}},{\"$group\":{\"_id\":\"$Product\",\n",
    "            \"Totalprices\":{\"$sum\":\"$TotalPrice\"}}}])\n",
    "for j in agg:\n",
    "    print(j)\n",
    "    \n",
    "#it shows that highest sale in city Los Angeles is of Carrot"
   ]
  },
  {
   "cell_type": "code",
   "execution_count": null,
   "id": "a4ff80d7",
   "metadata": {},
   "outputs": [],
   "source": []
  },
  {
   "cell_type": "code",
   "execution_count": null,
   "id": "1a2e34be",
   "metadata": {},
   "outputs": [],
   "source": []
  },
  {
   "cell_type": "code",
   "execution_count": null,
   "id": "4d019d8d",
   "metadata": {},
   "outputs": [],
   "source": []
  },
  {
   "cell_type": "code",
   "execution_count": null,
   "id": "b8f16a49",
   "metadata": {},
   "outputs": [],
   "source": []
  },
  {
   "cell_type": "code",
   "execution_count": null,
   "id": "6bc34d8a",
   "metadata": {},
   "outputs": [],
   "source": []
  },
  {
   "cell_type": "code",
   "execution_count": null,
   "id": "8eb087f8",
   "metadata": {},
   "outputs": [],
   "source": []
  }
 ],
 "metadata": {
  "kernelspec": {
   "display_name": "Python 3",
   "language": "python",
   "name": "python3"
  },
  "language_info": {
   "codemirror_mode": {
    "name": "ipython",
    "version": 3
   },
   "file_extension": ".py",
   "mimetype": "text/x-python",
   "name": "python",
   "nbconvert_exporter": "python",
   "pygments_lexer": "ipython3",
   "version": "3.8.8"
  }
 },
 "nbformat": 4,
 "nbformat_minor": 5
}
